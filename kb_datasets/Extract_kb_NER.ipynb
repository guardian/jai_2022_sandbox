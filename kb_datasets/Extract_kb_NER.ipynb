{
 "cells": [
  {
   "cell_type": "code",
   "execution_count": 1,
   "id": "29173d39-c9a4-4069-8442-fea0691755e6",
   "metadata": {},
   "outputs": [],
   "source": [
    "import sys\n",
    "sys.path.insert(0,'..')"
   ]
  },
  {
   "cell_type": "code",
   "execution_count": 2,
   "id": "2b5faf20-0e79-4ba2-b2a8-afa07544247c",
   "metadata": {},
   "outputs": [
    {
     "name": "stderr",
     "output_type": "stream",
     "text": [
      "/Users/luis_flores/.local/share/virtualenvs/ner-DhZLIlym/lib/python3.7/site-packages/tqdm/auto.py:22: TqdmWarning: IProgress not found. Please update jupyter and ipywidgets. See https://ipywidgets.readthedocs.io/en/stable/user_install.html\n",
      "  from .autonotebook import tqdm as notebook_tqdm\n"
     ]
    }
   ],
   "source": [
    "import numpy as np\n",
    "import pandas as pd\n",
    "import spacy\n",
    "import pickle\n",
    "import datetime as dt\n",
    "import logging\n",
    "from gu_model.trf_tensor_to_vec import *"
   ]
  },
  {
   "cell_type": "code",
   "execution_count": 3,
   "id": "a6365c9a-e97c-4f17-b66e-5ef51925baec",
   "metadata": {},
   "outputs": [],
   "source": [
    "## Load NER pipeline \n",
    "nlp = spacy.load(\"en_core_web_trf\")\n",
    "ent_types = nlp.pipe_labels[\"ner\"]\n",
    "unwanted_ent_types=['CARDINAL','LANGUAGE','ORDINAL','PERCENT','QUANTITY','TIME']\n",
    "ent_types = [ent for ent in ent_types if ent not in unwanted_ent_types]"
   ]
  },
  {
   "cell_type": "code",
   "execution_count": 4,
   "id": "26932495-45f4-4c35-8469-09d65802e004",
   "metadata": {},
   "outputs": [],
   "source": [
    "dataset='full'# OR'open_sanctions'# OR 'lilsis'\n",
    "kb_iteration='_2022_11_07'"
   ]
  },
  {
   "cell_type": "code",
   "execution_count": 5,
   "id": "5e7a6ae4-02a5-44b0-b78e-f5425ad9cb29",
   "metadata": {},
   "outputs": [
    {
     "name": "stderr",
     "output_type": "stream",
     "text": [
      "/Users/luis_flores/.local/share/virtualenvs/ner-DhZLIlym/lib/python3.7/site-packages/IPython/core/interactiveshell.py:3553: DtypeWarning: Columns (2,7,11) have mixed types.Specify dtype option on import or set low_memory=False.\n",
      "  exec(code_obj, self.user_global_ns, self.user_ns)\n"
     ]
    }
   ],
   "source": [
    "data=pd.read_csv(f'../kb_datasets/kb_entities_{dataset}{kb_iteration}.csv',index_col=0)"
   ]
  },
  {
   "cell_type": "code",
   "execution_count": 6,
   "id": "cb1c7be4-210a-4256-bbc8-e2f2649fc5fb",
   "metadata": {},
   "outputs": [],
   "source": [
    "kb_data=data[['id','name','desc']]"
   ]
  },
  {
   "cell_type": "code",
   "execution_count": 7,
   "id": "2f98fd02-e4b0-4259-8e59-5d3e9852c56e",
   "metadata": {},
   "outputs": [],
   "source": [
    "def load_entities(kb_data):\n",
    "    names = dict()\n",
    "    descriptions = dict()\n",
    "\n",
    "    for row in kb_data.iterrows():\n",
    "        qid = str(row[1][0])\n",
    "        name = str(row[1][1])\n",
    "        desc = str(row[1][2])\n",
    "        names[qid] = name\n",
    "        descriptions[qid] = desc\n",
    "    \n",
    "    return names, descriptions\n",
    "\n",
    "# Call function\n",
    "name_dict, desc_dict = load_entities(kb_data)"
   ]
  },
  {
   "cell_type": "code",
   "execution_count": 8,
   "id": "937d1db6-f591-4cf5-a929-b1f50f8ae9d7",
   "metadata": {},
   "outputs": [],
   "source": [
    "def get_ner_data(qid,doc,ent_types):\n",
    "    \"\"\"\n",
    "    Extract the entity data (text, label, start, end, start_char, end_char) \n",
    "    from a Spacy Doc and format into JSON.\n",
    "    Filter output to only include `ent_types`.\n",
    "    :returns dict\n",
    "    \"\"\"\n",
    "    ents = [\n",
    "        {\n",
    "            \"text\": ent.text,\n",
    "            \"label\": ent.label_,\n",
    "            \"start\": ent.start,\n",
    "            \"end\": ent.end,\n",
    "            \"start_char\": ent.start_char,\n",
    "            \"end_char\": ent.end_char,\n",
    "        }\n",
    "        for ent in doc.ents\n",
    "        if ent.label_ in ent_types\n",
    "    ]\n",
    "    return {qid:ents}"
   ]
  },
  {
   "cell_type": "code",
   "execution_count": 9,
   "id": "a7deea26-4912-4590-a0f5-614c509b0c2f",
   "metadata": {},
   "outputs": [],
   "source": [
    "def setup_logger(name, log_file, level=logging.DEBUG):\n",
    "    \"\"\"To setup as many loggers as you want\"\"\"\n",
    "\n",
    "    handler = logging.FileHandler(log_file)        \n",
    "\n",
    "    logger = logging.getLogger(name)\n",
    "    logger.setLevel(level)\n",
    "    logger.addHandler(handler)\n",
    "\n",
    "    return logger"
   ]
  },
  {
   "cell_type": "code",
   "execution_count": 10,
   "id": "9d61f71d-2c94-4e7d-8894-d3c388aa9f02",
   "metadata": {},
   "outputs": [],
   "source": [
    "# create file handler which logs even debug messages\n",
    "cycle_logger=setup_logger('ner_cycle_logger','ner_cycle_execution_times.log')\n",
    "# create file handler which logs failed ner\n",
    "failed_ner_logger=setup_logger('failed_ner','failed_ner.log')"
   ]
  },
  {
   "cell_type": "code",
   "execution_count": 11,
   "id": "5db5534f-d97f-49c9-981c-ce5c03805dcd",
   "metadata": {},
   "outputs": [],
   "source": [
    "def days_hours_minutes(td):\n",
    "    hours = td.seconds//3600\n",
    "    minutes=(td.seconds//60)%60\n",
    "    seconds=td.seconds\n",
    "    return f'{hours}:{minutes}:{seconds}' "
   ]
  },
  {
   "cell_type": "code",
   "execution_count": null,
   "id": "e5b2ccc3-aac5-4fc7-8feb-3e9fa57e64a7",
   "metadata": {},
   "outputs": [
    {
     "name": "stderr",
     "output_type": "stream",
     "text": [
      "Token indices sequence length is longer than the specified maximum sequence length for this model (626 > 512). Running this sequence through the model will result in indexing errors\n"
     ]
    }
   ],
   "source": [
    "# Embbed and export kb descriptions\n",
    "cycle_logger.debug('------')\n",
    "cycle_logger.debug('ner run start')\n",
    "cycle_logger.debug('------')\n",
    "\n",
    "start_runtime=dt.datetime.now()\n",
    "num_ner=0\n",
    "runtime_log=start_runtime.strftime('%Y_%m_%d_%H:%M:%S')\n",
    "log_str=f'Number of ner:{num_ner}, Runtime:{runtime_log}'\n",
    "cycle_logger.debug(log_str)\n",
    "num_ner = 0\n",
    "descriptions_ner = dict()\n",
    "export_cycle_interval=10000\n",
    "filename='ner_dict_pkl.pickle'\n",
    "for qid, desc in desc_dict.items():\n",
    "    try:\n",
    "        desc_doc = nlp(desc)\n",
    "        ent_dict=get_ner_data(qid,desc_doc, ent_types)\n",
    "        descriptions_ner[qid]=ent_dict[qid]\n",
    "    except:\n",
    "        failed_ner_logger.debug(f'{qid}')\n",
    "        continue\n",
    "    num_ner+=1 \n",
    "    if num_ner%export_cycle_interval==0:\n",
    "        # Export ner\n",
    "        with open(f'{filename}', 'wb') as handle:\n",
    "            pickle.dump(descriptions_ner, handle, protocol=pickle.HIGHEST_PROTOCOL)\n",
    "        \n",
    "        # Logging\n",
    "        current_runtime = dt.datetime.now()\n",
    "        runtime_log = current_runtime.strftime('%Y_%m_%d_%H:%M:%S')\n",
    "        time_delta = current_runtime - start_runtime \n",
    "        time_delta = days_hours_minutes(time_delta)\n",
    "        log_str=f'Number of ner:{num_ner}, Runtime:{runtime_log}, Timedelta:{time_delta}'\n",
    "        cycle_logger.debug(log_str)\n",
    "        \n",
    "        \n",
    "cycle_logger.debug('------')\n",
    "cycle_logger.debug('ner run end')\n",
    "cycle_logger.debug('------')"
   ]
  },
  {
   "cell_type": "code",
   "execution_count": null,
   "id": "f07e9a64-2db0-4da9-a8e3-720ea5b5f252",
   "metadata": {},
   "outputs": [],
   "source": []
  }
 ],
 "metadata": {
  "kernelspec": {
   "display_name": "Python 3 (ipykernel)",
   "language": "python",
   "name": "python3"
  },
  "language_info": {
   "codemirror_mode": {
    "name": "ipython",
    "version": 3
   },
   "file_extension": ".py",
   "mimetype": "text/x-python",
   "name": "python",
   "nbconvert_exporter": "python",
   "pygments_lexer": "ipython3",
   "version": "3.7.13"
  }
 },
 "nbformat": 4,
 "nbformat_minor": 5
}
