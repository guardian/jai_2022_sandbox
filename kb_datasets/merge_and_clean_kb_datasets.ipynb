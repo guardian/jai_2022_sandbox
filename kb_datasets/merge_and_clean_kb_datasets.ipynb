{
 "cells": [
  {
   "cell_type": "code",
   "execution_count": 1,
   "id": "977570fb-0988-4847-9227-57b591542215",
   "metadata": {},
   "outputs": [],
   "source": [
    "import pandas as pd"
   ]
  },
  {
   "cell_type": "code",
   "execution_count": 2,
   "id": "5be28145-fbf5-41be-97f4-b5d59a8031ad",
   "metadata": {},
   "outputs": [],
   "source": [
    "import numpy as np"
   ]
  },
  {
   "cell_type": "raw",
   "id": "f42bc64c-dd3e-4050-8ca2-d79fb4140ee0",
   "metadata": {},
   "source": [
    "import re "
   ]
  },
  {
   "cell_type": "code",
   "execution_count": 3,
   "id": "51f59c79-8ebe-4e1a-b033-31d2a6848527",
   "metadata": {},
   "outputs": [],
   "source": [
    "pd.set_option('display.max_colwidth', None)"
   ]
  },
  {
   "cell_type": "code",
   "execution_count": 4,
   "id": "ff252ae5-b12c-4319-84fb-92fa88c30266",
   "metadata": {},
   "outputs": [],
   "source": [
    "## Pre-process individual kb dataset"
   ]
  },
  {
   "cell_type": "raw",
   "id": "32ba812f-b21f-4430-a32f-92bcbafdedc5",
   "metadata": {},
   "source": [
    "# Select the intended kb dataset\n",
    "#dataset='lilsis'\n",
    "dataset='open_sanctions'"
   ]
  },
  {
   "cell_type": "raw",
   "id": "4f647b75-f965-4351-8960-9bb345e3882d",
   "metadata": {},
   "source": [
    "# Read csv file \n",
    "kb_entities=pd.read_csv(f'{dataset}_entities.csv',index_col=0)"
   ]
  },
  {
   "cell_type": "raw",
   "id": "163cd732-acee-4d78-9ba7-ddbc8a4939f7",
   "metadata": {},
   "source": [
    "# Select only KB entries with a person entity\n",
    "person_named_entities_name='Person'\n",
    "person_named_entities_col_d={'open_sanctions':'schema', 'lilsis':'primary_ext'} \n",
    "kb_entities=kb_entities[\n",
    "    kb_entities[\n",
    "        person_named_entities_col_d[dataset]]==person_named_entities_name\n",
    "]"
   ]
  },
  {
   "cell_type": "raw",
   "id": "acbfce03-9f3f-4552-9067-462057435035",
   "metadata": {},
   "source": [
    "# Change column names\n",
    "desc_col_d={'open_sanctions':'full_notes', 'lilsis':'context'} \n",
    "desc_col=desc_col_d[dataset]\n",
    "kb_entities=kb_entities.rename(columns={desc_col:'desc'})"
   ]
  },
  {
   "cell_type": "raw",
   "id": "56dab2e1-c12e-4039-8db0-c8548663de81",
   "metadata": {},
   "source": [
    "# Drop entities without a description \n",
    "kb_entities.dropna(subset=['desc'],inplace=True)"
   ]
  },
  {
   "cell_type": "raw",
   "id": "69a63864-a4cf-4b89-a867-2d9769e25c0d",
   "metadata": {},
   "source": [
    "# Reorder columns\n",
    "if dataset!='open_sanctions':\n",
    "    kb_entities=kb_entities.rename(columns={'aliases':'AKA'})\n",
    "kb_entities=kb_entities[['id','name','desc', 'AKA']]"
   ]
  },
  {
   "cell_type": "raw",
   "id": "bac07752-2604-48c7-9c65-5fd96c5580a5",
   "metadata": {},
   "source": [
    "# Remove cyrillic \n",
    "cyrillic = \"вгдеёзийклмнопрстуфхъыьэАБВГДЕЁЗИЙКЛМНОПРСТУФХЪЫЬЭ\"\n",
    "for i,symbol in enumerate(cyrillic):\n",
    "    cyrillic_condition=(kb_entities['name'].str.contains(symbol))\n",
    "    if i==0:\n",
    "        cyrillic_df=kb_entities[cyrillic_condition]\n",
    "    else:\n",
    "        cyrillic_df=cyrillic_df.append(kb_entities[cyrillic_condition]) \n",
    "        cyrillic_df=cyrillic_df.drop_duplicates()\n",
    "kb_entities=kb_entities.drop(cyrillic_df.index)"
   ]
  },
  {
   "cell_type": "raw",
   "id": "6a070d1b-2dd9-4b8c-9514-ad17fecd4599",
   "metadata": {},
   "source": [
    "kb_entities.to_csv(f'../kb_datasets/kb_entities_{dataset}.csv')"
   ]
  },
  {
   "cell_type": "code",
   "execution_count": null,
   "id": "47e4bbfb-aa69-4fb8-acb5-8b9d2cc056c0",
   "metadata": {},
   "outputs": [],
   "source": []
  },
  {
   "cell_type": "code",
   "execution_count": 16,
   "id": "355adef8-aed5-423a-9897-35f6242eff9c",
   "metadata": {},
   "outputs": [],
   "source": [
    "# Read both datasets\n",
    "os_kb_entities=pd.read_csv(f'kb_entities_open_sanctions.csv',index_col=0)\n",
    "os_kb_entities['kb_origin']='open_sanctions'\n",
    "ls_kb_entities=pd.read_csv(f'kb_entities_lilsis.csv',index_col=0)\n",
    "ls_kb_entities['kb_origin']='lilsis'"
   ]
  },
  {
   "cell_type": "code",
   "execution_count": 17,
   "id": "9666b890-9ff9-45d7-a158-0c08bc945991",
   "metadata": {},
   "outputs": [],
   "source": [
    "# Combine datasets into one\n",
    "kb_entities=pd.concat([os_kb_entities,ls_kb_entities]).reset_index().rename(columns={'index':'original_index'})"
   ]
  },
  {
   "cell_type": "code",
   "execution_count": 18,
   "id": "379efc4d-0196-4b16-b738-92ddd19d6443",
   "metadata": {},
   "outputs": [
    {
     "data": {
      "text/plain": [
       "(361048, 6)"
      ]
     },
     "execution_count": 18,
     "metadata": {},
     "output_type": "execute_result"
    }
   ],
   "source": [
    "kb_entities.shape"
   ]
  },
  {
   "cell_type": "code",
   "execution_count": 19,
   "id": "ddc34373-6cc1-41f8-b5d8-90835332c9f7",
   "metadata": {},
   "outputs": [
    {
     "data": {
      "text/html": [
       "<div>\n",
       "<style scoped>\n",
       "    .dataframe tbody tr th:only-of-type {\n",
       "        vertical-align: middle;\n",
       "    }\n",
       "\n",
       "    .dataframe tbody tr th {\n",
       "        vertical-align: top;\n",
       "    }\n",
       "\n",
       "    .dataframe thead th {\n",
       "        text-align: right;\n",
       "    }\n",
       "</style>\n",
       "<table border=\"1\" class=\"dataframe\">\n",
       "  <thead>\n",
       "    <tr style=\"text-align: right;\">\n",
       "      <th></th>\n",
       "      <th>original_index</th>\n",
       "      <th>id</th>\n",
       "      <th>name</th>\n",
       "      <th>desc</th>\n",
       "      <th>AKA</th>\n",
       "      <th>kb_origin</th>\n",
       "    </tr>\n",
       "  </thead>\n",
       "  <tbody>\n",
       "    <tr>\n",
       "      <th>0</th>\n",
       "      <td>0</td>\n",
       "      <td>acf-00040861bc3f593000830d987d09967ef3503ef1</td>\n",
       "      <td>Kolyvanov Egor</td>\n",
       "      <td>Russian propagandist: host of news program \"Segodnia\" (\"Today\") on NTV Federal 1980-11-15 male employees media Propagandists</td>\n",
       "      <td>['Kolyvanov Egor', 'Колыванов Егор']</td>\n",
       "      <td>open_sanctions</td>\n",
       "    </tr>\n",
       "    <tr>\n",
       "      <th>1</th>\n",
       "      <td>1</td>\n",
       "      <td>acf-0011c68a768924609dc5da5707ac7fa4c4d645a2</td>\n",
       "      <td>Shipov Sergei Yurievich</td>\n",
       "      <td>Russian chess player, grandmaster, chess coach, commentator. Publicly supported Russia's war against Ukraine. 1966-04-17 male Warmongers Athletes</td>\n",
       "      <td>['Shipov Sergei Yurievich', 'Шипов Сергей Юрьевич']</td>\n",
       "      <td>open_sanctions</td>\n",
       "    </tr>\n",
       "  </tbody>\n",
       "</table>\n",
       "</div>"
      ],
      "text/plain": [
       "   original_index                                            id  \\\n",
       "0               0  acf-00040861bc3f593000830d987d09967ef3503ef1   \n",
       "1               1  acf-0011c68a768924609dc5da5707ac7fa4c4d645a2   \n",
       "\n",
       "                      name  \\\n",
       "0           Kolyvanov Egor   \n",
       "1  Shipov Sergei Yurievich   \n",
       "\n",
       "                                                                                                                                                desc  \\\n",
       "0                       Russian propagandist: host of news program \"Segodnia\" (\"Today\") on NTV Federal 1980-11-15 male employees media Propagandists   \n",
       "1  Russian chess player, grandmaster, chess coach, commentator. Publicly supported Russia's war against Ukraine. 1966-04-17 male Warmongers Athletes   \n",
       "\n",
       "                                                   AKA       kb_origin  \n",
       "0                 ['Kolyvanov Egor', 'Колыванов Егор']  open_sanctions  \n",
       "1  ['Shipov Sergei Yurievich', 'Шипов Сергей Юрьевич']  open_sanctions  "
      ]
     },
     "execution_count": 19,
     "metadata": {},
     "output_type": "execute_result"
    }
   ],
   "source": [
    "kb_entities.head(2)"
   ]
  },
  {
   "cell_type": "code",
   "execution_count": 20,
   "id": "34ccce77-77d3-4644-bf68-2128b49e4ac5",
   "metadata": {},
   "outputs": [],
   "source": [
    "## Resolve duplicate entitiy IDs"
   ]
  },
  {
   "cell_type": "code",
   "execution_count": 21,
   "id": "74c9be81-a6bf-45ee-9e23-1c23a8bd3fb4",
   "metadata": {},
   "outputs": [],
   "source": [
    "# Find duplicate entries on the 'id' columns\n",
    "redudant_entities_by_id=kb_entities[kb_entities['id'].duplicated(keep=False)].sort_values(['id','name'])"
   ]
  },
  {
   "cell_type": "code",
   "execution_count": 22,
   "id": "ec3f13e8-b7e9-4d2c-b693-f133f726dcb9",
   "metadata": {},
   "outputs": [],
   "source": [
    "# Drop duplicate_entities (these were all cases where the ID was taken from Wikidata)\n",
    "redudant_entities_indices=redudant_entities_by_id.index\n",
    "kb_entities.drop(redudant_entities_indices, inplace=True)"
   ]
  },
  {
   "cell_type": "code",
   "execution_count": 23,
   "id": "3a7470cc-efcf-4a83-b279-ba4d080c2b1f",
   "metadata": {},
   "outputs": [],
   "source": [
    "# Combine desc across duplicated entities\n",
    "redudant_entities_by_id_consolidated_desc=redudant_entities_by_id[['id','desc']].groupby(['id'])['desc'].apply(lambda x: ' '.join(x)).reset_index()"
   ]
  },
  {
   "cell_type": "code",
   "execution_count": 24,
   "id": "8c18a42d-1648-471f-b1db-8717ead083e5",
   "metadata": {},
   "outputs": [],
   "source": [
    "# Drop all duplicated apart from the first (needs to be sorted by [id, name])\n",
    "redudant_entities_by_id.drop_duplicates(subset=['id'],keep='first',inplace=True)"
   ]
  },
  {
   "cell_type": "code",
   "execution_count": 25,
   "id": "6bf759e4-9047-4a4e-99d4-6137dd407f5c",
   "metadata": {},
   "outputs": [],
   "source": [
    "# Concatenate back to kb entity dataframe \n",
    "kb_entities=pd.concat([kb_entities,redudant_entities_by_id])"
   ]
  },
  {
   "cell_type": "code",
   "execution_count": 26,
   "id": "74074c49-2b05-4540-ba95-a1348d0f52d6",
   "metadata": {},
   "outputs": [],
   "source": [
    "# Cast names in lower case\n",
    "kb_entities['name']=kb_entities['name'].str.lower()"
   ]
  },
  {
   "cell_type": "code",
   "execution_count": 27,
   "id": "c3e30266-7023-48dc-b507-1880847684cb",
   "metadata": {},
   "outputs": [],
   "source": [
    "# Drop duplicates on name and desc\n",
    "kb_entities.drop_duplicates(['name','desc'],inplace=True)"
   ]
  },
  {
   "cell_type": "code",
   "execution_count": 28,
   "id": "2eca8127-dba7-4dc7-85f9-24cfd476f42d",
   "metadata": {},
   "outputs": [],
   "source": [
    "## Clean up data"
   ]
  },
  {
   "cell_type": "raw",
   "id": "730a9b4b-fcaf-41aa-b16d-54ac2ee12e79",
   "metadata": {},
   "source": [
    "# Remove titles \n",
    "kb_entities['name']=kb_entities['name'].str.split('\\. ').apply(lambda x: ' '.join([s for s in x if len(s)>3]))"
   ]
  },
  {
   "cell_type": "raw",
   "id": "bb0e007e-3155-4496-a8c4-82926d526790",
   "metadata": {},
   "source": [
    "kb_entities['first_name']=kb_entities['name'].apply(lambda r: r.split(' ')[0])"
   ]
  },
  {
   "cell_type": "raw",
   "id": "44de4977-ce6f-4299-8643-5798e861cdc2",
   "metadata": {},
   "source": [
    "kb_entities['last_name']=kb_entities['name'].apply(lambda r: r.split(' ')[-1])"
   ]
  },
  {
   "cell_type": "raw",
   "id": "cccee358-1543-4348-9dcf-ec6ae971344c",
   "metadata": {},
   "source": [
    "kb_entities[kb_entities.duplicated(subset=['first_name','last_name','desc'], keep=False)].sort_values(by=['first_name','last_name']).to_csv('duplicate_entities_on_first_and_last_names.csv')"
   ]
  },
  {
   "cell_type": "code",
   "execution_count": 29,
   "id": "1ec5565c-e244-43f6-98d4-c0588049d96f",
   "metadata": {},
   "outputs": [],
   "source": [
    "# Remove special characters (cyrillic, chinese, japanese, arabic, numbers) "
   ]
  },
  {
   "cell_type": "raw",
   "id": "8a3c42d7-df27-4e94-9824-ef54ea9a3764",
   "metadata": {},
   "source": [
    "# Remove cyrillic from descriptions\n",
    "cyrillic = \"вгдеёзийклмнопрстуфхъыьэАБВГДЕЁЗИЙКЛМНОПРСТУФХЪЫЬЭжцчщюяєії\"\n",
    "for symbol in cyrillic:\n",
    "    kb_entities['desc']=kb_entities['desc'].str.replace(symbol,'')"
   ]
  },
  {
   "cell_type": "raw",
   "id": "4d228a7d-9700-47d3-b159-69f8efd846b8",
   "metadata": {},
   "source": [
    "# Get all special characters from description column\n",
    "special_characters=set()\n",
    "for row in kb_entities.iterrows():\n",
    "    special_characters.update(\n",
    "        set(filter(lambda ele: re.search(\"[a-zA-Z\\s]+\", ele) is None, row[1][3])\n",
    "           )\n",
    "    )"
   ]
  },
  {
   "cell_type": "raw",
   "id": "c2dc4198-ed64-476f-9271-3a2252b2955b",
   "metadata": {},
   "source": [
    "# Get set of all unique words in description column\n",
    "vocab=set()\n",
    "for row in kb_entities.iterrows():\n",
    "    vocab.update(\n",
    "        set(row[1][3].split(' ')\n",
    "           )\n",
    "    )"
   ]
  },
  {
   "cell_type": "raw",
   "id": "412baaa1-bcdd-4457-b55d-2ef334e50d2a",
   "metadata": {},
   "source": [
    "clean_vocab=set()\n",
    "for word in vocab:\n",
    "    clean_word=word\n",
    "    for character in special_characters:\n",
    "        clean_word=clean_word.replace(character,'')\n",
    "    clean_vocab.add(clean_word)"
   ]
  },
  {
   "cell_type": "raw",
   "id": "bd3e7cd6-06f4-4f95-b09a-47dcfef61f64",
   "metadata": {},
   "source": [
    "pd.DataFrame(clean_vocab,columns=['vocab']).to_csv('clean_vocab.csv')"
   ]
  },
  {
   "cell_type": "code",
   "execution_count": 30,
   "id": "f7feb100-1f2b-4510-bc51-961eb4e3f641",
   "metadata": {},
   "outputs": [],
   "source": [
    "clean_vocab=pd.read_csv('clean_vocab.csv',index_col=0)\n",
    "clean_vocab=set(clean_vocab['vocab'])"
   ]
  },
  {
   "cell_type": "code",
   "execution_count": 31,
   "id": "63dd3760-ce6c-4169-bfd7-5135913dd628",
   "metadata": {},
   "outputs": [],
   "source": [
    "kb_entities['desc']=kb_entities['desc'].apply(lambda x: ' '.join([word for word in x.split(' ') if word in clean_vocab]))"
   ]
  },
  {
   "cell_type": "code",
   "execution_count": 32,
   "id": "3f5f8131-b8db-46b5-a4a3-a86eab41d486",
   "metadata": {},
   "outputs": [
    {
     "data": {
      "text/html": [
       "<div>\n",
       "<style scoped>\n",
       "    .dataframe tbody tr th:only-of-type {\n",
       "        vertical-align: middle;\n",
       "    }\n",
       "\n",
       "    .dataframe tbody tr th {\n",
       "        vertical-align: top;\n",
       "    }\n",
       "\n",
       "    .dataframe thead th {\n",
       "        text-align: right;\n",
       "    }\n",
       "</style>\n",
       "<table border=\"1\" class=\"dataframe\">\n",
       "  <thead>\n",
       "    <tr style=\"text-align: right;\">\n",
       "      <th></th>\n",
       "      <th>original_index</th>\n",
       "      <th>id</th>\n",
       "      <th>name</th>\n",
       "      <th>desc</th>\n",
       "      <th>AKA</th>\n",
       "      <th>kb_origin</th>\n",
       "    </tr>\n",
       "  </thead>\n",
       "  <tbody>\n",
       "    <tr>\n",
       "      <th>0</th>\n",
       "      <td>0</td>\n",
       "      <td>acf-00040861bc3f593000830d987d09967ef3503ef1</td>\n",
       "      <td>kolyvanov egor</td>\n",
       "      <td>Russian host of news program on NTV Federal male employees media Propagandists</td>\n",
       "      <td>['Kolyvanov Egor', 'Колыванов Егор']</td>\n",
       "      <td>open_sanctions</td>\n",
       "    </tr>\n",
       "    <tr>\n",
       "      <th>1</th>\n",
       "      <td>1</td>\n",
       "      <td>acf-0011c68a768924609dc5da5707ac7fa4c4d645a2</td>\n",
       "      <td>shipov sergei yurievich</td>\n",
       "      <td>Russian chess chess Publicly supported war against male Warmongers Athletes</td>\n",
       "      <td>['Shipov Sergei Yurievich', 'Шипов Сергей Юрьевич']</td>\n",
       "      <td>open_sanctions</td>\n",
       "    </tr>\n",
       "    <tr>\n",
       "      <th>2</th>\n",
       "      <td>2</td>\n",
       "      <td>acf-001e7e4c0363f08f1e784c230457960b84a6416f</td>\n",
       "      <td>egorov ivan mikhailovich</td>\n",
       "      <td>Deputy of the State Council of the Republic of Tatarstan from the United Russia major friend and neighbor of the head of the hid property from declaring subjects investigations male Regional</td>\n",
       "      <td>['Egorov Ivan Mikhailovich', 'Егоров Иван Михайлович']</td>\n",
       "      <td>open_sanctions</td>\n",
       "    </tr>\n",
       "    <tr>\n",
       "      <th>3</th>\n",
       "      <td>3</td>\n",
       "      <td>acf-002c208139012c8d93b6298358188d7cadafe648</td>\n",
       "      <td>goreslavsky alexey sergeyevich</td>\n",
       "      <td>Russian journalist and media Helped destroy independent media in Russia when he was appointed the new of the previously popular independent in Russian journalist and media works at the Institute for the Development of Internet that focuses on creating propoganda for the youth of Russia Head of the Internet Development Responsible for organizing censorship in the Russian segment of the Internet political involved Federal subjects Individuals Organizers male Internet in of censors Investigations corruption employees repressions media Propagandists</td>\n",
       "      <td>['Goreslavsky Alexey Sergeyevich', 'Гореславский Алексей Сергеевич']</td>\n",
       "      <td>open_sanctions</td>\n",
       "    </tr>\n",
       "    <tr>\n",
       "      <th>4</th>\n",
       "      <td>4</td>\n",
       "      <td>acf-002cc8fdf8fe41185091a7cb6c598663e7a22eb5</td>\n",
       "      <td>samoilova natalya vladimirovna</td>\n",
       "      <td>Russian Supported the actions of the Russian military during the invasion of leaders female opinion bloggers Sellout influencers and</td>\n",
       "      <td>['Samoilova Natalya Vladimirovna', 'Самойлова Наталья Владимировна']</td>\n",
       "      <td>open_sanctions</td>\n",
       "    </tr>\n",
       "    <tr>\n",
       "      <th>...</th>\n",
       "      <td>...</td>\n",
       "      <td>...</td>\n",
       "      <td>...</td>\n",
       "      <td>...</td>\n",
       "      <td>...</td>\n",
       "      <td>...</td>\n",
       "    </tr>\n",
       "    <tr>\n",
       "      <th>131277</th>\n",
       "      <td>240626</td>\n",
       "      <td>Q6959189</td>\n",
       "      <td>nahapet gevorgyan</td>\n",
       "      <td>Armenian politician Armenians the Assembly Armenia member Armavir Gevorgyan of male National</td>\n",
       "      <td>['Nahapet Gevorgyan', 'Նահապետ Գևորգյան', 'Геворгян, Наапет', 'Геворгян Наапет Багратович', 'Геворгян Наапет', 'Наапет Багратович Геворгян', 'Геворгян, Наапет Багратович', 'Геворгян Н. Б.', 'ناهاپت گوورگیان', 'Геворгян Н.', 'Наапет Геворгян']</td>\n",
       "      <td>open_sanctions</td>\n",
       "    </tr>\n",
       "    <tr>\n",
       "      <th>164305</th>\n",
       "      <td>274148</td>\n",
       "      <td>Q7281459</td>\n",
       "      <td>radnaasumbereliyn gonchigdorj</td>\n",
       "      <td>Mongolian politician the Assembly Province Arkhangai of State male Great Member Mongolia</td>\n",
       "      <td>['Radnaasumbereliyn Gonchigdorj', '拉德那苏木贝尔勒·贡其格道尔吉', 'Раднаасумбэрэлийн Гончигдорж', 'ラドナアスムベレリン・ゴンチグドルジ', 'Раднаасүмбэрэлийн Гончигдорж']</td>\n",
       "      <td>open_sanctions</td>\n",
       "    </tr>\n",
       "    <tr>\n",
       "      <th>125067</th>\n",
       "      <td>234301</td>\n",
       "      <td>Q9131042</td>\n",
       "      <td>nyamaagiin enkhbold</td>\n",
       "      <td>Mongolian politician the Assembly Uliastai Defense male of State Affairs Great Minister Foreign Member Mongolia</td>\n",
       "      <td>['Nyamaagiin Enkhbold', '尼亚马·恩赫包勒德', 'Nyamaa Enkhbold', 'Нямаагийн Энхболд']</td>\n",
       "      <td>open_sanctions</td>\n",
       "    </tr>\n",
       "    <tr>\n",
       "      <th>144084</th>\n",
       "      <td>253776</td>\n",
       "      <td>Q9190484</td>\n",
       "      <td>d. o. chaoke</td>\n",
       "      <td>Linguist of Tungusic languages Foreign Studies Congress Tokyo of Minzu University male China deputy National</td>\n",
       "      <td>['D. O. Chaoke', '朝克', 'Dular Osor Chaoke', 'ドラール・オソル・朝克']</td>\n",
       "      <td>open_sanctions</td>\n",
       "    </tr>\n",
       "    <tr>\n",
       "      <th>179437</th>\n",
       "      <td>289347</td>\n",
       "      <td>Q9203344</td>\n",
       "      <td>zhu haowen</td>\n",
       "      <td>Mayor of China Zhu Congress University male China deputy National Peking</td>\n",
       "      <td>['Zhu Haowen', '朱浩文']</td>\n",
       "      <td>open_sanctions</td>\n",
       "    </tr>\n",
       "  </tbody>\n",
       "</table>\n",
       "<p>360277 rows × 6 columns</p>\n",
       "</div>"
      ],
      "text/plain": [
       "        original_index                                            id  \\\n",
       "0                    0  acf-00040861bc3f593000830d987d09967ef3503ef1   \n",
       "1                    1  acf-0011c68a768924609dc5da5707ac7fa4c4d645a2   \n",
       "2                    2  acf-001e7e4c0363f08f1e784c230457960b84a6416f   \n",
       "3                    3  acf-002c208139012c8d93b6298358188d7cadafe648   \n",
       "4                    4  acf-002cc8fdf8fe41185091a7cb6c598663e7a22eb5   \n",
       "...                ...                                           ...   \n",
       "131277          240626                                      Q6959189   \n",
       "164305          274148                                      Q7281459   \n",
       "125067          234301                                      Q9131042   \n",
       "144084          253776                                      Q9190484   \n",
       "179437          289347                                      Q9203344   \n",
       "\n",
       "                                  name  \\\n",
       "0                       kolyvanov egor   \n",
       "1              shipov sergei yurievich   \n",
       "2             egorov ivan mikhailovich   \n",
       "3       goreslavsky alexey sergeyevich   \n",
       "4       samoilova natalya vladimirovna   \n",
       "...                                ...   \n",
       "131277               nahapet gevorgyan   \n",
       "164305   radnaasumbereliyn gonchigdorj   \n",
       "125067             nyamaagiin enkhbold   \n",
       "144084                    d. o. chaoke   \n",
       "179437                      zhu haowen   \n",
       "\n",
       "                                                                                                                                                                                                                                                                                                                                                                                                                                                                                                                                                                           desc  \\\n",
       "0                                                                                                                                                                                                                                                                                                                                                                                                                                                                                                Russian host of news program on NTV Federal male employees media Propagandists   \n",
       "1                                                                                                                                                                                                                                                                                                                                                                                                                                                                                                   Russian chess chess Publicly supported war against male Warmongers Athletes   \n",
       "2                                                                                                                                                                                                                                                                                                                                                                                Deputy of the State Council of the Republic of Tatarstan from the United Russia major friend and neighbor of the head of the hid property from declaring subjects investigations male Regional   \n",
       "3       Russian journalist and media Helped destroy independent media in Russia when he was appointed the new of the previously popular independent in Russian journalist and media works at the Institute for the Development of Internet that focuses on creating propoganda for the youth of Russia Head of the Internet Development Responsible for organizing censorship in the Russian segment of the Internet political involved Federal subjects Individuals Organizers male Internet in of censors Investigations corruption employees repressions media Propagandists   \n",
       "4                                                                                                                                                                                                                                                                                                                                                                                                                                          Russian Supported the actions of the Russian military during the invasion of leaders female opinion bloggers Sellout influencers and   \n",
       "...                                                                                                                                                                                                                                                                                                                                                                                                                                                                                                                                                                         ...   \n",
       "131277                                                                                                                                                                                                                                                                                                                                                                                                                                                                             Armenian politician Armenians the Assembly Armenia member Armavir Gevorgyan of male National   \n",
       "164305                                                                                                                                                                                                                                                                                                                                                                                                                                                                                 Mongolian politician the Assembly Province Arkhangai of State male Great Member Mongolia   \n",
       "125067                                                                                                                                                                                                                                                                                                                                                                                                                                                          Mongolian politician the Assembly Uliastai Defense male of State Affairs Great Minister Foreign Member Mongolia   \n",
       "144084                                                                                                                                                                                                                                                                                                                                                                                                                                                             Linguist of Tungusic languages Foreign Studies Congress Tokyo of Minzu University male China deputy National   \n",
       "179437                                                                                                                                                                                                                                                                                                                                                                                                                                                                                                 Mayor of China Zhu Congress University male China deputy National Peking   \n",
       "\n",
       "                                                                                                                                                                                                                                                       AKA  \\\n",
       "0                                                                                                                                                                                                                     ['Kolyvanov Egor', 'Колыванов Егор']   \n",
       "1                                                                                                                                                                                                      ['Shipov Sergei Yurievich', 'Шипов Сергей Юрьевич']   \n",
       "2                                                                                                                                                                                                   ['Egorov Ivan Mikhailovich', 'Егоров Иван Михайлович']   \n",
       "3                                                                                                                                                                                     ['Goreslavsky Alexey Sergeyevich', 'Гореславский Алексей Сергеевич']   \n",
       "4                                                                                                                                                                                     ['Samoilova Natalya Vladimirovna', 'Самойлова Наталья Владимировна']   \n",
       "...                                                                                                                                                                                                                                                    ...   \n",
       "131277  ['Nahapet Gevorgyan', 'Նահապետ Գևորգյան', 'Геворгян, Наапет', 'Геворгян Наапет Багратович', 'Геворгян Наапет', 'Наапет Багратович Геворгян', 'Геворгян, Наапет Багратович', 'Геворгян Н. Б.', 'ناهاپت گوورگیان', 'Геворгян Н.', 'Наапет Геворгян']   \n",
       "164305                                                                                                          ['Radnaasumbereliyn Gonchigdorj', '拉德那苏木贝尔勒·贡其格道尔吉', 'Раднаасумбэрэлийн Гончигдорж', 'ラドナアスムベレリン・ゴンチグドルジ', 'Раднаасүмбэрэлийн Гончигдорж']   \n",
       "125067                                                                                                                                                                        ['Nyamaagiin Enkhbold', '尼亚马·恩赫包勒德', 'Nyamaa Enkhbold', 'Нямаагийн Энхболд']   \n",
       "144084                                                                                                                                                                                          ['D. O. Chaoke', '朝克', 'Dular Osor Chaoke', 'ドラール・オソル・朝克']   \n",
       "179437                                                                                                                                                                                                                               ['Zhu Haowen', '朱浩文']   \n",
       "\n",
       "             kb_origin  \n",
       "0       open_sanctions  \n",
       "1       open_sanctions  \n",
       "2       open_sanctions  \n",
       "3       open_sanctions  \n",
       "4       open_sanctions  \n",
       "...                ...  \n",
       "131277  open_sanctions  \n",
       "164305  open_sanctions  \n",
       "125067  open_sanctions  \n",
       "144084  open_sanctions  \n",
       "179437  open_sanctions  \n",
       "\n",
       "[360277 rows x 6 columns]"
      ]
     },
     "execution_count": 32,
     "metadata": {},
     "output_type": "execute_result"
    }
   ],
   "source": [
    "kb_entities"
   ]
  },
  {
   "cell_type": "code",
   "execution_count": 33,
   "id": "af2adbaa-93d8-41df-9f67-eb4d217dbc62",
   "metadata": {},
   "outputs": [],
   "source": [
    "## Resolve non-id ambiguities"
   ]
  },
  {
   "cell_type": "raw",
   "id": "ea9c31ce-2cb8-4f0f-b63c-946e5d96af79",
   "metadata": {},
   "source": [
    "kb_entities.loc[kb_entities['name'].duplicated(keep=False),'name'].value_counts()"
   ]
  },
  {
   "cell_type": "raw",
   "id": "7e0168a4-b431-4cf6-a12f-5936d7bcc255",
   "metadata": {},
   "source": [
    "import spacy\n",
    "nlp = spacy.load(\"en_core_web_lg\")"
   ]
  },
  {
   "cell_type": "raw",
   "id": "d268a038-e082-41c0-b286-e4846c805536",
   "metadata": {},
   "source": [
    "from numpy import dot\n",
    "from numpy.linalg import norm\n",
    "def calculate_cosine_similarity(descriptions_vec,vector_ref_sentence):\n",
    "    \"\"\"\n",
    "    Return a dictionary mapping the kb entity id to cosine similarity score\n",
    "    between kb embedded descriptions and the reference vector.\n",
    "    \"\"\"\n",
    "\n",
    "    score=np.nan_to_num(\n",
    "        dot(vector_ref_sentence, descriptions_vec)/\n",
    "        (norm(vector_ref_sentence)*norm(descriptions_vec))\n",
    "    ,0)\n",
    "    return score"
   ]
  },
  {
   "cell_type": "raw",
   "id": "14e4d0ff-0330-49ed-b16d-5139d09d3542",
   "metadata": {},
   "source": [
    "kb_entities['desc_enc']=kb_entities['desc'].apply(lambda x: nlp(x).vector)"
   ]
  },
  {
   "cell_type": "raw",
   "id": "aa5f4c68-377f-40dd-8ee7-484c7d74ed17",
   "metadata": {},
   "source": [
    "kb_entities.to_csv('kb_entities_full.csv')"
   ]
  },
  {
   "cell_type": "raw",
   "id": "eea23656-b408-4c70-a7f3-6bd275091f60",
   "metadata": {},
   "source": [
    "kb_entities[kb_entities.duplicated(subset=['last_name'], keep=False)].sort_values(by=['last_name','name']).to_csv('duplicates_by_last_name.csv')"
   ]
  },
  {
   "cell_type": "raw",
   "id": "f14ddfe7-7d32-44e3-9f50-a78baf241226",
   "metadata": {},
   "source": [
    "for i,name in enumerate(kb_entities['name'].unique()): \n",
    "    df=kb_entities[kb_entities['name']==name]\n",
    "    df=df[['name','id','desc','desc_enc']]\n",
    "    df=df.merge(df, on='name', suffixes=['_1','_2'])\n",
    "    df['similarity_score']=df.apply(\n",
    "        lambda x: calculate_cosine_similarity(x['desc_enc_1'],x['desc_enc_2']),\n",
    "            1\n",
    "        )\n",
    "    df=df[df['similarity_score']>0]\n",
    "    if i==0:\n",
    "        similarity_df=df[['id_1','id_2','similarity_score']]\n",
    "    else:\n",
    "        similarity_df=pd.concat([similarity_df, df[['id_1','id_2','similarity_score']]])\n",
    "        \n",
    "similarity_df=similarity_df[(similarity_df['id_1']!=similarity_df['id_2'])]"
   ]
  },
  {
   "cell_type": "raw",
   "id": "e286fb71-dc3c-4c40-b474-7cdcfadcc289",
   "metadata": {},
   "source": [
    "# The merging the ids agains themselves creates deplicates based on order \n",
    "# (id 1, id 2 or id 2, id 1 doesn't matter, just the pairing of the set)\n",
    "# This code removes redudant rows\n",
    "similarity_df['id_1']=similarity_df['id_1'].astype(str)\n",
    "similarity_df['id_2']=similarity_df['id_2'].astype(str)\n",
    "similarity_df['id_pair']=similarity_df.apply(lambda x: ' '.join(set([x['id_1'],x['id_2']])),1)\n",
    "similarity_df=similarity_df.drop_duplicates('id_pair',keep='first')"
   ]
  },
  {
   "cell_type": "raw",
   "id": "678e25fe-4ce7-49c7-b6b6-4caad6d72a83",
   "metadata": {},
   "source": [
    "# Fetch the context for each id\n",
    "similarity_df=similarity_df.merge(kb_entities[['name','id','desc']], how='left',left_on='id_1', right_on='id')\n",
    "similarity_df.drop('id',1,inplace=True)\n",
    "similarity_df=similarity_df.rename(columns={'name':'name_1','desc':'desc_1'})\n",
    "similarity_df=similarity_df.merge(kb_entities[['name','id','desc']], how='left',left_on='id_2', right_on='id')\n",
    "similarity_df.drop('id',1,inplace=True)\n",
    "similarity_df=similarity_df.rename(columns={'name':'name_2','desc':'desc_2'})"
   ]
  },
  {
   "cell_type": "raw",
   "id": "5fe16154-9dfd-459e-aaa4-6d7f21f60632",
   "metadata": {},
   "source": [
    "similarity_df.to_csv('similarity_df.csv')"
   ]
  },
  {
   "cell_type": "code",
   "execution_count": 34,
   "id": "a9f3a74d-9dc2-4cd5-ac26-ea522b500a3a",
   "metadata": {},
   "outputs": [],
   "source": [
    "## Add KB URLs"
   ]
  },
  {
   "cell_type": "code",
   "execution_count": 35,
   "id": "2d649e0b-5525-4081-9d98-fd8f3efc8566",
   "metadata": {},
   "outputs": [],
   "source": [
    "def url_generator(id_,name, dataset):\n",
    "    if dataset=='open_sanctions':\n",
    "        return f'https://www.opensanctions.org/entities/{id_}'\n",
    "    if dataset=='lilsis':\n",
    "        return f'https://littlesis.org/person/{id_}-{name}'"
   ]
  },
  {
   "cell_type": "code",
   "execution_count": 36,
   "id": "a9e3b01c-bca8-4727-b366-17983526de6c",
   "metadata": {},
   "outputs": [],
   "source": [
    "kb_entities['kb_url']=kb_entities.apply(\n",
    "    lambda x: [url_generator(x['id'],x['name'], 'open_sanctions') \n",
    "                             if x['kb_origin']=='open_sanctions' \n",
    "                             else url_generator(x['id'],x['name'], 'lilsis') \n",
    "                                                  ][0],1\n",
    ")"
   ]
  },
  {
   "cell_type": "code",
   "execution_count": 43,
   "id": "63a903f5-55e9-43b4-aa55-fd740d26ea1a",
   "metadata": {},
   "outputs": [
    {
     "data": {
      "text/html": [
       "<div>\n",
       "<style scoped>\n",
       "    .dataframe tbody tr th:only-of-type {\n",
       "        vertical-align: middle;\n",
       "    }\n",
       "\n",
       "    .dataframe tbody tr th {\n",
       "        vertical-align: top;\n",
       "    }\n",
       "\n",
       "    .dataframe thead th {\n",
       "        text-align: right;\n",
       "    }\n",
       "</style>\n",
       "<table border=\"1\" class=\"dataframe\">\n",
       "  <thead>\n",
       "    <tr style=\"text-align: right;\">\n",
       "      <th></th>\n",
       "      <th>original_index</th>\n",
       "      <th>id</th>\n",
       "      <th>name</th>\n",
       "      <th>desc</th>\n",
       "      <th>AKA</th>\n",
       "      <th>kb_origin</th>\n",
       "      <th>kb_url</th>\n",
       "    </tr>\n",
       "  </thead>\n",
       "  <tbody>\n",
       "  </tbody>\n",
       "</table>\n",
       "</div>"
      ],
      "text/plain": [
       "Empty DataFrame\n",
       "Columns: [original_index, id, name, desc, AKA, kb_origin, kb_url]\n",
       "Index: []"
      ]
     },
     "execution_count": 43,
     "metadata": {},
     "output_type": "execute_result"
    }
   ],
   "source": [
    "kb_entities[kb_entities['desc'].isna()]"
   ]
  },
  {
   "cell_type": "code",
   "execution_count": 40,
   "id": "94b10ca0-9edf-4aa4-b060-05e77a06e427",
   "metadata": {},
   "outputs": [],
   "source": [
    "kb_entities[kb_entities.duplicated(keep=False,subset=['name'])].sort_values(by=['name']).to_csv(f'duplicate_full_name_aliases.csv')"
   ]
  },
  {
   "cell_type": "code",
   "execution_count": 44,
   "id": "32306bb3-09c1-4d9a-abcc-d34d3ff674a2",
   "metadata": {},
   "outputs": [],
   "source": [
    "kb_entities.to_csv('kb_entities_full.csv')"
   ]
  }
 ],
 "metadata": {
  "kernelspec": {
   "display_name": "Python 3 (ipykernel)",
   "language": "python",
   "name": "python3"
  },
  "language_info": {
   "codemirror_mode": {
    "name": "ipython",
    "version": 3
   },
   "file_extension": ".py",
   "mimetype": "text/x-python",
   "name": "python",
   "nbconvert_exporter": "python",
   "pygments_lexer": "ipython3",
   "version": "3.7.13"
  }
 },
 "nbformat": 4,
 "nbformat_minor": 5
}
