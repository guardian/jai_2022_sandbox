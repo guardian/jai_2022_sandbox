{
 "cells": [
  {
   "cell_type": "code",
   "execution_count": 1,
   "id": "b77c9158-734e-455e-a125-b9bb0dfabbbb",
   "metadata": {},
   "outputs": [],
   "source": [
    "import pandas as pd\n",
    "import pickle\n",
    "import numpy as np\n",
    "import re \n",
    "import datetime as dt"
   ]
  },
  {
   "cell_type": "code",
   "execution_count": 2,
   "id": "c3102805-6a94-4ea4-a585-965f3332661a",
   "metadata": {},
   "outputs": [],
   "source": [
    "pd.set_option('display.max_rows', 100)\n",
    "pd.set_option('display.max_columns', 100)\n",
    "pd.set_option('display.width', 100)"
   ]
  },
  {
   "cell_type": "code",
   "execution_count": 3,
   "id": "51f59c79-8ebe-4e1a-b033-31d2a6848527",
   "metadata": {},
   "outputs": [],
   "source": [
    "pd.set_option('display.max_colwidth', None)"
   ]
  },
  {
   "cell_type": "code",
   "execution_count": 4,
   "id": "4be39bd7-b9d0-47ef-9813-53d5e444d435",
   "metadata": {},
   "outputs": [
    {
     "name": "stderr",
     "output_type": "stream",
     "text": [
      "/Users/luis_flores/.local/share/virtualenvs/ner-DhZLIlym/lib/python3.7/site-packages/IPython/core/interactiveshell.py:3553: DtypeWarning: Columns (9,10) have mixed types.Specify dtype option on import or set low_memory=False.\n",
      "  exec(code_obj, self.user_global_ns, self.user_ns)\n"
     ]
    }
   ],
   "source": [
    "# Read both datasets\n",
    "os_kb_entities=pd.read_csv(f'open_sanctions_entities.csv',index_col=0)\n",
    "os_kb_entities['kb_origin']='open_sanctions'\n",
    "ls_kb_entities=pd.read_csv(f'lilsis_entities.csv',index_col=0)\n",
    "ls_kb_entities['kb_origin']='lilsis'"
   ]
  },
  {
   "cell_type": "code",
   "execution_count": 5,
   "id": "1d9d7f9e-32a1-4b7d-92b7-6be09b2c529c",
   "metadata": {},
   "outputs": [],
   "source": [
    "# Rename columns to concat datasets  \n",
    "os_kb_entities=os_kb_entities.rename(columns={'full_notes':'desc'})\n",
    "ls_kb_entities=ls_kb_entities.rename(columns={'primary_ext':'schema','end_date':'deathdate','aliases':'AKA','start_date':'birthdate','context':'desc'})"
   ]
  },
  {
   "cell_type": "code",
   "execution_count": 6,
   "id": "cf84f215-8c46-43d4-aaa8-1f1877966754",
   "metadata": {
    "tags": []
   },
   "outputs": [],
   "source": [
    "# Concat datasets into one\n",
    "kb_entities=pd.concat([os_kb_entities,ls_kb_entities]).reset_index().rename(columns={'index':'original_index'})"
   ]
  },
  {
   "cell_type": "code",
   "execution_count": 7,
   "id": "c8a5d524-da9e-4fea-b962-4e47753e511f",
   "metadata": {},
   "outputs": [
    {
     "name": "stderr",
     "output_type": "stream",
     "text": [
      "/Users/luis_flores/.local/share/virtualenvs/ner-DhZLIlym/lib/python3.7/site-packages/ipykernel_launcher.py:2: FutureWarning: In a future version of pandas all arguments of DataFrame.drop except for the argument 'labels' will be keyword-only\n",
      "  \n"
     ]
    }
   ],
   "source": [
    "# Drop useless columns\n",
    "kb_entities.drop(['schema','notes','context','types','start_date_sentence','end_date_sentence'],1,inplace=True)"
   ]
  },
  {
   "cell_type": "code",
   "execution_count": 8,
   "id": "0359c068-7f6d-4adf-b36a-479445cf40cb",
   "metadata": {},
   "outputs": [
    {
     "data": {
      "text/plain": [
       "(503310, 11)"
      ]
     },
     "execution_count": 8,
     "metadata": {},
     "output_type": "execute_result"
    }
   ],
   "source": [
    "kb_entities.shape"
   ]
  },
  {
   "cell_type": "code",
   "execution_count": 9,
   "id": "a4a4fd8c-94bd-4c11-b057-ff7bcdaea5c5",
   "metadata": {},
   "outputs": [],
   "source": [
    "# Fix trailing whitespaces\n",
    "kb_entities['desc']=kb_entities['desc'].apply(lambda x: re.sub(r\"\\b(\\.)[\\.\\s]+$\", \"\\\\1\", x))"
   ]
  },
  {
   "cell_type": "code",
   "execution_count": 10,
   "id": "52862616-c4b4-4294-b4f6-a67f585f9a19",
   "metadata": {},
   "outputs": [],
   "source": [
    "# Remove entities with no description\n",
    "kb_entities=kb_entities[kb_entities['desc'].str.replace(' ','').apply(len)>0]"
   ]
  },
  {
   "cell_type": "code",
   "execution_count": 11,
   "id": "a1c8c8a6-a734-4b8a-b90a-55ba5e8f2f9b",
   "metadata": {},
   "outputs": [],
   "source": [
    "# Drop duplicated based on same name and description\n",
    "kb_entities.drop_duplicates(subset=['name','desc'],inplace=True)"
   ]
  },
  {
   "cell_type": "code",
   "execution_count": 12,
   "id": "2deb881c-adf1-479f-b6e4-cdf00d941c47",
   "metadata": {},
   "outputs": [
    {
     "data": {
      "text/plain": [
       "(429953, 11)"
      ]
     },
     "execution_count": 12,
     "metadata": {},
     "output_type": "execute_result"
    }
   ],
   "source": [
    "kb_entities.shape"
   ]
  },
  {
   "cell_type": "code",
   "execution_count": 13,
   "id": "34ccce77-77d3-4644-bf68-2128b49e4ac5",
   "metadata": {},
   "outputs": [],
   "source": [
    "## Resolve duplicate entitiy IDs"
   ]
  },
  {
   "cell_type": "code",
   "execution_count": 14,
   "id": "74c9be81-a6bf-45ee-9e23-1c23a8bd3fb4",
   "metadata": {},
   "outputs": [],
   "source": [
    "# Find duplicate entries on the 'id' columns\n",
    "redundant_entities_by_id=kb_entities[kb_entities['id'].duplicated(keep=False)].sort_values(['id','name'])"
   ]
  },
  {
   "cell_type": "code",
   "execution_count": 15,
   "id": "ec3f13e8-b7e9-4d2c-b693-f133f726dcb9",
   "metadata": {},
   "outputs": [],
   "source": [
    "# Drop duplicate_entities (these were all cases where the ID was taken from Wikidata)\n",
    "redundant_entities_indices=redundant_entities_by_id.index\n",
    "kb_entities.drop(redundant_entities_indices, inplace=True)"
   ]
  },
  {
   "cell_type": "code",
   "execution_count": 16,
   "id": "3a7470cc-efcf-4a83-b279-ba4d080c2b1f",
   "metadata": {},
   "outputs": [],
   "source": [
    "# Keep first of duplicated entities\n",
    "redundant_entities_by_id_consolidated_desc=redundant_entities_by_id.groupby(['id']).first().reset_index()"
   ]
  },
  {
   "cell_type": "code",
   "execution_count": 17,
   "id": "1d9f7f06-6a64-4eac-8ada-f7185d1bc175",
   "metadata": {},
   "outputs": [],
   "source": [
    "# Concatenate back to kb entity dataframe \n",
    "kb_entities=pd.concat([kb_entities,redundant_entities_by_id_consolidated_desc])\n",
    "kb_entities.reset_index(drop=True,inplace=True)"
   ]
  },
  {
   "cell_type": "code",
   "execution_count": 18,
   "id": "c3bfc016-9c0a-4f99-bf88-8241a732c2c7",
   "metadata": {},
   "outputs": [
    {
     "data": {
      "text/plain": [
       "(429861, 11)"
      ]
     },
     "execution_count": 18,
     "metadata": {},
     "output_type": "execute_result"
    }
   ],
   "source": [
    "kb_entities.shape"
   ]
  },
  {
   "cell_type": "code",
   "execution_count": 19,
   "id": "95da2203-a3e0-4ee0-8985-cade943c5914",
   "metadata": {},
   "outputs": [],
   "source": [
    "## Resolve duplicates on birthdate, deathdate and website"
   ]
  },
  {
   "cell_type": "code",
   "execution_count": 20,
   "id": "59b426da-2193-4e62-a621-e17775b8c211",
   "metadata": {},
   "outputs": [],
   "source": [
    "# Create auxiliary column for ordering based on len of desc field\n",
    "kb_entities['desc_len']=kb_entities['desc'].str.len()"
   ]
  },
  {
   "cell_type": "code",
   "execution_count": 21,
   "id": "bfc4ab07-bfe1-431b-90c2-ba9e4ad3da58",
   "metadata": {},
   "outputs": [],
   "source": [
    "redundancy_cols=['birthdate','deathdate','website']\n",
    "for col in redundancy_cols:\n",
    "    # Find duplicates ordered by description len\n",
    "    redundant_entities_by_col=kb_entities[~(kb_entities[col].isna())&\n",
    "                (kb_entities.duplicated(['name',col],keep=False))\n",
    "               ].sort_values(by=['name','desc_len'],ascending=False)\n",
    "\n",
    "    # Drop duplicate_entities on name and birthdate\n",
    "    redundant_entities_indices=redundant_entities_by_col.index\n",
    "    kb_entities.drop(redundant_entities_indices, inplace=True)\n",
    "\n",
    "    # Keep first of duplicated entities\n",
    "    redundant_entities_by_col_consolidated_desc=redundant_entities_by_col.groupby(['name',col]).first().reset_index()\n",
    "\n",
    "    # Concatenate back to kb entity dataframe \n",
    "    kb_entities=pd.concat([kb_entities,redundant_entities_by_col_consolidated_desc])\n",
    "    kb_entities.reset_index(drop=True,inplace=True)"
   ]
  },
  {
   "cell_type": "code",
   "execution_count": 22,
   "id": "a629b2be-1c0f-4fe2-8e20-2c34b601ee5b",
   "metadata": {},
   "outputs": [
    {
     "data": {
      "text/plain": [
       "(428519, 12)"
      ]
     },
     "execution_count": 22,
     "metadata": {},
     "output_type": "execute_result"
    }
   ],
   "source": [
    "kb_entities.shape"
   ]
  },
  {
   "cell_type": "code",
   "execution_count": 23,
   "id": "f7638151-dd69-4307-8c1e-3383493825d4",
   "metadata": {},
   "outputs": [],
   "source": [
    "## Further duplicate inspection "
   ]
  },
  {
   "cell_type": "code",
   "execution_count": 24,
   "id": "47f6790c-d794-4b8d-9da4-86a0db8483e9",
   "metadata": {},
   "outputs": [],
   "source": [
    "# Duplicates on name\n",
    "kb_duplicated=kb_entities[kb_entities.duplicated(keep=False,subset=['name'])].sort_values(by=['name'])"
   ]
  },
  {
   "cell_type": "code",
   "execution_count": 25,
   "id": "c5dcf178-be55-4442-80af-762f663f7380",
   "metadata": {},
   "outputs": [
    {
     "data": {
      "text/plain": [
       "(428519, 12)"
      ]
     },
     "execution_count": 25,
     "metadata": {},
     "output_type": "execute_result"
    }
   ],
   "source": [
    "kb_entities.shape"
   ]
  },
  {
   "cell_type": "code",
   "execution_count": 26,
   "id": "c5a1f4bc-6468-4bf5-833f-84819da6a646",
   "metadata": {},
   "outputs": [],
   "source": [
    "# Standardise names \n",
    "kb_entities['name']=kb_entities['name'].str.title()"
   ]
  },
  {
   "cell_type": "code",
   "execution_count": 27,
   "id": "1a5d6c9e-9da5-4d47-a881-23638a51f07c",
   "metadata": {},
   "outputs": [],
   "source": [
    "# Ensure person name is included in all descriptions\n",
    "name_not_in_notes_indices=kb_entities[kb_entities.apply(lambda x: x['name'].lower() not in x['desc'].lower(),axis=1)].index.values\n",
    "naming_string = 'This person is called '\n",
    "kb_entities.loc[name_not_in_notes_indices,'desc'] = kb_entities.loc[name_not_in_notes_indices].apply(lambda x: naming_string + x['name'] + '. ' + x['desc'],axis=1)"
   ]
  },
  {
   "cell_type": "code",
   "execution_count": 28,
   "id": "e3d41a62-0870-4f13-88d8-c7987a69df1e",
   "metadata": {},
   "outputs": [],
   "source": [
    "# Ensure descriptions end in stop mark. \n",
    "kb_entities.loc[~kb_entities['desc'].isna(),'desc']=kb_entities.loc[~kb_entities['desc'].isna(),'desc'].apply(lambda x: x + '.' if x[-1]!='.' else x)"
   ]
  },
  {
   "cell_type": "code",
   "execution_count": 29,
   "id": "592dda25-5356-48d8-b112-147972cb06ba",
   "metadata": {},
   "outputs": [],
   "source": [
    "# Clean up data by removing multiple trailing stop marks\n",
    "multi_stopmarks_expr = re.compile('\\.\\s?\\.')\n",
    "\n",
    "for expr in [multi_stopmarks_expr]:\n",
    "    # Replace expression in string\n",
    "    kb_entities.loc[~kb_entities['desc'].isna(),'desc']=kb_entities.loc[~kb_entities['desc'].isna(),'desc'].apply(lambda x: ''.join([re.sub(expr, '. ', x)]))"
   ]
  },
  {
   "cell_type": "code",
   "execution_count": 30,
   "id": "ef8ac184-855f-4971-9bd3-790533ff2e16",
   "metadata": {},
   "outputs": [],
   "source": [
    "## Add KB URLs"
   ]
  },
  {
   "cell_type": "code",
   "execution_count": 31,
   "id": "2d649e0b-5525-4081-9d98-fd8f3efc8566",
   "metadata": {},
   "outputs": [],
   "source": [
    "def url_generator(id_,name, dataset):\n",
    "    if dataset=='open_sanctions':\n",
    "        return f'https://www.opensanctions.org/entities/{id_}'\n",
    "    if dataset=='lilsis':\n",
    "        return f'https://littlesis.org/person/{id_}-{name}'"
   ]
  },
  {
   "cell_type": "code",
   "execution_count": 32,
   "id": "a9e3b01c-bca8-4727-b366-17983526de6c",
   "metadata": {},
   "outputs": [],
   "source": [
    "kb_entities['kb_url']=kb_entities.apply(\n",
    "    lambda x: [url_generator(x['id'],x['name'], 'open_sanctions') \n",
    "                             if x['kb_origin']=='open_sanctions' \n",
    "                             else url_generator(x['id'],x['name'], 'lilsis') \n",
    "                                                  ][0],1\n",
    ")"
   ]
  },
  {
   "cell_type": "raw",
   "id": "d61b047e-68a3-4b1f-b890-a99d8e282227",
   "metadata": {},
   "source": [
    "kb_entities[kb_entities.duplicated(keep=False,subset=['name'])].sort_values(by=['name']).to_csv(f'duplicate_full_name_aliases.csv')"
   ]
  },
  {
   "cell_type": "code",
   "execution_count": 33,
   "id": "32306bb3-09c1-4d9a-abcc-d34d3ff674a2",
   "metadata": {},
   "outputs": [],
   "source": [
    "dataset='full'\n",
    "kb_iteration=dt.datetime.now().strftime('%Y_%m_%d')\n",
    "dataset=f'{dataset}_{kb_iteration}'\n",
    "kb_entities.to_csv(f'kb_entities_{dataset}.csv')"
   ]
  },
  {
   "cell_type": "code",
   "execution_count": null,
   "id": "095842c0-9ce7-4645-b98f-d658d59475a4",
   "metadata": {},
   "outputs": [],
   "source": []
  },
  {
   "cell_type": "code",
   "execution_count": 34,
   "id": "336b56c3-4ef9-492f-8ba0-6f5a424dbd51",
   "metadata": {},
   "outputs": [
    {
     "name": "stderr",
     "output_type": "stream",
     "text": [
      "/Users/luis_flores/.local/share/virtualenvs/ner-DhZLIlym/lib/python3.7/site-packages/IPython/core/interactiveshell.py:3553: DtypeWarning: Columns (2,7,11) have mixed types.Specify dtype option on import or set low_memory=False.\n",
      "  exec(code_obj, self.user_global_ns, self.user_ns)\n"
     ]
    }
   ],
   "source": [
    "data_26=pd.read_csv('kb_entities_full_2022_10_26.csv')\n",
    "data_07=pd.read_csv('kb_entities_full_2022_11_07.csv')"
   ]
  },
  {
   "cell_type": "code",
   "execution_count": 35,
   "id": "8f1ba298-34af-4edd-b53a-e8e6f9ed8d7d",
   "metadata": {},
   "outputs": [
    {
     "data": {
      "text/plain": [
       "(428519, 14)"
      ]
     },
     "execution_count": 35,
     "metadata": {},
     "output_type": "execute_result"
    }
   ],
   "source": [
    "data_26.shape"
   ]
  },
  {
   "cell_type": "code",
   "execution_count": 36,
   "id": "a339a337-a415-42e6-826a-7ee471ece333",
   "metadata": {},
   "outputs": [
    {
     "data": {
      "text/plain": [
       "(428519, 14)"
      ]
     },
     "execution_count": 36,
     "metadata": {},
     "output_type": "execute_result"
    }
   ],
   "source": [
    "data_07.shape"
   ]
  },
  {
   "cell_type": "code",
   "execution_count": null,
   "id": "0ecb085f-bf62-4ab0-b5ac-633b33bcb7e7",
   "metadata": {},
   "outputs": [],
   "source": []
  },
  {
   "cell_type": "code",
   "execution_count": 41,
   "id": "8987dbe2-395b-41ee-8029-0498659db8ad",
   "metadata": {},
   "outputs": [],
   "source": [
    "merge=data_26[['id','desc']].merge(data_07[['id','desc']],on=['id'],how='outer')"
   ]
  },
  {
   "cell_type": "code",
   "execution_count": 42,
   "id": "f2fe3321-1e4c-4759-8157-a8a08df71ba7",
   "metadata": {},
   "outputs": [
    {
     "data": {
      "text/html": [
       "<div>\n",
       "<style scoped>\n",
       "    .dataframe tbody tr th:only-of-type {\n",
       "        vertical-align: middle;\n",
       "    }\n",
       "\n",
       "    .dataframe tbody tr th {\n",
       "        vertical-align: top;\n",
       "    }\n",
       "\n",
       "    .dataframe thead th {\n",
       "        text-align: right;\n",
       "    }\n",
       "</style>\n",
       "<table border=\"1\" class=\"dataframe\">\n",
       "  <thead>\n",
       "    <tr style=\"text-align: right;\">\n",
       "      <th></th>\n",
       "      <th>id</th>\n",
       "      <th>desc_x</th>\n",
       "      <th>desc_y</th>\n",
       "    </tr>\n",
       "  </thead>\n",
       "  <tbody>\n",
       "    <tr>\n",
       "      <th>0</th>\n",
       "      <td>acf-00040861bc3f593000830d987d09967ef3503ef1</td>\n",
       "      <td>Kolyvanov Egor is a Russian propagandist: host of news program \"Segodnia\" (\"Today\") on NTV. This person has held these positions: Propagandists, Federal media employees. This person is a male. This person was born in 1980-11-15.</td>\n",
       "      <td>Kolyvanov Egor is a Russian propagandist: host of news program \"Segodnia\" (\"Today\") on NTV. This person has held these positions: Federal media employees, Propagandists. This person is a male. This person was born in 1980-11-15.</td>\n",
       "    </tr>\n",
       "    <tr>\n",
       "      <th>3</th>\n",
       "      <td>acf-002c208139012c8d93b6298358188d7cadafe648</td>\n",
       "      <td>Goreslavsky Alexey Sergeyevich is a Russian journalist and media manager. Helped destroy independent media in Russia when he was appointed the new editor-in-chief of the previously popular independent Lenta.ru in 2014 . Russian propagandist: journalist and media manager; works at the state-owned Institute for the Development of Internet that focuses on creating propoganda for the youth of Russia Head of the Internet Development Institute. Responsible for organizing censorship in the Russian segment of the Internet. This person has held these positions: Propagandists, Investigations subjects, Internet censors, Federal media employees, Individuals involved in corruption, Organizers of political repressions. This person is a male. This person was born in 1977-07-13.</td>\n",
       "      <td>Goreslavsky Alexey Sergeyevich is a Russian journalist and media manager. Helped destroy independent media in Russia when he was appointed the new editor-in-chief of the previously popular independent Lenta.ru in 2014 . Russian propagandist: journalist and media manager; works at the state-owned Institute for the Development of Internet that focuses on creating propoganda for the youth of Russia Head of the Internet Development Institute. Responsible for organizing censorship in the Russian segment of the Internet. This person has held these positions: Individuals involved in corruption, Organizers of political repressions, Federal media employees, Investigations subjects, Internet censors, Propagandists. This person is a male. This person was born in 1977-07-13.</td>\n",
       "    </tr>\n",
       "    <tr>\n",
       "      <th>4</th>\n",
       "      <td>acf-002cc8fdf8fe41185091a7cb6c598663e7a22eb5</td>\n",
       "      <td>Samoilova Natalya Vladimirovna is a Russian singer, composer. Supported the actions of the Russian military during the invasion of Ukraine.  This person has held these positions: Celebrities influencers and bloggers, Sellout opinion leaders. This person is a female. This person was born in 1987-06-24.</td>\n",
       "      <td>Samoilova Natalya Vladimirovna is a Russian singer, composer. Supported the actions of the Russian military during the invasion of Ukraine.  This person has held these positions: Sellout opinion leaders, Celebrities influencers and bloggers. This person is a female. This person was born in 1987-06-24.</td>\n",
       "    </tr>\n",
       "    <tr>\n",
       "      <th>12</th>\n",
       "      <td>acf-00776ee02694fb36ef3d6f42fa95ddcdab7f76c8</td>\n",
       "      <td>Vasilev Vladimir Lvovich is a Director and Editor-in-Chief of the newspaper \"Sovetskaia Chuvashiia\" (owned by the Government of the Chuvash Republic). This person has held these positions: Propagandists, Regional press. This person is a male.</td>\n",
       "      <td>Vasilev Vladimir Lvovich is a Director and Editor-in-Chief of the newspaper \"Sovetskaia Chuvashiia\" (owned by the Government of the Chuvash Republic). This person has held these positions: Regional press, Propagandists. This person is a male.</td>\n",
       "    </tr>\n",
       "    <tr>\n",
       "      <th>13</th>\n",
       "      <td>acf-008076c876c08dd7c54a05cbec8f82eeaa0af206</td>\n",
       "      <td>Semchenkov Iurii Evgenevich is a Editor-in-Chief of the newspaper \"Smolenskaia gazeta\" (owned by the Government of the Smolensk region). This person has held these positions: Propagandists, Regional press. This person is a male.</td>\n",
       "      <td>Semchenkov Iurii Evgenevich is a Editor-in-Chief of the newspaper \"Smolenskaia gazeta\" (owned by the Government of the Smolensk region). This person has held these positions: Regional press, Propagandists. This person is a male.</td>\n",
       "    </tr>\n",
       "    <tr>\n",
       "      <th>...</th>\n",
       "      <td>...</td>\n",
       "      <td>...</td>\n",
       "      <td>...</td>\n",
       "    </tr>\n",
       "    <tr>\n",
       "      <th>428463</th>\n",
       "      <td>Q98819671</td>\n",
       "      <td>Vadim Dmitrievich Ipatov is a Deputy Chairperson, Central Electoral Commission (CEC). As a Member of the CEC, he was responsible for the violations of international electoral standards in the Presidential elections on 19 Dec 2010 and in the Parliamentary elections of September 2012. Travel ban according to article 3 paragraph 1 and financial sanctions according to article 1 do not apply until 15 March 2016. En tant que vice-président de la CEC, il est responsable des fautes commises par la CEC au cours du processus électoral présidentiel de 2020, de la non-conformité de ce processus avec les règles internationales élémentaires d’équité et de transparence, et de la falsification par la CEC des résultats du scrutin. La CEC et ses dirigeants ont notamment organisé le rejet de certains candidats de l’opposition pour des motifs fallacieux, ainsi que la mise en place de restrictions disproportionnées pour les observateurs dans les bureaux de vote. La CEC a également veillé à ce que la composition des commissions électorales sous sa supervision soit déséquilibrée.  This person has held these positions: Deputy Chairman of the Central Elec­toral Commission CEC, Vice-président de la commission électorale centrale CEC, Центральная комиссия Республики Беларусь по выборам член комиссии заместитель председателя, First Deputy Head of the Chief State legal department of the administration of the President of Belarus, Central Election Commission of the Republic of Belarus member of the commission Vice Chairperson. This person is a male. This person was born in 1964-10-30. This person belongs to these countries: Belarus,Ukraine. Associated with Politician.  Associated with Sanctioned entity. This person was born in Коломыя, Ивано-Франковская область, Украина, Kolomyia, Ivano-Frankivsk Region, Ukraine, Kolomyia, Kolomyya, Ukraine, Kolomyia, oblast d'Ivano-Frankivsk. This person has these nationalities: Belarus.</td>\n",
       "      <td>Vadim Dmitrievich Ipatov is a Deputy Chairperson, Central Electoral Commission (CEC). As a Member of the CEC, he was responsible for the violations of international electoral standards in the Presidential elections on 19 Dec 2010 and in the Parliamentary elections of September 2012. Travel ban according to article 3 paragraph 1 and financial sanctions according to article 1 do not apply until 15 March 2016. En tant que vice-président de la CEC, il est responsable des fautes commises par la CEC au cours du processus électoral présidentiel de 2020, de la non-conformité de ce processus avec les règles internationales élémentaires d’équité et de transparence, et de la falsification par la CEC des résultats du scrutin. La CEC et ses dirigeants ont notamment organisé le rejet de certains candidats de l’opposition pour des motifs fallacieux, ainsi que la mise en place de restrictions disproportionnées pour les observateurs dans les bureaux de vote. La CEC a également veillé à ce que la composition des commissions électorales sous sa supervision soit déséquilibrée.  This person has held these positions: Deputy Chairman of the Central Elec­toral Commission CEC, Центральная комиссия Республики Беларусь по выборам член комиссии заместитель председателя, Vice-président de la commission électorale centrale CEC, First Deputy Head of the Chief State legal department of the administration of the President of Belarus, Central Election Commission of the Republic of Belarus member of the commission Vice Chairperson. This person is a male. This person was born in 1964-10-30. This person belongs to these countries: Belarus,Ukraine. Associated with Politician.  Associated with Sanctioned entity. This person was born in Коломыя, Ивано-Франковская область, Украина, Kolomyia, Ivano-Frankivsk Region, Ukraine, Kolomyia, Kolomyya, Ukraine, Kolomyia, oblast d'Ivano-Frankivsk. This person has these nationalities: Belarus.</td>\n",
       "    </tr>\n",
       "    <tr>\n",
       "      <th>428467</th>\n",
       "      <td>Q7913689</td>\n",
       "      <td>Van Taylor is a Businessman and politician. This person has held these positions: United States representative 2021-, United States representative  , member of the State Senate of Texas, House of Representatives member 2019-, member of the Texas House of Representatives. This person is a male. This person was born in 1972-08-01. This person belongs to these countries: United States. Associated with Politician. This person was born in Dallas. This person has these nationalities: United States.</td>\n",
       "      <td>Van Taylor is a Businessman and politician. This person has held these positions: United States representative 2021-, member of the Texas House of Representatives, House of Representatives member 2019-, member of the State Senate of Texas, United States representative  . This person is a male. This person was born in 1972-08-01. This person belongs to these countries: United States. Associated with Politician. This person was born in Dallas. This person has these nationalities: United States.</td>\n",
       "    </tr>\n",
       "    <tr>\n",
       "      <th>428474</th>\n",
       "      <td>Q470975</td>\n",
       "      <td>Vladimir Lisin is a Russian businessman It is in first place in the ranking of Russian billionaires according to Forbes. Performs commercial activities in sectors of the economy that provide a high revenue part of the budget of the Russian Federation, which is responsible for the war in Ukraine, that is, it is a significant source of income for waging war. Has close ties with the regime, which prepared and is being conducted contrary to the statutory documents of the United Nations Nations war of conquest against Ukraine, in which crimes against humanity are committed and the genocide of the Ukrainian people takes place. Thus, the subject is responsible for material or financial support for actions that undermine or threaten the territorial integrity, sovereignty and independence of Ukraine. Знаходиться на першому місці у рейтингу російських мільярдерів за версією Форбс. Здійснює комерційну діяльність у секторах економіки, що забезпечують високу доходну частину бюджету Російської Федерації, яка відповідає за війну в Україні, тобто є значним джерелом доходів для ведення війни. Має тісні зв'язки з режимом, яким підготовлено та ведеться всупереч статутним документам Організації Об'єднаних Націй загарбницька війна проти України, в рамках якої скоюються злочини проти людяності та відбувається геноцид українського народу. Таким чином, суб'єкт несе відповідальність за матеріальну чи фінансову підтримку дій, що підривають або загрожують територіальній цілісності, суверенітету та незалежності України. Находится на первом месте в рейтинге российских миллиардеров по версии Форбс. Совершает коммерческую деятельность в секторах экономики,  обеспечивающих высокую доходную часть бюджета Российской Федерации, которая несет ответственность за войну в Украине, то есть является значительным источником доходов для ведения войны. Имеет тесные связи с режимом, которым подготовлена и ведется вопреки уставным документам Организации Объединенных Наций захватническая война против Украины, в рамках которой совершаются преступления против человечности и происходит геноцид украинского народа. Таким образом, субъект несет ответственность за материальную или финансовую поддержку действий, которые подрывают или угрожают территориальной целостности, суверенитету и независимости Украины. Russian oligarch. Amid the war, he remains involved in the system of Russian political corruption, in which capital is an instrument for acquiring political influence, and political influence is a condition for preserving capital, at the highest level. Chairman and majority shareholder of Novolipetsk Steel (NLMK Group). This person has held these positions: president 2018-, president  , Oligarchs, Председатель совета директоров Новолипецкого металлургического комбината предприниматель миллиардер 1 место в Форбс РФ 2022 основными активами которого являются Новолипецкий металлургический комбинат Первая грузовая компания Первая Портовая Компания Судоходная компания «Волжское пароходство», Голова ради директорів Новолипецького металургійного комбінату підприємець мільярдер 1 місце у Форбс РФ 2022 основними активами якого є Новолипецький металургійний комбінат Перша вантажна компанія Перша Портова Компанія Судноплавна компанія «Волзьке пароплавство», Chairman of the Board of Directors of Novolipetsk Iron and Steel Works entrepreneur billionaire 1st place in Forbes RF 2022 whose main assets are Novolipetsk Iron and Steel Works First Freight Company First Port Company Shipping Company \"Volga Shipping Company\", Individuals involved in corruption, chief executive officer. This person is a male. This person was born in 1956-05-07. This person belongs to these countries: Russian Federation. Associated with Oligarch.  Associated with Sanctioned entity. This person was born in Ivanovo, Russia, Иваново, Ивановская обл. , РСФСР, СССР, Ivanovo, Іванове, Іванівська обл. , РРФСР, СРСР, Ivanovo, Ivanovo region, RSFSR, USSR. This person has these nationalities: Russian Federation.</td>\n",
       "      <td>Vladimir Lisin is a Russian businessman It is in first place in the ranking of Russian billionaires according to Forbes. Performs commercial activities in sectors of the economy that provide a high revenue part of the budget of the Russian Federation, which is responsible for the war in Ukraine, that is, it is a significant source of income for waging war. Has close ties with the regime, which prepared and is being conducted contrary to the statutory documents of the United Nations Nations war of conquest against Ukraine, in which crimes against humanity are committed and the genocide of the Ukrainian people takes place. Thus, the subject is responsible for material or financial support for actions that undermine or threaten the territorial integrity, sovereignty and independence of Ukraine. Знаходиться на першому місці у рейтингу російських мільярдерів за версією Форбс. Здійснює комерційну діяльність у секторах економіки, що забезпечують високу доходну частину бюджету Російської Федерації, яка відповідає за війну в Україні, тобто є значним джерелом доходів для ведення війни. Має тісні зв'язки з режимом, яким підготовлено та ведеться всупереч статутним документам Організації Об'єднаних Націй загарбницька війна проти України, в рамках якої скоюються злочини проти людяності та відбувається геноцид українського народу. Таким чином, суб'єкт несе відповідальність за матеріальну чи фінансову підтримку дій, що підривають або загрожують територіальній цілісності, суверенітету та незалежності України. Находится на первом месте в рейтинге российских миллиардеров по версии Форбс. Совершает коммерческую деятельность в секторах экономики,  обеспечивающих высокую доходную часть бюджета Российской Федерации, которая несет ответственность за войну в Украине, то есть является значительным источником доходов для ведения войны. Имеет тесные связи с режимом, которым подготовлена и ведется вопреки уставным документам Организации Объединенных Наций захватническая война против Украины, в рамках которой совершаются преступления против человечности и происходит геноцид украинского народа. Таким образом, субъект несет ответственность за материальную или финансовую поддержку действий, которые подрывают или угрожают территориальной целостности, суверенитету и независимости Украины. Russian oligarch. Amid the war, he remains involved in the system of Russian political corruption, in which capital is an instrument for acquiring political influence, and political influence is a condition for preserving capital, at the highest level. Chairman and majority shareholder of Novolipetsk Steel (NLMK Group). This person has held these positions: Individuals involved in corruption, president  , Chairman of the Board of Directors of Novolipetsk Iron and Steel Works entrepreneur billionaire 1st place in Forbes RF 2022 whose main assets are Novolipetsk Iron and Steel Works First Freight Company First Port Company Shipping Company \"Volga Shipping Company\", Председатель совета директоров Новолипецкого металлургического комбината предприниматель миллиардер 1 место в Форбс РФ 2022 основными активами которого являются Новолипецкий металлургический комбинат Первая грузовая компания Первая Портовая Компания Судоходная компания «Волжское пароходство», Голова ради директорів Новолипецького металургійного комбінату підприємець мільярдер 1 місце у Форбс РФ 2022 основними активами якого є Новолипецький металургійний комбінат Перша вантажна компанія Перша Портова Компанія Судноплавна компанія «Волзьке пароплавство», Oligarchs, chief executive officer, president 2018-. This person is a male. This person was born in 1956-05-07. This person belongs to these countries: Russian Federation. Associated with Oligarch.  Associated with Sanctioned entity. This person was born in Ivanovo, Russia, Иваново, Ивановская обл. , РСФСР, СССР, Ivanovo, Іванове, Іванівська обл. , РРФСР, СРСР, Ivanovo, Ivanovo region, RSFSR, USSR. This person has these nationalities: Russian Federation.</td>\n",
       "    </tr>\n",
       "    <tr>\n",
       "      <th>428489</th>\n",
       "      <td>Q14520235</td>\n",
       "      <td>Wopke Hoekstra is a Dutch politician. This person has held these positions: Minister of Finance  , member of the Senate of the Netherlands  , Minister of Foreign Affairs 2022-, Deputy Prime Minister of the Netherlands 2022-, member of the House of Representatives of the Netherlands  . This person is a male. This person was born in 1975-09-30. This person belongs to these countries: Netherlands. Associated with Politician. This person was born in Ede. This person has these nationalities: Netherlands.</td>\n",
       "      <td>Wopke Hoekstra is a Dutch politician. This person has held these positions: Minister of Finance  , member of the Senate of the Netherlands  , Minister of Foreign Affairs 2022-, member of the House of Representatives of the Netherlands  , Deputy Prime Minister of the Netherlands 2022-. This person is a male. This person was born in 1975-09-30. This person belongs to these countries: Netherlands. Associated with Politician. This person was born in Ede. This person has these nationalities: Netherlands.</td>\n",
       "    </tr>\n",
       "    <tr>\n",
       "      <th>428503</th>\n",
       "      <td>Q44274</td>\n",
       "      <td>Jörg Haider is a Austrian politician (1950-2008). This person has held these positions: chairman of the Freedom Party of Austria  , BZÖ Chairman  , member of the National Council of Austria  , governor of Carinthia  . This person is a male. This person was born in 1950-01-26. This person belongs to these countries: Austria. Associated with Politician. This person was born in Bad Goisern. This person has these nationalities: Austria. This person died in 2008-10-11.</td>\n",
       "      <td>Jörg Haider is a Austrian politician (1950-2008). This person has held these positions: member of the National Council of Austria  , BZÖ Chairman  , chairman of the Freedom Party of Austria  , governor of Carinthia  . This person is a male. This person was born in 1950-01-26. This person belongs to these countries: Austria. Associated with Politician. This person was born in Bad Goisern. This person has these nationalities: Austria. This person died in 2008-10-11.</td>\n",
       "    </tr>\n",
       "  </tbody>\n",
       "</table>\n",
       "<p>59391 rows × 3 columns</p>\n",
       "</div>"
      ],
      "text/plain": [
       "                                                  id  \\\n",
       "0       acf-00040861bc3f593000830d987d09967ef3503ef1   \n",
       "3       acf-002c208139012c8d93b6298358188d7cadafe648   \n",
       "4       acf-002cc8fdf8fe41185091a7cb6c598663e7a22eb5   \n",
       "12      acf-00776ee02694fb36ef3d6f42fa95ddcdab7f76c8   \n",
       "13      acf-008076c876c08dd7c54a05cbec8f82eeaa0af206   \n",
       "...                                              ...   \n",
       "428463                                     Q98819671   \n",
       "428467                                      Q7913689   \n",
       "428474                                       Q470975   \n",
       "428489                                     Q14520235   \n",
       "428503                                        Q44274   \n",
       "\n",
       "                                                                                                                                                                                                                                                                                                                                                                                                                                                                                                                                                                                                                                                                                                                                                                                                                                                                                                                                                                                                                                                                                                                                                                                                                                                                                                                                                                                                                                                                                                                                                                                                                                                                                                                                                                                                                                                                                                                                                                                                                                                                                                                                                                                                                                                                                                                                                                                                                                                                                                                                                                                                                                                                                                                                                                                                                                                                                                                                                                                                                                                                                                                                                                                                                                                                                                                                                                                                                                                                                                                                                                                                                                                                                                                                                                                                                                                                                                                                                                                                                                                                                                                                                  desc_x  \\\n",
       "0                                                                                                                                                                                                                                                                                                                                                                                                                                                                                                                                                                                                                                                                                                                                                                                                                                                                                                                                                                                                                                                                                                                                                                                                                                                                                                                                                                                                                                                                                                                                                                                                                                                                                                                                                                                                                                                                                                                                                                                                                                                                                                                                                                                                                                                                                                                                                                                                                                                                                                                                                                                                                                                                                                                                                                                                                                                                                                                                                                                                                                                                                                                                                                                                                                                                                                                                                                                                                                                                                                                                                                                                                                                                                                                                                                                                                                                                                                                   Kolyvanov Egor is a Russian propagandist: host of news program \"Segodnia\" (\"Today\") on NTV. This person has held these positions: Propagandists, Federal media employees. This person is a male. This person was born in 1980-11-15.   \n",
       "3                                                                                                                                                                                                                                                                                                                                                                                                                                                                                                                                                                                                                                                                                                                                                                                                                                                                                                                                                                                                                                                                                                                                                                                                                                                                                                                                                                                                                                                                                                                                                                                                                                                                                                                                                                                                                                                                                                                                                                                                                                                                                                                                                                                                                                                                                                                                                                                                                                                                                                                                                                                                                                                                                                                                                                                                                                                                                                                                                                                                                                                                                                                                                                                                                                                                                                                                                  Goreslavsky Alexey Sergeyevich is a Russian journalist and media manager. Helped destroy independent media in Russia when he was appointed the new editor-in-chief of the previously popular independent Lenta.ru in 2014 . Russian propagandist: journalist and media manager; works at the state-owned Institute for the Development of Internet that focuses on creating propoganda for the youth of Russia Head of the Internet Development Institute. Responsible for organizing censorship in the Russian segment of the Internet. This person has held these positions: Propagandists, Investigations subjects, Internet censors, Federal media employees, Individuals involved in corruption, Organizers of political repressions. This person is a male. This person was born in 1977-07-13.   \n",
       "4                                                                                                                                                                                                                                                                                                                                                                                                                                                                                                                                                                                                                                                                                                                                                                                                                                                                                                                                                                                                                                                                                                                                                                                                                                                                                                                                                                                                                                                                                                                                                                                                                                                                                                                                                                                                                                                                                                                                                                                                                                                                                                                                                                                                                                                                                                                                                                                                                                                                                                                                                                                                                                                                                                                                                                                                                                                                                                                                                                                                                                                                                                                                                                                                                                                                                                                                                                                                                                                                                                                                                                                                                                                                                                                                                                                                                                         Samoilova Natalya Vladimirovna is a Russian singer, composer. Supported the actions of the Russian military during the invasion of Ukraine.  This person has held these positions: Celebrities influencers and bloggers, Sellout opinion leaders. This person is a female. This person was born in 1987-06-24.   \n",
       "12                                                                                                                                                                                                                                                                                                                                                                                                                                                                                                                                                                                                                                                                                                                                                                                                                                                                                                                                                                                                                                                                                                                                                                                                                                                                                                                                                                                                                                                                                                                                                                                                                                                                                                                                                                                                                                                                                                                                                                                                                                                                                                                                                                                                                                                                                                                                                                                                                                                                                                                                                                                                                                                                                                                                                                                                                                                                                                                                                                                                                                                                                                                                                                                                                                                                                                                                                                                                                                                                                                                                                                                                                                                                                                                                                                                                                                                                                                    Vasilev Vladimir Lvovich is a Director and Editor-in-Chief of the newspaper \"Sovetskaia Chuvashiia\" (owned by the Government of the Chuvash Republic). This person has held these positions: Propagandists, Regional press. This person is a male.   \n",
       "13                                                                                                                                                                                                                                                                                                                                                                                                                                                                                                                                                                                                                                                                                                                                                                                                                                                                                                                                                                                                                                                                                                                                                                                                                                                                                                                                                                                                                                                                                                                                                                                                                                                                                                                                                                                                                                                                                                                                                                                                                                                                                                                                                                                                                                                                                                                                                                                                                                                                                                                                                                                                                                                                                                                                                                                                                                                                                                                                                                                                                                                                                                                                                                                                                                                                                                                                                                                                                                                                                                                                                                                                                                                                                                                                                                                                                                                                                                                  Semchenkov Iurii Evgenevich is a Editor-in-Chief of the newspaper \"Smolenskaia gazeta\" (owned by the Government of the Smolensk region). This person has held these positions: Propagandists, Regional press. This person is a male.   \n",
       "...                                                                                                                                                                                                                                                                                                                                                                                                                                                                                                                                                                                                                                                                                                                                                                                                                                                                                                                                                                                                                                                                                                                                                                                                                                                                                                                                                                                                                                                                                                                                                                                                                                                                                                                                                                                                                                                                                                                                                                                                                                                                                                                                                                                                                                                                                                                                                                                                                                                                                                                                                                                                                                                                                                                                                                                                                                                                                                                                                                                                                                                                                                                                                                                                                                                                                                                                                                                                                                                                                                                                                                                                                                                                                                                                                                                                                                                                                                                                                                                                                                                                                                                                                  ...   \n",
       "428463                                                                                                                                                                                                                                                                                                                                                                                                                                                                                                                                                                                                                                                                                                                                                                                                                                                                                                                                                                                                                                                                                                                                                                                                                                                                                                                                                                                                                                                                                                                                                                                                                                                                                                                                                                                                                                                                                                                                                                                                                                                                                                                                             Vadim Dmitrievich Ipatov is a Deputy Chairperson, Central Electoral Commission (CEC). As a Member of the CEC, he was responsible for the violations of international electoral standards in the Presidential elections on 19 Dec 2010 and in the Parliamentary elections of September 2012. Travel ban according to article 3 paragraph 1 and financial sanctions according to article 1 do not apply until 15 March 2016. En tant que vice-président de la CEC, il est responsable des fautes commises par la CEC au cours du processus électoral présidentiel de 2020, de la non-conformité de ce processus avec les règles internationales élémentaires d’équité et de transparence, et de la falsification par la CEC des résultats du scrutin. La CEC et ses dirigeants ont notamment organisé le rejet de certains candidats de l’opposition pour des motifs fallacieux, ainsi que la mise en place de restrictions disproportionnées pour les observateurs dans les bureaux de vote. La CEC a également veillé à ce que la composition des commissions électorales sous sa supervision soit déséquilibrée.  This person has held these positions: Deputy Chairman of the Central Elec­toral Commission CEC, Vice-président de la commission électorale centrale CEC, Центральная комиссия Республики Беларусь по выборам член комиссии заместитель председателя, First Deputy Head of the Chief State legal department of the administration of the President of Belarus, Central Election Commission of the Republic of Belarus member of the commission Vice Chairperson. This person is a male. This person was born in 1964-10-30. This person belongs to these countries: Belarus,Ukraine. Associated with Politician.  Associated with Sanctioned entity. This person was born in Коломыя, Ивано-Франковская область, Украина, Kolomyia, Ivano-Frankivsk Region, Ukraine, Kolomyia, Kolomyya, Ukraine, Kolomyia, oblast d'Ivano-Frankivsk. This person has these nationalities: Belarus.   \n",
       "428467                                                                                                                                                                                                                                                                                                                                                                                                                                                                                                                                                                                                                                                                                                                                                                                                                                                                                                                                                                                                                                                                                                                                                                                                                                                                                                                                                                                                                                                                                                                                                                                                                                                                                                                                                                                                                                                                                                                                                                                                                                                                                                                                                                                                                                                                                                                                                                                                                                                                                                                                                                                                                                                                                                                                                                                                                                                                                                                                                                                                                                                                                                                                                                                                                                                                                                                                                                                                                                                                                                                                                                                                                                 Van Taylor is a Businessman and politician. This person has held these positions: United States representative 2021-, United States representative  , member of the State Senate of Texas, House of Representatives member 2019-, member of the Texas House of Representatives. This person is a male. This person was born in 1972-08-01. This person belongs to these countries: United States. Associated with Politician. This person was born in Dallas. This person has these nationalities: United States.   \n",
       "428474  Vladimir Lisin is a Russian businessman It is in first place in the ranking of Russian billionaires according to Forbes. Performs commercial activities in sectors of the economy that provide a high revenue part of the budget of the Russian Federation, which is responsible for the war in Ukraine, that is, it is a significant source of income for waging war. Has close ties with the regime, which prepared and is being conducted contrary to the statutory documents of the United Nations Nations war of conquest against Ukraine, in which crimes against humanity are committed and the genocide of the Ukrainian people takes place. Thus, the subject is responsible for material or financial support for actions that undermine or threaten the territorial integrity, sovereignty and independence of Ukraine. Знаходиться на першому місці у рейтингу російських мільярдерів за версією Форбс. Здійснює комерційну діяльність у секторах економіки, що забезпечують високу доходну частину бюджету Російської Федерації, яка відповідає за війну в Україні, тобто є значним джерелом доходів для ведення війни. Має тісні зв'язки з режимом, яким підготовлено та ведеться всупереч статутним документам Організації Об'єднаних Націй загарбницька війна проти України, в рамках якої скоюються злочини проти людяності та відбувається геноцид українського народу. Таким чином, суб'єкт несе відповідальність за матеріальну чи фінансову підтримку дій, що підривають або загрожують територіальній цілісності, суверенітету та незалежності України. Находится на первом месте в рейтинге российских миллиардеров по версии Форбс. Совершает коммерческую деятельность в секторах экономики,  обеспечивающих высокую доходную часть бюджета Российской Федерации, которая несет ответственность за войну в Украине, то есть является значительным источником доходов для ведения войны. Имеет тесные связи с режимом, которым подготовлена и ведется вопреки уставным документам Организации Объединенных Наций захватническая война против Украины, в рамках которой совершаются преступления против человечности и происходит геноцид украинского народа. Таким образом, субъект несет ответственность за материальную или финансовую поддержку действий, которые подрывают или угрожают территориальной целостности, суверенитету и независимости Украины. Russian oligarch. Amid the war, he remains involved in the system of Russian political corruption, in which capital is an instrument for acquiring political influence, and political influence is a condition for preserving capital, at the highest level. Chairman and majority shareholder of Novolipetsk Steel (NLMK Group). This person has held these positions: president 2018-, president  , Oligarchs, Председатель совета директоров Новолипецкого металлургического комбината предприниматель миллиардер 1 место в Форбс РФ 2022 основными активами которого являются Новолипецкий металлургический комбинат Первая грузовая компания Первая Портовая Компания Судоходная компания «Волжское пароходство», Голова ради директорів Новолипецького металургійного комбінату підприємець мільярдер 1 місце у Форбс РФ 2022 основними активами якого є Новолипецький металургійний комбінат Перша вантажна компанія Перша Портова Компанія Судноплавна компанія «Волзьке пароплавство», Chairman of the Board of Directors of Novolipetsk Iron and Steel Works entrepreneur billionaire 1st place in Forbes RF 2022 whose main assets are Novolipetsk Iron and Steel Works First Freight Company First Port Company Shipping Company \"Volga Shipping Company\", Individuals involved in corruption, chief executive officer. This person is a male. This person was born in 1956-05-07. This person belongs to these countries: Russian Federation. Associated with Oligarch.  Associated with Sanctioned entity. This person was born in Ivanovo, Russia, Иваново, Ивановская обл. , РСФСР, СССР, Ivanovo, Іванове, Іванівська обл. , РРФСР, СРСР, Ivanovo, Ivanovo region, RSFSR, USSR. This person has these nationalities: Russian Federation.   \n",
       "428489                                                                                                                                                                                                                                                                                                                                                                                                                                                                                                                                                                                                                                                                                                                                                                                                                                                                                                                                                                                                                                                                                                                                                                                                                                                                                                                                                                                                                                                                                                                                                                                                                                                                                                                                                                                                                                                                                                                                                                                                                                                                                                                                                                                                                                                                                                                                                                                                                                                                                                                                                                                                                                                                                                                                                                                                                                                                                                                                                                                                                                                                                                                                                                                                                                                                                                                                                                                                                                                                                                                                                                                                                          Wopke Hoekstra is a Dutch politician. This person has held these positions: Minister of Finance  , member of the Senate of the Netherlands  , Minister of Foreign Affairs 2022-, Deputy Prime Minister of the Netherlands 2022-, member of the House of Representatives of the Netherlands  . This person is a male. This person was born in 1975-09-30. This person belongs to these countries: Netherlands. Associated with Politician. This person was born in Ede. This person has these nationalities: Netherlands.   \n",
       "428503                                                                                                                                                                                                                                                                                                                                                                                                                                                                                                                                                                                                                                                                                                                                                                                                                                                                                                                                                                                                                                                                                                                                                                                                                                                                                                                                                                                                                                                                                                                                                                                                                                                                                                                                                                                                                                                                                                                                                                                                                                                                                                                                                                                                                                                                                                                                                                                                                                                                                                                                                                                                                                                                                                                                                                                                                                                                                                                                                                                                                                                                                                                                                                                                                                                                                                                                                                                                                                                                                                                                                                                                                                                              Jörg Haider is a Austrian politician (1950-2008). This person has held these positions: chairman of the Freedom Party of Austria  , BZÖ Chairman  , member of the National Council of Austria  , governor of Carinthia  . This person is a male. This person was born in 1950-01-26. This person belongs to these countries: Austria. Associated with Politician. This person was born in Bad Goisern. This person has these nationalities: Austria. This person died in 2008-10-11.   \n",
       "\n",
       "                                                                                                                                                                                                                                                                                                                                                                                                                                                                                                                                                                                                                                                                                                                                                                                                                                                                                                                                                                                                                                                                                                                                                                                                                                                                                                                                                                                                                                                                                                                                                                                                                                                                                                                                                                                                                                                                                                                                                                                                                                                                                                                                                                                                                                                                                                                                                                                                                                                                                                                                                                                                                                                                                                                                                                                                                                                                                                                                                                                                                                                                                                                                                                                                                                                                                                                                                                                                                                                                                                                                                                                                                                                                                                                                                                                                                                                                                                                                                                                                                                                                                                                                                  desc_y  \n",
       "0                                                                                                                                                                                                                                                                                                                                                                                                                                                                                                                                                                                                                                                                                                                                                                                                                                                                                                                                                                                                                                                                                                                                                                                                                                                                                                                                                                                                                                                                                                                                                                                                                                                                                                                                                                                                                                                                                                                                                                                                                                                                                                                                                                                                                                                                                                                                                                                                                                                                                                                                                                                                                                                                                                                                                                                                                                                                                                                                                                                                                                                                                                                                                                                                                                                                                                                                                                                                                                                                                                                                                                                                                                                                                                                                                                                                                                                                                                                   Kolyvanov Egor is a Russian propagandist: host of news program \"Segodnia\" (\"Today\") on NTV. This person has held these positions: Federal media employees, Propagandists. This person is a male. This person was born in 1980-11-15.  \n",
       "3                                                                                                                                                                                                                                                                                                                                                                                                                                                                                                                                                                                                                                                                                                                                                                                                                                                                                                                                                                                                                                                                                                                                                                                                                                                                                                                                                                                                                                                                                                                                                                                                                                                                                                                                                                                                                                                                                                                                                                                                                                                                                                                                                                                                                                                                                                                                                                                                                                                                                                                                                                                                                                                                                                                                                                                                                                                                                                                                                                                                                                                                                                                                                                                                                                                                                                                                                  Goreslavsky Alexey Sergeyevich is a Russian journalist and media manager. Helped destroy independent media in Russia when he was appointed the new editor-in-chief of the previously popular independent Lenta.ru in 2014 . Russian propagandist: journalist and media manager; works at the state-owned Institute for the Development of Internet that focuses on creating propoganda for the youth of Russia Head of the Internet Development Institute. Responsible for organizing censorship in the Russian segment of the Internet. This person has held these positions: Individuals involved in corruption, Organizers of political repressions, Federal media employees, Investigations subjects, Internet censors, Propagandists. This person is a male. This person was born in 1977-07-13.  \n",
       "4                                                                                                                                                                                                                                                                                                                                                                                                                                                                                                                                                                                                                                                                                                                                                                                                                                                                                                                                                                                                                                                                                                                                                                                                                                                                                                                                                                                                                                                                                                                                                                                                                                                                                                                                                                                                                                                                                                                                                                                                                                                                                                                                                                                                                                                                                                                                                                                                                                                                                                                                                                                                                                                                                                                                                                                                                                                                                                                                                                                                                                                                                                                                                                                                                                                                                                                                                                                                                                                                                                                                                                                                                                                                                                                                                                                                                                         Samoilova Natalya Vladimirovna is a Russian singer, composer. Supported the actions of the Russian military during the invasion of Ukraine.  This person has held these positions: Sellout opinion leaders, Celebrities influencers and bloggers. This person is a female. This person was born in 1987-06-24.  \n",
       "12                                                                                                                                                                                                                                                                                                                                                                                                                                                                                                                                                                                                                                                                                                                                                                                                                                                                                                                                                                                                                                                                                                                                                                                                                                                                                                                                                                                                                                                                                                                                                                                                                                                                                                                                                                                                                                                                                                                                                                                                                                                                                                                                                                                                                                                                                                                                                                                                                                                                                                                                                                                                                                                                                                                                                                                                                                                                                                                                                                                                                                                                                                                                                                                                                                                                                                                                                                                                                                                                                                                                                                                                                                                                                                                                                                                                                                                                                                    Vasilev Vladimir Lvovich is a Director and Editor-in-Chief of the newspaper \"Sovetskaia Chuvashiia\" (owned by the Government of the Chuvash Republic). This person has held these positions: Regional press, Propagandists. This person is a male.  \n",
       "13                                                                                                                                                                                                                                                                                                                                                                                                                                                                                                                                                                                                                                                                                                                                                                                                                                                                                                                                                                                                                                                                                                                                                                                                                                                                                                                                                                                                                                                                                                                                                                                                                                                                                                                                                                                                                                                                                                                                                                                                                                                                                                                                                                                                                                                                                                                                                                                                                                                                                                                                                                                                                                                                                                                                                                                                                                                                                                                                                                                                                                                                                                                                                                                                                                                                                                                                                                                                                                                                                                                                                                                                                                                                                                                                                                                                                                                                                                                  Semchenkov Iurii Evgenevich is a Editor-in-Chief of the newspaper \"Smolenskaia gazeta\" (owned by the Government of the Smolensk region). This person has held these positions: Regional press, Propagandists. This person is a male.  \n",
       "...                                                                                                                                                                                                                                                                                                                                                                                                                                                                                                                                                                                                                                                                                                                                                                                                                                                                                                                                                                                                                                                                                                                                                                                                                                                                                                                                                                                                                                                                                                                                                                                                                                                                                                                                                                                                                                                                                                                                                                                                                                                                                                                                                                                                                                                                                                                                                                                                                                                                                                                                                                                                                                                                                                                                                                                                                                                                                                                                                                                                                                                                                                                                                                                                                                                                                                                                                                                                                                                                                                                                                                                                                                                                                                                                                                                                                                                                                                                                                                                                                                                                                                                                                  ...  \n",
       "428463                                                                                                                                                                                                                                                                                                                                                                                                                                                                                                                                                                                                                                                                                                                                                                                                                                                                                                                                                                                                                                                                                                                                                                                                                                                                                                                                                                                                                                                                                                                                                                                                                                                                                                                                                                                                                                                                                                                                                                                                                                                                                                                                             Vadim Dmitrievich Ipatov is a Deputy Chairperson, Central Electoral Commission (CEC). As a Member of the CEC, he was responsible for the violations of international electoral standards in the Presidential elections on 19 Dec 2010 and in the Parliamentary elections of September 2012. Travel ban according to article 3 paragraph 1 and financial sanctions according to article 1 do not apply until 15 March 2016. En tant que vice-président de la CEC, il est responsable des fautes commises par la CEC au cours du processus électoral présidentiel de 2020, de la non-conformité de ce processus avec les règles internationales élémentaires d’équité et de transparence, et de la falsification par la CEC des résultats du scrutin. La CEC et ses dirigeants ont notamment organisé le rejet de certains candidats de l’opposition pour des motifs fallacieux, ainsi que la mise en place de restrictions disproportionnées pour les observateurs dans les bureaux de vote. La CEC a également veillé à ce que la composition des commissions électorales sous sa supervision soit déséquilibrée.  This person has held these positions: Deputy Chairman of the Central Elec­toral Commission CEC, Центральная комиссия Республики Беларусь по выборам член комиссии заместитель председателя, Vice-président de la commission électorale centrale CEC, First Deputy Head of the Chief State legal department of the administration of the President of Belarus, Central Election Commission of the Republic of Belarus member of the commission Vice Chairperson. This person is a male. This person was born in 1964-10-30. This person belongs to these countries: Belarus,Ukraine. Associated with Politician.  Associated with Sanctioned entity. This person was born in Коломыя, Ивано-Франковская область, Украина, Kolomyia, Ivano-Frankivsk Region, Ukraine, Kolomyia, Kolomyya, Ukraine, Kolomyia, oblast d'Ivano-Frankivsk. This person has these nationalities: Belarus.  \n",
       "428467                                                                                                                                                                                                                                                                                                                                                                                                                                                                                                                                                                                                                                                                                                                                                                                                                                                                                                                                                                                                                                                                                                                                                                                                                                                                                                                                                                                                                                                                                                                                                                                                                                                                                                                                                                                                                                                                                                                                                                                                                                                                                                                                                                                                                                                                                                                                                                                                                                                                                                                                                                                                                                                                                                                                                                                                                                                                                                                                                                                                                                                                                                                                                                                                                                                                                                                                                                                                                                                                                                                                                                                                                                 Van Taylor is a Businessman and politician. This person has held these positions: United States representative 2021-, member of the Texas House of Representatives, House of Representatives member 2019-, member of the State Senate of Texas, United States representative  . This person is a male. This person was born in 1972-08-01. This person belongs to these countries: United States. Associated with Politician. This person was born in Dallas. This person has these nationalities: United States.  \n",
       "428474  Vladimir Lisin is a Russian businessman It is in first place in the ranking of Russian billionaires according to Forbes. Performs commercial activities in sectors of the economy that provide a high revenue part of the budget of the Russian Federation, which is responsible for the war in Ukraine, that is, it is a significant source of income for waging war. Has close ties with the regime, which prepared and is being conducted contrary to the statutory documents of the United Nations Nations war of conquest against Ukraine, in which crimes against humanity are committed and the genocide of the Ukrainian people takes place. Thus, the subject is responsible for material or financial support for actions that undermine or threaten the territorial integrity, sovereignty and independence of Ukraine. Знаходиться на першому місці у рейтингу російських мільярдерів за версією Форбс. Здійснює комерційну діяльність у секторах економіки, що забезпечують високу доходну частину бюджету Російської Федерації, яка відповідає за війну в Україні, тобто є значним джерелом доходів для ведення війни. Має тісні зв'язки з режимом, яким підготовлено та ведеться всупереч статутним документам Організації Об'єднаних Націй загарбницька війна проти України, в рамках якої скоюються злочини проти людяності та відбувається геноцид українського народу. Таким чином, суб'єкт несе відповідальність за матеріальну чи фінансову підтримку дій, що підривають або загрожують територіальній цілісності, суверенітету та незалежності України. Находится на первом месте в рейтинге российских миллиардеров по версии Форбс. Совершает коммерческую деятельность в секторах экономики,  обеспечивающих высокую доходную часть бюджета Российской Федерации, которая несет ответственность за войну в Украине, то есть является значительным источником доходов для ведения войны. Имеет тесные связи с режимом, которым подготовлена и ведется вопреки уставным документам Организации Объединенных Наций захватническая война против Украины, в рамках которой совершаются преступления против человечности и происходит геноцид украинского народа. Таким образом, субъект несет ответственность за материальную или финансовую поддержку действий, которые подрывают или угрожают территориальной целостности, суверенитету и независимости Украины. Russian oligarch. Amid the war, he remains involved in the system of Russian political corruption, in which capital is an instrument for acquiring political influence, and political influence is a condition for preserving capital, at the highest level. Chairman and majority shareholder of Novolipetsk Steel (NLMK Group). This person has held these positions: Individuals involved in corruption, president  , Chairman of the Board of Directors of Novolipetsk Iron and Steel Works entrepreneur billionaire 1st place in Forbes RF 2022 whose main assets are Novolipetsk Iron and Steel Works First Freight Company First Port Company Shipping Company \"Volga Shipping Company\", Председатель совета директоров Новолипецкого металлургического комбината предприниматель миллиардер 1 место в Форбс РФ 2022 основными активами которого являются Новолипецкий металлургический комбинат Первая грузовая компания Первая Портовая Компания Судоходная компания «Волжское пароходство», Голова ради директорів Новолипецького металургійного комбінату підприємець мільярдер 1 місце у Форбс РФ 2022 основними активами якого є Новолипецький металургійний комбінат Перша вантажна компанія Перша Портова Компанія Судноплавна компанія «Волзьке пароплавство», Oligarchs, chief executive officer, president 2018-. This person is a male. This person was born in 1956-05-07. This person belongs to these countries: Russian Federation. Associated with Oligarch.  Associated with Sanctioned entity. This person was born in Ivanovo, Russia, Иваново, Ивановская обл. , РСФСР, СССР, Ivanovo, Іванове, Іванівська обл. , РРФСР, СРСР, Ivanovo, Ivanovo region, RSFSR, USSR. This person has these nationalities: Russian Federation.  \n",
       "428489                                                                                                                                                                                                                                                                                                                                                                                                                                                                                                                                                                                                                                                                                                                                                                                                                                                                                                                                                                                                                                                                                                                                                                                                                                                                                                                                                                                                                                                                                                                                                                                                                                                                                                                                                                                                                                                                                                                                                                                                                                                                                                                                                                                                                                                                                                                                                                                                                                                                                                                                                                                                                                                                                                                                                                                                                                                                                                                                                                                                                                                                                                                                                                                                                                                                                                                                                                                                                                                                                                                                                                                                                          Wopke Hoekstra is a Dutch politician. This person has held these positions: Minister of Finance  , member of the Senate of the Netherlands  , Minister of Foreign Affairs 2022-, member of the House of Representatives of the Netherlands  , Deputy Prime Minister of the Netherlands 2022-. This person is a male. This person was born in 1975-09-30. This person belongs to these countries: Netherlands. Associated with Politician. This person was born in Ede. This person has these nationalities: Netherlands.  \n",
       "428503                                                                                                                                                                                                                                                                                                                                                                                                                                                                                                                                                                                                                                                                                                                                                                                                                                                                                                                                                                                                                                                                                                                                                                                                                                                                                                                                                                                                                                                                                                                                                                                                                                                                                                                                                                                                                                                                                                                                                                                                                                                                                                                                                                                                                                                                                                                                                                                                                                                                                                                                                                                                                                                                                                                                                                                                                                                                                                                                                                                                                                                                                                                                                                                                                                                                                                                                                                                                                                                                                                                                                                                                                                                              Jörg Haider is a Austrian politician (1950-2008). This person has held these positions: member of the National Council of Austria  , BZÖ Chairman  , chairman of the Freedom Party of Austria  , governor of Carinthia  . This person is a male. This person was born in 1950-01-26. This person belongs to these countries: Austria. Associated with Politician. This person was born in Bad Goisern. This person has these nationalities: Austria. This person died in 2008-10-11.  \n",
       "\n",
       "[59391 rows x 3 columns]"
      ]
     },
     "execution_count": 42,
     "metadata": {},
     "output_type": "execute_result"
    }
   ],
   "source": [
    "merge[(merge['desc_x']!=merge['desc_y'])]"
   ]
  },
  {
   "cell_type": "code",
   "execution_count": null,
   "id": "5c1554ae-13ac-4856-86b7-1867fc6d6370",
   "metadata": {},
   "outputs": [],
   "source": []
  }
 ],
 "metadata": {
  "kernelspec": {
   "display_name": "Python 3 (ipykernel)",
   "language": "python",
   "name": "python3"
  },
  "language_info": {
   "codemirror_mode": {
    "name": "ipython",
    "version": 3
   },
   "file_extension": ".py",
   "mimetype": "text/x-python",
   "name": "python",
   "nbconvert_exporter": "python",
   "pygments_lexer": "ipython3",
   "version": "3.7.13"
  }
 },
 "nbformat": 4,
 "nbformat_minor": 5
}
