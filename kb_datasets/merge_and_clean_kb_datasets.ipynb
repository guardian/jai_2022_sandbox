{
 "cells": [
  {
   "cell_type": "code",
   "execution_count": 51,
   "id": "b77c9158-734e-455e-a125-b9bb0dfabbbb",
   "metadata": {},
   "outputs": [],
   "source": [
    "import pandas as pd\n",
    "import pickle\n",
    "import numpy as np\n",
    "import re \n",
    "import datetime as dt"
   ]
  },
  {
   "cell_type": "code",
   "execution_count": 52,
   "id": "c3102805-6a94-4ea4-a585-965f3332661a",
   "metadata": {},
   "outputs": [],
   "source": [
    "pd.set_option('display.max_rows', 100)\n",
    "pd.set_option('display.max_columns', 100)\n",
    "pd.set_option('display.width', 100)"
   ]
  },
  {
   "cell_type": "code",
   "execution_count": 53,
   "id": "51f59c79-8ebe-4e1a-b033-31d2a6848527",
   "metadata": {},
   "outputs": [],
   "source": [
    "pd.set_option('display.max_colwidth', None)"
   ]
  },
  {
   "cell_type": "code",
   "execution_count": 54,
   "id": "4be39bd7-b9d0-47ef-9813-53d5e444d435",
   "metadata": {},
   "outputs": [
    {
     "name": "stderr",
     "output_type": "stream",
     "text": [
      "/Users/luis_flores/.local/share/virtualenvs/ner-DhZLIlym/lib/python3.7/site-packages/IPython/core/interactiveshell.py:3553: DtypeWarning: Columns (9,10) have mixed types.Specify dtype option on import or set low_memory=False.\n",
      "  exec(code_obj, self.user_global_ns, self.user_ns)\n"
     ]
    }
   ],
   "source": [
    "# Read both datasets\n",
    "os_kb_entities=pd.read_csv(f'open_sanctions_entities.csv',index_col=0)\n",
    "os_kb_entities['kb_origin']='open_sanctions'\n",
    "ls_kb_entities=pd.read_csv(f'lilsis_entities.csv',index_col=0)\n",
    "ls_kb_entities['kb_origin']='lilsis'"
   ]
  },
  {
   "cell_type": "code",
   "execution_count": 56,
   "id": "1d9d7f9e-32a1-4b7d-92b7-6be09b2c529c",
   "metadata": {},
   "outputs": [],
   "source": [
    "# Rename columns to concat datasets  \n",
    "os_kb_entities=os_kb_entities.rename(columns={'full_notes':'desc'})\n",
    "ls_kb_entities=ls_kb_entities.rename(columns={'primary_ext':'schema','end_date':'deathdate','aliases':'AKA','start_date':'birthdate','context':'desc'})"
   ]
  },
  {
   "cell_type": "code",
   "execution_count": 57,
   "id": "cf84f215-8c46-43d4-aaa8-1f1877966754",
   "metadata": {
    "tags": []
   },
   "outputs": [],
   "source": [
    "# Concat datasets into one\n",
    "kb_entities=pd.concat([os_kb_entities,ls_kb_entities]).reset_index().rename(columns={'index':'original_index'})"
   ]
  },
  {
   "cell_type": "code",
   "execution_count": 58,
   "id": "c8a5d524-da9e-4fea-b962-4e47753e511f",
   "metadata": {},
   "outputs": [
    {
     "name": "stderr",
     "output_type": "stream",
     "text": [
      "/Users/luis_flores/.local/share/virtualenvs/ner-DhZLIlym/lib/python3.7/site-packages/ipykernel_launcher.py:2: FutureWarning: In a future version of pandas all arguments of DataFrame.drop except for the argument 'labels' will be keyword-only\n",
      "  \n"
     ]
    }
   ],
   "source": [
    "# Drop useless columns\n",
    "kb_entities.drop(['schema','notes','context','types','start_date_sentence','end_date_sentence'],1,inplace=True)"
   ]
  },
  {
   "cell_type": "code",
   "execution_count": 59,
   "id": "0359c068-7f6d-4adf-b36a-479445cf40cb",
   "metadata": {},
   "outputs": [
    {
     "data": {
      "text/plain": [
       "(503310, 11)"
      ]
     },
     "execution_count": 59,
     "metadata": {},
     "output_type": "execute_result"
    }
   ],
   "source": [
    "kb_entities.shape"
   ]
  },
  {
   "cell_type": "code",
   "execution_count": 60,
   "id": "a4a4fd8c-94bd-4c11-b057-ff7bcdaea5c5",
   "metadata": {},
   "outputs": [],
   "source": [
    "# Fix trailing whitespaces\n",
    "kb_entities['desc']=kb_entities['desc'].apply(lambda x: re.sub(r\"\\b(\\.)[\\.\\s]+$\", \"\\\\1\", x))"
   ]
  },
  {
   "cell_type": "code",
   "execution_count": 61,
   "id": "52862616-c4b4-4294-b4f6-a67f585f9a19",
   "metadata": {},
   "outputs": [],
   "source": [
    "# Remove entities with no description\n",
    "kb_entities=kb_entities[kb_entities['desc'].str.replace(' ','').apply(len)>0]"
   ]
  },
  {
   "cell_type": "code",
   "execution_count": 62,
   "id": "a1c8c8a6-a734-4b8a-b90a-55ba5e8f2f9b",
   "metadata": {},
   "outputs": [],
   "source": [
    "# Drop duplicated based on same name and description\n",
    "kb_entities.drop_duplicates(subset=['name','desc'],inplace=True)"
   ]
  },
  {
   "cell_type": "code",
   "execution_count": 63,
   "id": "2deb881c-adf1-479f-b6e4-cdf00d941c47",
   "metadata": {},
   "outputs": [
    {
     "data": {
      "text/plain": [
       "(429953, 11)"
      ]
     },
     "execution_count": 63,
     "metadata": {},
     "output_type": "execute_result"
    }
   ],
   "source": [
    "kb_entities.shape"
   ]
  },
  {
   "cell_type": "code",
   "execution_count": 64,
   "id": "34ccce77-77d3-4644-bf68-2128b49e4ac5",
   "metadata": {},
   "outputs": [],
   "source": [
    "## Resolve duplicate entitiy IDs"
   ]
  },
  {
   "cell_type": "code",
   "execution_count": 65,
   "id": "74c9be81-a6bf-45ee-9e23-1c23a8bd3fb4",
   "metadata": {},
   "outputs": [],
   "source": [
    "# Find duplicate entries on the 'id' columns\n",
    "redundant_entities_by_id=kb_entities[kb_entities['id'].duplicated(keep=False)].sort_values(['id','name'])"
   ]
  },
  {
   "cell_type": "code",
   "execution_count": 66,
   "id": "ec3f13e8-b7e9-4d2c-b693-f133f726dcb9",
   "metadata": {},
   "outputs": [],
   "source": [
    "# Drop duplicate_entities (these were all cases where the ID was taken from Wikidata)\n",
    "redundant_entities_indices=redundant_entities_by_id.index\n",
    "kb_entities.drop(redundant_entities_indices, inplace=True)"
   ]
  },
  {
   "cell_type": "code",
   "execution_count": 67,
   "id": "3a7470cc-efcf-4a83-b279-ba4d080c2b1f",
   "metadata": {},
   "outputs": [],
   "source": [
    "# Keep first of duplicated entities\n",
    "redundant_entities_by_id_consolidated_desc=redundant_entities_by_id.groupby(['id']).first().reset_index()"
   ]
  },
  {
   "cell_type": "code",
   "execution_count": 68,
   "id": "1d9f7f06-6a64-4eac-8ada-f7185d1bc175",
   "metadata": {},
   "outputs": [],
   "source": [
    "# Concatenate back to kb entity dataframe \n",
    "kb_entities=pd.concat([kb_entities,redundant_entities_by_id_consolidated_desc])\n",
    "kb_entities.reset_index(drop=True,inplace=True)"
   ]
  },
  {
   "cell_type": "code",
   "execution_count": 69,
   "id": "c3bfc016-9c0a-4f99-bf88-8241a732c2c7",
   "metadata": {},
   "outputs": [
    {
     "data": {
      "text/plain": [
       "(429861, 11)"
      ]
     },
     "execution_count": 69,
     "metadata": {},
     "output_type": "execute_result"
    }
   ],
   "source": [
    "kb_entities.shape"
   ]
  },
  {
   "cell_type": "code",
   "execution_count": 70,
   "id": "95da2203-a3e0-4ee0-8985-cade943c5914",
   "metadata": {},
   "outputs": [],
   "source": [
    "## Resolve duplicates on birthdate, deathdate and website"
   ]
  },
  {
   "cell_type": "code",
   "execution_count": 71,
   "id": "59b426da-2193-4e62-a621-e17775b8c211",
   "metadata": {},
   "outputs": [],
   "source": [
    "# Create auxiliary column for ordering based on len of desc field\n",
    "kb_entities['desc_len']=kb_entities['desc'].str.len()"
   ]
  },
  {
   "cell_type": "code",
   "execution_count": 72,
   "id": "bfc4ab07-bfe1-431b-90c2-ba9e4ad3da58",
   "metadata": {},
   "outputs": [],
   "source": [
    "redundancy_cols=['birthdate','deathdate','website']\n",
    "for col in redundancy_cols:\n",
    "    # Find duplicates ordered by description len\n",
    "    redundant_entities_by_col=kb_entities[~(kb_entities[col].isna())&\n",
    "                (kb_entities.duplicated(['name',col],keep=False))\n",
    "               ].sort_values(by=['name','desc_len'],ascending=False)\n",
    "\n",
    "    # Drop duplicate_entities on name and birthdate\n",
    "    redundant_entities_indices=redundant_entities_by_col.index\n",
    "    kb_entities.drop(redundant_entities_indices, inplace=True)\n",
    "\n",
    "    # Keep first of duplicated entities\n",
    "    redundant_entities_by_col_consolidated_desc=redundant_entities_by_col.groupby(['name',col]).first().reset_index()\n",
    "\n",
    "    # Concatenate back to kb entity dataframe \n",
    "    kb_entities=pd.concat([kb_entities,redundant_entities_by_col_consolidated_desc])\n",
    "    kb_entities.reset_index(drop=True,inplace=True)"
   ]
  },
  {
   "cell_type": "code",
   "execution_count": 73,
   "id": "a629b2be-1c0f-4fe2-8e20-2c34b601ee5b",
   "metadata": {},
   "outputs": [
    {
     "data": {
      "text/plain": [
       "(428519, 12)"
      ]
     },
     "execution_count": 73,
     "metadata": {},
     "output_type": "execute_result"
    }
   ],
   "source": [
    "kb_entities.shape"
   ]
  },
  {
   "cell_type": "code",
   "execution_count": 74,
   "id": "f7638151-dd69-4307-8c1e-3383493825d4",
   "metadata": {},
   "outputs": [],
   "source": [
    "## Further duplicate inspection "
   ]
  },
  {
   "cell_type": "code",
   "execution_count": 75,
   "id": "47f6790c-d794-4b8d-9da4-86a0db8483e9",
   "metadata": {},
   "outputs": [],
   "source": [
    "# Duplicates on name\n",
    "kb_duplicated=kb_entities[kb_entities.duplicated(keep=False,subset=['name'])].sort_values(by=['name'])"
   ]
  },
  {
   "cell_type": "code",
   "execution_count": 76,
   "id": "c5dcf178-be55-4442-80af-762f663f7380",
   "metadata": {},
   "outputs": [
    {
     "data": {
      "text/plain": [
       "(428519, 12)"
      ]
     },
     "execution_count": 76,
     "metadata": {},
     "output_type": "execute_result"
    }
   ],
   "source": [
    "kb_entities.shape"
   ]
  },
  {
   "cell_type": "code",
   "execution_count": 78,
   "id": "c5a1f4bc-6468-4bf5-833f-84819da6a646",
   "metadata": {},
   "outputs": [],
   "source": [
    "# Standardise names \n",
    "kb_entities['name']=kb_entities['name'].str.title()"
   ]
  },
  {
   "cell_type": "code",
   "execution_count": 79,
   "id": "1a5d6c9e-9da5-4d47-a881-23638a51f07c",
   "metadata": {},
   "outputs": [],
   "source": [
    "# Ensure person name is included in all descriptions\n",
    "name_not_in_notes_indices=kb_entities[kb_entities.apply(lambda x: x['name'].lower() not in x['desc'].lower(),axis=1)].index.values\n",
    "naming_string = 'This person is called '\n",
    "kb_entities.loc[name_not_in_notes_indices,'desc'] = kb_entities.loc[name_not_in_notes_indices].apply(lambda x: naming_string + x['name'] + '. ' + x['desc'],axis=1)"
   ]
  },
  {
   "cell_type": "code",
   "execution_count": 80,
   "id": "e3d41a62-0870-4f13-88d8-c7987a69df1e",
   "metadata": {},
   "outputs": [],
   "source": [
    "# Ensure descriptions end in stop mark. \n",
    "kb_entities.loc[~kb_entities['desc'].isna(),'desc']=kb_entities.loc[~kb_entities['desc'].isna(),'desc'].apply(lambda x: x + '.' if x[-1]!='.' else x)"
   ]
  },
  {
   "cell_type": "code",
   "execution_count": 81,
   "id": "592dda25-5356-48d8-b112-147972cb06ba",
   "metadata": {},
   "outputs": [],
   "source": [
    "# Clean up data by removing multiple trailing stop marks\n",
    "multi_stopmarks_expr = re.compile('\\.\\s?\\.')\n",
    "\n",
    "for expr in [multi_stopmarks_expr]:\n",
    "    # Replace expression in string\n",
    "    kb_entities.loc[~kb_entities['desc'].isna(),'desc']=kb_entities.loc[~kb_entities['desc'].isna(),'desc'].apply(lambda x: ''.join([re.sub(expr, '. ', x)]))"
   ]
  },
  {
   "cell_type": "code",
   "execution_count": 83,
   "id": "ef8ac184-855f-4971-9bd3-790533ff2e16",
   "metadata": {},
   "outputs": [],
   "source": [
    "## Add KB URLs"
   ]
  },
  {
   "cell_type": "code",
   "execution_count": 84,
   "id": "2d649e0b-5525-4081-9d98-fd8f3efc8566",
   "metadata": {},
   "outputs": [],
   "source": [
    "def url_generator(id_,name, dataset):\n",
    "    if dataset=='open_sanctions':\n",
    "        return f'https://www.opensanctions.org/entities/{id_}'\n",
    "    if dataset=='lilsis':\n",
    "        return f'https://littlesis.org/person/{id_}-{name}'"
   ]
  },
  {
   "cell_type": "code",
   "execution_count": 85,
   "id": "a9e3b01c-bca8-4727-b366-17983526de6c",
   "metadata": {},
   "outputs": [],
   "source": [
    "kb_entities['kb_url']=kb_entities.apply(\n",
    "    lambda x: [url_generator(x['id'],x['name'], 'open_sanctions') \n",
    "                             if x['kb_origin']=='open_sanctions' \n",
    "                             else url_generator(x['id'],x['name'], 'lilsis') \n",
    "                                                  ][0],1\n",
    ")"
   ]
  },
  {
   "cell_type": "raw",
   "id": "d61b047e-68a3-4b1f-b890-a99d8e282227",
   "metadata": {},
   "source": [
    "kb_entities[kb_entities.duplicated(keep=False,subset=['name'])].sort_values(by=['name']).to_csv(f'duplicate_full_name_aliases.csv')"
   ]
  },
  {
   "cell_type": "code",
   "execution_count": 86,
   "id": "32306bb3-09c1-4d9a-abcc-d34d3ff674a2",
   "metadata": {},
   "outputs": [],
   "source": [
    "dataset='full'\n",
    "kb_iteration=dt.datetime.now().strftime('%Y_%m_%d')\n",
    "dataset=f'{dataset}_{kb_iteration}'\n",
    "kb_entities.to_csv(f'kb_entities_{dataset}.csv')"
   ]
  },
  {
   "cell_type": "code",
   "execution_count": null,
   "id": "126635ee-2dc9-4f5d-aa4b-6bc377f11ce2",
   "metadata": {},
   "outputs": [],
   "source": []
  }
 ],
 "metadata": {
  "kernelspec": {
   "display_name": "Python 3 (ipykernel)",
   "language": "python",
   "name": "python3"
  },
  "language_info": {
   "codemirror_mode": {
    "name": "ipython",
    "version": 3
   },
   "file_extension": ".py",
   "mimetype": "text/x-python",
   "name": "python",
   "nbconvert_exporter": "python",
   "pygments_lexer": "ipython3",
   "version": "3.7.13"
  }
 },
 "nbformat": 4,
 "nbformat_minor": 5
}
