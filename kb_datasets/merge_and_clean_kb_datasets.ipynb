{
 "cells": [
  {
   "cell_type": "code",
   "execution_count": 51,
   "id": "b77c9158-734e-455e-a125-b9bb0dfabbbb",
   "metadata": {},
   "outputs": [],
   "source": [
    "import pandas as pd\n",
    "import pickle\n",
    "import numpy as np\n",
    "import re \n",
    "import datetime as dt"
   ]
  },
  {
   "cell_type": "code",
   "execution_count": 52,
   "id": "c3102805-6a94-4ea4-a585-965f3332661a",
   "metadata": {},
   "outputs": [],
   "source": [
    "pd.set_option('display.max_rows', 100)\n",
    "pd.set_option('display.max_columns', 100)\n",
    "pd.set_option('display.width', 100)"
   ]
  },
  {
   "cell_type": "code",
   "execution_count": 53,
   "id": "51f59c79-8ebe-4e1a-b033-31d2a6848527",
   "metadata": {},
   "outputs": [],
   "source": [
    "pd.set_option('display.max_colwidth', None)"
   ]
  },
  {
   "cell_type": "code",
   "execution_count": 54,
   "id": "4be39bd7-b9d0-47ef-9813-53d5e444d435",
   "metadata": {},
   "outputs": [
    {
     "name": "stderr",
     "output_type": "stream",
     "text": [
      "/Users/luis_flores/.local/share/virtualenvs/ner-DhZLIlym/lib/python3.7/site-packages/IPython/core/interactiveshell.py:3553: DtypeWarning: Columns (9,10) have mixed types.Specify dtype option on import or set low_memory=False.\n",
      "  exec(code_obj, self.user_global_ns, self.user_ns)\n"
     ]
    }
   ],
   "source": [
    "# Read both datasets\n",
    "os_kb_entities=pd.read_csv(f'open_sanctions_entities.csv',index_col=0)\n",
    "os_kb_entities['kb_origin']='open_sanctions'\n",
    "ls_kb_entities=pd.read_csv(f'lilsis_entities.csv',index_col=0)\n",
    "ls_kb_entities['kb_origin']='lilsis'"
   ]
  },
  {
   "cell_type": "code",
   "execution_count": null,
   "id": "99ef6514-f7f8-4eeb-bf23-ec37c9fbf28b",
   "metadata": {},
   "outputs": [],
   "source": []
  },
  {
   "cell_type": "code",
   "execution_count": 55,
   "id": "5b67037a-fd37-4f93-8d6a-b334eace41f0",
   "metadata": {},
   "outputs": [],
   "source": [
    "## DEPRECATED ATM  "
   ]
  },
  {
   "cell_type": "raw",
   "id": "065a55df-4962-4064-90e2-e9d1dcacd16b",
   "metadata": {},
   "source": [
    "## Pre-process individual kb dataset\n",
    "\n",
    "# Remove cyrillic \n",
    "cyrillic = \"вгдеёзийклмнопрстуфхъыьэАБВГДЕЁЗИЙКЛМНОПРСТУФХЪЫЬЭ\"\n",
    "for i,symbol in enumerate(cyrillic):\n",
    "    cyrillic_condition=(kb_entities['name'].str.contains(symbol))\n",
    "    if i==0:\n",
    "        cyrillic_df=kb_entities[cyrillic_condition]\n",
    "    else:\n",
    "        cyrillic_df=cyrillic_df.append(kb_entities[cyrillic_condition]) \n",
    "        cyrillic_df=cyrillic_df.drop_duplicates()\n",
    "#kb_entities=kb_entities.drop(cyrillic_df.index)"
   ]
  },
  {
   "cell_type": "raw",
   "id": "7423ba20-2169-4edc-9d4c-9cb9b4978a7d",
   "metadata": {},
   "source": [
    "kb_entities.to_csv(f'../kb_datasets/kb_entities_{dataset}.csv')"
   ]
  },
  {
   "cell_type": "code",
   "execution_count": null,
   "id": "90038687-7b8f-4059-8def-0bca0615d359",
   "metadata": {},
   "outputs": [],
   "source": []
  },
  {
   "cell_type": "code",
   "execution_count": 56,
   "id": "1d9d7f9e-32a1-4b7d-92b7-6be09b2c529c",
   "metadata": {},
   "outputs": [],
   "source": [
    "# Rename columns to concat datasets  \n",
    "os_kb_entities=os_kb_entities.rename(columns={'full_notes':'desc'})\n",
    "ls_kb_entities=ls_kb_entities.rename(columns={'primary_ext':'schema','end_date':'deathdate','aliases':'AKA','start_date':'birthdate','context':'desc'})"
   ]
  },
  {
   "cell_type": "code",
   "execution_count": 57,
   "id": "cf84f215-8c46-43d4-aaa8-1f1877966754",
   "metadata": {
    "tags": []
   },
   "outputs": [],
   "source": [
    "# Concat datasets into one\n",
    "kb_entities=pd.concat([os_kb_entities,ls_kb_entities]).reset_index().rename(columns={'index':'original_index'})"
   ]
  },
  {
   "cell_type": "code",
   "execution_count": 58,
   "id": "c8a5d524-da9e-4fea-b962-4e47753e511f",
   "metadata": {},
   "outputs": [
    {
     "name": "stderr",
     "output_type": "stream",
     "text": [
      "/Users/luis_flores/.local/share/virtualenvs/ner-DhZLIlym/lib/python3.7/site-packages/ipykernel_launcher.py:2: FutureWarning: In a future version of pandas all arguments of DataFrame.drop except for the argument 'labels' will be keyword-only\n",
      "  \n"
     ]
    }
   ],
   "source": [
    "# Drop useless columns\n",
    "kb_entities.drop(['schema','notes','context','types','start_date_sentence','end_date_sentence'],1,inplace=True)"
   ]
  },
  {
   "cell_type": "code",
   "execution_count": 59,
   "id": "0359c068-7f6d-4adf-b36a-479445cf40cb",
   "metadata": {},
   "outputs": [
    {
     "data": {
      "text/plain": [
       "(503310, 11)"
      ]
     },
     "execution_count": 59,
     "metadata": {},
     "output_type": "execute_result"
    }
   ],
   "source": [
    "kb_entities.shape"
   ]
  },
  {
   "cell_type": "code",
   "execution_count": 60,
   "id": "a4a4fd8c-94bd-4c11-b057-ff7bcdaea5c5",
   "metadata": {},
   "outputs": [],
   "source": [
    "# Fix trailing whitespaces\n",
    "kb_entities['desc']=kb_entities['desc'].apply(lambda x: re.sub(r\"\\b(\\.)[\\.\\s]+$\", \"\\\\1\", x))"
   ]
  },
  {
   "cell_type": "code",
   "execution_count": 61,
   "id": "52862616-c4b4-4294-b4f6-a67f585f9a19",
   "metadata": {},
   "outputs": [],
   "source": [
    "# Remove entities with no description\n",
    "kb_entities=kb_entities[kb_entities['desc'].str.replace(' ','').apply(len)>0]"
   ]
  },
  {
   "cell_type": "code",
   "execution_count": 62,
   "id": "a1c8c8a6-a734-4b8a-b90a-55ba5e8f2f9b",
   "metadata": {},
   "outputs": [],
   "source": [
    "# Drop duplicated based on same name and description\n",
    "kb_entities.drop_duplicates(subset=['name','desc'],inplace=True)"
   ]
  },
  {
   "cell_type": "code",
   "execution_count": 63,
   "id": "2deb881c-adf1-479f-b6e4-cdf00d941c47",
   "metadata": {},
   "outputs": [
    {
     "data": {
      "text/plain": [
       "(429953, 11)"
      ]
     },
     "execution_count": 63,
     "metadata": {},
     "output_type": "execute_result"
    }
   ],
   "source": [
    "kb_entities.shape"
   ]
  },
  {
   "cell_type": "code",
   "execution_count": 64,
   "id": "34ccce77-77d3-4644-bf68-2128b49e4ac5",
   "metadata": {},
   "outputs": [],
   "source": [
    "## Resolve duplicate entitiy IDs"
   ]
  },
  {
   "cell_type": "code",
   "execution_count": 65,
   "id": "74c9be81-a6bf-45ee-9e23-1c23a8bd3fb4",
   "metadata": {},
   "outputs": [],
   "source": [
    "# Find duplicate entries on the 'id' columns\n",
    "redundant_entities_by_id=kb_entities[kb_entities['id'].duplicated(keep=False)].sort_values(['id','name'])"
   ]
  },
  {
   "cell_type": "code",
   "execution_count": 66,
   "id": "ec3f13e8-b7e9-4d2c-b693-f133f726dcb9",
   "metadata": {},
   "outputs": [],
   "source": [
    "# Drop duplicate_entities (these were all cases where the ID was taken from Wikidata)\n",
    "redundant_entities_indices=redundant_entities_by_id.index\n",
    "kb_entities.drop(redundant_entities_indices, inplace=True)"
   ]
  },
  {
   "cell_type": "code",
   "execution_count": 67,
   "id": "3a7470cc-efcf-4a83-b279-ba4d080c2b1f",
   "metadata": {},
   "outputs": [],
   "source": [
    "# Keep first of duplicated entities\n",
    "redundant_entities_by_id_consolidated_desc=redundant_entities_by_id.groupby(['id']).first().reset_index()"
   ]
  },
  {
   "cell_type": "code",
   "execution_count": 68,
   "id": "1d9f7f06-6a64-4eac-8ada-f7185d1bc175",
   "metadata": {},
   "outputs": [],
   "source": [
    "# Concatenate back to kb entity dataframe \n",
    "kb_entities=pd.concat([kb_entities,redundant_entities_by_id_consolidated_desc])\n",
    "kb_entities.reset_index(drop=True,inplace=True)"
   ]
  },
  {
   "cell_type": "code",
   "execution_count": 69,
   "id": "c3bfc016-9c0a-4f99-bf88-8241a732c2c7",
   "metadata": {},
   "outputs": [
    {
     "data": {
      "text/plain": [
       "(429861, 11)"
      ]
     },
     "execution_count": 69,
     "metadata": {},
     "output_type": "execute_result"
    }
   ],
   "source": [
    "kb_entities.shape"
   ]
  },
  {
   "cell_type": "code",
   "execution_count": 70,
   "id": "95da2203-a3e0-4ee0-8985-cade943c5914",
   "metadata": {},
   "outputs": [],
   "source": [
    "## Resolve duplicates on birthdate, deathdate and website"
   ]
  },
  {
   "cell_type": "code",
   "execution_count": 71,
   "id": "59b426da-2193-4e62-a621-e17775b8c211",
   "metadata": {},
   "outputs": [],
   "source": [
    "# Create auxiliary column for ordering based on len of desc field\n",
    "kb_entities['desc_len']=kb_entities['desc'].str.len()"
   ]
  },
  {
   "cell_type": "code",
   "execution_count": 72,
   "id": "bfc4ab07-bfe1-431b-90c2-ba9e4ad3da58",
   "metadata": {},
   "outputs": [],
   "source": [
    "redundancy_cols=['birthdate','deathdate','website']\n",
    "for col in redundancy_cols:\n",
    "    # Find duplicates ordered by description len\n",
    "    redundant_entities_by_col=kb_entities[~(kb_entities[col].isna())&\n",
    "                (kb_entities.duplicated(['name',col],keep=False))\n",
    "               ].sort_values(by=['name','desc_len'],ascending=False)\n",
    "\n",
    "    # Drop duplicate_entities on name and birthdate\n",
    "    redundant_entities_indices=redundant_entities_by_col.index\n",
    "    kb_entities.drop(redundant_entities_indices, inplace=True)\n",
    "\n",
    "    # Keep first of duplicated entities\n",
    "    redundant_entities_by_col_consolidated_desc=redundant_entities_by_col.groupby(['name',col]).first().reset_index()\n",
    "\n",
    "    # Concatenate back to kb entity dataframe \n",
    "    kb_entities=pd.concat([kb_entities,redundant_entities_by_col_consolidated_desc])\n",
    "    kb_entities.reset_index(drop=True,inplace=True)"
   ]
  },
  {
   "cell_type": "code",
   "execution_count": 73,
   "id": "a629b2be-1c0f-4fe2-8e20-2c34b601ee5b",
   "metadata": {},
   "outputs": [
    {
     "data": {
      "text/plain": [
       "(428519, 12)"
      ]
     },
     "execution_count": 73,
     "metadata": {},
     "output_type": "execute_result"
    }
   ],
   "source": [
    "kb_entities.shape"
   ]
  },
  {
   "cell_type": "code",
   "execution_count": 74,
   "id": "f7638151-dd69-4307-8c1e-3383493825d4",
   "metadata": {},
   "outputs": [],
   "source": [
    "## Further duplicate inspection "
   ]
  },
  {
   "cell_type": "code",
   "execution_count": 75,
   "id": "47f6790c-d794-4b8d-9da4-86a0db8483e9",
   "metadata": {},
   "outputs": [],
   "source": [
    "# Duplicates on name\n",
    "kb_duplicated=kb_entities[kb_entities.duplicated(keep=False,subset=['name'])].sort_values(by=['name'])"
   ]
  },
  {
   "cell_type": "code",
   "execution_count": 76,
   "id": "c5dcf178-be55-4442-80af-762f663f7380",
   "metadata": {},
   "outputs": [
    {
     "data": {
      "text/plain": [
       "(428519, 12)"
      ]
     },
     "execution_count": 76,
     "metadata": {},
     "output_type": "execute_result"
    }
   ],
   "source": [
    "kb_entities.shape"
   ]
  },
  {
   "cell_type": "raw",
   "id": "64ae80ff-fbe8-43aa-8d08-3169b683657d",
   "metadata": {},
   "source": [
    "# Drop context-poor duplicates based on proxy keywords \n",
    "unwanted_duplicate_keyword_proxy=['prospective']\n",
    "for proxy in unwanted_duplicate_keyword_proxy:\n",
    "    kb_entities=kb_entities.drop(kb_duplicated[kb_duplicated['desc'].str.lower().str.contains(proxy)].index.values)"
   ]
  },
  {
   "cell_type": "code",
   "execution_count": 77,
   "id": "dcacda7c-d851-436d-9642-fe135a867d5e",
   "metadata": {},
   "outputs": [
    {
     "data": {
      "text/plain": [
       "(428519, 12)"
      ]
     },
     "execution_count": 77,
     "metadata": {},
     "output_type": "execute_result"
    }
   ],
   "source": [
    "kb_entities.shape"
   ]
  },
  {
   "cell_type": "raw",
   "id": "51f82901-3cd6-481c-875e-c6f6fe54bc77",
   "metadata": {},
   "source": [
    "# Inpect remaining duplicates coming from lilsis \n",
    "kb_duplicated[kb_duplicated['kb_origin']=='lilsis']"
   ]
  },
  {
   "cell_type": "code",
   "execution_count": null,
   "id": "179c304a-d24f-4572-9d0d-27a49dc8bab9",
   "metadata": {},
   "outputs": [],
   "source": []
  },
  {
   "cell_type": "raw",
   "id": "f8453258-97df-4fdf-abe8-b34104b5412f",
   "metadata": {},
   "source": [
    "## DEPRECATED ATM "
   ]
  },
  {
   "cell_type": "raw",
   "id": "cd41c5cb-122c-4d6a-912d-8141053f66ab",
   "metadata": {},
   "source": [
    "## Clean special characters "
   ]
  },
  {
   "cell_type": "raw",
   "id": "c1d61d72-f85f-4569-a160-3ce3fbeca489",
   "metadata": {
    "tags": []
   },
   "source": [
    "# Get all special characters from description column\n",
    "special_characters=set()\n",
    "for row in kb_entities.iterrows():\n",
    "    special_characters.update(\n",
    "        set(filter(lambda ele: re.search(\"[a-zA-Z\\s]+\", ele) is None, row[1][3])\n",
    "           )\n",
    "    )"
   ]
  },
  {
   "cell_type": "raw",
   "id": "27319ea5-33c8-45b5-979f-7818d52892e7",
   "metadata": {},
   "source": [
    "special_characters=pd.DataFrame(special_characters, columns=['char'])"
   ]
  },
  {
   "cell_type": "raw",
   "id": "bc451034-e97d-43fe-825b-aca5a53ed2fd",
   "metadata": {},
   "source": [
    "special_characters.to_csv('special_characters.csv')"
   ]
  },
  {
   "cell_type": "raw",
   "id": "115bf48f-3fec-4549-93cd-965eedfd7585",
   "metadata": {},
   "source": [
    "special_chars=pd.read_csv('special_characters.csv',index_col=0)"
   ]
  },
  {
   "cell_type": "raw",
   "id": "f158525b-69bb-43c6-a5bf-e0e08ddf2c7a",
   "metadata": {},
   "source": [
    "# remove digits from special chars\n",
    "digit_search='012345679'\n",
    "special_chars=special_chars[~special_chars['char'].str.contains('|'.join(digit_search))]"
   ]
  },
  {
   "cell_type": "raw",
   "id": "fe20afb6-a3cc-4640-8853-3ae0183565a2",
   "metadata": {},
   "source": [
    "# Remove ponctuation and potentially useful characters from special chars \n",
    "special_char_search='\"\\\\.!?:;(){}[]@£€$%_-&~`\\''\n",
    "for char in special_char_search:\n",
    "    special_chars=special_chars[~(special_chars['char']==char)]"
   ]
  },
  {
   "cell_type": "raw",
   "id": "99920eaa-ceaa-4c5e-9cf0-35caa804be6b",
   "metadata": {},
   "source": [
    "special_chars['char']=special_chars['char'].str.replace(' ','')"
   ]
  },
  {
   "cell_type": "raw",
   "id": "a2a32b23-f82e-4173-b6f5-83759f610359",
   "metadata": {},
   "source": [
    "special_chars.to_csv('special_characters.csv')"
   ]
  },
  {
   "cell_type": "raw",
   "id": "eba83709-239e-4830-bcc3-219725f16903",
   "metadata": {},
   "source": [
    "special_chars=pd.read_csv('special_characters.csv',index_col=0)"
   ]
  },
  {
   "cell_type": "raw",
   "id": "ee42f6ee-20dc-4bc8-b5ea-08924d72e417",
   "metadata": {},
   "source": [
    "special_chars.sort_values('char').to_csv('special_characters_sorted.csv')"
   ]
  },
  {
   "cell_type": "raw",
   "id": "dea3bf52-ff32-488f-aff4-860c5ca3b69f",
   "metadata": {},
   "source": [
    "# After manual selection of special characters \n",
    "special_characters=pd.read_csv('special_characters_sorted.csv',index_col=0)\n",
    "special_characters=special_characters.reset_index(drop=True)"
   ]
  },
  {
   "cell_type": "raw",
   "id": "4fdb053c-a4ce-4263-aa8d-c5e86b363eb4",
   "metadata": {},
   "source": [
    "#### RERUN THIS FOR NAMES ######"
   ]
  },
  {
   "cell_type": "raw",
   "id": "a3e7aab0-a6bb-477e-8dc9-2acd4eb9525a",
   "metadata": {},
   "source": [
    "# Find rows with special characters accross columns\n",
    "col = 'desc' #'name'\n",
    "special_char_indices=set()\n",
    "for i,char in enumerate(special_characters['char']):\n",
    "    if kb_entities.loc[kb_entities[col].str.contains(char),col].values.any(): \n",
    "        indices=set(kb_entities.loc[kb_entities[col].str.contains(char),col].index)\n",
    "        special_char_indices=special_char_indices.union(indices)"
   ]
  },
  {
   "cell_type": "raw",
   "id": "cf9ed8b2-f900-40eb-8638-553f5c744d5e",
   "metadata": {},
   "source": [
    "file = open(f'special_char_{col}_indices', 'wb')\n",
    "\n",
    "# dump information to that file\n",
    "pickle.dump(special_char_indices, file)"
   ]
  },
  {
   "cell_type": "raw",
   "id": "49fcef4e-9521-40f4-8ac3-043988bf86f9",
   "metadata": {},
   "source": [
    "### INSPECT ROWS WITH SPECIAL CHARS IN DESC"
   ]
  },
  {
   "cell_type": "raw",
   "id": "cdb165c6-beda-4413-8175-91b651579ea1",
   "metadata": {},
   "source": [
    "kb_entities.loc[special_char_indices]"
   ]
  },
  {
   "cell_type": "raw",
   "id": "fb8f6302-3f56-4d28-ad03-f82d44bf5142",
   "metadata": {},
   "source": [
    "### UPDATE FILES FOR API"
   ]
  },
  {
   "cell_type": "raw",
   "id": "cbed6cfa-7c4a-4e4f-b6e7-2a974f90319d",
   "metadata": {},
   "source": [
    "with open('special_char_desc_indices', 'rb') as f:\n",
    "    special_char_desc_indices = pickle.load(f)\n",
    "with open('special_char_name_indices', 'rb') as f:\n",
    "    special_char_name_indices = pickle.load(f)"
   ]
  },
  {
   "cell_type": "raw",
   "id": "23ed7d95-a7ef-4d2b-a363-a4afb102e226",
   "metadata": {},
   "source": [
    "kb_entities.shape"
   ]
  },
  {
   "cell_type": "raw",
   "id": "417ff9ef-3fa9-4d3e-ab66-f99d72de370b",
   "metadata": {},
   "source": [
    "from googletrans import Translator\n",
    "translator = Translator()"
   ]
  },
  {
   "cell_type": "raw",
   "id": "0967b4d9-2ec2-4288-926c-7cc62aa570e5",
   "metadata": {},
   "source": [
    "translator.translate(\"Der Himmel ist blau und ich mag Bananen\", dest='en')"
   ]
  },
  {
   "cell_type": "raw",
   "id": "89fba461-a81e-4445-9b79-aa1785e622eb",
   "metadata": {},
   "source": [
    "for name in kb_entities.loc[list(special_char_indices)].iloc[:10]['name']:\n",
    "    translated_name=translator.translate(name, dest='en')\n",
    "    print(name)\n",
    "    print(translated_name.text)"
   ]
  },
  {
   "cell_type": "raw",
   "id": "b5d022e1-b8c1-4a48-a60e-c8bc2c658b43",
   "metadata": {},
   "source": [
    "indices_w_special_chars=set()\n",
    "for char in special_chars['char']:\n",
    "    new_indices=set(kb_entities[kb_entities['name'].str.contains(char)].index.values)\n",
    "    if 0 in new_indices:\n",
    "        print(char)\n",
    "        break\n",
    "    indices_w_special_chars=indices_w_special_chars.union(new_indices)"
   ]
  },
  {
   "cell_type": "raw",
   "id": "7c92f1b3-5416-40da-bdd3-182d00bb1479",
   "metadata": {},
   "source": [
    "# Get set of all unique words in description column\n",
    "vocab=set()\n",
    "for row in kb_entities.iterrows():\n",
    "    vocab.update(\n",
    "        set(row[1][3].split(' ')\n",
    "           )\n",
    "    )"
   ]
  },
  {
   "cell_type": "raw",
   "id": "053df0ae-c12c-4877-aa77-7c27b7fff836",
   "metadata": {},
   "source": [
    "clean_vocab=set()\n",
    "for word in vocab:\n",
    "    clean_word=word\n",
    "    for character in special_characters:\n",
    "        clean_word=clean_word.replace(character,'')\n",
    "    clean_vocab.add(clean_word)"
   ]
  },
  {
   "cell_type": "raw",
   "id": "a0fe2145-8b34-4f81-99fd-1a238a5cc7e6",
   "metadata": {},
   "source": [
    "pd.DataFrame(clean_vocab,columns=['vocab']).to_csv('clean_vocab.csv')"
   ]
  },
  {
   "cell_type": "raw",
   "id": "9b218536-587c-4946-807c-734edff2740c",
   "metadata": {},
   "source": [
    "clean_vocab=pd.read_csv('clean_vocab.csv',index_col=0)\n",
    "clean_vocab=set(clean_vocab['vocab'])"
   ]
  },
  {
   "cell_type": "raw",
   "id": "2768b80f-2345-4a06-ac5a-2a54c6ed7885",
   "metadata": {},
   "source": [
    "kb_entities['desc']=kb_entities['desc'].apply(lambda x: ' '.join([word for word in x.split(' ') if word in clean_vocab]))"
   ]
  },
  {
   "cell_type": "raw",
   "id": "6223162e-55db-4582-8991-b23f49ea4aa8",
   "metadata": {},
   "source": []
  },
  {
   "cell_type": "raw",
   "id": "522d13aa-0c45-4fa4-a19a-be96fc1324cf",
   "metadata": {},
   "source": [
    "## Clean up data"
   ]
  },
  {
   "cell_type": "raw",
   "id": "730a9b4b-fcaf-41aa-b16d-54ac2ee12e79",
   "metadata": {},
   "source": [
    "# Remove titles \n",
    "kb_entities['name']=kb_entities['name'].str.split('\\. ').apply(lambda x: ' '.join([s for s in x if len(s)>3]))"
   ]
  },
  {
   "cell_type": "raw",
   "id": "bb0e007e-3155-4496-a8c4-82926d526790",
   "metadata": {},
   "source": [
    "kb_entities['first_name']=kb_entities['name'].apply(lambda r: r.split(' ')[0])"
   ]
  },
  {
   "cell_type": "raw",
   "id": "44de4977-ce6f-4299-8643-5798e861cdc2",
   "metadata": {},
   "source": [
    "kb_entities['last_name']=kb_entities['name'].apply(lambda r: r.split(' ')[-1])"
   ]
  },
  {
   "cell_type": "raw",
   "id": "cccee358-1543-4348-9dcf-ec6ae971344c",
   "metadata": {},
   "source": [
    "kb_entities[kb_entities.duplicated(subset=['first_name','last_name','desc'], keep=False)].sort_values(by=['first_name','last_name']).to_csv('duplicate_entities_on_first_and_last_names.csv')"
   ]
  },
  {
   "cell_type": "raw",
   "id": "a69d9471-52f2-4ff8-8205-55c10d628447",
   "metadata": {},
   "source": [
    "# Remove special characters (cyrillic, chinese, japanese, arabic, numbers) "
   ]
  },
  {
   "cell_type": "raw",
   "id": "8a3c42d7-df27-4e94-9824-ef54ea9a3764",
   "metadata": {},
   "source": [
    "# Remove cyrillic from descriptions\n",
    "cyrillic = \"вгдеёзийклмнопрстуфхъыьэАБВГДЕЁЗИЙКЛМНОПРСТУФХЪЫЬЭжцчщюяєії\"\n",
    "for symbol in cyrillic:\n",
    "    kb_entities['desc']=kb_entities['desc'].str.replace(symbol,'')"
   ]
  },
  {
   "cell_type": "raw",
   "id": "42da1354-c0b8-4346-b19f-9fa2d9854e29",
   "metadata": {},
   "source": [
    "kb_entities"
   ]
  },
  {
   "cell_type": "raw",
   "id": "d25d9434-067f-4495-9fad-906ae55974e7",
   "metadata": {},
   "source": [
    "# Cast names in lower case\n",
    "kb_entities['name']=kb_entities['name'].str.lower()"
   ]
  },
  {
   "cell_type": "raw",
   "id": "8e3e1fca-62f8-4c67-b9a3-88cd305d3200",
   "metadata": {},
   "source": [
    "## Resolve non-id ambiguities"
   ]
  },
  {
   "cell_type": "raw",
   "id": "ea9c31ce-2cb8-4f0f-b63c-946e5d96af79",
   "metadata": {},
   "source": [
    "kb_entities.loc[kb_entities['name'].duplicated(keep=False),'name'].value_counts()"
   ]
  },
  {
   "cell_type": "raw",
   "id": "7e0168a4-b431-4cf6-a12f-5936d7bcc255",
   "metadata": {},
   "source": [
    "import spacy\n",
    "nlp = spacy.load(\"en_core_web_lg\")"
   ]
  },
  {
   "cell_type": "raw",
   "id": "d268a038-e082-41c0-b286-e4846c805536",
   "metadata": {},
   "source": [
    "from numpy import dot\n",
    "from numpy.linalg import norm\n",
    "def calculate_cosine_similarity(descriptions_vec,vector_ref_sentence):\n",
    "    \"\"\"\n",
    "    Return a dictionary mapping the kb entity id to cosine similarity score\n",
    "    between kb embedded descriptions and the reference vector.\n",
    "    \"\"\"\n",
    "\n",
    "    score=np.nan_to_num(\n",
    "        dot(vector_ref_sentence, descriptions_vec)/\n",
    "        (norm(vector_ref_sentence)*norm(descriptions_vec))\n",
    "    ,0)\n",
    "    return score"
   ]
  },
  {
   "cell_type": "raw",
   "id": "14e4d0ff-0330-49ed-b16d-5139d09d3542",
   "metadata": {},
   "source": [
    "kb_entities['desc_enc']=kb_entities['desc'].apply(lambda x: nlp(x).vector)"
   ]
  },
  {
   "cell_type": "raw",
   "id": "aa5f4c68-377f-40dd-8ee7-484c7d74ed17",
   "metadata": {},
   "source": [
    "kb_entities.to_csv('kb_entities_full.csv')"
   ]
  },
  {
   "cell_type": "raw",
   "id": "eea23656-b408-4c70-a7f3-6bd275091f60",
   "metadata": {},
   "source": [
    "kb_entities[kb_entities.duplicated(subset=['last_name'], keep=False)].sort_values(by=['last_name','name']).to_csv('duplicates_by_last_name.csv')"
   ]
  },
  {
   "cell_type": "raw",
   "id": "f14ddfe7-7d32-44e3-9f50-a78baf241226",
   "metadata": {},
   "source": [
    "for i,name in enumerate(kb_entities['name'].unique()): \n",
    "    df=kb_entities[kb_entities['name']==name]\n",
    "    df=df[['name','id','desc','desc_enc']]\n",
    "    df=df.merge(df, on='name', suffixes=['_1','_2'])\n",
    "    df['similarity_score']=df.apply(\n",
    "        lambda x: calculate_cosine_similarity(x['desc_enc_1'],x['desc_enc_2']),\n",
    "            1\n",
    "        )\n",
    "    df=df[df['similarity_score']>0]\n",
    "    if i==0:\n",
    "        similarity_df=df[['id_1','id_2','similarity_score']]\n",
    "    else:\n",
    "        similarity_df=pd.concat([similarity_df, df[['id_1','id_2','similarity_score']]])\n",
    "        \n",
    "similarity_df=similarity_df[(similarity_df['id_1']!=similarity_df['id_2'])]"
   ]
  },
  {
   "cell_type": "raw",
   "id": "e286fb71-dc3c-4c40-b474-7cdcfadcc289",
   "metadata": {},
   "source": [
    "# The merging the ids agains themselves creates deplicates based on order \n",
    "# (id 1, id 2 or id 2, id 1 doesn't matter, just the pairing of the set)\n",
    "# This code removes redudant rows\n",
    "similarity_df['id_1']=similarity_df['id_1'].astype(str)\n",
    "similarity_df['id_2']=similarity_df['id_2'].astype(str)\n",
    "similarity_df['id_pair']=similarity_df.apply(lambda x: ' '.join(set([x['id_1'],x['id_2']])),1)\n",
    "similarity_df=similarity_df.drop_duplicates('id_pair',keep='first')"
   ]
  },
  {
   "cell_type": "raw",
   "id": "678e25fe-4ce7-49c7-b6b6-4caad6d72a83",
   "metadata": {},
   "source": [
    "# Fetch the context for each id\n",
    "similarity_df=similarity_df.merge(kb_entities[['name','id','desc']], how='left',left_on='id_1', right_on='id')\n",
    "similarity_df.drop('id',1,inplace=True)\n",
    "similarity_df=similarity_df.rename(columns={'name':'name_1','desc':'desc_1'})\n",
    "similarity_df=similarity_df.merge(kb_entities[['name','id','desc']], how='left',left_on='id_2', right_on='id')\n",
    "similarity_df.drop('id',1,inplace=True)\n",
    "similarity_df=similarity_df.rename(columns={'name':'name_2','desc':'desc_2'})"
   ]
  },
  {
   "cell_type": "raw",
   "id": "5fe16154-9dfd-459e-aaa4-6d7f21f60632",
   "metadata": {},
   "source": [
    "similarity_df.to_csv('similarity_df.csv')"
   ]
  },
  {
   "cell_type": "code",
   "execution_count": 78,
   "id": "c5a1f4bc-6468-4bf5-833f-84819da6a646",
   "metadata": {},
   "outputs": [],
   "source": [
    "# Standardise names \n",
    "kb_entities['name']=kb_entities['name'].str.title()"
   ]
  },
  {
   "cell_type": "code",
   "execution_count": 79,
   "id": "1a5d6c9e-9da5-4d47-a881-23638a51f07c",
   "metadata": {},
   "outputs": [],
   "source": [
    "# Ensure person name is included in all descriptions\n",
    "name_not_in_notes_indices=kb_entities[kb_entities.apply(lambda x: x['name'].lower() not in x['desc'].lower(),axis=1)].index.values\n",
    "naming_string = 'This person is called '\n",
    "kb_entities.loc[name_not_in_notes_indices,'desc'] = kb_entities.loc[name_not_in_notes_indices].apply(lambda x: naming_string + x['name'] + '. ' + x['desc'],axis=1)"
   ]
  },
  {
   "cell_type": "code",
   "execution_count": 80,
   "id": "e3d41a62-0870-4f13-88d8-c7987a69df1e",
   "metadata": {},
   "outputs": [],
   "source": [
    "# Ensure descriptions end in stop mark. \n",
    "kb_entities.loc[~kb_entities['desc'].isna(),'desc']=kb_entities.loc[~kb_entities['desc'].isna(),'desc'].apply(lambda x: x + '.' if x[-1]!='.' else x)"
   ]
  },
  {
   "cell_type": "code",
   "execution_count": 81,
   "id": "592dda25-5356-48d8-b112-147972cb06ba",
   "metadata": {},
   "outputs": [],
   "source": [
    "# Clean up data by removing multiple trailing stop marks\n",
    "multi_stopmarks_expr = re.compile('\\.\\s?\\.')\n",
    "\n",
    "for expr in [multi_stopmarks_expr]:\n",
    "    # Replace expression in string\n",
    "    kb_entities.loc[~kb_entities['desc'].isna(),'desc']=kb_entities.loc[~kb_entities['desc'].isna(),'desc'].apply(lambda x: ''.join([re.sub(expr, '. ', x)]))"
   ]
  },
  {
   "cell_type": "code",
   "execution_count": 82,
   "id": "7fde7a30-7291-48dc-9040-1a5b5eba3edf",
   "metadata": {},
   "outputs": [
    {
     "name": "stderr",
     "output_type": "stream",
     "text": [
      "/Users/luis_flores/.local/share/virtualenvs/ner-DhZLIlym/lib/python3.7/site-packages/ipykernel_launcher.py:6: FutureWarning: In a future version of pandas all arguments of DataFrame.drop except for the argument 'labels' will be keyword-only\n",
      "  \n"
     ]
    }
   ],
   "source": [
    "# Rewrite ID when wikidataId (format QXXXXXX)is available\n",
    "kb_entities['wikidataId']=kb_entities['wikidataId'].apply(lambda x: ''.join(str(x).split(',')[0]))\n",
    "kb_entities.loc[(~kb_entities['id'].astype(str).str.match('Q\\d')),'id_']=kb_entities.loc[(~kb_entities['id'].astype(str).str.match('Q\\d')),'wikidataId'].apply(lambda x: ''.join(str(x).split(',')[0]))\n",
    "kb_entities['id_']=kb_entities['id_'].fillna('nan')\n",
    "kb_entities['id']=kb_entities.apply(lambda x: x['id'] if x['id_']=='nan' else x['id_'], 1)\n",
    "kb_entities.drop('id_',1,inplace=True)"
   ]
  },
  {
   "cell_type": "code",
   "execution_count": 83,
   "id": "ef8ac184-855f-4971-9bd3-790533ff2e16",
   "metadata": {},
   "outputs": [],
   "source": [
    "## Add KB URLs"
   ]
  },
  {
   "cell_type": "code",
   "execution_count": 84,
   "id": "2d649e0b-5525-4081-9d98-fd8f3efc8566",
   "metadata": {},
   "outputs": [],
   "source": [
    "def url_generator(id_,name, dataset):\n",
    "    if dataset=='open_sanctions':\n",
    "        return f'https://www.opensanctions.org/entities/{id_}'\n",
    "    if dataset=='lilsis':\n",
    "        return f'https://littlesis.org/person/{id_}-{name}'"
   ]
  },
  {
   "cell_type": "code",
   "execution_count": 85,
   "id": "a9e3b01c-bca8-4727-b366-17983526de6c",
   "metadata": {},
   "outputs": [],
   "source": [
    "kb_entities['kb_url']=kb_entities.apply(\n",
    "    lambda x: [url_generator(x['id'],x['name'], 'open_sanctions') \n",
    "                             if x['kb_origin']=='open_sanctions' \n",
    "                             else url_generator(x['id'],x['name'], 'lilsis') \n",
    "                                                  ][0],1\n",
    ")"
   ]
  },
  {
   "cell_type": "raw",
   "id": "d61b047e-68a3-4b1f-b890-a99d8e282227",
   "metadata": {},
   "source": [
    "kb_entities[kb_entities.duplicated(keep=False,subset=['name'])].sort_values(by=['name']).to_csv(f'duplicate_full_name_aliases.csv')"
   ]
  },
  {
   "cell_type": "code",
   "execution_count": 86,
   "id": "32306bb3-09c1-4d9a-abcc-d34d3ff674a2",
   "metadata": {},
   "outputs": [],
   "source": [
    "dataset='full'\n",
    "kb_iteration=dt.datetime.now().strftime('%Y_%m_%d')\n",
    "dataset=f'{dataset}_{kb_iteration}'\n",
    "kb_entities.to_csv(f'kb_entities_{dataset}.csv')"
   ]
  },
  {
   "cell_type": "code",
   "execution_count": null,
   "id": "126635ee-2dc9-4f5d-aa4b-6bc377f11ce2",
   "metadata": {},
   "outputs": [],
   "source": []
  }
 ],
 "metadata": {
  "kernelspec": {
   "display_name": "Python 3 (ipykernel)",
   "language": "python",
   "name": "python3"
  },
  "language_info": {
   "codemirror_mode": {
    "name": "ipython",
    "version": 3
   },
   "file_extension": ".py",
   "mimetype": "text/x-python",
   "name": "python",
   "nbconvert_exporter": "python",
   "pygments_lexer": "ipython3",
   "version": "3.7.13"
  }
 },
 "nbformat": 4,
 "nbformat_minor": 5
}
