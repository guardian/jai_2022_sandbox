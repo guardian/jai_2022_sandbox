{
 "cells": [
  {
   "cell_type": "code",
   "execution_count": 1,
   "id": "977570fb-0988-4847-9227-57b591542215",
   "metadata": {},
   "outputs": [],
   "source": [
    "import pandas as pd"
   ]
  },
  {
   "cell_type": "code",
   "execution_count": 2,
   "id": "5be28145-fbf5-41be-97f4-b5d59a8031ad",
   "metadata": {},
   "outputs": [],
   "source": [
    "import numpy as np"
   ]
  },
  {
   "cell_type": "code",
   "execution_count": 3,
   "id": "51f59c79-8ebe-4e1a-b033-31d2a6848527",
   "metadata": {},
   "outputs": [],
   "source": [
    "pd.set_option('display.max_colwidth', None)"
   ]
  },
  {
   "cell_type": "code",
   "execution_count": 4,
   "id": "ba6246a8-ef92-4f5d-b6b9-d8bcb98cbc32",
   "metadata": {},
   "outputs": [],
   "source": [
    "# Select the intended kb dataset\n",
    "dataset='lilsis'#'open_sanctions'"
   ]
  },
  {
   "cell_type": "code",
   "execution_count": 5,
   "id": "a05fe521-203c-4476-8de3-4948f1156b05",
   "metadata": {},
   "outputs": [],
   "source": [
    "# Read csv file \n",
    "kb_entities=pd.read_csv(f'{dataset}_entities.csv',index_col=0)"
   ]
  },
  {
   "cell_type": "code",
   "execution_count": 6,
   "id": "87ba0096-ed2c-492e-acd6-9496cabf4db4",
   "metadata": {},
   "outputs": [],
   "source": [
    "# Select only KB entries with a person entity\n",
    "person_named_entities_name='Person'\n",
    "person_named_entities_col_d={'open_sanctions':'schema', 'lilsis':'primary_ext'} \n",
    "kb_entities=kb_entities[\n",
    "    kb_entities[\n",
    "        person_named_entities_col_d[dataset]]==person_named_entities_name\n",
    "]"
   ]
  },
  {
   "cell_type": "code",
   "execution_count": 9,
   "id": "04f272f8-11b8-4fa8-9a87-193db08d9c09",
   "metadata": {},
   "outputs": [],
   "source": [
    "# Change column names\n",
    "desc_col_d={'open_sanctions':'full_notes', 'lilsis':'context'} \n",
    "desc_col=desc_col_d[dataset]\n",
    "kb_entities=kb_entities.rename(columns={desc_col:'desc'})"
   ]
  },
  {
   "cell_type": "code",
   "execution_count": 10,
   "id": "2fbdd1c2-26c8-4832-b320-3ec58a34388f",
   "metadata": {},
   "outputs": [],
   "source": [
    "# Drop entities without a description \n",
    "kb_entities.dropna(subset=['desc'],inplace=True)"
   ]
  },
  {
   "cell_type": "code",
   "execution_count": 14,
   "id": "80da4c7c-e9dc-49b5-883f-78eddfcb5704",
   "metadata": {},
   "outputs": [],
   "source": [
    "# Reorder columns\n",
    "if dataset!='open_sanctions':\n",
    "    kb_entities=kb_entities.rename(columns={'aliases':'AKA'})\n",
    "kb_entities=kb_entities[['id','name','desc', 'AKA']]"
   ]
  },
  {
   "cell_type": "code",
   "execution_count": 16,
   "id": "3a2cb815-f864-4d56-9fe5-0f541d37c3b7",
   "metadata": {},
   "outputs": [],
   "source": [
    "# Remove cyrillic \n",
    "cyrillic = \"вгдеёзийклмнопрстуфхъыьэАБВГДЕЁЗИЙКЛМНОПРСТУФХЪЫЬЭ\"\n",
    "for i,symbol in enumerate(cyrillic):\n",
    "    cyrillic_condition=(kb_entities['name'].str.contains(symbol))\n",
    "    if i==0:\n",
    "        cyrillic_df=kb_entities[cyrillic_condition]\n",
    "    else:\n",
    "        cyrillic_df=cyrillic_df.append(kb_entities[cyrillic_condition]) \n",
    "        cyrillic_df=cyrillic_df.drop_duplicates()\n",
    "kb_entities=kb_entities.drop(cyrillic_df.index)"
   ]
  },
  {
   "cell_type": "code",
   "execution_count": 18,
   "id": "b40aad8c-1c13-4484-9440-fefd1925718b",
   "metadata": {},
   "outputs": [],
   "source": [
    "kb_entities.to_csv(f'../kb_datasets/kb_entities_{dataset}.csv')"
   ]
  },
  {
   "cell_type": "code",
   "execution_count": 306,
   "id": "355adef8-aed5-423a-9897-35f6242eff9c",
   "metadata": {},
   "outputs": [],
   "source": [
    "# Read both datasets\n",
    "os_kb_entities=pd.read_csv(f'kb_entities_open_sanctions.csv',index_col=0)\n",
    "ls_kb_entities=pd.read_csv(f'kb_entities_lilsis.csv',index_col=0)"
   ]
  },
  {
   "cell_type": "code",
   "execution_count": 25,
   "id": "9666b890-9ff9-45d7-a158-0c08bc945991",
   "metadata": {},
   "outputs": [],
   "source": [
    "# Combine datasets into one\n",
    "kb_entities=pd.concat([os_kb_entities,ls_kb_entities]).reset_index().rename(columns={'index':'original_index'})"
   ]
  },
  {
   "cell_type": "code",
   "execution_count": 26,
   "id": "379efc4d-0196-4b16-b738-92ddd19d6443",
   "metadata": {},
   "outputs": [
    {
     "data": {
      "text/plain": [
       "(360107, 5)"
      ]
     },
     "execution_count": 26,
     "metadata": {},
     "output_type": "execute_result"
    }
   ],
   "source": [
    "kb_entities.shape"
   ]
  },
  {
   "cell_type": "code",
   "execution_count": 36,
   "id": "ddc34373-6cc1-41f8-b5d8-90835332c9f7",
   "metadata": {},
   "outputs": [
    {
     "data": {
      "text/html": [
       "<div>\n",
       "<style scoped>\n",
       "    .dataframe tbody tr th:only-of-type {\n",
       "        vertical-align: middle;\n",
       "    }\n",
       "\n",
       "    .dataframe tbody tr th {\n",
       "        vertical-align: top;\n",
       "    }\n",
       "\n",
       "    .dataframe thead th {\n",
       "        text-align: right;\n",
       "    }\n",
       "</style>\n",
       "<table border=\"1\" class=\"dataframe\">\n",
       "  <thead>\n",
       "    <tr style=\"text-align: right;\">\n",
       "      <th></th>\n",
       "      <th>original_index</th>\n",
       "      <th>id</th>\n",
       "      <th>name</th>\n",
       "      <th>desc</th>\n",
       "      <th>AKA</th>\n",
       "    </tr>\n",
       "  </thead>\n",
       "  <tbody>\n",
       "    <tr>\n",
       "      <th>0</th>\n",
       "      <td>0</td>\n",
       "      <td>acf-00040861bc3f593000830d987d09967ef3503ef1</td>\n",
       "      <td>Kolyvanov Egor</td>\n",
       "      <td>Russian propagandist: host of news program \"Segodnia\" (\"Today\") on NTV Propagandists Federal media employees male 1980-11-15 Kolyvanov Egor Колыванов Егор</td>\n",
       "      <td>['Kolyvanov Egor', 'Колыванов Егор']</td>\n",
       "    </tr>\n",
       "    <tr>\n",
       "      <th>1</th>\n",
       "      <td>1</td>\n",
       "      <td>acf-0011c68a768924609dc5da5707ac7fa4c4d645a2</td>\n",
       "      <td>Shipov Sergei Yurievich</td>\n",
       "      <td>Russian chess player, grandmaster, chess coach, commentator. Publicly supported Russia's war against Ukraine. Warmongers Athletes male 1966-04-17 Shipov Sergei Yurievich Шипов Сергей Юрьевич</td>\n",
       "      <td>['Shipov Sergei Yurievich', 'Шипов Сергей Юрьевич']</td>\n",
       "    </tr>\n",
       "  </tbody>\n",
       "</table>\n",
       "</div>"
      ],
      "text/plain": [
       "   original_index                                            id  \\\n",
       "0               0  acf-00040861bc3f593000830d987d09967ef3503ef1   \n",
       "1               1  acf-0011c68a768924609dc5da5707ac7fa4c4d645a2   \n",
       "\n",
       "                      name  \\\n",
       "0           Kolyvanov Egor   \n",
       "1  Shipov Sergei Yurievich   \n",
       "\n",
       "                                                                                                                                                                                             desc  \\\n",
       "0                                      Russian propagandist: host of news program \"Segodnia\" (\"Today\") on NTV Propagandists Federal media employees male 1980-11-15 Kolyvanov Egor Колыванов Егор   \n",
       "1  Russian chess player, grandmaster, chess coach, commentator. Publicly supported Russia's war against Ukraine. Warmongers Athletes male 1966-04-17 Shipov Sergei Yurievich Шипов Сергей Юрьевич   \n",
       "\n",
       "                                                   AKA  \n",
       "0                 ['Kolyvanov Egor', 'Колыванов Егор']  \n",
       "1  ['Shipov Sergei Yurievich', 'Шипов Сергей Юрьевич']  "
      ]
     },
     "execution_count": 36,
     "metadata": {},
     "output_type": "execute_result"
    }
   ],
   "source": [
    "kb_entities.head(2)"
   ]
  },
  {
   "cell_type": "code",
   "execution_count": null,
   "id": "34ccce77-77d3-4644-bf68-2128b49e4ac5",
   "metadata": {},
   "outputs": [],
   "source": [
    "## Resolve duplicate entitiy IDs"
   ]
  },
  {
   "cell_type": "code",
   "execution_count": 60,
   "id": "74c9be81-a6bf-45ee-9e23-1c23a8bd3fb4",
   "metadata": {},
   "outputs": [],
   "source": [
    "# Find duplicate entries on the 'id' columns\n",
    "redudant_entities_by_id=kb_entities[kb_entities['id'].duplicated(keep=False)].sort_values(['id','name'])"
   ]
  },
  {
   "cell_type": "code",
   "execution_count": 70,
   "id": "95feebd8-1103-47d5-a4ac-c45b3d442169",
   "metadata": {},
   "outputs": [],
   "source": [
    "# Drop duplicate_entities\n",
    "redudant_entities_indices=redudant_entities_by_id.index\n",
    "kb_entities.drop(redudant_entities_indices, inplace=True)"
   ]
  },
  {
   "cell_type": "code",
   "execution_count": 53,
   "id": "3a7470cc-efcf-4a83-b279-ba4d080c2b1f",
   "metadata": {},
   "outputs": [],
   "source": [
    "# Combine desc across duplicated entities\n",
    "redudant_entities_by_id_consolidated_desc=redudant_entities_by_id[['id','desc']].groupby(['id'])['desc'].apply(lambda x: ' '.join(x)).reset_index()"
   ]
  },
  {
   "cell_type": "code",
   "execution_count": 74,
   "id": "8c18a42d-1648-471f-b1db-8717ead083e5",
   "metadata": {},
   "outputs": [],
   "source": [
    "# Drop all duplicated apart from the first (needs to be sorted by [id, name])\n",
    "redudant_entities_by_id.drop_duplicates(subset=['id'],keep='first',inplace=True)"
   ]
  },
  {
   "cell_type": "code",
   "execution_count": 78,
   "id": "6bf759e4-9047-4a4e-99d4-6137dd407f5c",
   "metadata": {},
   "outputs": [],
   "source": [
    "# Concatenate back to kb entity dataframe \n",
    "kb_entities=pd.concat([kb_entities,redudant_entities_by_id])"
   ]
  },
  {
   "cell_type": "code",
   "execution_count": 117,
   "id": "74074c49-2b05-4540-ba95-a1348d0f52d6",
   "metadata": {},
   "outputs": [],
   "source": [
    "# Cast names in lower case\n",
    "kb_entities['name']=kb_entities['name'].str.lower()"
   ]
  },
  {
   "cell_type": "code",
   "execution_count": 246,
   "id": "c3e30266-7023-48dc-b507-1880847684cb",
   "metadata": {},
   "outputs": [],
   "source": [
    "# Drop duplicates on name and desc\n",
    "kb_entities.drop_duplicates(['name','desc'],inplace=True)"
   ]
  },
  {
   "cell_type": "code",
   "execution_count": 316,
   "id": "6f1e9142-2f10-4d58-a335-5cd24ef71f7d",
   "metadata": {},
   "outputs": [],
   "source": [
    "kb_entities['name']=kb_entities['name_backup']"
   ]
  },
  {
   "cell_type": "code",
   "execution_count": null,
   "id": "cd467cf0-c790-42dc-8284-a4ae8765e9d6",
   "metadata": {},
   "outputs": [],
   "source": []
  },
  {
   "cell_type": "code",
   "execution_count": null,
   "id": "d89b4ec1-e6af-4d3f-a416-857ab06b4250",
   "metadata": {},
   "outputs": [],
   "source": []
  },
  {
   "cell_type": "raw",
   "id": "730a9b4b-fcaf-41aa-b16d-54ac2ee12e79",
   "metadata": {},
   "source": [
    "# Remove titles \n",
    "kb_entities['name']=kb_entities['name'].str.split('\\. ').apply(lambda x: ' '.join([s for s in x if len(s)>3]))"
   ]
  },
  {
   "cell_type": "raw",
   "id": "bb0e007e-3155-4496-a8c4-82926d526790",
   "metadata": {},
   "source": [
    "kb_entities['first_name']=kb_entities['name'].apply(lambda r: r.split(' ')[0])"
   ]
  },
  {
   "cell_type": "raw",
   "id": "44de4977-ce6f-4299-8643-5798e861cdc2",
   "metadata": {},
   "source": [
    "kb_entities['last_name']=kb_entities['name'].apply(lambda r: r.split(' ')[-1])"
   ]
  },
  {
   "cell_type": "raw",
   "id": "cccee358-1543-4348-9dcf-ec6ae971344c",
   "metadata": {},
   "source": [
    "kb_entities[kb_entities.duplicated(subset=['first_name','last_name','desc'], keep=False)].sort_values(by=['first_name','last_name']).to_csv('duplicate_entities_on_first_and_last_names.csv')"
   ]
  },
  {
   "cell_type": "code",
   "execution_count": null,
   "id": "c0c85e06-9087-42a3-b1b9-da8296304d1a",
   "metadata": {},
   "outputs": [],
   "source": []
  },
  {
   "cell_type": "code",
   "execution_count": 253,
   "id": "279e7125-9c2e-4414-8ab6-1a8c27aaac8e",
   "metadata": {},
   "outputs": [],
   "source": [
    "import spacy\n",
    "nlp = spacy.load(\"en_core_web_lg\")"
   ]
  },
  {
   "cell_type": "code",
   "execution_count": 283,
   "id": "eaa98c4c-17e9-4afb-a94e-76b6ff3aaaaf",
   "metadata": {},
   "outputs": [],
   "source": [
    "from numpy import dot\n",
    "from numpy.linalg import norm\n",
    "def calculate_cosine_similarity(descriptions_vec,vector_ref_sentence):\n",
    "    \"\"\"\n",
    "    Return a dictionary mapping the kb entity id to cosine similarity score\n",
    "    between kb embedded descriptions and the reference vector.\n",
    "    \"\"\"\n",
    "\n",
    "    score=np.nan_to_num(\n",
    "        dot(vector_ref_sentence, descriptions_vec)/\n",
    "        (norm(vector_ref_sentence)*norm(descriptions_vec))\n",
    "    ,0)\n",
    "    return score"
   ]
  },
  {
   "cell_type": "code",
   "execution_count": 330,
   "id": "42686ba7-8e55-4218-88b5-184eaf3426df",
   "metadata": {},
   "outputs": [],
   "source": [
    "kb_entities['desc_enc']=kb_entities['desc'].apply(lambda x: nlp(x).vector)"
   ]
  },
  {
   "cell_type": "raw",
   "id": "35e5554b-c66c-4f40-8b9b-ff92d8740f73",
   "metadata": {},
   "source": [
    "kb_entities.to_csv('kb_entities_full.csv')"
   ]
  },
  {
   "cell_type": "raw",
   "id": "eea23656-b408-4c70-a7f3-6bd275091f60",
   "metadata": {},
   "source": [
    "kb_entities[kb_entities.duplicated(subset=['last_name'], keep=False)].sort_values(by=['last_name','name']).to_csv('duplicates_by_last_name.csv')"
   ]
  },
  {
   "cell_type": "code",
   "execution_count": null,
   "id": "c50d9a6d-f85a-4702-b1ec-feab5f1e22cc",
   "metadata": {},
   "outputs": [],
   "source": []
  },
  {
   "cell_type": "code",
   "execution_count": 339,
   "id": "96fdbae4-b2c1-4fe4-a152-36e1f32ac53d",
   "metadata": {},
   "outputs": [
    {
     "data": {
      "text/plain": [
       "david wilson          13\n",
       "david smith           13\n",
       "mark smith            13\n",
       "john williams         12\n",
       "david anderson        11\n",
       "                      ..\n",
       "naruhito               2\n",
       "karina gould           2\n",
       "jonathan wilkinson     2\n",
       "rudolf müller          2\n",
       "mark dente             2\n",
       "Name: name, Length: 11495, dtype: int64"
      ]
     },
     "execution_count": 339,
     "metadata": {},
     "output_type": "execute_result"
    }
   ],
   "source": [
    "kb_entities.loc[kb_entities['name'].duplicated(keep=False),'name'].value_counts()"
   ]
  },
  {
   "cell_type": "code",
   "execution_count": 423,
   "id": "563cd8b9-90b6-4b2f-abb8-22c665cd844f",
   "metadata": {},
   "outputs": [],
   "source": []
  },
  {
   "cell_type": "code",
   "execution_count": 434,
   "id": "4287ef61-da5f-49da-b1dc-b11ae328f359",
   "metadata": {},
   "outputs": [
    {
     "name": "stderr",
     "output_type": "stream",
     "text": [
      "/Users/luis_flores/.local/share/virtualenvs/ner-DhZLIlym/lib/python3.7/site-packages/ipykernel_launcher.py:11: RuntimeWarning: invalid value encountered in float_scalars\n",
      "  # This is added back by InteractiveShellApp.init_path()\n"
     ]
    }
   ],
   "source": [
    "for i,name in enumerate(kb_entities['name'].unique()): \n",
    "    df=kb_entities[kb_entities['name']==name]\n",
    "    df=df[['name','id','desc','desc_enc']]\n",
    "    df=df.merge(df, on='name', suffixes=['_1','_2'])\n",
    "    df['similarity_score']=df.apply(\n",
    "        lambda x: calculate_cosine_similarity(x['desc_enc_1'],x['desc_enc_2']),\n",
    "            1\n",
    "        )\n",
    "    df=df[df['similarity_score']>0]\n",
    "    if i==0:\n",
    "        similarity_df=df[['id_1','id_2','similarity_score']]\n",
    "    else:\n",
    "        similarity_df=pd.concat([similarity_df, df[['id_1','id_2','similarity_score']]])\n",
    "        \n",
    "similarity_df=similarity_df[(similarity_df['id_1']!=similarity_df['id_2'])]"
   ]
  },
  {
   "cell_type": "code",
   "execution_count": null,
   "id": "509cb8f7-0c03-4f4f-8f01-47004f1417d2",
   "metadata": {},
   "outputs": [],
   "source": [
    "# The merging the ids agains themselves creates deplicates based on order \n",
    "# (id 1, id 2 or id 2, id 1 doesn't matter, just the pairing of the set)\n",
    "# This code removes redudant rows\n",
    "similarity_df['id_1']=similarity_df['id_1'].astype(str)\n",
    "similarity_df['id_2']=similarity_df['id_2'].astype(str)\n",
    "similarity_df['id_pair']=similarity_df.apply(lambda x: ' '.join(set([x['id_1'],x['id_2']])),1)\n",
    "similarity_df=similarity_df.drop_duplicates('id_pair',keep='first')"
   ]
  },
  {
   "cell_type": "code",
   "execution_count": 469,
   "id": "71c7c7e3-8481-45fc-afd0-771b5b9789a3",
   "metadata": {},
   "outputs": [
    {
     "name": "stderr",
     "output_type": "stream",
     "text": [
      "/Users/luis_flores/.local/share/virtualenvs/ner-DhZLIlym/lib/python3.7/site-packages/ipykernel_launcher.py:4: SettingWithCopyWarning: \n",
      "A value is trying to be set on a copy of a slice from a DataFrame.\n",
      "Try using .loc[row_indexer,col_indexer] = value instead\n",
      "\n",
      "See the caveats in the documentation: https://pandas.pydata.org/pandas-docs/stable/user_guide/indexing.html#returning-a-view-versus-a-copy\n",
      "  after removing the cwd from sys.path.\n",
      "/Users/luis_flores/.local/share/virtualenvs/ner-DhZLIlym/lib/python3.7/site-packages/ipykernel_launcher.py:5: SettingWithCopyWarning: \n",
      "A value is trying to be set on a copy of a slice from a DataFrame.\n",
      "Try using .loc[row_indexer,col_indexer] = value instead\n",
      "\n",
      "See the caveats in the documentation: https://pandas.pydata.org/pandas-docs/stable/user_guide/indexing.html#returning-a-view-versus-a-copy\n",
      "  \"\"\"\n"
     ]
    }
   ],
   "source": [
    "# Remove cyrillic \n",
    "cyrillic = \"вгдеёзийклмнопрстуфхъыьэАБВГДЕЁЗИЙКЛМНОПРСТУФХЪЫЬЭжцчщюяєії\"\n",
    "for symbol in cyrillic:\n",
    "    similarity_df['desc_1']=similarity_df['desc_1'].str.replace(symbol,'')\n",
    "    similarity_df['desc_2']=similarity_df['desc_2'].str.replace(symbol,'')"
   ]
  },
  {
   "cell_type": "code",
   "execution_count": 442,
   "id": "fca34a90-0f57-44a8-a2a5-79665502bac2",
   "metadata": {},
   "outputs": [
    {
     "name": "stderr",
     "output_type": "stream",
     "text": [
      "/Users/luis_flores/.local/share/virtualenvs/ner-DhZLIlym/lib/python3.7/site-packages/ipykernel_launcher.py:2: FutureWarning: In a future version of pandas all arguments of DataFrame.drop except for the argument 'labels' will be keyword-only\n",
      "  \n",
      "/Users/luis_flores/.local/share/virtualenvs/ner-DhZLIlym/lib/python3.7/site-packages/ipykernel_launcher.py:5: FutureWarning: In a future version of pandas all arguments of DataFrame.drop except for the argument 'labels' will be keyword-only\n",
      "  \"\"\"\n"
     ]
    }
   ],
   "source": [
    "# Fetch the context for each id\n",
    "similarity_df=similarity_df.merge(kb_entities[['name','id','desc']], how='left',left_on='id_1', right_on='id')\n",
    "similarity_df.drop('id',1,inplace=True)\n",
    "similarity_df=similarity_df.rename(columns={'name':'name_1','desc':'desc_1'})\n",
    "similarity_df=similarity_df.merge(kb_entities[['name','id','desc']], how='left',left_on='id_2', right_on='id')\n",
    "similarity_df.drop('id',1,inplace=True)\n",
    "similarity_df=similarity_df.rename(columns={'name':'name_2','desc':'desc_2'})"
   ]
  },
  {
   "cell_type": "code",
   "execution_count": 471,
   "id": "ff5fe547-d675-4a4c-a69c-fcabef7920fd",
   "metadata": {},
   "outputs": [],
   "source": [
    "similarity_df.to_csv('similarity_df.csv')"
   ]
  },
  {
   "cell_type": "code",
   "execution_count": 128,
   "id": "94b10ca0-9edf-4aa4-b060-05e77a06e427",
   "metadata": {},
   "outputs": [],
   "source": [
    "kb_entities[kb_entities.duplicated(keep=False,subset=['name'])].sort_values(by=['name']).to_csv(f'{dataset}_full_name_aliases.csv')"
   ]
  },
  {
   "cell_type": "code",
   "execution_count": 129,
   "id": "1ff2e7c2-a4a3-49b3-a813-78db655a340f",
   "metadata": {},
   "outputs": [],
   "source": [
    "kb_entities['first_name']=kb_entities['name'].apply(lambda x: x.split(' ')[0])"
   ]
  },
  {
   "cell_type": "code",
   "execution_count": 130,
   "id": "3c96528c-5b70-4f98-aa78-86e81928a0f0",
   "metadata": {},
   "outputs": [],
   "source": [
    "kb_entities['last_name']=kb_entities['name'].apply(lambda x: x.split(' ')[-1])"
   ]
  },
  {
   "cell_type": "code",
   "execution_count": 131,
   "id": "8224b86a-44dc-43a5-85a4-2e0ee252c92e",
   "metadata": {},
   "outputs": [],
   "source": [
    "kb_entities[kb_entities.duplicated(\n",
    "    keep=False,subset=['first_name','last_name'])]\\\n",
    "    .sort_values(by=['first_name','last_name']).to_csv(f'{dataset}_first_and_last_name_aliases.csv')"
   ]
  },
  {
   "cell_type": "code",
   "execution_count": null,
   "id": "60b153a0-8e2a-464b-8fc0-70a0112a4549",
   "metadata": {},
   "outputs": [],
   "source": []
  },
  {
   "cell_type": "code",
   "execution_count": null,
   "id": "25aa910a-b591-47cd-98ec-822d3920018a",
   "metadata": {},
   "outputs": [
    {
     "data": {
      "text/html": [
       "<div>\n",
       "<style scoped>\n",
       "    .dataframe tbody tr th:only-of-type {\n",
       "        vertical-align: middle;\n",
       "    }\n",
       "\n",
       "    .dataframe tbody tr th {\n",
       "        vertical-align: top;\n",
       "    }\n",
       "\n",
       "    .dataframe thead th {\n",
       "        text-align: right;\n",
       "    }\n",
       "</style>\n",
       "<table border=\"1\" class=\"dataframe\">\n",
       "  <thead>\n",
       "    <tr style=\"text-align: right;\">\n",
       "      <th></th>\n",
       "      <th>id</th>\n",
       "      <th>name</th>\n",
       "      <th>desc</th>\n",
       "    </tr>\n",
       "  </thead>\n",
       "  <tbody>\n",
       "  </tbody>\n",
       "</table>\n",
       "</div>"
      ],
      "text/plain": [
       "Empty DataFrame\n",
       "Columns: [id, name, desc]\n",
       "Index: []"
      ]
     },
     "execution_count": 38,
     "metadata": {},
     "output_type": "execute_result"
    }
   ],
   "source": [
    "kb_entities[kb_entities.isna().any(1)]"
   ]
  },
  {
   "cell_type": "code",
   "execution_count": null,
   "id": "5e54b454-e43e-42cd-befa-04e71e61136f",
   "metadata": {},
   "outputs": [],
   "source": [
    "kb_entities.to_csv('kb_entities.csv')"
   ]
  },
  {
   "cell_type": "code",
   "execution_count": null,
   "id": "a4db6056-3e71-4bd5-9180-4e789ebc6225",
   "metadata": {},
   "outputs": [],
   "source": []
  },
  {
   "cell_type": "code",
   "execution_count": null,
   "id": "de07b7cf-2640-45a5-ba16-fa8f1c7b9f43",
   "metadata": {},
   "outputs": [],
   "source": []
  },
  {
   "cell_type": "code",
   "execution_count": 139,
   "id": "4e1dab2a-7e03-437c-9703-7a65917c228d",
   "metadata": {},
   "outputs": [],
   "source": [
    "data=pd.read_csv('open_sanctions_entities.csv',index_col=0)"
   ]
  },
  {
   "cell_type": "code",
   "execution_count": 140,
   "id": "749a074b-8b6b-44da-ab0f-fc64d53a24a1",
   "metadata": {},
   "outputs": [
    {
     "data": {
      "text/html": [
       "<div>\n",
       "<style scoped>\n",
       "    .dataframe tbody tr th:only-of-type {\n",
       "        vertical-align: middle;\n",
       "    }\n",
       "\n",
       "    .dataframe tbody tr th {\n",
       "        vertical-align: top;\n",
       "    }\n",
       "\n",
       "    .dataframe thead th {\n",
       "        text-align: right;\n",
       "    }\n",
       "</style>\n",
       "<table border=\"1\" class=\"dataframe\">\n",
       "  <thead>\n",
       "    <tr style=\"text-align: right;\">\n",
       "      <th></th>\n",
       "      <th>id</th>\n",
       "      <th>schema</th>\n",
       "      <th>name</th>\n",
       "      <th>notes</th>\n",
       "      <th>AKA</th>\n",
       "      <th>context</th>\n",
       "      <th>full_notes</th>\n",
       "    </tr>\n",
       "  </thead>\n",
       "  <tbody>\n",
       "    <tr>\n",
       "      <th>0</th>\n",
       "      <td>acf-00040861bc3f593000830d987d09967ef3503ef1</td>\n",
       "      <td>Person</td>\n",
       "      <td>Kolyvanov Egor</td>\n",
       "      <td>Russian propagandist: host of news program \"Se...</td>\n",
       "      <td>['Kolyvanov Egor', 'Колыванов Егор']</td>\n",
       "      <td>Propagandists Federal media employees male 198...</td>\n",
       "      <td>Russian propagandist: host of news program \"Se...</td>\n",
       "    </tr>\n",
       "    <tr>\n",
       "      <th>1</th>\n",
       "      <td>acf-0011c68a768924609dc5da5707ac7fa4c4d645a2</td>\n",
       "      <td>Person</td>\n",
       "      <td>Shipov Sergei Yurievich</td>\n",
       "      <td>Russian chess player, grandmaster, chess coach...</td>\n",
       "      <td>['Shipov Sergei Yurievich', 'Шипов Сергей Юрье...</td>\n",
       "      <td>Warmongers Athletes male 1966-04-17</td>\n",
       "      <td>Russian chess player, grandmaster, chess coach...</td>\n",
       "    </tr>\n",
       "    <tr>\n",
       "      <th>2</th>\n",
       "      <td>acf-001e7e4c0363f08f1e784c230457960b84a6416f</td>\n",
       "      <td>Person</td>\n",
       "      <td>Egorov Ivan Mikhailovich</td>\n",
       "      <td>Deputy of the State Council of the Republic of...</td>\n",
       "      <td>['Egorov Ivan Mikhailovich', 'Егоров Иван Миха...</td>\n",
       "      <td>Regional investigations subjects male 1961-01-21</td>\n",
       "      <td>Deputy of the State Council of the Republic of...</td>\n",
       "    </tr>\n",
       "    <tr>\n",
       "      <th>3</th>\n",
       "      <td>acf-002c208139012c8d93b6298358188d7cadafe648</td>\n",
       "      <td>Person</td>\n",
       "      <td>Goreslavsky Alexey Sergeyevich</td>\n",
       "      <td>Russian journalist and media manager. Helped d...</td>\n",
       "      <td>['Goreslavsky Alexey Sergeyevich', 'Гореславск...</td>\n",
       "      <td>Propagandists Organizers of political repressi...</td>\n",
       "      <td>Russian journalist and media manager. Helped d...</td>\n",
       "    </tr>\n",
       "    <tr>\n",
       "      <th>4</th>\n",
       "      <td>acf-002cc8fdf8fe41185091a7cb6c598663e7a22eb5</td>\n",
       "      <td>Person</td>\n",
       "      <td>Samoilova Natalya Vladimirovna</td>\n",
       "      <td>Russian singer, composer. Supported the action...</td>\n",
       "      <td>['Samoilova Natalya Vladimirovna', 'Самойлова ...</td>\n",
       "      <td>Sellout opinion leaders Celebrities, influence...</td>\n",
       "      <td>Russian singer, composer. Supported the action...</td>\n",
       "    </tr>\n",
       "  </tbody>\n",
       "</table>\n",
       "</div>"
      ],
      "text/plain": [
       "                                             id  schema  \\\n",
       "0  acf-00040861bc3f593000830d987d09967ef3503ef1  Person   \n",
       "1  acf-0011c68a768924609dc5da5707ac7fa4c4d645a2  Person   \n",
       "2  acf-001e7e4c0363f08f1e784c230457960b84a6416f  Person   \n",
       "3  acf-002c208139012c8d93b6298358188d7cadafe648  Person   \n",
       "4  acf-002cc8fdf8fe41185091a7cb6c598663e7a22eb5  Person   \n",
       "\n",
       "                             name  \\\n",
       "0                  Kolyvanov Egor   \n",
       "1         Shipov Sergei Yurievich   \n",
       "2        Egorov Ivan Mikhailovich   \n",
       "3  Goreslavsky Alexey Sergeyevich   \n",
       "4  Samoilova Natalya Vladimirovna   \n",
       "\n",
       "                                               notes  \\\n",
       "0  Russian propagandist: host of news program \"Se...   \n",
       "1  Russian chess player, grandmaster, chess coach...   \n",
       "2  Deputy of the State Council of the Republic of...   \n",
       "3  Russian journalist and media manager. Helped d...   \n",
       "4  Russian singer, composer. Supported the action...   \n",
       "\n",
       "                                                 AKA  \\\n",
       "0               ['Kolyvanov Egor', 'Колыванов Егор']   \n",
       "1  ['Shipov Sergei Yurievich', 'Шипов Сергей Юрье...   \n",
       "2  ['Egorov Ivan Mikhailovich', 'Егоров Иван Миха...   \n",
       "3  ['Goreslavsky Alexey Sergeyevich', 'Гореславск...   \n",
       "4  ['Samoilova Natalya Vladimirovna', 'Самойлова ...   \n",
       "\n",
       "                                             context  \\\n",
       "0  Propagandists Federal media employees male 198...   \n",
       "1                Warmongers Athletes male 1966-04-17   \n",
       "2   Regional investigations subjects male 1961-01-21   \n",
       "3  Propagandists Organizers of political repressi...   \n",
       "4  Sellout opinion leaders Celebrities, influence...   \n",
       "\n",
       "                                          full_notes  \n",
       "0  Russian propagandist: host of news program \"Se...  \n",
       "1  Russian chess player, grandmaster, chess coach...  \n",
       "2  Deputy of the State Council of the Republic of...  \n",
       "3  Russian journalist and media manager. Helped d...  \n",
       "4  Russian singer, composer. Supported the action...  "
      ]
     },
     "execution_count": 140,
     "metadata": {},
     "output_type": "execute_result"
    }
   ],
   "source": [
    "data.head()"
   ]
  },
  {
   "cell_type": "code",
   "execution_count": 141,
   "id": "37d1af2b-2451-4ec7-956c-4293367bccdf",
   "metadata": {},
   "outputs": [
    {
     "data": {
      "text/plain": [
       "Person          161532\n",
       "Company           3374\n",
       "Organization      2017\n",
       "LegalEntity       1217\n",
       "Vessel             509\n",
       "Airplane           269\n",
       "Name: schema, dtype: int64"
      ]
     },
     "execution_count": 141,
     "metadata": {},
     "output_type": "execute_result"
    }
   ],
   "source": [
    "data.dropna(subset=['notes'])['schema'].value_counts()"
   ]
  },
  {
   "cell_type": "code",
   "execution_count": null,
   "id": "09da089b-42c6-4f7e-92d0-2550af406258",
   "metadata": {},
   "outputs": [],
   "source": []
  }
 ],
 "metadata": {
  "kernelspec": {
   "display_name": "Python 3 (ipykernel)",
   "language": "python",
   "name": "python3"
  },
  "language_info": {
   "codemirror_mode": {
    "name": "ipython",
    "version": 3
   },
   "file_extension": ".py",
   "mimetype": "text/x-python",
   "name": "python",
   "nbconvert_exporter": "python",
   "pygments_lexer": "ipython3",
   "version": "3.7.13"
  }
 },
 "nbformat": 4,
 "nbformat_minor": 5
}
