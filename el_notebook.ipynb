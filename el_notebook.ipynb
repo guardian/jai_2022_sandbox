{
 "cells": [
  {
   "cell_type": "markdown",
   "metadata": {},
   "source": [
    "# Introduction to Entity Linking"
   ]
  },
  {
   "cell_type": "markdown",
   "metadata": {},
   "source": [
    "This notebook provides a short tutorial on how to implement and use spaCy's Entity Linking functionality with spaCy v3.  It can be used together with [this video](https://www.youtube.com/watch?v=8u57WSXVpmw). Note that this video was originally created for spaCy v2, but this notebook includes the updates needed for v3. If you want to use spaCy v2 instead, you can find the original code [here](https://github.com/explosion/projects/tree/master/nel-emerson)."
   ]
  },
  {
   "cell_type": "markdown",
   "metadata": {},
   "source": [
    "**Entity Linking** (EL) is the challenge of resolving ambiguous textual mentions to unique concepts in a knowledge base. A related task is **Named Entity Recognition** (NER). An NER component basically identifies words in text that have a specific name and refer to real-world objects, such as people or organizations. spaCy offers pre-built Machine Learning models that perform Named Entity Recognition for a variety of languages (https://spacy.io/models)."
   ]
  },
  {
   "cell_type": "markdown",
   "metadata": {
    "pycharm": {
     "name": "#%% md\n"
    }
   },
   "source": [
    "!pip install spacy==3.0.6\n",
    "!pip install spacy-lookups-data\n",
    "!python -m spacy download en_core_web_lg"
   ]
  },
  {
   "cell_type": "markdown",
   "metadata": {},
   "source": [
    "Let's load a  pretrained English model, apply it to some sample text and show the named entities that were identified by printing their text and label."
   ]
  },
  {
   "cell_type": "code",
   "execution_count": null,
   "metadata": {
    "tags": []
   },
   "outputs": [
    {
     "name": "stdout",
     "output_type": "stream",
     "text": [
      "Named Entity 'Emerson' with label 'PERSON'\n",
      "Named Entity 'Wimbledon' with label 'EVENT'\n"
     ]
    }
   ],
   "source": [
    "import spacy\n",
    "nlp = spacy.load(\"en_core_web_lg\")\n",
    "text = \"Tennis champion Emerson was expected to win Wimbledon.\"\n",
    "doc = nlp(text)\n",
    "for ent in doc.ents:\n",
    "    print(f\"Named Entity '{ent.text}' with label '{ent.label_}'\")"
   ]
  },
  {
   "cell_type": "markdown",
   "metadata": {},
   "source": [
    "We see that this sentence contains a person called \"Emerson\" and an event called \"Wimbledon\". \n",
    "\n",
    "Unfortunately, there may be many people in the world called \"Emerson\", and this output still doesn't tell us which one exactly we meant. This is the challenge addressed by Entity Linking. It transforms an ambiguous textual mention to a unique identifier by looking at the context in which the mention occurs. "
   ]
  },
  {
   "cell_type": "markdown",
   "metadata": {},
   "source": [
    "In this specific case, the sentence gives us important clues: Emerson is clearly a professional tennis player. \n",
    "\n",
    "Searching the internet, we can establish that this sentence is most likely talking about Roy Emerson, an Australian tennis player. We can now resolve this entity in this sentence to its unique identifier from WikiData, which is a free and open, interlingual knowledge base. Its unique IDs always start with a Q, and \"Roy Emerson\" has the identifier Q312545: https://www.wikidata.org/wiki/Q312545"
   ]
  },
  {
   "cell_type": "markdown",
   "metadata": {},
   "source": [
    "To implement an entity linking pipeline, we need 3 different steps. \n",
    "\n",
    "The first step, as we already saw, is Named Entity Recognition, in which the mention \"Emerson\" is labeled as a \"Person\". Next, the extracted mention needs to be resolved to a list of plausible candidates. In our case, we'll consider three different people named Emerson. Typically, this list is created by querying a knowledge base (KB) that contains various aliases and synonyms. In the final step, we need to reduce the list of candidates to just one final ID that represents the correct Emerson."
   ]
  },
  {
   "cell_type": "markdown",
   "metadata": {},
   "source": [
    "![Diagram of entity linking process](nel_schema.png)"
   ]
  },
  {
   "cell_type": "markdown",
   "metadata": {},
   "source": [
    "This tutorial will show you how to use spaCy v3 to create a Knowledge base that will address the second step of candidate generation. Additionally, we will create a new Entity Linking component, and train its Machine Learning model on some annotated data.\n",
    "\n",
    "In this notebook, we implement the functions and training loop from scratch. However, spaCy v3 has introduced a powerful and extensible training configuration system, that we advice to use in most cases. You can find the corresponding implementation with the [config system](https://spacy.io/usage/training#config), runnable with the new [spacy projects](https://spacy.io/usage/projects), [here](https://github.com/explosion/projects/tree/v3/tutorials/nel_emerson).\n",
    "\n",
    "The aim of this tutorial is to help you get started implementing your own Entity Linking functionality with spaCy. If you want to know more about the technical details, checkout this presentation at spaCy IRL 2019: https://www.youtube.com/watch?v=PW3RJM8tDGo&list=PLBmcuObd5An4UC6jvK_-eSl6jCvP1gwXc&index=7&t=0s"
   ]
  },
  {
   "cell_type": "markdown",
   "metadata": {},
   "source": [
    "# Creating the Knowledge Base "
   ]
  },
  {
   "cell_type": "markdown",
   "metadata": {},
   "source": [
    "The first step to perform Entity Linking, is to set up a knowledge base that contains the unique identifiers of the entities we are interested in. In this tutorial we will create a very simple one with only 3 entries. We load the data from a pre-defined CSV file."
   ]
  },
  {
   "cell_type": "code",
   "execution_count": null,
   "metadata": {},
   "outputs": [],
   "source": [
    "import pandas as pd"
   ]
  },
  {
   "cell_type": "code",
   "execution_count": 498,
   "metadata": {},
   "outputs": [],
   "source": [
    "kb_data=pd.read_csv('kb_datasets/kb_entities_lilsis.csv',index_col=0)"
   ]
  },
  {
   "cell_type": "code",
   "execution_count": 499,
   "metadata": {},
   "outputs": [
    {
     "data": {
      "text/plain": [
       "(212339, 3)"
      ]
     },
     "execution_count": 499,
     "metadata": {},
     "output_type": "execute_result"
    }
   ],
   "source": [
    "kb_data.shape"
   ]
  },
  {
   "cell_type": "code",
   "execution_count": 502,
   "metadata": {},
   "outputs": [],
   "source": [
    "kb_data=kb_data[['id','name','desc']]"
   ]
  },
  {
   "cell_type": "code",
   "execution_count": 7,
   "metadata": {},
   "outputs": [],
   "source": [
    "## Generate synthetic aliases "
   ]
  },
  {
   "cell_type": "code",
   "execution_count": 503,
   "metadata": {},
   "outputs": [],
   "source": [
    "aliases_data=kb_data[kb_data['name'].duplicated(keep=False)].sort_values(['name'])"
   ]
  },
  {
   "cell_type": "code",
   "execution_count": 504,
   "metadata": {},
   "outputs": [],
   "source": [
    "aliases_data['id']=aliases_data['id'].astype(str)"
   ]
  },
  {
   "cell_type": "code",
   "execution_count": 505,
   "metadata": {},
   "outputs": [],
   "source": [
    "alias_dict={}\n",
    "for alias in aliases_data['name'].unique():\n",
    "    alias_dict[alias]=list(aliases_data.loc[aliases_data['name']==alias, 'id'].values)"
   ]
  },
  {
   "cell_type": "code",
   "execution_count": 506,
   "metadata": {},
   "outputs": [
    {
     "data": {
      "text/plain": [
       "Cool Davis            12\n",
       "David Wilson          11\n",
       "Mark Smith            11\n",
       "David Smith           11\n",
       "William Cavendish     10\n",
       "                      ..\n",
       "Stephen DiCarmine      1\n",
       "Martin Bienenstock     1\n",
       "Elyse Grinstein        1\n",
       "Claire A Grinstein     1\n",
       "Jim Sabia              1\n",
       "Name: name, Length: 206878, dtype: int64"
      ]
     },
     "execution_count": 506,
     "metadata": {},
     "output_type": "execute_result"
    }
   ],
   "source": [
    "kb_data['name'].value_counts()"
   ]
  },
  {
   "cell_type": "code",
   "execution_count": 507,
   "metadata": {},
   "outputs": [
    {
     "data": {
      "text/html": [
       "<div>\n",
       "<style scoped>\n",
       "    .dataframe tbody tr th:only-of-type {\n",
       "        vertical-align: middle;\n",
       "    }\n",
       "\n",
       "    .dataframe tbody tr th {\n",
       "        vertical-align: top;\n",
       "    }\n",
       "\n",
       "    .dataframe thead th {\n",
       "        text-align: right;\n",
       "    }\n",
       "</style>\n",
       "<table border=\"1\" class=\"dataframe\">\n",
       "  <thead>\n",
       "    <tr style=\"text-align: right;\">\n",
       "      <th></th>\n",
       "      <th>qid</th>\n",
       "      <th>name</th>\n",
       "      <th>desc</th>\n",
       "    </tr>\n",
       "  </thead>\n",
       "  <tbody>\n",
       "    <tr>\n",
       "      <th>0</th>\n",
       "      <td>1</td>\n",
       "      <td>Walmart Inc.</td>\n",
       "      <td>Retail merchandising</td>\n",
       "    </tr>\n",
       "    <tr>\n",
       "      <th>1</th>\n",
       "      <td>2</td>\n",
       "      <td>ExxonMobil</td>\n",
       "      <td>Oil and gas exploration, production, and marke...</td>\n",
       "    </tr>\n",
       "    <tr>\n",
       "      <th>2</th>\n",
       "      <td>3</td>\n",
       "      <td>Chevron</td>\n",
       "      <td>Energy Company</td>\n",
       "    </tr>\n",
       "    <tr>\n",
       "      <th>3</th>\n",
       "      <td>4</td>\n",
       "      <td>General Motors Company</td>\n",
       "      <td>automobile manufacturer</td>\n",
       "    </tr>\n",
       "    <tr>\n",
       "      <th>4</th>\n",
       "      <td>5</td>\n",
       "      <td>ConocoPhillips</td>\n",
       "      <td>Texas-based oil and gas corporation</td>\n",
       "    </tr>\n",
       "    <tr>\n",
       "      <th>...</th>\n",
       "      <td>...</td>\n",
       "      <td>...</td>\n",
       "      <td>...</td>\n",
       "    </tr>\n",
       "    <tr>\n",
       "      <th>405997</th>\n",
       "      <td>427652</td>\n",
       "      <td>Alexander “Curt“ Meyer, III</td>\n",
       "      <td>Founder &amp; Managing Partner of Truscott Partner...</td>\n",
       "    </tr>\n",
       "    <tr>\n",
       "      <th>405999</th>\n",
       "      <td>427654</td>\n",
       "      <td>Truscott Partners, LLC</td>\n",
       "      <td>The Meyer Family Private Investment company ba...</td>\n",
       "    </tr>\n",
       "    <tr>\n",
       "      <th>406000</th>\n",
       "      <td>427655</td>\n",
       "      <td>Garth Hankinson</td>\n",
       "      <td>Executive Vice President, Chief Financial Offi...</td>\n",
       "    </tr>\n",
       "    <tr>\n",
       "      <th>406001</th>\n",
       "      <td>427656</td>\n",
       "      <td>SVB Securities</td>\n",
       "      <td>Boston, MA investment bank</td>\n",
       "    </tr>\n",
       "    <tr>\n",
       "      <th>406002</th>\n",
       "      <td>427657</td>\n",
       "      <td>Jim Sabia</td>\n",
       "      <td>President of Beer Division, Constellation Brands</td>\n",
       "    </tr>\n",
       "  </tbody>\n",
       "</table>\n",
       "<p>212339 rows × 3 columns</p>\n",
       "</div>"
      ],
      "text/plain": [
       "           qid                         name  \\\n",
       "0            1                 Walmart Inc.   \n",
       "1            2                   ExxonMobil   \n",
       "2            3                      Chevron   \n",
       "3            4       General Motors Company   \n",
       "4            5               ConocoPhillips   \n",
       "...        ...                          ...   \n",
       "405997  427652  Alexander “Curt“ Meyer, III   \n",
       "405999  427654       Truscott Partners, LLC   \n",
       "406000  427655              Garth Hankinson   \n",
       "406001  427656               SVB Securities   \n",
       "406002  427657                    Jim Sabia   \n",
       "\n",
       "                                                     desc  \n",
       "0                                   Retail merchandising   \n",
       "1       Oil and gas exploration, production, and marke...  \n",
       "2                                         Energy Company   \n",
       "3                                automobile manufacturer   \n",
       "4                    Texas-based oil and gas corporation   \n",
       "...                                                   ...  \n",
       "405997  Founder & Managing Partner of Truscott Partner...  \n",
       "405999  The Meyer Family Private Investment company ba...  \n",
       "406000  Executive Vice President, Chief Financial Offi...  \n",
       "406001                        Boston, MA investment bank   \n",
       "406002  President of Beer Division, Constellation Brands   \n",
       "\n",
       "[212339 rows x 3 columns]"
      ]
     },
     "execution_count": 507,
     "metadata": {},
     "output_type": "execute_result"
    }
   ],
   "source": [
    "# export kb data in right format for tutorialkb_data\n",
    "kb_data.rename(columns={'id':'qid','context':'desc'})"
   ]
  },
  {
   "cell_type": "raw",
   "metadata": {},
   "source": [
    "kb_entities=pd.read_csv('kb_entities.csv')"
   ]
  },
  {
   "cell_type": "code",
   "execution_count": 480,
   "metadata": {},
   "outputs": [],
   "source": [
    "#import csv\n",
    "from pathlib import Path\n",
    "\n",
    "def load_entities():\n",
    "    entities_loc = Path.cwd()/\"kb_datasets/kb_entities.csv\" \n",
    "    kb_entities=pd.read_csv(entities_loc, names=['qid','name','desc'])\n",
    "\n",
    "    names = dict()\n",
    "    descriptions = dict()\n",
    "\n",
    "    for row in kb_entities.iterrows():\n",
    "        qid = str(row[1][0])\n",
    "        name = str(row[1][1])\n",
    "        desc = str(row[1][2])\n",
    "        names[qid] = name\n",
    "        descriptions[qid] = desc\n",
    "    \n",
    "    return names, descriptions"
   ]
  },
  {
   "cell_type": "code",
   "execution_count": 481,
   "metadata": {},
   "outputs": [
    {
     "name": "stderr",
     "output_type": "stream",
     "text": [
      "/Users/luis_flores/.local/share/virtualenvs/ner-DhZLIlym/lib/python3.7/site-packages/ipykernel_launcher.py:1: DtypeWarning: Columns (1) have mixed types.Specify dtype option on import or set low_memory=False.\n",
      "  \"\"\"Entry point for launching an IPython kernel.\n",
      "IOPub data rate exceeded.\n",
      "The Jupyter server will temporarily stop sending output\n",
      "to the client in order to avoid crashing it.\n",
      "To change this limit, set the config variable\n",
      "`--ServerApp.iopub_data_rate_limit`.\n",
      "\n",
      "Current values:\n",
      "ServerApp.iopub_data_rate_limit=1000000.0 (bytes/sec)\n",
      "ServerApp.rate_limit_window=3.0 (secs)\n",
      "\n"
     ]
    }
   ],
   "source": [
    "name_dict, desc_dict = load_entities()\n",
    "for QID in name_dict.keys():\n",
    "    print(f\"{QID}, name={name_dict[QID]}, desc={desc_dict[QID]}\")"
   ]
  },
  {
   "cell_type": "markdown",
   "metadata": {},
   "source": [
    "We have 3 entries here, of 3 different people called Emerson. One Australian tennis player, one American writer and one Brazilian footballer. We'll use this information to create our knowledge base. We need to define a fixed dimensionality for the entity vectors, which will be 300-D in our case."
   ]
  },
  {
   "cell_type": "code",
   "execution_count": 482,
   "metadata": {},
   "outputs": [],
   "source": [
    "from spacy.kb import KnowledgeBase\n",
    "kb = KnowledgeBase(vocab=nlp.vocab, entity_vector_length=300)"
   ]
  },
  {
   "cell_type": "markdown",
   "metadata": {},
   "source": [
    "To add each record to the knowledge base, we encode its description using the built-in word vectors of our `nlp` model. The `vector` attribute of a document is the average of its token vectors. We also need to provide a frequency, which is a raw count of how many times a certain entity appears in an annotated corpus. In this tutorial we're not using these frequencies, so we're setting them to an arbitrary value."
   ]
  },
  {
   "cell_type": "code",
   "execution_count": 483,
   "metadata": {},
   "outputs": [],
   "source": [
    "for qid, desc in desc_dict.items():\n",
    "    desc_doc = nlp(desc)\n",
    "    desc_enc = desc_doc.vector\n",
    "    kb.add_entity(entity=qid, entity_vector=desc_enc, freq=342)   # 342 is an arbitrary value here"
   ]
  },
  {
   "cell_type": "markdown",
   "metadata": {},
   "source": [
    "Now we want to specify aliases or synonyms. We first add the full names. Here, we are 100% certain that they resolve to their corresponding QID, as there is no ambiguity."
   ]
  },
  {
   "cell_type": "code",
   "execution_count": 508,
   "metadata": {},
   "outputs": [
    {
     "name": "stderr",
     "output_type": "stream",
     "text": [
      "IOPub data rate exceeded.\n",
      "The Jupyter server will temporarily stop sending output\n",
      "to the client in order to avoid crashing it.\n",
      "To change this limit, set the config variable\n",
      "`--ServerApp.iopub_data_rate_limit`.\n",
      "\n",
      "Current values:\n",
      "ServerApp.iopub_data_rate_limit=1000000.0 (bytes/sec)\n",
      "ServerApp.rate_limit_window=3.0 (secs)\n",
      "\n"
     ]
    }
   ],
   "source": [
    "for qid, name in name_dict.items():\n",
    "    if name not in alias_dict.keys():\n",
    "        kb.add_alias(alias=str(name), entities=[str(qid)], probabilities=[1])   # 100% prior probability P(entity|alias)"
   ]
  },
  {
   "cell_type": "code",
   "execution_count": 509,
   "metadata": {},
   "outputs": [],
   "source": [
    "for alias_ in alias_dict.keys():\n",
    "    qids=alias_dict[alias_]\n",
    "    probs = [round(1/len(qids),2)-.01 for qid in qids]\n",
    "    kb.add_alias(alias=alias_, entities=qids, probabilities=probs)  # sum([probs]) should be <= 1 !"
   ]
  },
  {
   "cell_type": "markdown",
   "metadata": {},
   "source": [
    "We also want to add the alias \"Emerson\". We'll assume that each of our 3 Emersons is equally famous and thus we set their probabilities to be equal for each entity."
   ]
  },
  {
   "cell_type": "markdown",
   "metadata": {},
   "source": [
    "So this will be our Knowledge base. We can check the entities and aliases that are contained in it:"
   ]
  },
  {
   "cell_type": "raw",
   "metadata": {},
   "source": [
    "print(f\"Entities in the KB: {kb.get_entity_strings()}\")\n",
    "print(f\"Aliases in the KB: {kb.get_alias_strings()}\")"
   ]
  },
  {
   "cell_type": "markdown",
   "metadata": {},
   "source": [
    "We can also print the candidates that are generated for the full name of Roy Emerson, as well as for the mention \"Emerson\" or for any other random mention, like \"Sofie\"."
   ]
  },
  {
   "cell_type": "code",
   "execution_count": 516,
   "metadata": {},
   "outputs": [
    {
     "name": "stdout",
     "output_type": "stream",
     "text": [
      "Candidates for <spacy.kb.Candidate object at 0x172518590>: []\n"
     ]
    }
   ],
   "source": [
    "candidate_1='John Biden'\n",
    "print(f\"Candidates for {candidate}: {[c.entity_ for c in kb.get_alias_candidates(candidate_1)]}\")"
   ]
  },
  {
   "cell_type": "code",
   "execution_count": 517,
   "metadata": {},
   "outputs": [
    {
     "name": "stdout",
     "output_type": "stream",
     "text": [
      "Candidates for <spacy.kb.Candidate object at 0x172518590>: ['129552', '379819', '269916', '256328', '13596']\n"
     ]
    }
   ],
   "source": [
    "candidate_2='Adam Smith'\n",
    "print(f\"Candidates for {candidate}: {[c.entity_ for c in kb.get_alias_candidates(candidate_2)]}\")"
   ]
  },
  {
   "cell_type": "code",
   "execution_count": 518,
   "metadata": {},
   "outputs": [
    {
     "name": "stdout",
     "output_type": "stream",
     "text": [
      "Candidates for <spacy.kb.Candidate object at 0x172518590>: ['53881', '77215', '200407', '204250', '377020', '211703', '200405', '184041', '221595', '280783', '204251']\n"
     ]
    }
   ],
   "source": [
    "candidate_3='David Smith'\n",
    "print(f\"Candidates for {candidate}: {[c.entity_ for c in kb.get_alias_candidates(candidate_3)]}\")"
   ]
  },
  {
   "cell_type": "markdown",
   "metadata": {},
   "source": [
    "We notice that querying the KB with the alias \"Emerson\" gives us 3 candidates, but if we query it with an unknown term, it just gives an empty list."
   ]
  },
  {
   "cell_type": "markdown",
   "metadata": {},
   "source": [
    "We can save the knowledge base by calling the function `to_disk` with an output location."
   ]
  },
  {
   "cell_type": "raw",
   "metadata": {},
   "source": [
    "f = open(\"source_data.txt\", \"r\")"
   ]
  },
  {
   "cell_type": "raw",
   "metadata": {},
   "source": [
    "source_data_sentences=[item + ' \\n' for sublist in [article.split('.') for article in list(f)] for item in sublist] "
   ]
  },
  {
   "cell_type": "raw",
   "metadata": {},
   "source": [
    "len(source_data_sentences)"
   ]
  },
  {
   "cell_type": "raw",
   "metadata": {},
   "source": [
    "with open('source_data_sentences.txt', 'w') as fp:\n",
    "    for item in source_data_sentences:\n",
    "        # write each item on a new line\n",
    "        fp.write(item)\n",
    "    print('Done')"
   ]
  },
  {
   "cell_type": "code",
   "execution_count": 522,
   "metadata": {
    "tags": []
   },
   "outputs": [],
   "source": [
    "# change the directory and file names to whatever you like\n",
    "import os\n",
    "output_dir = Path.cwd() / \"my_output\"\n",
    "if not os.path.exists(output_dir):\n",
    "    os.mkdir(output_dir) \n",
    "kb.to_disk(output_dir / \"kb_lilsis\")"
   ]
  },
  {
   "cell_type": "markdown",
   "metadata": {},
   "source": [
    "We can store the `nlp` object to file by calling `to_disk` as well."
   ]
  },
  {
   "cell_type": "code",
   "execution_count": 523,
   "metadata": {},
   "outputs": [],
   "source": [
    "nlp.to_disk(output_dir / \"nlp_lilsis\")"
   ]
  },
  {
   "cell_type": "code",
   "execution_count": 521,
   "metadata": {},
   "outputs": [
    {
     "data": {
      "text/html": [
       "<div>\n",
       "<style scoped>\n",
       "    .dataframe tbody tr th:only-of-type {\n",
       "        vertical-align: middle;\n",
       "    }\n",
       "\n",
       "    .dataframe tbody tr th {\n",
       "        vertical-align: top;\n",
       "    }\n",
       "\n",
       "    .dataframe thead th {\n",
       "        text-align: right;\n",
       "    }\n",
       "</style>\n",
       "<table border=\"1\" class=\"dataframe\">\n",
       "  <thead>\n",
       "    <tr style=\"text-align: right;\">\n",
       "      <th></th>\n",
       "      <th>id</th>\n",
       "      <th>name</th>\n",
       "      <th>desc</th>\n",
       "    </tr>\n",
       "  </thead>\n",
       "  <tbody>\n",
       "    <tr>\n",
       "      <th>49103</th>\n",
       "      <td>53881</td>\n",
       "      <td>David Smith</td>\n",
       "      <td>Prospective Parliamentary Candidate for Wakefi...</td>\n",
       "    </tr>\n",
       "    <tr>\n",
       "      <th>71484</th>\n",
       "      <td>77215</td>\n",
       "      <td>David Smith</td>\n",
       "      <td>Dasa Properties LLC</td>\n",
       "    </tr>\n",
       "    <tr>\n",
       "      <th>173617</th>\n",
       "      <td>184041</td>\n",
       "      <td>David Smith</td>\n",
       "      <td>Welder, Sun Coast Resources Inc - Humble Texas</td>\n",
       "    </tr>\n",
       "    <tr>\n",
       "      <th>188818</th>\n",
       "      <td>200405</td>\n",
       "      <td>David Smith</td>\n",
       "      <td>Professor, University of Florida</td>\n",
       "    </tr>\n",
       "    <tr>\n",
       "      <th>188820</th>\n",
       "      <td>200407</td>\n",
       "      <td>David Smith</td>\n",
       "      <td>Professor, San Bernardino Community College Di...</td>\n",
       "    </tr>\n",
       "    <tr>\n",
       "      <th>192548</th>\n",
       "      <td>204250</td>\n",
       "      <td>David Smith</td>\n",
       "      <td>Professor, University of Florida</td>\n",
       "    </tr>\n",
       "    <tr>\n",
       "      <th>192549</th>\n",
       "      <td>204251</td>\n",
       "      <td>David Smith</td>\n",
       "      <td>San Bernardino Community College District</td>\n",
       "    </tr>\n",
       "    <tr>\n",
       "      <th>199732</th>\n",
       "      <td>211703</td>\n",
       "      <td>David Smith</td>\n",
       "      <td>Property Management Administrator, Pennsylvani...</td>\n",
       "    </tr>\n",
       "    <tr>\n",
       "      <th>208928</th>\n",
       "      <td>221595</td>\n",
       "      <td>David Smith</td>\n",
       "      <td>Regional Vice President, Anthem Blue Cross Blu...</td>\n",
       "    </tr>\n",
       "    <tr>\n",
       "      <th>265111</th>\n",
       "      <td>280783</td>\n",
       "      <td>David Smith</td>\n",
       "      <td>Chief Development Officer, Leavitt Partners</td>\n",
       "    </tr>\n",
       "    <tr>\n",
       "      <th>358002</th>\n",
       "      <td>377020</td>\n",
       "      <td>David Smith</td>\n",
       "      <td>PNC Bank</td>\n",
       "    </tr>\n",
       "  </tbody>\n",
       "</table>\n",
       "</div>"
      ],
      "text/plain": [
       "            id         name                                               desc\n",
       "49103    53881  David Smith  Prospective Parliamentary Candidate for Wakefi...\n",
       "71484    77215  David Smith                              Dasa Properties LLC  \n",
       "173617  184041  David Smith    Welder, Sun Coast Resources Inc - Humble Texas \n",
       "188818  200405  David Smith                  Professor, University of Florida \n",
       "188820  200407  David Smith  Professor, San Bernardino Community College Di...\n",
       "192548  204250  David Smith                  Professor, University of Florida \n",
       "192549  204251  David Smith         San Bernardino Community College District \n",
       "199732  211703  David Smith  Property Management Administrator, Pennsylvani...\n",
       "208928  221595  David Smith  Regional Vice President, Anthem Blue Cross Blu...\n",
       "265111  280783  David Smith       Chief Development Officer, Leavitt Partners \n",
       "358002  377020  David Smith                                          PNC Bank "
      ]
     },
     "execution_count": 521,
     "metadata": {},
     "output_type": "execute_result"
    }
   ],
   "source": [
    "kb_data[kb_data['name']=='David Smith']"
   ]
  },
  {
   "cell_type": "code",
   "execution_count": 107,
   "metadata": {},
   "outputs": [],
   "source": [
    "s=kb_data['name'].value_counts()>1"
   ]
  },
  {
   "cell_type": "code",
   "execution_count": 108,
   "metadata": {},
   "outputs": [],
   "source": [
    "alias_df=kb_data[kb_data['name'].isin(s[s].index)].sort_values(by=['name','id'])\n",
    "#alias_df.to_csv('aliases.csv')"
   ]
  },
  {
   "cell_type": "code",
   "execution_count": null,
   "metadata": {},
   "outputs": [],
   "source": []
  },
  {
   "cell_type": "code",
   "execution_count": null,
   "metadata": {},
   "outputs": [],
   "source": []
  },
  {
   "cell_type": "code",
   "execution_count": null,
   "metadata": {},
   "outputs": [],
   "source": [
    "gu_source_data='entity_source_data/gu_resampled.csv'\n",
    "gu_sample=pd.read_csv(gu_source_data,index_col=0)\n",
    "gu_sample=gu_sample[['body_text']]\n",
    "article_containing_alias_indices=[]\n",
    "for alias in alias_df['name'].unique():\n",
    "    if not gu_sample.loc[gu_sample['body_text'].str.contains(alias),'body_text'].empty:\n",
    "        article_containing_alias_indices.append(gu_sample[gu_sample['body_text'].str.contains(alias)])"
   ]
  },
  {
   "cell_type": "code",
   "execution_count": 112,
   "metadata": {},
   "outputs": [
    {
     "name": "stdout",
     "output_type": "stream",
     "text": [
      "Done\n"
     ]
    }
   ],
   "source": [
    "article_containing_alias=gu_sample\n",
    "articles_containing_alias=[df_row[['body_text']].values[0][0] for df_row in article_containing_alias_indices]\n",
    "with open(output_dir /'source_data.txt', 'w') as fp:\n",
    "    for item in articles_containing_alias:\n",
    "        fp.write(\"%s\\n\" % item)\n",
    "    print('Done')"
   ]
  },
  {
   "cell_type": "code",
   "execution_count": 123,
   "metadata": {},
   "outputs": [],
   "source": [
    "gu_sample['body_text']=gu_sample['body_text'].apply(lambda r: r.split('.'))"
   ]
  },
  {
   "cell_type": "code",
   "execution_count": 130,
   "metadata": {},
   "outputs": [],
   "source": [
    "gu_sample=gu_sample['body_text'].explode().sample(frac=1).reset_index(drop=True)"
   ]
  },
  {
   "cell_type": "code",
   "execution_count": 133,
   "metadata": {},
   "outputs": [
    {
     "name": "stdout",
     "output_type": "stream",
     "text": [
      "Done\n"
     ]
    }
   ],
   "source": [
    "with open(Path.cwd() /'entity_source_data/source_data_resampled_sentences_randomised.txt', 'w') as fp:\n",
    "    for item in gu_sample:\n",
    "        fp.write(\"%s.\\n\" % item)\n",
    "    print('Done')"
   ]
  },
  {
   "cell_type": "code",
   "execution_count": null,
   "metadata": {},
   "outputs": [],
   "source": []
  },
  {
   "cell_type": "code",
   "execution_count": null,
   "metadata": {},
   "outputs": [],
   "source": []
  },
  {
   "cell_type": "code",
   "execution_count": 161,
   "metadata": {
    "tags": []
   },
   "outputs": [],
   "source": [
    "import rapidfuzz\n",
    "import numpy as np\n",
    "from numpy import dot\n",
    "from numpy.linalg import norm\n",
    "from operator import itemgetter"
   ]
  },
  {
   "cell_type": "code",
   "execution_count": 392,
   "metadata": {},
   "outputs": [],
   "source": [
    "aliases=kb.get_alias_strings()\n",
    "span='Adam Smith'\n",
    "matches={}\n",
    "matching_thres=60\n",
    "for al in aliases:\n",
    "    #fuzzy_ratio=rapidfuzz.fuzz.token_set_ratio(span.lower(),al.lower())\n",
    "    fuzzy_ratio=rapidfuzz.fuzz.WRatio(span.lower(),al.lower())\n",
    "    if fuzzy_ratio >=matching_thres:\n",
    "        matches[al]=fuzzy_ratio\n",
    "\n",
    "candidates=[]\n",
    "for match in matches:\n",
    "    candidates.extend(kb.get_alias_candidates(match))"
   ]
  },
  {
   "cell_type": "code",
   "execution_count": 397,
   "metadata": {},
   "outputs": [
    {
     "name": "stdout",
     "output_type": "stream",
     "text": [
      "Candidates for Adam Smith: ['13596', '129552', '256328', '269916', '379819']\n"
     ]
    }
   ],
   "source": [
    "print(f\"Candidates for {span}: {[c.entity_ for c in kb.get_alias_candidates(span)]}\")"
   ]
  },
  {
   "cell_type": "code",
   "execution_count": 414,
   "metadata": {},
   "outputs": [
    {
     "data": {
      "text/plain": [
       "['13596', '129552', '256328', '269916', '379819']"
      ]
     },
     "execution_count": 414,
     "metadata": {},
     "output_type": "execute_result"
    }
   ],
   "source": [
    "[candidate.entity_ for candidate in candidates if candidate.alias_=='Adam Smith']"
   ]
  },
  {
   "cell_type": "code",
   "execution_count": null,
   "metadata": {},
   "outputs": [],
   "source": [
    "#names = dict()\n",
    "candidate_d=dict()\n",
    "fuzzy_scores = dict()\n",
    "for candidate in candidates:\n",
    "    qid = candidate.entity_\n",
    "    name = candidate.alias_\n",
    "    #names[qid] = name\n",
    "    candidate_d[qid] = candidate\n",
    "    fuzzy_scores[qid] = matches[name]\n",
    "    \n",
    "entities_ordered=dict(sorted(fuzzy_scores.items(), key=itemgetter(1), reverse=True))\n",
    "entities_ordered=list(entities_ordered.keys())[:10]\n",
    "[candidate_d[entity].alias_ for entity in entities_ordered]"
   ]
  },
  {
   "cell_type": "code",
   "execution_count": 476,
   "metadata": {},
   "outputs": [],
   "source": [
    "def order_candidates_fuzzy_score(candidates, matches, candidate_threshold=10):\n",
    "    \"\"\"\n",
    "    \"\"\"\n",
    "    # names = dict()\n",
    "    candidate_d = dict()\n",
    "    fuzzy_scores = dict()\n",
    "    for candidate in candidates:\n",
    "        qid = candidate.entity_\n",
    "        name = candidate.alias_\n",
    "        # names[qid] = name\n",
    "        candidate_d[qid] = candidate\n",
    "        fuzzy_scores[qid] = matches[name]\n",
    "\n",
    "    entities_ordered = dict(sorted(fuzzy_scores.items(), key=itemgetter(1), reverse=True))\n",
    "    entities_ordered = list(entities_ordered.keys())[:candidate_threshold]\n",
    "    return [candidate_d[entity] for entity in entities_ordered]"
   ]
  },
  {
   "cell_type": "code",
   "execution_count": 477,
   "metadata": {},
   "outputs": [
    {
     "data": {
      "text/plain": [
       "[<spacy.kb.Candidate at 0x16b231360>,\n",
       " <spacy.kb.Candidate at 0x16b2313d0>,\n",
       " <spacy.kb.Candidate at 0x16b231440>,\n",
       " <spacy.kb.Candidate at 0x16b2314b0>,\n",
       " <spacy.kb.Candidate at 0x16b231520>,\n",
       " <spacy.kb.Candidate at 0x16553ba60>,\n",
       " <spacy.kb.Candidate at 0x172511a60>,\n",
       " <spacy.kb.Candidate at 0x165544c90>,\n",
       " <spacy.kb.Candidate at 0x16553b7c0>,\n",
       " <spacy.kb.Candidate at 0x16b239600>]"
      ]
     },
     "execution_count": 477,
     "metadata": {},
     "output_type": "execute_result"
    }
   ],
   "source": [
    "order_candidates_fuzzy_score(candidates, matches)"
   ]
  },
  {
   "cell_type": "code",
   "execution_count": 470,
   "metadata": {},
   "outputs": [],
   "source": [
    "entities_ordered=dict(sorted(fuzzy_scores.items(), key=itemgetter(1), reverse=True))\n",
    "\n",
    "entities_ordered=list(entities_ordered.keys())[:10]\n",
    "\n",
    "[candidate_d[entity].alias_ for entity in entities_ordered]"
   ]
  },
  {
   "cell_type": "code",
   "execution_count": 443,
   "metadata": {},
   "outputs": [
    {
     "data": {
      "text/plain": [
       "{'13596': 100.0,\n",
       " '129552': 100.0,\n",
       " '256328': 100.0,\n",
       " '269916': 100.0,\n",
       " '379819': 100.0,\n",
       " '253620': 95.0,\n",
       " '319442': 95.0,\n",
       " '388312': 94.73684210526316,\n",
       " '325220': 90.0,\n",
       " '52342': 90.0,\n",
       " '30799': 90.0,\n",
       " '256382': 90.0,\n",
       " '30082': 90.0,\n",
       " '270735': 85.71428571428572,\n",
       " '239067': 85.5,\n",
       " '48861': 85.5,\n",
       " '65607': 85.5,\n",
       " '195224': 85.5,\n",
       " '277586': 85.5,\n",
       " '259977': 85.5,\n",
       " '117143': 85.5,\n",
       " '50196': 85.5,\n",
       " '129289': 85.5,\n",
       " '29923': 85.5,\n",
       " '213537': 85.5,\n",
       " '368517': 85.5,\n",
       " '320027': 85.5,\n",
       " '301819': 85.5,\n",
       " '296698': 85.5,\n",
       " '98946': 85.5,\n",
       " '240046': 85.5,\n",
       " '147279': 85.5,\n",
       " '72324': 85.5,\n",
       " '119838': 85.5,\n",
       " '331292': 85.5,\n",
       " '246272': 85.5,\n",
       " '86101': 85.5,\n",
       " '228342': 85.5,\n",
       " '349496': 85.5,\n",
       " '257053': 85.5,\n",
       " '362156': 85.5,\n",
       " '46499': 85.5,\n",
       " '199129': 85.5,\n",
       " '337700': 85.5,\n",
       " '240933': 85.5,\n",
       " '364020': 85.5,\n",
       " '23336': 85.5,\n",
       " '171419': 85.5,\n",
       " '200397': 85.5,\n",
       " '14281': 85.5,\n",
       " '427309': 85.5,\n",
       " '420104': 85.5,\n",
       " '253140': 85.5,\n",
       " '310202': 85.5,\n",
       " '121767': 85.5,\n",
       " '2839': 85.5,\n",
       " '315406': 85.5,\n",
       " '76537': 85.5,\n",
       " '57264': 85.5,\n",
       " '60791': 85.5,\n",
       " '322936': 85.5,\n",
       " '218023': 85.5,\n",
       " '386378': 85.5,\n",
       " '337835': 85.5,\n",
       " '331746': 85.5,\n",
       " '334812': 85.5,\n",
       " '58232': 85.5,\n",
       " '3269': 85.5,\n",
       " '254372': 85.5,\n",
       " '338524': 85.5,\n",
       " '240571': 85.5,\n",
       " '124590': 85.5,\n",
       " '297825': 85.5,\n",
       " '21339': 85.5,\n",
       " '271446': 85.5,\n",
       " '203446': 85.5,\n",
       " '210296': 85.5,\n",
       " '216127': 85.5,\n",
       " '74854': 85.5,\n",
       " '45893': 85.5,\n",
       " '203271': 85.5,\n",
       " '240210': 85.5,\n",
       " '14586': 85.5,\n",
       " '256197': 85.5,\n",
       " '17583': 85.5,\n",
       " '251582': 85.5,\n",
       " '154399': 85.5,\n",
       " '85213': 85.5,\n",
       " '79647': 85.5,\n",
       " '419596': 85.5,\n",
       " '143030': 85.5,\n",
       " '153806': 85.5,\n",
       " '2162': 85.5,\n",
       " '99722': 85.5,\n",
       " '331306': 85.5,\n",
       " '310193': 85.5,\n",
       " '242898': 85.5,\n",
       " '280207': 85.5,\n",
       " '276700': 85.5,\n",
       " '363539': 85.5,\n",
       " '200417': 85.5,\n",
       " '223597': 85.5,\n",
       " '244250': 85.5,\n",
       " '370783': 85.5,\n",
       " '296162': 85.5,\n",
       " '188270': 85.5,\n",
       " '132825': 85.5,\n",
       " '230577': 85.5,\n",
       " '183690': 85.5,\n",
       " '162923': 85.5,\n",
       " '53919': 85.5,\n",
       " '342215': 85.5,\n",
       " '413177': 85.5,\n",
       " '129302': 85.5,\n",
       " '111254': 85.5,\n",
       " '52808': 85.5,\n",
       " '65085': 85.5,\n",
       " '395291': 85.5,\n",
       " '189992': 85.5,\n",
       " '170885': 85.5,\n",
       " '371555': 85.5,\n",
       " '235515': 85.5,\n",
       " '238814': 85.5,\n",
       " '125125': 85.5,\n",
       " '18565': 85.5,\n",
       " '26502': 85.5,\n",
       " '268544': 85.5,\n",
       " '391290': 85.5,\n",
       " '77219': 85.5,\n",
       " '61940': 85.5,\n",
       " '401808': 85.5,\n",
       " '310209': 85.5,\n",
       " '155752': 85.5,\n",
       " '322979': 85.5,\n",
       " '106666': 85.5,\n",
       " '45806': 85.5,\n",
       " '141871': 85.5,\n",
       " '69652': 85.5,\n",
       " '4556': 85.5,\n",
       " '403859': 85.5,\n",
       " '331290': 85.5,\n",
       " '200393': 85.5,\n",
       " '200395': 85.5,\n",
       " '258155': 85.5,\n",
       " '11258': 85.5,\n",
       " '164880': 85.5,\n",
       " '342405': 85.5,\n",
       " '342406': 85.5,\n",
       " '355468': 85.5,\n",
       " '106662': 85.5,\n",
       " '200411': 85.5,\n",
       " '60458': 85.5,\n",
       " '161321': 85.5,\n",
       " '32670': 85.5,\n",
       " '59765': 85.5,\n",
       " '23782': 85.5,\n",
       " '58836': 85.5,\n",
       " '136021': 85.5,\n",
       " '243568': 85.5,\n",
       " '322926': 85.5,\n",
       " '73463': 85.5,\n",
       " '310199': 85.5,\n",
       " '28971': 85.5,\n",
       " '410464': 85.5,\n",
       " '199107': 85.5,\n",
       " '361202': 85.5,\n",
       " '382086': 85.5,\n",
       " '231889': 85.5,\n",
       " '4771': 85.5,\n",
       " '68732': 85.5,\n",
       " '153112': 85.5,\n",
       " '334095': 85.5,\n",
       " '120240': 85.5,\n",
       " '16993': 85.5,\n",
       " '41270': 85.5,\n",
       " '29163': 85.5,\n",
       " '313317': 85.5,\n",
       " '250159': 85.5,\n",
       " '59857': 85.5,\n",
       " '190080': 85.5,\n",
       " '142116': 85.5,\n",
       " '14340': 85.5,\n",
       " '298942': 85.5,\n",
       " '195226': 85.5,\n",
       " '122321': 85.5,\n",
       " '146987': 85.5,\n",
       " '408024': 85.5,\n",
       " '268159': 85.5,\n",
       " '310211': 85.5,\n",
       " '120523': 85.5,\n",
       " '157781': 85.5,\n",
       " '245785': 85.5,\n",
       " '20359': 85.5,\n",
       " '190298': 85.5,\n",
       " '270114': 85.5,\n",
       " '230519': 85.5,\n",
       " '415835': 85.5,\n",
       " '10009': 85.5,\n",
       " '44230': 85.5,\n",
       " '200364': 85.5,\n",
       " '364383': 85.5,\n",
       " '145948': 85.5,\n",
       " '183329': 85.5,\n",
       " '63719': 85.5,\n",
       " '158037': 85.5,\n",
       " '269917': 85.5,\n",
       " '424413': 85.5,\n",
       " '319441': 85.5,\n",
       " '319408': 85.5,\n",
       " '381046': 85.5,\n",
       " '196618': 85.5,\n",
       " '65674': 85.5,\n",
       " '347413': 85.5,\n",
       " '200314': 85.5,\n",
       " '231389': 85.5,\n",
       " '386382': 85.5,\n",
       " '251143': 85.5,\n",
       " '352695': 85.5,\n",
       " '38567': 85.5,\n",
       " '138321': 85.5,\n",
       " '165421': 85.5,\n",
       " '310205': 85.5,\n",
       " '425346': 85.5,\n",
       " '382905': 85.5,\n",
       " '235800': 85.5,\n",
       " '238317': 85.5,\n",
       " '125329': 85.5,\n",
       " '230560': 85.5,\n",
       " '193778': 85.5,\n",
       " '108795': 85.5,\n",
       " '282001': 85.5,\n",
       " '298605': 85.5,\n",
       " '200282': 85.5,\n",
       " '268252': 85.5,\n",
       " '29882': 85.5,\n",
       " '5430': 85.5,\n",
       " '49583': 85.5,\n",
       " '63600': 85.5,\n",
       " '78236': 85.5,\n",
       " '353983': 85.5,\n",
       " '236069': 85.5,\n",
       " '91132': 85.5,\n",
       " '381047': 85.5,\n",
       " '236093': 85.5,\n",
       " '196775': 85.5,\n",
       " '322966': 85.5,\n",
       " '78916': 85.5,\n",
       " '150085': 85.5,\n",
       " '236993': 85.5,\n",
       " '32651': 85.5,\n",
       " '130279': 85.5,\n",
       " '268185': 85.5,\n",
       " '246382': 85.5,\n",
       " '8039': 85.5,\n",
       " '71439': 85.5,\n",
       " '177966': 85.5,\n",
       " '235881': 85.5,\n",
       " '273317': 85.5,\n",
       " '352122': 85.5,\n",
       " '159704': 85.5,\n",
       " '332107': 85.5,\n",
       " '332109': 85.5,\n",
       " '84223': 85.5,\n",
       " '303': 85.5,\n",
       " '214574': 85.5,\n",
       " '356734': 85.5,\n",
       " '195016': 85.5,\n",
       " '236237': 85.5,\n",
       " '21314': 85.5,\n",
       " '238635': 85.5,\n",
       " '109388': 85.5,\n",
       " '202952': 85.5,\n",
       " '224343': 85.5,\n",
       " '225057': 85.5,\n",
       " '3299': 85.5,\n",
       " '322927': 85.5,\n",
       " '332052': 85.5,\n",
       " '322895': 85.5,\n",
       " '268813': 85.5,\n",
       " '273603': 85.5,\n",
       " '273604': 85.5,\n",
       " '81638': 85.5,\n",
       " '22879': 85.5,\n",
       " '416455': 85.5,\n",
       " '76536': 85.5,\n",
       " '70695': 85.5,\n",
       " '96741': 85.5,\n",
       " '299050': 85.5,\n",
       " '228722': 85.5,\n",
       " '368821': 85.5,\n",
       " '105059': 85.5,\n",
       " '322947': 85.5,\n",
       " '258180': 85.5,\n",
       " '263371': 85.5,\n",
       " '244187': 85.5,\n",
       " '368518': 85.5,\n",
       " '111959': 85.5,\n",
       " '11633': 85.5,\n",
       " '418727': 85.5,\n",
       " '11391': 85.5,\n",
       " '412822': 85.5,\n",
       " '176797': 85.5,\n",
       " '262638': 85.5,\n",
       " '281557': 85.5,\n",
       " '386376': 85.5,\n",
       " '118664': 85.5,\n",
       " '125527': 85.5,\n",
       " '153713': 85.5,\n",
       " '192212': 85.5,\n",
       " '205927': 85.5,\n",
       " '10092': 85.5,\n",
       " '21672': 85.5,\n",
       " '270387': 85.5,\n",
       " '49705': 85.5,\n",
       " '108895': 85.5,\n",
       " '226181': 85.5,\n",
       " '344458': 85.5,\n",
       " '188269': 85.5,\n",
       " '322958': 85.5,\n",
       " '237450': 85.5,\n",
       " '322906': 85.5,\n",
       " '366915': 85.5,\n",
       " '239433': 85.5,\n",
       " '31240': 85.5,\n",
       " '246368': 85.5,\n",
       " '279079': 85.5,\n",
       " '192141': 85.5,\n",
       " '66275': 85.5,\n",
       " '419899': 85.5,\n",
       " '191747': 85.5,\n",
       " '242204': 85.5,\n",
       " '13601': 85.5,\n",
       " '222314': 85.5,\n",
       " '54324': 85.5,\n",
       " '322917': 85.5,\n",
       " '60584': 85.5,\n",
       " '227333': 85.5,\n",
       " '236218': 85.5,\n",
       " '399476': 85.5,\n",
       " '25656': 85.5,\n",
       " '219198': 85.5,\n",
       " '58171': 85.5,\n",
       " '315771': 85.5,\n",
       " '13600': 85.5,\n",
       " '425607': 85.5,\n",
       " '195867': 85.5,\n",
       " '230777': 85.5,\n",
       " '282331': 85.5,\n",
       " '38301': 85.5,\n",
       " '1420': 85.5,\n",
       " '10846': 85.5,\n",
       " '132782': 85.5,\n",
       " '321190': 85.5,\n",
       " '19906': 85.5,\n",
       " '30566': 85.5,\n",
       " '128516': 85.5,\n",
       " '14512': 85.5,\n",
       " '171765': 85.5,\n",
       " '110680': 85.5,\n",
       " '197758': 85.5,\n",
       " '44259': 85.5,\n",
       " '421543': 85.5,\n",
       " '122019': 85.5,\n",
       " '254718': 85.5,\n",
       " '14156': 85.5,\n",
       " '323013': 85.5,\n",
       " '23540': 85.5,\n",
       " '425749': 85.5,\n",
       " '190747': 85.5,\n",
       " '315639': 85.5,\n",
       " '255492': 85.5,\n",
       " '315110': 85.5,\n",
       " '17833': 85.5,\n",
       " '51707': 85.5,\n",
       " '26841': 85.5,\n",
       " '200412': 85.5,\n",
       " '386843': 85.5,\n",
       " '200308': 85.5,\n",
       " '100542': 85.5,\n",
       " '235368': 85.5,\n",
       " '333537': 85.5,\n",
       " '200330': 85.5,\n",
       " '32280': 85.5,\n",
       " '236735': 85.5,\n",
       " '384494': 85.5,\n",
       " '137545': 85.5,\n",
       " '375973': 85.5,\n",
       " '330294': 85.5,\n",
       " '125353': 85.5,\n",
       " '144568': 85.5,\n",
       " '188679': 85.5,\n",
       " '211697': 85.5,\n",
       " '340314': 85.5,\n",
       " '93934': 85.5,\n",
       " '391187': 85.5,\n",
       " '134065': 85.5,\n",
       " '355236': 85.5,\n",
       " '58961': 85.5,\n",
       " '79549': 85.5,\n",
       " '381995': 85.5,\n",
       " '370515': 85.5,\n",
       " '322899': 85.5,\n",
       " '268288': 85.5,\n",
       " '74083': 85.5,\n",
       " '45303': 85.5,\n",
       " '110002': 85.5,\n",
       " '237485': 85.5,\n",
       " '310212': 85.5,\n",
       " '73450': 85.5,\n",
       " '237899': 85.5,\n",
       " '203198': 85.5,\n",
       " '232460': 85.5,\n",
       " '121612': 85.5,\n",
       " '331298': 85.5,\n",
       " '121755': 85.5,\n",
       " '129065': 85.5,\n",
       " '347914': 85.5,\n",
       " '418300': 85.5,\n",
       " '310201': 85.5,\n",
       " '92037': 85.5,\n",
       " '356797': 85.5,\n",
       " '8187': 85.5,\n",
       " '205572': 85.5,\n",
       " '322963': 85.5,\n",
       " '19535': 85.5,\n",
       " '20152': 85.5,\n",
       " '200318': 85.5,\n",
       " '412054': 85.5,\n",
       " '402966': 85.5,\n",
       " '196816': 85.5,\n",
       " '151075': 85.5,\n",
       " '269980': 85.5,\n",
       " '218172': 85.5,\n",
       " '264212': 85.5,\n",
       " '184874': 85.5,\n",
       " '310185': 85.5,\n",
       " '185309': 85.5,\n",
       " '58472': 85.5,\n",
       " '24182': 85.5,\n",
       " '150357': 85.5,\n",
       " '272421': 85.5,\n",
       " '240981': 85.5,\n",
       " '242256': 85.5,\n",
       " '358181': 85.5,\n",
       " '136437': 85.5,\n",
       " '29661': 85.5,\n",
       " '148830': 85.5,\n",
       " '54393': 85.5,\n",
       " '368174': 85.5,\n",
       " '175633': 85.5,\n",
       " '377752': 85.5,\n",
       " '399707': 85.5,\n",
       " '280595': 85.5,\n",
       " '29919': 85.5,\n",
       " '212398': 85.5,\n",
       " '191547': 85.5,\n",
       " '407097': 85.5,\n",
       " '46678': 85.5,\n",
       " '404878': 85.5,\n",
       " '32671': 85.5,\n",
       " '165083': 85.5,\n",
       " '260607': 85.5,\n",
       " '29791': 85.5,\n",
       " '349082': 85.5,\n",
       " '383974': 85.5,\n",
       " '277811': 85.5,\n",
       " '149208': 85.5,\n",
       " '102515': 85.5,\n",
       " '9380': 85.5,\n",
       " '7913': 85.5,\n",
       " '373805': 85.5,\n",
       " '34912': 85.5,\n",
       " '171420': 85.5,\n",
       " '182374': 85.5,\n",
       " '224676': 85.5,\n",
       " '258746': 85.5,\n",
       " '204738': 85.5,\n",
       " '85047': 85.5,\n",
       " '303415': 85.5,\n",
       " '218698': 85.5,\n",
       " '89425': 85.5,\n",
       " '88650': 85.5,\n",
       " '348951': 85.5,\n",
       " '68263': 85.5,\n",
       " '364538': 85.5,\n",
       " '339008': 85.5,\n",
       " '331597': 85.5,\n",
       " '230538': 85.5,\n",
       " '31869': 85.5,\n",
       " '267894': 85.5,\n",
       " '146404': 85.5,\n",
       " '235895': 85.5,\n",
       " '110375': 85.5,\n",
       " '409468': 85.5,\n",
       " '399706': 85.5,\n",
       " '11446': 85.5,\n",
       " '176823': 85.5,\n",
       " '121683': 85.5,\n",
       " '46922': 85.5,\n",
       " '363944': 85.5,\n",
       " '123835': 85.5,\n",
       " '322905': 85.5,\n",
       " '382010': 85.5,\n",
       " '138453': 85.5,\n",
       " '122706': 85.5,\n",
       " '212915': 85.5,\n",
       " '115993': 85.5,\n",
       " '62530': 85.5,\n",
       " '147292': 85.5,\n",
       " '201476': 85.5,\n",
       " '322946': 85.5,\n",
       " '200413': 85.5,\n",
       " '404332': 85.5,\n",
       " '52805': 85.5,\n",
       " '250890': 85.5,\n",
       " '56271': 85.5,\n",
       " '246385': 85.5,\n",
       " '385853': 85.5,\n",
       " '188108': 85.5,\n",
       " '195380': 85.5,\n",
       " '85490': 85.5,\n",
       " '355444': 85.5,\n",
       " '85618': 85.5,\n",
       " '27269': 85.5,\n",
       " '261772': 85.5,\n",
       " '226182': 85.5,\n",
       " '3412': 85.5,\n",
       " '201893': 85.5,\n",
       " '73830': 85.5,\n",
       " '277585': 85.5,\n",
       " '238056': 85.5,\n",
       " '331308': 85.5,\n",
       " '394984': 85.5,\n",
       " '354093': 85.5,\n",
       " '68651': 85.5,\n",
       " '192365': 85.5,\n",
       " '156126': 85.5,\n",
       " '268260': 85.5,\n",
       " '322900': 85.5,\n",
       " '276370': 85.5,\n",
       " '132979': 85.5,\n",
       " '334711': 85.5,\n",
       " '322923': 85.5,\n",
       " '319443': 85.5,\n",
       " '61911': 85.5,\n",
       " '79717': 85.5,\n",
       " '200365': 85.5,\n",
       " '240748': 85.5,\n",
       " '413113': 85.5,\n",
       " '11858': 85.5,\n",
       " '4095': 85.5,\n",
       " '104921': 85.5,\n",
       " '322902': 85.5,\n",
       " '56488': 85.5,\n",
       " '49817': 85.5,\n",
       " '180892': 85.5,\n",
       " '156105': 85.5,\n",
       " '51644': 85.5,\n",
       " '262904': 85.5,\n",
       " '262403': 85.5,\n",
       " '314887': 85.5,\n",
       " '8323': 85.5,\n",
       " '338167': 85.5,\n",
       " '13973': 85.5,\n",
       " '25443': 85.5,\n",
       " '160805': 85.5,\n",
       " '180791': 85.5,\n",
       " '121769': 85.5,\n",
       " '245787': 85.5,\n",
       " '379481': 85.5,\n",
       " '137808': 85.5,\n",
       " '310195': 85.5,\n",
       " '176799': 85.5,\n",
       " '155837': 85.5,\n",
       " '272228': 85.5,\n",
       " '220229': 85.5,\n",
       " '25550': 85.5,\n",
       " '356387': 85.5,\n",
       " '121434': 85.5,\n",
       " '3774': 85.5,\n",
       " '52623': 85.5,\n",
       " '322948': 85.5,\n",
       " '355165': 85.5,\n",
       " '358584': 85.5,\n",
       " '118730': 85.5,\n",
       " '132131': 85.5,\n",
       " '52973': 85.5,\n",
       " '275964': 85.5,\n",
       " '420309': 85.5,\n",
       " '8340': 85.5,\n",
       " '79716': 85.5,\n",
       " '179757': 85.5,\n",
       " '340093': 85.5,\n",
       " '160206': 85.5,\n",
       " '143357': 85.5,\n",
       " '47846': 85.5,\n",
       " '367286': 85.5,\n",
       " '3533': 85.5,\n",
       " '231269': 85.5,\n",
       " '40849': 85.5,\n",
       " '171049': 85.5,\n",
       " '94661': 85.5,\n",
       " '200000': 85.5,\n",
       " '194688': 85.5,\n",
       " '236205': 85.5,\n",
       " '332103': 85.5,\n",
       " '273318': 85.5,\n",
       " '295946': 85.5,\n",
       " '54642': 85.5,\n",
       " '319407': 85.5,\n",
       " '367199': 85.5,\n",
       " '399783': 85.5,\n",
       " '237178': 85.5,\n",
       " '199127': 85.5,\n",
       " '322956': 85.5,\n",
       " '163897': 85.5,\n",
       " '407355': 85.5,\n",
       " '210452': 85.5,\n",
       " '322978': 85.5,\n",
       " '46785': 85.5,\n",
       " '104316': 85.5,\n",
       " '316022': 85.5,\n",
       " '253498': 85.5,\n",
       " '50306': 85.5,\n",
       " '68942': 85.5,\n",
       " '125434': 85.5,\n",
       " '125816': 85.5,\n",
       " '132196': 85.5,\n",
       " '215790': 85.5,\n",
       " '220294': 85.5,\n",
       " '230319': 85.5,\n",
       " '166771': 85.5,\n",
       " '109206': 85.5,\n",
       " '422745': 85.5,\n",
       " '273320': 85.5,\n",
       " '230581': 85.5,\n",
       " '63969': 85.5,\n",
       " '2119': 85.5,\n",
       " '313180': 85.5,\n",
       " '77656': 85.5,\n",
       " '68040': 85.5,\n",
       " '271544': 85.5,\n",
       " '83305': 85.5,\n",
       " '240524': 85.5,\n",
       " '4611': 85.5,\n",
       " '104184': 85.5,\n",
       " '182704': 85.5,\n",
       " '137305': 85.5,\n",
       " '54532': 85.5,\n",
       " '6578': 85.5,\n",
       " '200355': 85.5,\n",
       " '171764': 85.5,\n",
       " '259049': 85.5,\n",
       " '340973': 85.5,\n",
       " '101533': 85.5,\n",
       " '240908': 85.5,\n",
       " '23781': 85.5,\n",
       " '417317': 85.5,\n",
       " '36455': 85.5,\n",
       " '46663': 85.5,\n",
       " '401015': 85.5,\n",
       " '336871': 85.5,\n",
       " '4969': 85.5,\n",
       " '14587': 85.5,\n",
       " '50535': 85.5,\n",
       " '125395': 85.5,\n",
       " '59647': 85.5,\n",
       " '239363': 85.5,\n",
       " '384849': 85.5,\n",
       " '123795': 85.5,\n",
       " '129459': 85.5,\n",
       " '251830': 85.5,\n",
       " '257771': 85.5,\n",
       " '323903': 85.5,\n",
       " '373983': 85.5,\n",
       " '186640': 85.5,\n",
       " '334712': 85.5,\n",
       " '353140': 85.5,\n",
       " '377654': 85.5,\n",
       " '370738': 85.5,\n",
       " '137196': 85.5,\n",
       " '14439': 85.5,\n",
       " '34424': 85.5,\n",
       " '36612': 85.5,\n",
       " '409243': 85.5,\n",
       " '119609': 85.5,\n",
       " '48736': 85.5,\n",
       " '172265': 85.5,\n",
       " '268158': 85.5,\n",
       " '220116': 85.5,\n",
       " '256875': 85.5,\n",
       " '218702': 85.5,\n",
       " '106556': 85.5,\n",
       " '79336': 85.5,\n",
       " '14343': 85.5,\n",
       " '419518': 85.5,\n",
       " '322937': 85.5,\n",
       " '298735': 85.5,\n",
       " '10799': 85.5,\n",
       " '59804': 85.5,\n",
       " '358581': 85.5,\n",
       " '240935': 85.5,\n",
       " '169544': 85.5,\n",
       " '262396': 85.5,\n",
       " '2270': 85.5,\n",
       " '172055': 85.5,\n",
       " '352465': 85.5,\n",
       " '388370': 85.5,\n",
       " '370568': 85.5,\n",
       " '190610': 85.5,\n",
       " '34953': 85.5,\n",
       " '174700': 85.5,\n",
       " '277084': 85.5,\n",
       " '280594': 85.5,\n",
       " '282330': 85.5,\n",
       " '360674': 85.5,\n",
       " '154465': 85.5,\n",
       " '129300': 85.5,\n",
       " '35474': 85.5,\n",
       " '190924': 85.5,\n",
       " '200302': 85.5,\n",
       " '235767': 85.5,\n",
       " '322977': 85.5,\n",
       " '200298': 85.5,\n",
       " '166752': 85.5,\n",
       " '98568': 85.5,\n",
       " '277046': 85.5,\n",
       " '109907': 85.5,\n",
       " '416557': 85.5,\n",
       " '6481': 85.5,\n",
       " '323439': 85.5,\n",
       " '365661': 85.5,\n",
       " '397251': 85.5,\n",
       " '351364': 85.5,\n",
       " '262404': 85.5,\n",
       " '388891': 85.5,\n",
       " '135435': 85.5,\n",
       " '317659': 85.5,\n",
       " '322897': 85.5,\n",
       " '13598': 85.5,\n",
       " '258191': 85.5,\n",
       " '200317': 85.5,\n",
       " '133284': 85.5,\n",
       " '397902': 85.5,\n",
       " '220260': 85.5,\n",
       " '68417': 85.5,\n",
       " '417287': 85.5,\n",
       " '117233': 85.5,\n",
       " '319008': 85.5,\n",
       " '234316': 85.5,\n",
       " '238723': 85.5,\n",
       " '200307': 85.5,\n",
       " '74719': 85.5,\n",
       " '257035': 85.5,\n",
       " '84472': 85.5,\n",
       " '133103': 85.5,\n",
       " '124669': 85.5,\n",
       " '200415': 85.5,\n",
       " '143015': 85.5,\n",
       " '199988': 85.5,\n",
       " '263637': 85.5,\n",
       " '239259': 85.5,\n",
       " '195323': 85.5,\n",
       " '149758': 85.5,\n",
       " '392970': 85.5,\n",
       " '236052': 85.5,\n",
       " '44347': 85.5,\n",
       " '60925': 85.5,\n",
       " '32688': 85.5,\n",
       " '200406': 85.5,\n",
       " '372308': 85.5,\n",
       " '405676': 85.5,\n",
       " '241116': 85.5,\n",
       " '193379': 85.5,\n",
       " '14065': 85.5,\n",
       " '366739': 85.5,\n",
       " '197788': 85.5,\n",
       " '258817': 85.5,\n",
       " '131962': 85.5,\n",
       " '31155': 85.5,\n",
       " '236260': 85.5,\n",
       " '236471': 85.5,\n",
       " '237876': 85.5,\n",
       " '395721': 85.5,\n",
       " '355168': 85.5,\n",
       " '97629': 85.5,\n",
       " '200416': 85.5,\n",
       " '322962': 85.5,\n",
       " '204630': 85.5,\n",
       " '377407': 85.5,\n",
       " '26451': 85.5,\n",
       " '195844': 85.5,\n",
       " '33063': 85.5,\n",
       " '132669': 85.5,\n",
       " '221368': 85.5,\n",
       " '355429': 85.5,\n",
       " '96010': 85.5,\n",
       " '12093': 85.5,\n",
       " '135371': 85.5,\n",
       " '87822': 85.5,\n",
       " '189926': 85.5,\n",
       " '331299': 85.5,\n",
       " '178989': 85.5,\n",
       " '29881': 85.5,\n",
       " '237066': 85.5,\n",
       " '254602': 85.5,\n",
       " '297713': 85.5,\n",
       " '2130': 85.5,\n",
       " '391184': 85.5,\n",
       " '281366': 85.5,\n",
       " '398179': 85.5,\n",
       " '225318': 85.5,\n",
       " '210686': 85.5,\n",
       " '171159': 85.5,\n",
       " '332734': 85.5,\n",
       " '342866': 85.5,\n",
       " '71364': 85.5,\n",
       " '97553': 85.5,\n",
       " '107839': 85.5,\n",
       " '385975': 85.5,\n",
       " '420928': 85.5,\n",
       " '261881': 85.5,\n",
       " '239388': 85.5,\n",
       " '52395': 85.5,\n",
       " '173163': 85.5,\n",
       " '258181': 85.5,\n",
       " '24137': 85.5,\n",
       " '316870': 85.5,\n",
       " '74392': 85.5,\n",
       " '390100': 85.5,\n",
       " '404191': 85.5,\n",
       " '392972': 85.5,\n",
       " '62587': 85.5,\n",
       " '32259': 85.5,\n",
       " '258189': 85.5,\n",
       " '137933': 85.5,\n",
       " '14942': 85.5,\n",
       " '250847': 85.5,\n",
       " '137749': 85.5,\n",
       " '17738': 85.5,\n",
       " '26002': 85.5,\n",
       " '340440': 85.5,\n",
       " '171185': 85.5,\n",
       " '99293': 85.5,\n",
       " '310107': 85.5,\n",
       " '273310': 85.5,\n",
       " '26234': 85.5,\n",
       " '198224': 85.5,\n",
       " '135660': 85.5,\n",
       " '396733': 85.5,\n",
       " '176295': 85.5,\n",
       " '31868': 85.5,\n",
       " '364136': 85.5,\n",
       " '238935': 85.5,\n",
       " '69724': 85.5,\n",
       " '394696': 85.5,\n",
       " '327180': 85.5,\n",
       " '148684': 85.5,\n",
       " '6758': 85.5,\n",
       " '238671': 85.5,\n",
       " '252785': 85.5,\n",
       " '329268': 85.5,\n",
       " '23262': 85.5,\n",
       " '230541': 85.5,\n",
       " '382101': 85.5,\n",
       " '182627': 85.5,\n",
       " '23847': 85.5,\n",
       " '150537': 85.5,\n",
       " '90187': 85.5,\n",
       " '388615': 85.5,\n",
       " '338168': 85.5,\n",
       " '73673': 85.5,\n",
       " '343482': 85.5,\n",
       " '10455': 85.5,\n",
       " '9792': 85.5,\n",
       " '171953': 85.5,\n",
       " '21769': 85.5,\n",
       " '95205': 85.5,\n",
       " '1747': 85.5,\n",
       " '287664': 85.5,\n",
       " '333648': 85.5,\n",
       " '241267': 85.5,\n",
       " '15812': 85.5,\n",
       " '136137': 85.5,\n",
       " '184875': 85.5,\n",
       " '324477': 85.5,\n",
       " '322891': 85.5,\n",
       " '371141': 85.5,\n",
       " '230580': 85.5,\n",
       " '304578': 85.5,\n",
       " '420927': 85.5,\n",
       " '119247': 85.5,\n",
       " '384658': 85.5,\n",
       " '120598': 85.5,\n",
       " '218173': 85.5,\n",
       " '299252': 85.5,\n",
       " '219674': 85.5,\n",
       " '242241': 85.5,\n",
       " '360079': 85.5,\n",
       " '153188': 85.5,\n",
       " '167123': 85.5,\n",
       " '125889': 85.5,\n",
       " '248479': 85.5,\n",
       " '420113': 85.5,\n",
       " '250747': 85.5,\n",
       " '181230': 85.5,\n",
       " '60762': 85.5,\n",
       " '195223': 85.5,\n",
       " '165237': 85.5,\n",
       " '111639': 85.5,\n",
       " '30979': 85.5,\n",
       " '166680': 85.5,\n",
       " '274325': 85.5,\n",
       " '319412': 85.5,\n",
       " '32345': 85.5,\n",
       " '370564': 85.5,\n",
       " '73618': 85.5,\n",
       " '400590': 85.5,\n",
       " '191813': 85.5,\n",
       " '204246': 85.5,\n",
       " '292917': 85.5,\n",
       " '19490': 85.5,\n",
       " '152261': 85.5,\n",
       " '298624': 85.5,\n",
       " '7164': 85.5,\n",
       " '310184': 85.5,\n",
       " '126474': 85.5,\n",
       " '297101': 85.5,\n",
       " '322924': 85.5,\n",
       " '356821': 85.5,\n",
       " '239374': 85.5,\n",
       " '96948': 85.5,\n",
       " '106199': 85.5,\n",
       " '158036': 85.5,\n",
       " '387634': 85.5,\n",
       " '379019': 85.5,\n",
       " '199111': 85.5,\n",
       " '260248': 85.5,\n",
       " '424165': 85.5,\n",
       " '240547': 85.5,\n",
       " '322907': 85.5,\n",
       " '41877': 85.5,\n",
       " '150651': 85.5,\n",
       " '153515': 85.5,\n",
       " '425345': 85.5,\n",
       " '205057': 85.5,\n",
       " '237666': 85.5,\n",
       " '395712': 85.5,\n",
       " '138978': 85.5,\n",
       " '221224': 85.5,\n",
       " '12352': 85.5,\n",
       " '193195': 85.5,\n",
       " '62009': 85.5,\n",
       " '76191': 85.5,\n",
       " '124402': 85.5,\n",
       " '331307': 85.5,\n",
       " '322945': 85.5,\n",
       " '363596': 85.5,\n",
       " '58939': 85.5,\n",
       " '241235': 85.5,\n",
       " '64659': 85.5,\n",
       " '176927': 85.5,\n",
       " '418624': 85.5,\n",
       " '394880': 85.5,\n",
       " '131959': 85.5,\n",
       " '422224': 85.5,\n",
       " '9510': 85.5,\n",
       " '254724': 85.5,\n",
       " '21671': 85.5,\n",
       " '419898': 85.5,\n",
       " '12064': 85.5,\n",
       " '271311': 85.5,\n",
       " '12550': 85.5,\n",
       " '151633': 85.5,\n",
       " '426827': 85.5,\n",
       " '365352': 85.5,\n",
       " '88838': 85.5,\n",
       " '23501': 85.5,\n",
       " '17865': 85.5,\n",
       " '366394': 85.5,\n",
       " '130384': 85.5,\n",
       " '248870': 85.5,\n",
       " '288949': 85.5,\n",
       " '229832': 85.5,\n",
       " '55187': 85.5,\n",
       " '120439': 85.5,\n",
       " '230695': 85.5,\n",
       " '279078': 85.5,\n",
       " '196268': 85.5,\n",
       " '48352': 85.5,\n",
       " '241161': 85.5,\n",
       " '424390': 85.5,\n",
       " '310194': 85.5,\n",
       " '243351': 85.5,\n",
       " '138152': 85.5,\n",
       " '5687': 85.5,\n",
       " '248786': 85.5,\n",
       " '166011': 85.5,\n",
       " '195905': 85.5,\n",
       " '149370': 85.5,\n",
       " ...}"
      ]
     },
     "execution_count": 443,
     "metadata": {},
     "output_type": "execute_result"
    }
   ],
   "source": [
    "selected_candidates=[]\n",
    "for entitiy in entities_ordered[:10]:\n",
    "    if entity \n",
    "    selected_candidates.append()"
   ]
  },
  {
   "cell_type": "code",
   "execution_count": 436,
   "metadata": {},
   "outputs": [
    {
     "data": {
      "text/plain": [
       "'379819'"
      ]
     },
     "execution_count": 436,
     "metadata": {},
     "output_type": "execute_result"
    }
   ],
   "source": [
    "candidates_ordered[100]"
   ]
  },
  {
   "cell_type": "code",
   "execution_count": 351,
   "metadata": {},
   "outputs": [
    {
     "data": {
      "text/plain": [
       "{'Adam Smith': 100.0,\n",
       " 'Adam B Smith': 95.0,\n",
       " 'Smith Smith': 95.0,\n",
       " 'Ada Smith': 94.73684210526316,\n",
       " 'The Adam Smith Institute': 90.0,\n",
       " 'Adam Smith Foundation': 90.0,\n",
       " 'Adam Smith Political Action Committee, the': 90.0,\n",
       " 'Adam Smith Realty Advisors Inc': 90.0,\n",
       " 'Adam Smith for Congress Committee': 90.0,\n",
       " 'Damon Smith': 85.71428571428572,\n",
       " 'Virginians for Chuck Smith': 85.5,\n",
       " 'Morgan Stanley Smith Barney Global Impact Funding Trust': 85.5,\n",
       " 'Robert Henry Smith': 85.5,\n",
       " 'Edward Brinton Smith': 85.5,\n",
       " 'Joseph A. Smith': 85.5,\n",
       " 'Adam Vandervoort': 85.5,\n",
       " 'John W Smith Jr': 85.5,\n",
       " 'Philander Smith College': 85.5,\n",
       " 'Barbara Sexton Smith': 85.5,\n",
       " 'Bob Smith for President Committee Inc': 85.5,\n",
       " 'Adam Hochschild': 85.5,\n",
       " 'Davey Boy Smith': 85.5,\n",
       " 'Peggy Williams-Smith': 85.5,\n",
       " 'Jan Mahrt-Smith': 85.5,\n",
       " 'Bruce Higson-Smith': 85.5,\n",
       " 'DeMaurice Smith': 85.5,\n",
       " 'Adam Hasner Florida Victory Cmte': 85.5,\n",
       " 'Adam J Di Vincenzo': 85.5,\n",
       " 'Gregory L Smith': 85.5,\n",
       " 'William Smith Conning': 85.5,\n",
       " 'Adam Wolfensohn': 85.5,\n",
       " 'Theresa Kail-Smith': 85.5,\n",
       " 'Michael Adam Hirschberg': 85.5,\n",
       " 'Jessica Maglietto Smith': 85.5,\n",
       " 'Whitney Haring-Smith': 85.5,\n",
       " 'Frederick C Smith': 85.5,\n",
       " 'Willis Roswell Smith': 85.5,\n",
       " 'Smith, Hudson, Hammond and Alston': 85.5,\n",
       " 'Adam Cox for Congress': 85.5,\n",
       " 'Donald Alexander Smith': 85.5,\n",
       " 'Douglas W Smith': 85.5,\n",
       " 'Gregory R Smith': 85.5,\n",
       " 'Haywood C Smith': 85.5,\n",
       " 'Lawrence Jack Smith': 85.5,\n",
       " 'Shaheen Smith 2020': 85.5,\n",
       " 'Ray S Smith III': 85.5,\n",
       " 'W Jeffrey Smith': 85.5,\n",
       " 'Ronnette V Smith': 85.5,\n",
       " 'Gregory Howard Smith': 85.5,\n",
       " 'John Adam Kanas': 85.5}"
      ]
     },
     "execution_count": 351,
     "metadata": {},
     "output_type": "execute_result"
    }
   ],
   "source": [
    "    candidates_alphabetical = {candidate.alias_ + ' ' + candidate.entity_: candidate for candidate in candidates}\n",
    "    candidates_alphabetical = dict(sorted(candidates_alphabetical.items(), key=itemgetter(0), reverse=False))"
   ]
  },
  {
   "cell_type": "code",
   "execution_count": null,
   "metadata": {},
   "outputs": [],
   "source": []
  },
  {
   "cell_type": "code",
   "execution_count": 169,
   "metadata": {},
   "outputs": [],
   "source": [
    "def get_candidates_from_fuzzy_matching(span, kb, matching_thres=60) -> Iterator[Candidate]:\n",
    "    \"\"\"\n",
    "    Return a list of candidate entities for an alias based on fuzzy string matching.\n",
    "    Each candidate defines the entity, the original alias,\n",
    "    and the prior probability of that alias resolving to that entity.\n",
    "    If the alias is not known in the KB, and empty list is returned.\n",
    "    \"\"\"\n",
    "\n",
    "    aliases=kb.get_alias_strings()\n",
    "    matches=[]\n",
    "    for al in aliases:\n",
    "    fuzzy_ratio=rapidfuzz.fuzz.token_set_ratio(span.lower(),al.lower())\n",
    "        if fuzzy_ratio >=matching_thres:\n",
    "            matches[al]=fuzzy_ratio\n",
    "\n",
    "    candidates=[]\n",
    "    for match in matches:\n",
    "        candidates.extend(kb.get_alias_candidates(match))\n",
    "\n",
    "    return candidates, matches\n",
    "\n",
    "def embed_text(text,nlp):\n",
    "    \"\"\"\n",
    "    Return spaCy embedding of a text.\n",
    "    \"\"\"\n",
    "    return nlp(text).vector\n",
    "\n",
    "def calculate_cosine_similarity(descriptions_vec,vector_ref_sentence):\n",
    "    \"\"\"\n",
    "    Return a dictionary mapping the kb entity id to cosine similarity score\n",
    "    between kb embedded descriptions and the reference vector.\n",
    "    \"\"\"\n",
    "    similarity={}\n",
    "    for entity_id in descriptions_vec.keys():\n",
    "        vector_desc=descriptions_vec[entity_id]\n",
    "        score=np.nan_to_num(\n",
    "            dot(vector_ref_sentence, vector_desc)/\n",
    "            (norm(vector_ref_sentence)*norm(vector_desc))\n",
    "        ,0)\n",
    "        similarity[entity_id]=score\n",
    "    return similarity\n",
    "\n",
    "def get_candidates_from_context(text, nlp, candidates, matches, candidate_limit=50):\n",
    "    \"\"\"\n",
    "    Select only the top candidates to surface via the Prodigy UI. Based on\n",
    "    topmost cosine similarities.\n",
    "    \"\"\"\n",
    "    vector_ref_sentence=embed_text(text,nlp)\n",
    "    names = dict()\n",
    "    descriptions_vec = dict()\n",
    "    for candidate in candidates:\n",
    "        qid = candidate.entity_\n",
    "        name = candidate.alias_\n",
    "        desc_enc = candidate.entity_vector\n",
    "        names[qid] = name\n",
    "        descriptions_vec[qid] = desc_enc\n",
    "\n",
    "    similarity=calculate_cosine_similarity(descriptions_vec, vector_ref_sentence)\n",
    "    fuzzy_scores={qid:matches[alias] for qid, alias in names.items()}\n",
    "    fuzzy_scores=dict(sorted(fuzzy_scores.items(), key=itemgetter(0), reverse=False))\n",
    "    similarity=dict(sorted(similarity.items(), key=itemgetter(0), reverse=False))\n",
    "    qids=set(similarity.keys()) | set(fuzzy_scores.keys())\n",
    "    fuzzy_similarity={}\n",
    "    for qid in qids:\n",
    "    fuzzy_similarity[qid]=np.mean([similarity[qid],fuzzy_scores[qid]/100])\n",
    "    top_best_candidates = dict(sorted(fuzzy_similarity.items(), key = itemgetter(1), reverse = True)[:candidate_limit])\n",
    "    selected_candidates = [candidate for candidate in candidates if candidate.entity_ in top_best_candidates.keys()]\n",
    "    return selected_candidates\n",
    "\n",
    "def order_candidates_alphabetically(candidates):\n",
    "    \"\"\"\n",
    "    Order candidate list alphabetically\n",
    "    \"\"\"\n",
    "    candidates_alphabetical = {candidate.alias_ + ' ' + candidate.entity_: candidate for candidate in candidates}\n",
    "    candidates_alphabetical = dict(sorted(candidates_alphabetical.items(), key=itemgetter(0), reverse=False))\n",
    "    return [candidate for candidate in candidates_alphabetical.values()]"
   ]
  },
  {
   "cell_type": "code",
   "execution_count": 302,
   "metadata": {},
   "outputs": [
    {
     "name": "stderr",
     "output_type": "stream",
     "text": [
      "/Users/luis_flores/.local/share/virtualenvs/ner-DhZLIlym/lib/python3.7/site-packages/ipykernel_launcher.py:17: RuntimeWarning: invalid value encountered in double_scalars\n",
      "  app.launch_new_instance()\n"
     ]
    }
   ],
   "source": [
    "text=\"It was John Maynard Keynes who said that \\“when the capital development of a country becomes a byproduct of the activities of a casino, the job is likely to be ill-done\\”.\"\n",
    "new_candidates=get_candidates_from_context(text,nlp,candidates)"
   ]
  },
  {
   "cell_type": "code",
   "execution_count": null,
   "metadata": {},
   "outputs": [],
   "source": []
  },
  {
   "cell_type": "code",
   "execution_count": 303,
   "metadata": {
    "tags": []
   },
   "outputs": [
    {
     "name": "stderr",
     "output_type": "stream",
     "text": [
      "/Users/luis_flores/.local/share/virtualenvs/ner-DhZLIlym/lib/python3.7/site-packages/ipykernel_launcher.py:17: RuntimeWarning: invalid value encountered in double_scalars\n",
      "  app.launch_new_instance()\n"
     ]
    }
   ],
   "source": [
    "vector_ref_sentence=embed_text(text,nlp)\n",
    "names = dict()\n",
    "descriptions_vec = dict()\n",
    "for candidate in candidates:\n",
    "    qid = candidate.entity_\n",
    "    name = candidate.alias_\n",
    "    desc_enc = candidate.entity_vector\n",
    "    names[qid] = name\n",
    "    descriptions_vec[qid] = desc_enc\n",
    "\n",
    "similarity=calculate_cosine_similarity(descriptions_vec, vector_ref_sentence)\n",
    "fuzzy_scores={qid:matches[alias] for qid, alias in names.items()}"
   ]
  },
  {
   "cell_type": "code",
   "execution_count": 306,
   "metadata": {},
   "outputs": [],
   "source": [
    "fuzzy_scores=dict(sorted(fuzzy_scores.items(), key=itemgetter(0), reverse=False))\n",
    "similarity=dict(sorted(similarity.items(), key=itemgetter(0), reverse=False))\n",
    "qids=set(similarity.keys()) | set(fuzzy_scores.keys())\n",
    "fuzzy_similarity={}\n",
    "for qid in qids:\n",
    "    fuzzy_similarity[qid] = ([similarity[qid], fuzzy_scores[qid] / 100])\n",
    "    #fuzzy_similarity[qid]=np.mean([similarity[qid],fuzzy_scores[qid]/100])\n",
    "    #fuzzy_similarity[qid] = np.ma.average([similarity[qid], fuzzy_scores[qid] / 100], weights=[1, 2])"
   ]
  },
  {
   "cell_type": "code",
   "execution_count": 316,
   "metadata": {},
   "outputs": [
    {
     "data": {
      "text/plain": [
       "0.626984592950086"
      ]
     },
     "execution_count": 316,
     "metadata": {},
     "output_type": "execute_result"
    }
   ],
   "source": [
    "np.ma.average([similarity[qid], fuzzy_scores[qid] / 100], weights=[1, 2])"
   ]
  },
  {
   "cell_type": "code",
   "execution_count": 294,
   "metadata": {},
   "outputs": [],
   "source": [
    "top_best_candidates = dict(sorted(fuzzy_similarity.items(), key = itemgetter(1), reverse = True)[:50])"
   ]
  },
  {
   "cell_type": "code",
   "execution_count": 295,
   "metadata": {},
   "outputs": [
    {
     "data": {
      "text/plain": [
       "{'398729': 0.8583432574056711,\n",
       " '97387': 0.8456965772939196,\n",
       " '93513': 0.8191439575522026,\n",
       " '165685': 0.8030752167648936,\n",
       " '113174': 0.8008316317871986,\n",
       " '411891': 0.7972990876312205,\n",
       " '11897': 0.7961998554097311,\n",
       " '333467': 0.7947114583244168,\n",
       " '50829': 0.7916899295631747,\n",
       " '176420': 0.7910833652251725,\n",
       " '17796': 0.7902848022007736,\n",
       " '280614': 0.7873476011873211,\n",
       " '27998': 0.7854471672376881,\n",
       " '280391': 0.784609600775617,\n",
       " '100566': 0.783871099027426,\n",
       " '15049': 0.7816469900861103,\n",
       " '183241': 0.7810835194767953,\n",
       " '159793': 0.7807202742684682,\n",
       " '94273': 0.7804436380506125,\n",
       " '34469': 0.7796250626423464,\n",
       " '37211': 0.779428298118812,\n",
       " '78809': 0.777897797261107,\n",
       " '224717': 0.7764405149370766,\n",
       " '355462': 0.775704424578975,\n",
       " '315036': 0.7752372412117599,\n",
       " '392163': 0.7747885422399007,\n",
       " '360968': 0.774105755893999,\n",
       " '341357': 0.7737280417575043,\n",
       " '89973': 0.7736169593350832,\n",
       " '43425': 0.7736149653493714,\n",
       " '177844': 0.773588173454582,\n",
       " '111467': 0.7735844665002619,\n",
       " '112922': 0.7728839939520851,\n",
       " '126413': 0.7721584520233138,\n",
       " '329620': 0.771994942946709,\n",
       " '45349': 0.7715262860663517,\n",
       " '89860': 0.7708798204867874,\n",
       " '227442': 0.7707653680797721,\n",
       " '212062': 0.7706352090437023,\n",
       " '193037': 0.7705401897806027,\n",
       " '76433': 0.7705271767155074,\n",
       " '352796': 0.769674110164154,\n",
       " '280121': 0.7695416875331733,\n",
       " '336322': 0.7694301667735519,\n",
       " '274672': 0.7689529573242881,\n",
       " '153591': 0.768939106195392,\n",
       " '138555': 0.7688707936199386,\n",
       " '80417': 0.768626673543465,\n",
       " '345925': 0.7679064769195327,\n",
       " '315271': 0.7677002139651514}"
      ]
     },
     "execution_count": 295,
     "metadata": {},
     "output_type": "execute_result"
    }
   ],
   "source": [
    "top_best_candidates"
   ]
  },
  {
   "cell_type": "markdown",
   "metadata": {},
   "source": [
    "# Creating a training dataset"
   ]
  },
  {
   "cell_type": "markdown",
   "metadata": {},
   "source": [
    "Now, we need to create some annotated data to train an Entity Linking algorithm on. To do so, we will use the annotation tool Prodigy, but you could generate the data in whatever tool you like."
   ]
  },
  {
   "cell_type": "markdown",
   "metadata": {},
   "source": [
    "If you are watching [the video](https://www.youtube.com/watch?v=8u57WSXVpmw), it will explain how to obtain annotated data with Prodigy. The final result will be a JSONL file that is distributed alongside this notebook. We'll now use this JSONL file to train our entity linker. If you want to skip the annotation part in the video, you can fast forward to [this section](https://www.youtube.com/watch?v=8u57WSXVpmw&t=19m19s)."
   ]
  },
  {
   "cell_type": "markdown",
   "metadata": {},
   "source": [
    "Let's have a look at the results in this file:"
   ]
  },
  {
   "cell_type": "code",
   "execution_count": null,
   "metadata": {},
   "outputs": [],
   "source": [
    "import json\n",
    "from pathlib import Path\n",
    "\n",
    "json_loc = Path.cwd().parent / \"assets\" / \"emerson_annotated_text.jsonl\" # distributed alongside this notebook\n",
    "with json_loc.open(\"r\", encoding=\"utf8\") as jsonfile:\n",
    "    line = jsonfile.readline()\n",
    "    print(line)   # print just the first line"
   ]
  },
  {
   "cell_type": "markdown",
   "metadata": {},
   "source": [
    " We see that the full text of the original sentence is stored, together with a lot of detail about the annotation task. The most important bit is stored with the key `accept` at the end: this is the value of our manual annotation. For this specific sentence and this specific mention, the option with key `Q312545` was manually selected. This is the information that we'll train our entity linker on."
   ]
  },
  {
   "cell_type": "markdown",
   "metadata": {},
   "source": [
    "# Training the Entity Linker"
   ]
  },
  {
   "cell_type": "markdown",
   "metadata": {},
   "source": [
    "To feed training data into our Entity Linker, we format our data as a structured tuple. The first part is the raw text, and the second part is a dictionary of annotations. This dictionary defines the named entities we want to link (\"entities\"), as well as the actual gold-standard links (\"links\")."
   ]
  },
  {
   "cell_type": "code",
   "execution_count": null,
   "metadata": {},
   "outputs": [],
   "source": [
    "import json\n",
    "from pathlib import Path\n",
    "\n",
    "dataset = []\n",
    "json_loc = Path.cwd().parent / \"assets\" / \"emerson_annotated_text.jsonl\"\n",
    "with json_loc.open(\"r\", encoding=\"utf8\") as jsonfile:\n",
    "    for line in jsonfile:\n",
    "        example = json.loads(line)\n",
    "        text = example[\"text\"]\n",
    "        if example[\"answer\"] == \"accept\":\n",
    "            QID = example[\"accept\"][0]\n",
    "            offset = (example[\"spans\"][0][\"start\"], example[\"spans\"][0][\"end\"])\n",
    "            entity_label = example[\"spans\"][0][\"label\"]\n",
    "            entities = [(offset[0], offset[1], entity_label)]\n",
    "            links_dict = {QID: 1.0}\n",
    "        dataset.append((text, {\"links\": {offset: links_dict}, \"entities\": entities}))"
   ]
  },
  {
   "cell_type": "markdown",
   "metadata": {},
   "source": [
    "To check whether the conversion looks OK, we can just print the first sample in our dataset. "
   ]
  },
  {
   "cell_type": "code",
   "execution_count": null,
   "metadata": {},
   "outputs": [],
   "source": [
    "dataset[0]"
   ]
  },
  {
   "cell_type": "markdown",
   "metadata": {},
   "source": [
    "We can also check some statistics in this dataset. How many cases of each QID do we have annotated?"
   ]
  },
  {
   "cell_type": "code",
   "execution_count": null,
   "metadata": {},
   "outputs": [],
   "source": [
    "gold_ids = []\n",
    "for text, annot in dataset:\n",
    "    for span, links_dict in annot[\"links\"].items():\n",
    "        for link, value in links_dict.items():\n",
    "            if value:\n",
    "                gold_ids.append(link)\n",
    "\n",
    "from collections import Counter\n",
    "print(Counter(gold_ids))"
   ]
  },
  {
   "cell_type": "markdown",
   "metadata": {},
   "source": [
    "We got exactly 10 annotated sentences for each of our Emersons. Of these, we'll now set aside 6 cases in a separate test set."
   ]
  },
  {
   "cell_type": "code",
   "execution_count": null,
   "metadata": {},
   "outputs": [],
   "source": [
    "import random\n",
    "\n",
    "train_dataset = []\n",
    "test_dataset = []\n",
    "for QID in qids:\n",
    "    indices = [i for i, j in enumerate(gold_ids) if j == QID]\n",
    "    train_dataset.extend(dataset[index] for index in indices[0:8])  # first 8 in training\n",
    "    test_dataset.extend(dataset[index] for index in indices[8:10])  # last 2 in test\n",
    "    \n",
    "random.shuffle(train_dataset)\n",
    "random.shuffle(test_dataset)"
   ]
  },
  {
   "cell_type": "markdown",
   "metadata": {},
   "source": [
    "With our datasets now properly set up, we'll now create `Example` objects to feed into the training process. This object is new in spaCy v3. Essentially, it contains a document with predictions (`predicted`) and one with gold-standard annotations (`reference`). During training, the pipeline will compare its predictions to the gold-standard, and update the weights of the neural network accordingly.\n",
    "\n",
    "For entity linking, the algorithm needs access to gold-standard sentences, because the algorithms use the context from the sentence to perform the disambiguation. You can either provide gold-standard `sent_starts` annotations, or run a component such as the `parser` or `sentencizer` on your reference documents:"
   ]
  },
  {
   "cell_type": "code",
   "execution_count": null,
   "metadata": {},
   "outputs": [],
   "source": [
    "from spacy.training import Example\n",
    "\n",
    "TRAIN_EXAMPLES = []\n",
    "if \"sentencizer\" not in nlp.pipe_names:\n",
    "    nlp.add_pipe(\"sentencizer\")\n",
    "sentencizer = nlp.get_pipe(\"sentencizer\")\n",
    "for text, annotation in train_dataset:\n",
    "    example = Example.from_dict(nlp.make_doc(text), annotation)\n",
    "    example.reference = sentencizer(example.reference)\n",
    "    TRAIN_EXAMPLES.append(example)\n",
    "    "
   ]
  },
  {
   "cell_type": "markdown",
   "metadata": {},
   "source": [
    "Then, we'll create a new Entity Linking component and add it to the pipeline. \n",
    "\n",
    "We also need to make sure the `entity_linker` component is properly initialized. To do this, we need a `get_examples` function that returns some example training data, as well as a `kb_loader` argument. This is a `Callable` function that creates the `KnowledgeBase`, given a certain `Vocab` instance. Here, we will load our KB from disk, using the built-in [`spacy.KBFromFile.v1`](https://spacy.io/api/architectures#KBFromFile) function, which is defined in `spacy.ml.models`. "
   ]
  },
  {
   "cell_type": "code",
   "execution_count": null,
   "metadata": {},
   "outputs": [],
   "source": [
    "from spacy.ml.models import load_kb\n",
    "\n",
    "entity_linker = nlp.add_pipe(\"entity_linker\", config={\"incl_prior\": False}, last=True)\n",
    "entity_linker.initialize(get_examples=lambda: TRAIN_EXAMPLES, kb_loader=load_kb(output_dir / \"my_kb\"))"
   ]
  },
  {
   "cell_type": "markdown",
   "metadata": {},
   "source": [
    "Next, we will run the actual training loop for the new component, taking care to only train the entity linker and not the other components. "
   ]
  },
  {
   "cell_type": "code",
   "execution_count": null,
   "metadata": {},
   "outputs": [],
   "source": [
    "from spacy.util import minibatch, compounding\n",
    "\n",
    "with nlp.select_pipes(enable=[\"entity_linker\"]):   # train only the entity_linker\n",
    "    optimizer = nlp.resume_training()\n",
    "    for itn in range(500):   # 500 iterations takes about a minute to train\n",
    "        random.shuffle(TRAIN_EXAMPLES)\n",
    "        batches = minibatch(TRAIN_EXAMPLES, size=compounding(4.0, 32.0, 1.001))  # increasing batch sizes\n",
    "        losses = {}\n",
    "        for batch in batches:\n",
    "            nlp.update(\n",
    "                batch,   \n",
    "                drop=0.2,      # prevent overfitting\n",
    "                losses=losses,\n",
    "                sgd=optimizer,\n",
    "            )\n",
    "        if itn % 50 == 0:\n",
    "            print(itn, \"Losses\", losses)   # print the training loss\n",
    "print(itn, \"Losses\", losses)"
   ]
  },
  {
   "cell_type": "markdown",
   "metadata": {},
   "source": [
    "The final training loss is pretty small, which is a good sign. But to truly verify whether our model generalizes well, we need to test it on unseen data."
   ]
  },
  {
   "cell_type": "markdown",
   "metadata": {},
   "source": [
    "# Testing the Entity Linker"
   ]
  },
  {
   "cell_type": "markdown",
   "metadata": {},
   "source": [
    "Let's first apply it on our original sentence. For each entity, we print the text and label as before, but also the disambiguated QID as predicted by our entity linker."
   ]
  },
  {
   "cell_type": "code",
   "execution_count": null,
   "metadata": {},
   "outputs": [],
   "source": [
    "text = \"Tennis champion Emerson was expected to win Wimbledon.\"\n",
    "doc = nlp(text)\n",
    "for ent in doc.ents:\n",
    "    print(ent.text, ent.label_, ent.kb_id_)"
   ]
  },
  {
   "cell_type": "markdown",
   "metadata": {},
   "source": [
    "We see that Emerson gets disambiguated to Q312545, which is the correct ID for the tennis player. Note also that the entity \"Wimbledon\" gets the annotation `NIL`, which is basically just a placeholder value, showing that the NEL component could not find any relevant ID for this entity. This happens because our Knowledge base and the Entity Linking component have only been trained on \"Emerson\" examples, and are thus quite limited."
   ]
  },
  {
   "cell_type": "markdown",
   "metadata": {},
   "source": [
    "Let's see what the model predicts for the 6 sentences in our test dataset, that were never seen during training."
   ]
  },
  {
   "cell_type": "code",
   "execution_count": null,
   "metadata": {},
   "outputs": [],
   "source": [
    "for text, true_annot in test_dataset:\n",
    "    print(text)\n",
    "    print(f\"Gold annotation: {true_annot}\")\n",
    "    doc = nlp(text)  # to make this more efficient, you can use nlp.pipe() just once for all the texts\n",
    "    for ent in doc.ents:\n",
    "        if ent.text == \"Emerson\":\n",
    "            print(f\"Prediction: {ent.text}, {ent.label_}, {ent.kb_id_}\")\n",
    "    print()"
   ]
  },
  {
   "cell_type": "markdown",
   "metadata": {},
   "source": [
    "These results may vary a little from run to run, but usually the EL pipeline will get 5 out of 6 predictions correct (83% accuracy). Random guessing would have only achieved 33%."
   ]
  },
  {
   "cell_type": "markdown",
   "metadata": {},
   "source": [
    "Hopefully, this tutorial has shown you how to implement an Entity Linking component in spaCy. The knowledge base and training dataset used here were kept small for demonstration purposes, but in reality you'll want to use a much bigger representative set of entities, perhaps from an ontology or dictionary that is relevant to your use-case. \n",
    "\n",
    "If you have general questions on how to use this functionality in your own application, the best route is to create a new StackOverfow issue and tag it with the label `spaCy`. If you would run into an actual bug with the Entity Linking functionality, you can also open an issue at spaCy's github tracker. \n",
    "\n",
    "I hope your next NLP project will incorporate entity linking !"
   ]
  }
 ],
 "metadata": {
  "kernelspec": {
   "display_name": "Python 3 (ipykernel)",
   "language": "python",
   "name": "python3"
  },
  "language_info": {
   "codemirror_mode": {
    "name": "ipython",
    "version": 3
   },
   "file_extension": ".py",
   "mimetype": "text/x-python",
   "name": "python",
   "nbconvert_exporter": "python",
   "pygments_lexer": "ipython3",
   "version": "3.7.13"
  },
  "pycharm": {
   "stem_cell": {
    "cell_type": "raw",
    "metadata": {
     "collapsed": false
    },
    "source": []
   }
  }
 },
 "nbformat": 4,
 "nbformat_minor": 4
}
