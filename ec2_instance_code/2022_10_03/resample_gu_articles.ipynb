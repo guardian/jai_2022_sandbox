{
 "cells": [
  {
   "cell_type": "code",
   "execution_count": 2,
   "id": "0ebaab0b-e214-4aab-ab03-f9be450b9727",
   "metadata": {},
   "outputs": [],
   "source": [
    "import pandas as pd"
   ]
  },
  {
   "cell_type": "code",
   "execution_count": 3,
   "id": "4fa4f784-3eb7-4449-bd95-408574f1ce53",
   "metadata": {},
   "outputs": [],
   "source": [
    "import glob"
   ]
  },
  {
   "cell_type": "code",
   "execution_count": 3,
   "id": "1c330758-a472-4d75-ab1c-0e0059c9cef0",
   "metadata": {},
   "outputs": [],
   "source": [
    "first_cycle=1\n",
    "for gu_ner_file in glob.glob('extracted_named_entities_output/sampled_*'):\n",
    "    year=gu_ner_file.split('_')[-2]\n",
    "    gu_ents_cycle = pd.read_csv(gu_ner_file,index_col=0)\n",
    "    gu_ents_cycle['article_year']=year\n",
    "    if first_cycle:\n",
    "        gu_ents=gu_ents_cycle\n",
    "        first_cycle=0\n",
    "    else:\n",
    "        gu_ents=pd.concat([gu_ents, gu_ents_cycle],ignore_index=True)"
   ]
  },
  {
   "cell_type": "code",
   "execution_count": null,
   "id": "3b5bd134-0a72-4618-a9e3-c70ffdfb7743",
   "metadata": {},
   "outputs": [],
   "source": [
    "gu_ents=gu_ents[gu_ents['label'].isin(['PERSON','ORG'])]"
   ]
  },
  {
   "cell_type": "code",
   "execution_count": null,
   "id": "1bf733c8-a087-4a56-bcb0-747f986a7bff",
   "metadata": {},
   "outputs": [],
   "source": [
    "gu_ents['article_year']=gu_ents['article_year'].astype(int)"
   ]
  },
  {
   "cell_type": "code",
   "execution_count": 7,
   "id": "fb7b1854-efd1-40c1-a0a8-e856e4efc9c4",
   "metadata": {},
   "outputs": [
    {
     "name": "stderr",
     "output_type": "stream",
     "text": [
      "/tmp/ipykernel_2382/1783612290.py:1: FutureWarning: In a future version of pandas all arguments of DataFrame.drop except for the argument 'labels' will be keyword-only.\n",
      "  gu_ents.drop(['label','start','end','start_char','end_char'],1,inplace=True)\n"
     ]
    }
   ],
   "source": [
    "gu_ents.drop(['label','start','end','start_char','end_char'],1,inplace=True)"
   ]
  },
  {
   "cell_type": "code",
   "execution_count": 8,
   "id": "15d85263-2eb6-40e8-9ec3-a22454dfd8b3",
   "metadata": {},
   "outputs": [],
   "source": [
    "gu_ents.drop_duplicates(inplace=True)"
   ]
  },
  {
   "cell_type": "code",
   "execution_count": 9,
   "id": "eed007d0-48c6-4da0-bff7-637ca8d8572f",
   "metadata": {},
   "outputs": [
    {
     "data": {
      "text/plain": [
       "(3552188, 3)"
      ]
     },
     "execution_count": 9,
     "metadata": {},
     "output_type": "execute_result"
    }
   ],
   "source": [
    "gu_ents.shape"
   ]
  },
  {
   "cell_type": "code",
   "execution_count": 10,
   "id": "b27c5dd8-6065-4b90-95fd-e7277555afbf",
   "metadata": {},
   "outputs": [
    {
     "data": {
      "text/plain": [
       "777413"
      ]
     },
     "execution_count": 10,
     "metadata": {},
     "output_type": "execute_result"
    }
   ],
   "source": [
    "gu_ents['text'].nunique()"
   ]
  },
  {
   "cell_type": "code",
   "execution_count": 11,
   "id": "c93ab621-e6bb-45bc-afae-e7dbc208d6ba",
   "metadata": {},
   "outputs": [],
   "source": [
    "entity_counts=gu_ents['text'].value_counts()"
   ]
  },
  {
   "cell_type": "code",
   "execution_count": 12,
   "id": "71120f63-42fd-4686-8950-32fbdea40be2",
   "metadata": {},
   "outputs": [
    {
     "data": {
      "text/plain": [
       "Guardian                            26181\n",
       "EU                                  10401\n",
       "Trump                                9900\n",
       "Labour                               9219\n",
       "BBC                                  8569\n",
       "                                    ...  \n",
       "Dougie Evans’s                          1\n",
       "Stankevicius                            1\n",
       "Darius A Stankevicius                   1\n",
       "Ieva Kuniskis                           1\n",
       "Queen Mamohato Memorial hospital        1\n",
       "Name: text, Length: 777413, dtype: int64"
      ]
     },
     "execution_count": 12,
     "metadata": {},
     "output_type": "execute_result"
    }
   ],
   "source": [
    "entity_counts"
   ]
  },
  {
   "cell_type": "code",
   "execution_count": 13,
   "id": "ef989d3d-7baa-4570-aa77-02e91b17b04b",
   "metadata": {},
   "outputs": [],
   "source": [
    "gu_ents_low_prevalence=gu_ents[gu_ents['text'].isin(entity_counts[entity_counts<=3].index.values)]"
   ]
  },
  {
   "cell_type": "code",
   "execution_count": 14,
   "id": "ff106a89-f1bd-4393-a43f-cfb682bf05a1",
   "metadata": {},
   "outputs": [],
   "source": [
    "gu_ents_high_prevalence=gu_ents[gu_ents['text'].isin(entity_counts[entity_counts>3].index.values)]"
   ]
  },
  {
   "cell_type": "code",
   "execution_count": 15,
   "id": "bc7ace7c-af56-466e-a4dc-100ff4804cce",
   "metadata": {},
   "outputs": [],
   "source": [
    "del(gu_ents)"
   ]
  },
  {
   "cell_type": "code",
   "execution_count": 18,
   "id": "e074ee3c-ee44-45b7-bd3c-11f7035e2ae2",
   "metadata": {},
   "outputs": [
    {
     "data": {
      "text/plain": [
       "106944"
      ]
     },
     "execution_count": 18,
     "metadata": {},
     "output_type": "execute_result"
    }
   ],
   "source": [
    "gu_ents_high_prevalence['text'].nunique()"
   ]
  },
  {
   "cell_type": "code",
   "execution_count": null,
   "id": "e5697cb3-52b1-4a23-9493-1c15583fddc5",
   "metadata": {},
   "outputs": [],
   "source": [
    "unique_ents=set(gu_ents_high_prevalence['text'])"
   ]
  },
  {
   "cell_type": "code",
   "execution_count": 3,
   "id": "e6c7d86f-0763-413e-b678-1cc1b5fc3e1b",
   "metadata": {},
   "outputs": [
    {
     "ename": "NameError",
     "evalue": "name 'unique_ents' is not defined",
     "output_type": "error",
     "traceback": [
      "\u001b[0;31m---------------------------------------------------------------------------\u001b[0m",
      "\u001b[0;31mNameError\u001b[0m                                 Traceback (most recent call last)",
      "Input \u001b[0;32mIn [3]\u001b[0m, in \u001b[0;36m<cell line: 2>\u001b[0;34m()\u001b[0m\n\u001b[1;32m      1\u001b[0m cycle\u001b[38;5;241m=\u001b[39m\u001b[38;5;241m0\u001b[39m\n\u001b[0;32m----> 2\u001b[0m \u001b[38;5;28;01mfor\u001b[39;00m entities \u001b[38;5;129;01min\u001b[39;00m \u001b[38;5;28mzip\u001b[39m(\u001b[38;5;241m*\u001b[39m(\u001b[38;5;28miter\u001b[39m(\u001b[43munique_ents\u001b[49m),) \u001b[38;5;241m*\u001b[39m \u001b[38;5;241m1000\u001b[39m):\n\u001b[1;32m      3\u001b[0m     entities_df\u001b[38;5;241m=\u001b[39mgu_ents_high_prevalence[gu_ents_high_prevalence[\u001b[38;5;124m'\u001b[39m\u001b[38;5;124mtext\u001b[39m\u001b[38;5;124m'\u001b[39m]\u001b[38;5;241m.\u001b[39misin(entities)]\n\u001b[1;32m      4\u001b[0m     entities_df\u001b[38;5;241m.\u001b[39mgroupby(\u001b[38;5;124m'\u001b[39m\u001b[38;5;124mtext\u001b[39m\u001b[38;5;124m'\u001b[39m)\u001b[38;5;241m.\u001b[39mapply(\u001b[38;5;28;01mlambda\u001b[39;00m x: x\u001b[38;5;241m.\u001b[39msample(n\u001b[38;5;241m=\u001b[39m\u001b[38;5;241m3\u001b[39m, replace\u001b[38;5;241m=\u001b[39m\u001b[38;5;28;01mFalse\u001b[39;00m))\u001b[38;5;241m.\u001b[39mreset_index(drop \u001b[38;5;241m=\u001b[39m \u001b[38;5;28;01mTrue\u001b[39;00m)\n",
      "\u001b[0;31mNameError\u001b[0m: name 'unique_ents' is not defined"
     ]
    }
   ],
   "source": [
    "cycle=0\n",
    "for entities in zip(*(iter(unique_ents),) * 1000):\n",
    "    entities_df=gu_ents_high_prevalence[gu_ents_high_prevalence['text'].isin(entities)]\n",
    "    entities_df.groupby('text').apply(lambda x: x.sample(n=3, replace=False)).reset_index(drop = True)\n",
    "    if cycle==0:\n",
    "        downsampled_gu_ents_high_prevalence=entities_df\n",
    "    else:\n",
    "        downsampled_gu_ents_high_prevalence=pd.concat([downsampled_gu_ents_high_prevalence,entities_df], ignore_index=True)\n",
    "    cycle+=1"
   ]
  },
  {
   "cell_type": "code",
   "execution_count": 30,
   "id": "732a67a8-32a3-4897-949c-1086dbb864b5",
   "metadata": {},
   "outputs": [],
   "source": [
    "resampled_gu_articles=pd.concat([downsampled_gu_ents_high_prevalence.sample(5000),gu_ents_high_prevalence.sample(5000)])"
   ]
  },
  {
   "cell_type": "code",
   "execution_count": 32,
   "id": "c18059b4-8691-4139-bdc0-8920f7c19a81",
   "metadata": {},
   "outputs": [
    {
     "name": "stderr",
     "output_type": "stream",
     "text": [
      "/tmp/ipykernel_2382/1973138111.py:1: FutureWarning: In a future version of pandas all arguments of DataFrame.drop except for the argument 'labels' will be keyword-only.\n",
      "  resampled_gu_articles.drop(['text'],1,inplace=True)\n"
     ]
    }
   ],
   "source": [
    "resampled_gu_articles.drop(['text'],1,inplace=True)"
   ]
  },
  {
   "cell_type": "code",
   "execution_count": 37,
   "id": "9ff400f5-0acc-4008-b427-5dba3563bbfd",
   "metadata": {},
   "outputs": [],
   "source": [
    "resampled_gu_articles.drop_duplicates(inplace=True)"
   ]
  },
  {
   "cell_type": "code",
   "execution_count": 39,
   "id": "29794e7d-9c5b-4d4b-9c70-1d4fb6850049",
   "metadata": {},
   "outputs": [
    {
     "data": {
      "text/html": [
       "<div>\n",
       "<style scoped>\n",
       "    .dataframe tbody tr th:only-of-type {\n",
       "        vertical-align: middle;\n",
       "    }\n",
       "\n",
       "    .dataframe tbody tr th {\n",
       "        vertical-align: top;\n",
       "    }\n",
       "\n",
       "    .dataframe thead th {\n",
       "        text-align: right;\n",
       "    }\n",
       "</style>\n",
       "<table border=\"1\" class=\"dataframe\">\n",
       "  <thead>\n",
       "    <tr style=\"text-align: right;\">\n",
       "      <th></th>\n",
       "      <th>doc_index</th>\n",
       "      <th>article_year</th>\n",
       "    </tr>\n",
       "  </thead>\n",
       "  <tbody>\n",
       "    <tr>\n",
       "      <th>23512</th>\n",
       "      <td>6433</td>\n",
       "      <td>2022</td>\n",
       "    </tr>\n",
       "    <tr>\n",
       "      <th>346671</th>\n",
       "      <td>6308</td>\n",
       "      <td>2015</td>\n",
       "    </tr>\n",
       "    <tr>\n",
       "      <th>2658567</th>\n",
       "      <td>1929</td>\n",
       "      <td>2021</td>\n",
       "    </tr>\n",
       "    <tr>\n",
       "      <th>486947</th>\n",
       "      <td>4716</td>\n",
       "      <td>2017</td>\n",
       "    </tr>\n",
       "    <tr>\n",
       "      <th>1415889</th>\n",
       "      <td>9013</td>\n",
       "      <td>2016</td>\n",
       "    </tr>\n",
       "    <tr>\n",
       "      <th>...</th>\n",
       "      <td>...</td>\n",
       "      <td>...</td>\n",
       "    </tr>\n",
       "    <tr>\n",
       "      <th>1023360</th>\n",
       "      <td>4105</td>\n",
       "      <td>2018</td>\n",
       "    </tr>\n",
       "    <tr>\n",
       "      <th>4142860</th>\n",
       "      <td>11203</td>\n",
       "      <td>2014</td>\n",
       "    </tr>\n",
       "    <tr>\n",
       "      <th>4220730</th>\n",
       "      <td>12378</td>\n",
       "      <td>2014</td>\n",
       "    </tr>\n",
       "    <tr>\n",
       "      <th>746114</th>\n",
       "      <td>9788</td>\n",
       "      <td>2022</td>\n",
       "    </tr>\n",
       "    <tr>\n",
       "      <th>6164341</th>\n",
       "      <td>15113</td>\n",
       "      <td>2019</td>\n",
       "    </tr>\n",
       "  </tbody>\n",
       "</table>\n",
       "<p>9355 rows × 2 columns</p>\n",
       "</div>"
      ],
      "text/plain": [
       "         doc_index  article_year\n",
       "23512         6433          2022\n",
       "346671        6308          2015\n",
       "2658567       1929          2021\n",
       "486947        4716          2017\n",
       "1415889       9013          2016\n",
       "...            ...           ...\n",
       "1023360       4105          2018\n",
       "4142860      11203          2014\n",
       "4220730      12378          2014\n",
       "746114        9788          2022\n",
       "6164341      15113          2019\n",
       "\n",
       "[9355 rows x 2 columns]"
      ]
     },
     "execution_count": 39,
     "metadata": {},
     "output_type": "execute_result"
    }
   ],
   "source": [
    "resampled_gu_articles"
   ]
  },
  {
   "cell_type": "code",
   "execution_count": 4,
   "id": "839b3e4a-3e23-4c0d-b947-a3b8e08a3868",
   "metadata": {},
   "outputs": [
    {
     "ename": "NameError",
     "evalue": "name 'resampled_gu_articles' is not defined",
     "output_type": "error",
     "traceback": [
      "\u001b[0;31m---------------------------------------------------------------------------\u001b[0m",
      "\u001b[0;31mNameError\u001b[0m                                 Traceback (most recent call last)",
      "Input \u001b[0;32mIn [4]\u001b[0m, in \u001b[0;36m<cell line: 3>\u001b[0;34m()\u001b[0m\n\u001b[1;32m      7\u001b[0m gu_article[\u001b[38;5;124m'\u001b[39m\u001b[38;5;124marticle_year\u001b[39m\u001b[38;5;124m'\u001b[39m]\u001b[38;5;241m=\u001b[39m\u001b[38;5;28mint\u001b[39m(year)\n\u001b[1;32m      8\u001b[0m gu_article[\u001b[38;5;124m'\u001b[39m\u001b[38;5;124mdoc_index\u001b[39m\u001b[38;5;124m'\u001b[39m]\u001b[38;5;241m=\u001b[39mgu_article\u001b[38;5;241m.\u001b[39mindex\u001b[38;5;241m.\u001b[39mvalues\n\u001b[0;32m----> 9\u001b[0m gu_article\u001b[38;5;241m=\u001b[39mgu_article\u001b[38;5;241m.\u001b[39mmerge(\u001b[43mresampled_gu_articles\u001b[49m)\n\u001b[1;32m     10\u001b[0m \u001b[38;5;28;01mif\u001b[39;00m first_cycle:\n\u001b[1;32m     11\u001b[0m     gu_body_texts\u001b[38;5;241m=\u001b[39mgu_article\n",
      "\u001b[0;31mNameError\u001b[0m: name 'resampled_gu_articles' is not defined"
     ]
    }
   ],
   "source": [
    "gu_body_texts=''\n",
    "first_cycle=1\n",
    "for gu_file in glob.glob('sampled_*'):\n",
    "    year=gu_file.split('_')[-1].split('.')[-2]\n",
    "    gu_article=pd.read_csv(gu_file)\n",
    "    #gu_article=gu_article[['body_text']]\n",
    "    gu_article['article_year']=int(year)\n",
    "    gu_article['doc_index']=gu_article.index.values\n",
    "    gu_article=gu_article.merge(resampled_gu_articles)\n",
    "    if first_cycle:\n",
    "        gu_body_texts=gu_article\n",
    "        first_cycle=0\n",
    "    else:\n",
    "        gu_body_texts=pd.concat([gu_body_texts, gu_article],ignore_index=True)"
   ]
  },
  {
   "cell_type": "code",
   "execution_count": null,
   "id": "44649a1e-90cd-46e4-9405-a24f858ffd80",
   "metadata": {},
   "outputs": [],
   "source": [
    "gu_body_texts"
   ]
  },
  {
   "cell_type": "code",
   "execution_count": 52,
   "id": "9421c107-6936-47c5-be0c-f8eaa1d3b176",
   "metadata": {},
   "outputs": [],
   "source": [
    "gu_body_texts.to_csv('gu_resampled.csv')"
   ]
  },
  {
   "cell_type": "code",
   "execution_count": null,
   "id": "4a0dc1d6-6b7d-4a29-9739-535812f85b6f",
   "metadata": {},
   "outputs": [],
   "source": []
  },
  {
   "cell_type": "code",
   "execution_count": 4,
   "id": "e3736912-0c29-4b4d-8e26-8a4b112b9f75",
   "metadata": {},
   "outputs": [],
   "source": [
    "gu_body_texts=''\n",
    "first_cycle=1\n",
    "for gu_file in glob.glob('sampled_*'):\n",
    "    year=gu_file.split('_')[-1].split('.')[-2]\n",
    "    gu_article=pd.read_csv(gu_file)\n",
    "    #gu_article=gu_article[['body_text']]\n",
    "    gu_article['article_year']=int(year)\n",
    "    gu_article['doc_index']=gu_article.index.values\n",
    "    if first_cycle:\n",
    "        gu_body_texts=gu_article\n",
    "        first_cycle=0\n",
    "    else:\n",
    "        gu_body_texts=pd.concat([gu_body_texts, gu_article],ignore_index=True)"
   ]
  },
  {
   "cell_type": "code",
   "execution_count": 23,
   "id": "cd662a22-55c8-476d-9f02-bcfeb2c14c12",
   "metadata": {},
   "outputs": [],
   "source": [
    "gu_body_texts.dropna(subset=['body_text'],inplace=True)"
   ]
  },
  {
   "cell_type": "code",
   "execution_count": 24,
   "id": "61aa7f27-9371-4872-98a6-0c2a6064ab6d",
   "metadata": {},
   "outputs": [
    {
     "data": {
      "text/plain": [
       "(183158, 16)"
      ]
     },
     "execution_count": 24,
     "metadata": {},
     "output_type": "execute_result"
    }
   ],
   "source": [
    "gu_body_texts.shape"
   ]
  },
  {
   "cell_type": "code",
   "execution_count": 6,
   "id": "368bb5f1-55d9-41cc-b373-d59c87ad88c6",
   "metadata": {},
   "outputs": [
    {
     "data": {
      "text/html": [
       "<div>\n",
       "<style scoped>\n",
       "    .dataframe tbody tr th:only-of-type {\n",
       "        vertical-align: middle;\n",
       "    }\n",
       "\n",
       "    .dataframe tbody tr th {\n",
       "        vertical-align: top;\n",
       "    }\n",
       "\n",
       "    .dataframe thead th {\n",
       "        text-align: right;\n",
       "    }\n",
       "</style>\n",
       "<table border=\"1\" class=\"dataframe\">\n",
       "  <thead>\n",
       "    <tr style=\"text-align: right;\">\n",
       "      <th></th>\n",
       "      <th>path</th>\n",
       "      <th>headline</th>\n",
       "      <th>url</th>\n",
       "      <th>content_type</th>\n",
       "      <th>section_id</th>\n",
       "      <th>pillar_id</th>\n",
       "      <th>web_publication_date</th>\n",
       "      <th>word_count</th>\n",
       "      <th>trail_text</th>\n",
       "      <th>production_office</th>\n",
       "      <th>byline</th>\n",
       "      <th>body_text</th>\n",
       "      <th>body_html</th>\n",
       "      <th>keyword_tag</th>\n",
       "      <th>article_year</th>\n",
       "      <th>doc_index</th>\n",
       "    </tr>\n",
       "  </thead>\n",
       "  <tbody>\n",
       "    <tr>\n",
       "      <th>0</th>\n",
       "      <td>/law/commentisfree/2022/mar/26/jurors-who-sat-...</td>\n",
       "      <td>Jurors who sat in the Zachary Rolfe murder tri...</td>\n",
       "      <td>www.theguardian.com/law/commentisfree/2022/mar...</td>\n",
       "      <td>Article</td>\n",
       "      <td>law</td>\n",
       "      <td>pillar/news</td>\n",
       "      <td>2022-03-25 22:24:09+00:00</td>\n",
       "      <td>1114</td>\n",
       "      <td>In criminal trials, the information that is ex...</td>\n",
       "      <td>Aus</td>\n",
       "      <td>Richard Ackland</td>\n",
       "      <td>Jurors who sat on the Zachary Rolfe murder tri...</td>\n",
       "      <td>&lt;p&gt;Jurors who sat on the Zachary Rolfe murder ...</td>\n",
       "      <td>['law/law-australia' 'australia-news/australia...</td>\n",
       "      <td>2022</td>\n",
       "      <td>0</td>\n",
       "    </tr>\n",
       "    <tr>\n",
       "      <th>1</th>\n",
       "      <td>/crosswords/crossword-blog/2022/jul/04/crosswo...</td>\n",
       "      <td>Crossword roundup: could your puzzle find a ho...</td>\n",
       "      <td>www.theguardian.com/crosswords/crossword-blog/...</td>\n",
       "      <td>Article</td>\n",
       "      <td>crosswords</td>\n",
       "      <td>pillar/lifestyle</td>\n",
       "      <td>2022-07-04 11:20:36+00:00</td>\n",
       "      <td>973</td>\n",
       "      <td>A friendly community with a lot of puzzles, wh...</td>\n",
       "      <td>Uk</td>\n",
       "      <td>Alan Connor</td>\n",
       "      <td>I was delighted to read about New York Times s...</td>\n",
       "      <td>&lt;p&gt;I was delighted to read about New York Time...</td>\n",
       "      <td>['crosswords/crosswords' 'lifeandstyle/hobbies...</td>\n",
       "      <td>2022</td>\n",
       "      <td>1</td>\n",
       "    </tr>\n",
       "    <tr>\n",
       "      <th>2</th>\n",
       "      <td>/retail-reimagined/2022/jan/13/how-businesses-...</td>\n",
       "      <td>‘There’s genuine value in having a nice experi...</td>\n",
       "      <td>www.theguardian.com/retail-reimagined/2022/jan...</td>\n",
       "      <td>Article</td>\n",
       "      <td>retail-reimagined</td>\n",
       "      <td>NaN</td>\n",
       "      <td>2022-01-13 15:53:41+00:00</td>\n",
       "      <td>804</td>\n",
       "      <td>Frictionless payments, ease of use and persona...</td>\n",
       "      <td>Uk</td>\n",
       "      <td>Duncan Jefferies</td>\n",
       "      <td>As consumers, we have increasingly grown more ...</td>\n",
       "      <td>&lt;p&gt;As consumers, we have increasingly grown mo...</td>\n",
       "      <td>[]</td>\n",
       "      <td>2022</td>\n",
       "      <td>2</td>\n",
       "    </tr>\n",
       "    <tr>\n",
       "      <th>3</th>\n",
       "      <td>/law/2022/apr/29/barrister-allison-bailey-ston...</td>\n",
       "      <td>Barrister was discriminated against for gender...</td>\n",
       "      <td>www.theguardian.com/law/2022/apr/29/barrister-...</td>\n",
       "      <td>Article</td>\n",
       "      <td>law</td>\n",
       "      <td>pillar/news</td>\n",
       "      <td>2022-04-29 12:23:43+00:00</td>\n",
       "      <td>621</td>\n",
       "      <td>Allison Bailey says Garden Court chambers and ...</td>\n",
       "      <td>Uk</td>\n",
       "      <td>Haroon Siddique Legal affairs correspondent</td>\n",
       "      <td>A barrister was unlawfully discriminated again...</td>\n",
       "      <td>&lt;p&gt;A barrister was unlawfully discriminated ag...</td>\n",
       "      <td>['law/employment-law' 'law/law' 'world/gender'...</td>\n",
       "      <td>2022</td>\n",
       "      <td>3</td>\n",
       "    </tr>\n",
       "    <tr>\n",
       "      <th>4</th>\n",
       "      <td>/law/2022/jun/17/sonia-sotomayor-supreme-court...</td>\n",
       "      <td>Sonia Sotomayor says supreme court’s ‘mistakes...</td>\n",
       "      <td>www.theguardian.com/law/2022/jun/17/sonia-soto...</td>\n",
       "      <td>Article</td>\n",
       "      <td>law</td>\n",
       "      <td>pillar/news</td>\n",
       "      <td>2022-06-17 09:00:06+00:00</td>\n",
       "      <td>483</td>\n",
       "      <td>Liberal-leaning justice says ‘there are days I...</td>\n",
       "      <td>Us</td>\n",
       "      <td>Guardian staff and agencies</td>\n",
       "      <td>The liberal-leaning supreme court justice Soni...</td>\n",
       "      <td>&lt;p&gt;The liberal-leaning supreme court justice S...</td>\n",
       "      <td>['law/us-supreme-court' 'us-news/us-news']</td>\n",
       "      <td>2022</td>\n",
       "      <td>4</td>\n",
       "    </tr>\n",
       "  </tbody>\n",
       "</table>\n",
       "</div>"
      ],
      "text/plain": [
       "                                                path  \\\n",
       "0  /law/commentisfree/2022/mar/26/jurors-who-sat-...   \n",
       "1  /crosswords/crossword-blog/2022/jul/04/crosswo...   \n",
       "2  /retail-reimagined/2022/jan/13/how-businesses-...   \n",
       "3  /law/2022/apr/29/barrister-allison-bailey-ston...   \n",
       "4  /law/2022/jun/17/sonia-sotomayor-supreme-court...   \n",
       "\n",
       "                                            headline  \\\n",
       "0  Jurors who sat in the Zachary Rolfe murder tri...   \n",
       "1  Crossword roundup: could your puzzle find a ho...   \n",
       "2  ‘There’s genuine value in having a nice experi...   \n",
       "3  Barrister was discriminated against for gender...   \n",
       "4  Sonia Sotomayor says supreme court’s ‘mistakes...   \n",
       "\n",
       "                                                 url content_type  \\\n",
       "0  www.theguardian.com/law/commentisfree/2022/mar...      Article   \n",
       "1  www.theguardian.com/crosswords/crossword-blog/...      Article   \n",
       "2  www.theguardian.com/retail-reimagined/2022/jan...      Article   \n",
       "3  www.theguardian.com/law/2022/apr/29/barrister-...      Article   \n",
       "4  www.theguardian.com/law/2022/jun/17/sonia-soto...      Article   \n",
       "\n",
       "          section_id         pillar_id       web_publication_date  word_count  \\\n",
       "0                law       pillar/news  2022-03-25 22:24:09+00:00        1114   \n",
       "1         crosswords  pillar/lifestyle  2022-07-04 11:20:36+00:00         973   \n",
       "2  retail-reimagined               NaN  2022-01-13 15:53:41+00:00         804   \n",
       "3                law       pillar/news  2022-04-29 12:23:43+00:00         621   \n",
       "4                law       pillar/news  2022-06-17 09:00:06+00:00         483   \n",
       "\n",
       "                                          trail_text production_office  \\\n",
       "0  In criminal trials, the information that is ex...               Aus   \n",
       "1  A friendly community with a lot of puzzles, wh...                Uk   \n",
       "2  Frictionless payments, ease of use and persona...                Uk   \n",
       "3  Allison Bailey says Garden Court chambers and ...                Uk   \n",
       "4  Liberal-leaning justice says ‘there are days I...                Us   \n",
       "\n",
       "                                        byline  \\\n",
       "0                              Richard Ackland   \n",
       "1                                  Alan Connor   \n",
       "2                             Duncan Jefferies   \n",
       "3  Haroon Siddique Legal affairs correspondent   \n",
       "4                  Guardian staff and agencies   \n",
       "\n",
       "                                           body_text  \\\n",
       "0  Jurors who sat on the Zachary Rolfe murder tri...   \n",
       "1  I was delighted to read about New York Times s...   \n",
       "2  As consumers, we have increasingly grown more ...   \n",
       "3  A barrister was unlawfully discriminated again...   \n",
       "4  The liberal-leaning supreme court justice Soni...   \n",
       "\n",
       "                                           body_html  \\\n",
       "0  <p>Jurors who sat on the Zachary Rolfe murder ...   \n",
       "1  <p>I was delighted to read about New York Time...   \n",
       "2  <p>As consumers, we have increasingly grown mo...   \n",
       "3  <p>A barrister was unlawfully discriminated ag...   \n",
       "4  <p>The liberal-leaning supreme court justice S...   \n",
       "\n",
       "                                         keyword_tag  article_year  doc_index  \n",
       "0  ['law/law-australia' 'australia-news/australia...          2022          0  \n",
       "1  ['crosswords/crosswords' 'lifeandstyle/hobbies...          2022          1  \n",
       "2                                                 []          2022          2  \n",
       "3  ['law/employment-law' 'law/law' 'world/gender'...          2022          3  \n",
       "4         ['law/us-supreme-court' 'us-news/us-news']          2022          4  "
      ]
     },
     "execution_count": 6,
     "metadata": {},
     "output_type": "execute_result"
    }
   ],
   "source": [
    "gu_body_texts.head()"
   ]
  },
  {
   "cell_type": "code",
   "execution_count": 7,
   "id": "75860274-9f60-4c40-ae9d-5ee523405d2f",
   "metadata": {},
   "outputs": [
    {
     "data": {
      "text/plain": [
       "array(['Article', 'Interactive', 'Liveblog'], dtype=object)"
      ]
     },
     "execution_count": 7,
     "metadata": {},
     "output_type": "execute_result"
    }
   ],
   "source": [
    "gu_body_texts['content_type'].unique()"
   ]
  },
  {
   "cell_type": "code",
   "execution_count": 9,
   "id": "c80b26c3-cb7d-4144-863d-07b7d4f053a9",
   "metadata": {},
   "outputs": [
    {
     "data": {
      "text/plain": [
       "array(['law', 'crosswords', 'retail-reimagined', 'theobserver',\n",
       "       'follow-your-passion', 'info', 'inequality', 'the-whole-picture',\n",
       "       'what-if-in-california', 'make-your-world-work',\n",
       "       'seek-the-new-world-of-work-', 'supercharge-your-business',\n",
       "       'guardian-masterclasses', 'sustainable-whisky', 'reimagining-work',\n",
       "       'dear-evan-hansen-the-21st-century-musical', 'scotlands-stories',\n",
       "       'global', 'huelwear-clothes-for-the-conscious',\n",
       "       'going-global-with-business', 'games',\n",
       "       'observer-food-monthly-awards', 'sustainable-home-improvements',\n",
       "       'further-education-share-your-skills',\n",
       "       'the-time-of-your-life-in-croatia', 'spotify-morning-moods',\n",
       "       'the-only-parmesan', 'amc-only-the-good-stuff',\n",
       "       'connected-thinking', 'my-sherry-amour', 'knowledge-is-pleasure',\n",
       "       'gnm-press-office', 'mirvac-voyager', 'cities',\n",
       "       'mg-motor-switch-to-electric', 'plan-the-perfect-ski-break',\n",
       "       'all-win', 'snooze-investing-in-sleep', 'welcome-to-ontario',\n",
       "       'help', 'green-to-grow-your-business',\n",
       "       'advertiser-content/shf-catalysing-sanitation-economies',\n",
       "       'reimagining-sustainability', 'electric-joy',\n",
       "       'lee-kum-kee-taste-is-in-the-details', 'hybrid-work-with-hp',\n",
       "       'feline-feeding', 'guardian-clearing',\n",
       "       'advertiser-content/turkish-delicacies', 'film',\n",
       "       'leisure-like-a-local', 'norm-and-als-guide-to-being-normal',\n",
       "       'you-could-be-here', 'limitless-spain',\n",
       "       'business-victoria-making-headway', 'discover-your-home-sanctuary',\n",
       "       'rediscover-tequila', 'volvo-car-australia-pure-electric',\n",
       "       'digital-careers-with-purpose', 'community-of-solvers',\n",
       "       'advertiser-content/value-of-self-care',\n",
       "       'macquarie-home-of-electric-vehicles', 'your-healthy-mouth-guide',\n",
       "       'food', 'news', 'books', 'media', 'money', 'music', 'sport',\n",
       "       'stage', 'world', 'travel', 'culture', 'fashion', 'science',\n",
       "       'society', 'uk-news', 'us-news', 'business', 'football',\n",
       "       'politics', 'education', 'technology', 'environment',\n",
       "       'artanddesign', 'lifeandstyle', 'tv-and-radio', 'commentisfree',\n",
       "       'australia-news', 'global-development', 'healthcare-network',\n",
       "       'small-business-network', 'public-leaders-network',\n",
       "       'voluntary-sector-network', 'working-in-development',\n",
       "       'advertising', 'discover-culture', 'teacher-network',\n",
       "       'housing-network', 'culture-professionals-network', 'extra',\n",
       "       'media-network', 'theguardian', 'women-in-leadership',\n",
       "       'social-care-network', 'childrens-books-site', 'careers',\n",
       "       'global-development-professionals-network',\n",
       "       'guardian-masterclasses-australia', 'guardian-film-awards-site',\n",
       "       'sustainability', 'guardian-foundation', 'membership',\n",
       "       'british-gas-smart-meter-challenge', 'observer-ethical-awards',\n",
       "       'society-professionals',\n",
       "       'teacher-network/zurich-school-competition', 'reader-events',\n",
       "       'big-energy-debate', 'guardian-cities-on-the-road',\n",
       "       'small-business-network/trade-mission', 'try-swedish',\n",
       "       'vital-signs', 'big-ideas', 'higher-education-network',\n",
       "       'what-is-nano', 'guardian-professional',\n",
       "       'student-media-awards-2014', 'weather', 'shelf-improvement',\n",
       "       'sustainable-business', 'advertiser-content/charles-schwab',\n",
       "       'mental-health-supplement-2019', 'community',\n",
       "       'dairy-australia-we-need-to-talk',\n",
       "       'destination-nsw-uncover-the-unspoilt-south-coast',\n",
       "       'advertiser-content/microsoft-ai-for-earth',\n",
       "       'professional-supplements', 'advertiser-content/stand-together',\n",
       "       'future-focused-it', 'new-faces-of-tech', 'business-to-business',\n",
       "       'whats-in-your-blood-', 'resistance-rises',\n",
       "       'advertiser-content/the-bands-visit',\n",
       "       'guardian-australia-press-office', 'publisher-network',\n",
       "       'trade-boost', 'best-of-birmingham', 'readings-the-bookshelf',\n",
       "       'canneslions', 'sony-run-your-way', 'belvoir-2015',\n",
       "       'guardian-us-press-office', 'connecting-the-future',\n",
       "       'student-media-awards-2015', 'side-hustle', 'thinking-about-money',\n",
       "       'forward-women', 'one-change-competition',\n",
       "       'minority-writers-workshop', 'the-scott-trust',\n",
       "       'social-enterprise-australia-2015',\n",
       "       'westpac-foundation-investing-in-social-enterprise',\n",
       "       'the-community-first-retailer', 'sap-solutions',\n",
       "       'advertiser-content/qlik-2021', 'game-set-and-watch',\n",
       "       'see-if-its-time-to-sell', '100-teachers', 'green-your-pension',\n",
       "       'bank-australia-people-australia-needs', 'all-in-all-together',\n",
       "       'the-invested-generation', 'chromebook-helping-chinatown',\n",
       "       'living-with-sensitive-skin', 'cancer-revolutionaries',\n",
       "       'a-better-workplace', 'spotify-find-the-one', 'about',\n",
       "       'mini-serious-fun', 'game-changing-skincare',\n",
       "       'brother-doing-business-well', 'vanguard-staying-the-course',\n",
       "       'sbs-on-demand--are-you-addicted-to-technology',\n",
       "       'quest-apartment-hotels-as-local-as-you-like-it', 'the-last-taboo',\n",
       "       'future-ready-leadership', 'rewild-your-life', 'the-unstoppables',\n",
       "       'ing-do-your-thing', 'sbs-on-demand-new-gold-mountain',\n",
       "       'helgas-capturing-kindness', 'wellbeing-at-work', 'gnm-archive',\n",
       "       'break-into-tech', 'holiday-gift-guide', 'guardian-live-australia',\n",
       "       'dairy-australia-the-food-matrix', 'hugo-boss-man-of-today',\n",
       "       'westpac-scholars-rethink-tomorrow', 'de-bortoli-going-green',\n",
       "       'black-hawk-every-ingredient-matters', 'xero-resilient-business',\n",
       "       'power-of-green', 'australia-post-creating-connections',\n",
       "       'industry-superfunds-supercharged-future', 'guardian-green-jobs',\n",
       "       'bank-australia-collective-good', 'wwf-renew-normal',\n",
       "       'early-careers-hub', 'sbs-addicted-australia',\n",
       "       'advertiser-content/skoll-foundation-2020',\n",
       "       'commonwealth-bank-australia-next-chapter', 'housing-matters',\n",
       "       'salesforce-the-unfair-advantage', 'open-days',\n",
       "       'nederburg-cycling', 'guide-to-fundraising', 'double-take',\n",
       "       'freshers-week', 'health-forecast', 'defining-moment',\n",
       "       'nab-more-that-matters', 'ing-direct-dreamstarter',\n",
       "       'health-revolution', 'qatar-airways-experience-europe-your-way'],\n",
       "      dtype=object)"
      ]
     },
     "execution_count": 9,
     "metadata": {},
     "output_type": "execute_result"
    }
   ],
   "source": [
    "gu_body_texts['section_id'].unique()"
   ]
  },
  {
   "cell_type": "code",
   "execution_count": 10,
   "id": "dcbad21d-63ac-42f4-bd0f-7192e104037a",
   "metadata": {},
   "outputs": [
    {
     "data": {
      "text/plain": [
       "array(['pillar/news', 'pillar/lifestyle', nan, 'pillar/arts',\n",
       "       'pillar/sport', 'pillar/opinion'], dtype=object)"
      ]
     },
     "execution_count": 10,
     "metadata": {},
     "output_type": "execute_result"
    }
   ],
   "source": [
    "gu_body_texts['pillar_id'].unique()"
   ]
  },
  {
   "cell_type": "code",
   "execution_count": 32,
   "id": "96e86f3c-1674-41bf-be83-1c909cc4289d",
   "metadata": {},
   "outputs": [],
   "source": [
    "gu_body_texts=gu_body_texts[gu_body_texts['section_id'].isin(['law', 'global','global-development', 'news', 'world', 'uk-news', 'us-news', 'business','politics'])]\n"
   ]
  },
  {
   "cell_type": "code",
   "execution_count": 34,
   "id": "038a20a7-ac1f-4aea-8fb0-74e7f1995b6d",
   "metadata": {},
   "outputs": [],
   "source": [
    "gu_body_texts.to_csv('gu_resampled_by_section_id.csv')"
   ]
  },
  {
   "cell_type": "code",
   "execution_count": null,
   "id": "714fbcab-d1f3-47c1-b447-7bbfe8c3e57b",
   "metadata": {},
   "outputs": [],
   "source": []
  }
 ],
 "metadata": {
  "kernelspec": {
   "display_name": "Python 3 (ipykernel)",
   "language": "python",
   "name": "python3"
  },
  "language_info": {
   "codemirror_mode": {
    "name": "ipython",
    "version": 3
   },
   "file_extension": ".py",
   "mimetype": "text/x-python",
   "name": "python",
   "nbconvert_exporter": "python",
   "pygments_lexer": "ipython3",
   "version": "3.8.13"
  }
 },
 "nbformat": 4,
 "nbformat_minor": 5
}
