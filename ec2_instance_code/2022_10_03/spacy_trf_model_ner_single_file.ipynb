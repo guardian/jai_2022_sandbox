{
 "cells": [
  {
   "cell_type": "code",
   "execution_count": 1,
   "id": "76243ae6-6da1-4b47-9dbd-6cb51c3d780f",
   "metadata": {},
   "outputs": [],
   "source": [
    "import boto3"
   ]
  },
  {
   "cell_type": "code",
   "execution_count": 2,
   "id": "189a8a35-ac7f-4427-a329-6bb879170a5d",
   "metadata": {},
   "outputs": [
    {
     "name": "stderr",
     "output_type": "stream",
     "text": [
      "/home/ubuntu/.conda/envs/jai_venv/lib/python3.8/site-packages/tqdm/auto.py:22: TqdmWarning: IProgress not found. Please update jupyter and ipywidgets. See https://ipywidgets.readthedocs.io/en/stable/user_install.html\n",
      "  from .autonotebook import tqdm as notebook_tqdm\n"
     ]
    }
   ],
   "source": [
    "import spacy"
   ]
  },
  {
   "cell_type": "code",
   "execution_count": 3,
   "id": "689804e3-27de-47bc-a2fc-a143ca7f5226",
   "metadata": {},
   "outputs": [],
   "source": [
    "import pandas as pd"
   ]
  },
  {
   "cell_type": "code",
   "execution_count": 4,
   "id": "53a7507b-d60b-46d3-9944-a09f2ba926b7",
   "metadata": {},
   "outputs": [
    {
     "data": {
      "text/plain": [
       "True"
      ]
     },
     "execution_count": 4,
     "metadata": {},
     "output_type": "execute_result"
    }
   ],
   "source": [
    "spacy.prefer_gpu()"
   ]
  },
  {
   "cell_type": "code",
   "execution_count": 5,
   "id": "11fb11b8-444a-4695-a6f8-76ed164653c6",
   "metadata": {},
   "outputs": [],
   "source": [
    "REGION = \"eu-west-1\"\n",
    "SESSION = boto3.Session(region_name=REGION)"
   ]
  },
  {
   "cell_type": "code",
   "execution_count": 44,
   "id": "e0dac077-deba-4ce6-8da4-51f841babb90",
   "metadata": {},
   "outputs": [],
   "source": [
    "def list_models_on_s3(bucket, path, session, endpoint_url=None):\n",
    "    s3 = session.resource(\"s3\", endpoint_url=endpoint_url)\n",
    "    my_bucket = s3.Bucket(bucket)\n",
    "    bucket_contents = []\n",
    "    for my_bucket_object in my_bucket.objects.filter(Prefix=path):\n",
    "        if not my_bucket_object.key.endswith(\"/\"):\n",
    "            bucket_contents.append(my_bucket_object.key)\n",
    "    return bucket_contents\n",
    "\n",
    "\n",
    "def load_files_from_s3(bucket, session, file_list, destination, endpoint_url=None):\n",
    "    s3 = session.resource(\"s3\", endpoint_url=endpoint_url)\n",
    "    my_bucket = s3.Bucket(bucket)\n",
    "    for file in file_list:\n",
    "        if '2022' in file:\n",
    "            my_bucket.download_file(file, destination + file.split(\"/\")[-1])\n",
    "    return destination"
   ]
  },
  {
   "cell_type": "code",
   "execution_count": 8,
   "id": "5872caf8-7381-406c-9626-84ebfbed976b",
   "metadata": {},
   "outputs": [
    {
     "data": {
      "text/plain": [
       "['GU_sample_data/sampled_GU_content_2018.csv',\n",
       " 'GU_sample_data/sampled_GU_content_2019.csv',\n",
       " 'GU_sample_data/sampled_GU_content_2020.csv',\n",
       " 'GU_sample_data/sampled_GU_content_2021.csv',\n",
       " 'GU_sample_data/sampled_GU_content_2022.csv',\n",
       " 'GU_sample_data/sampled_GU_content_500_random_url_subset.csv']"
      ]
     },
     "execution_count": 8,
     "metadata": {},
     "output_type": "execute_result"
    }
   ],
   "source": [
    "bucket='jai-datasets'\n",
    "path='GU_sample_data'\n",
    "session=SESSION\n",
    "list_models_on_s3(bucket,path,session)"
   ]
  },
  {
   "cell_type": "code",
   "execution_count": 45,
   "id": "f55423bc-a073-47a4-a775-a4e07b56d878",
   "metadata": {},
   "outputs": [
    {
     "data": {
      "text/plain": [
       "'/home/ubuntu/JAI/data/'"
      ]
     },
     "execution_count": 45,
     "metadata": {},
     "output_type": "execute_result"
    }
   ],
   "source": [
    "bucket='jai-datasets'\n",
    "path='GU_sample_data'\n",
    "session=SESSION\n",
    "file_list=list_models_on_s3(bucket,path,session)\n",
    "destination = '/home/ubuntu/JAI/data/'\n",
    "load_files_from_s3(bucket, session, file_list, destination)"
   ]
  },
  {
   "cell_type": "code",
   "execution_count": null,
   "id": "c72bd66e-bb2c-4a10-8da4-4b06bb6266e6",
   "metadata": {},
   "outputs": [],
   "source": []
  },
  {
   "cell_type": "code",
   "execution_count": 46,
   "id": "2ae376ff-55c5-428f-96e7-be6c7d95c603",
   "metadata": {},
   "outputs": [],
   "source": [
    "#csv_file='/home/ubuntu/JAI/data/sampled_GU_content_500_random_url_subset.csv'\n",
    "csv_file='/home/ubuntu/JAI/data/sampled_GU_content_2022.csv'\n",
    "data=pd.read_csv(csv_file)"
   ]
  },
  {
   "cell_type": "code",
   "execution_count": 47,
   "id": "378a45cb-054c-408a-bf7d-d717c3bd5a08",
   "metadata": {},
   "outputs": [],
   "source": [
    "# Ensure incremental ordered index to reference back to articles in the dataset\n",
    "data=data.reset_index(drop=True).sort_index()"
   ]
  },
  {
   "cell_type": "code",
   "execution_count": 48,
   "id": "38852df5-8464-47f3-98d2-3179eaabd459",
   "metadata": {},
   "outputs": [
    {
     "data": {
      "text/html": [
       "<div>\n",
       "<style scoped>\n",
       "    .dataframe tbody tr th:only-of-type {\n",
       "        vertical-align: middle;\n",
       "    }\n",
       "\n",
       "    .dataframe tbody tr th {\n",
       "        vertical-align: top;\n",
       "    }\n",
       "\n",
       "    .dataframe thead th {\n",
       "        text-align: right;\n",
       "    }\n",
       "</style>\n",
       "<table border=\"1\" class=\"dataframe\">\n",
       "  <thead>\n",
       "    <tr style=\"text-align: right;\">\n",
       "      <th></th>\n",
       "      <th>path</th>\n",
       "      <th>headline</th>\n",
       "      <th>url</th>\n",
       "      <th>content_type</th>\n",
       "      <th>section_id</th>\n",
       "      <th>pillar_id</th>\n",
       "      <th>web_publication_date</th>\n",
       "      <th>word_count</th>\n",
       "      <th>trail_text</th>\n",
       "      <th>production_office</th>\n",
       "      <th>byline</th>\n",
       "      <th>body_text</th>\n",
       "      <th>body_html</th>\n",
       "      <th>keyword_tag</th>\n",
       "    </tr>\n",
       "  </thead>\n",
       "  <tbody>\n",
       "    <tr>\n",
       "      <th>0</th>\n",
       "      <td>/law/commentisfree/2022/mar/26/jurors-who-sat-...</td>\n",
       "      <td>Jurors who sat in the Zachary Rolfe murder tri...</td>\n",
       "      <td>www.theguardian.com/law/commentisfree/2022/mar...</td>\n",
       "      <td>Article</td>\n",
       "      <td>law</td>\n",
       "      <td>pillar/news</td>\n",
       "      <td>2022-03-25 22:24:09+00:00</td>\n",
       "      <td>1114</td>\n",
       "      <td>In criminal trials, the information that is ex...</td>\n",
       "      <td>Aus</td>\n",
       "      <td>Richard Ackland</td>\n",
       "      <td>Jurors who sat on the Zachary Rolfe murder tri...</td>\n",
       "      <td>&lt;p&gt;Jurors who sat on the Zachary Rolfe murder ...</td>\n",
       "      <td>['law/law-australia' 'australia-news/australia...</td>\n",
       "    </tr>\n",
       "    <tr>\n",
       "      <th>1</th>\n",
       "      <td>/crosswords/crossword-blog/2022/jul/04/crosswo...</td>\n",
       "      <td>Crossword roundup: could your puzzle find a ho...</td>\n",
       "      <td>www.theguardian.com/crosswords/crossword-blog/...</td>\n",
       "      <td>Article</td>\n",
       "      <td>crosswords</td>\n",
       "      <td>pillar/lifestyle</td>\n",
       "      <td>2022-07-04 11:20:36+00:00</td>\n",
       "      <td>973</td>\n",
       "      <td>A friendly community with a lot of puzzles, wh...</td>\n",
       "      <td>Uk</td>\n",
       "      <td>Alan Connor</td>\n",
       "      <td>I was delighted to read about New York Times s...</td>\n",
       "      <td>&lt;p&gt;I was delighted to read about New York Time...</td>\n",
       "      <td>['crosswords/crosswords' 'lifeandstyle/hobbies...</td>\n",
       "    </tr>\n",
       "    <tr>\n",
       "      <th>2</th>\n",
       "      <td>/retail-reimagined/2022/jan/13/how-businesses-...</td>\n",
       "      <td>‘There’s genuine value in having a nice experi...</td>\n",
       "      <td>www.theguardian.com/retail-reimagined/2022/jan...</td>\n",
       "      <td>Article</td>\n",
       "      <td>retail-reimagined</td>\n",
       "      <td>NaN</td>\n",
       "      <td>2022-01-13 15:53:41+00:00</td>\n",
       "      <td>804</td>\n",
       "      <td>Frictionless payments, ease of use and persona...</td>\n",
       "      <td>Uk</td>\n",
       "      <td>Duncan Jefferies</td>\n",
       "      <td>As consumers, we have increasingly grown more ...</td>\n",
       "      <td>&lt;p&gt;As consumers, we have increasingly grown mo...</td>\n",
       "      <td>[]</td>\n",
       "    </tr>\n",
       "    <tr>\n",
       "      <th>3</th>\n",
       "      <td>/law/2022/apr/29/barrister-allison-bailey-ston...</td>\n",
       "      <td>Barrister was discriminated against for gender...</td>\n",
       "      <td>www.theguardian.com/law/2022/apr/29/barrister-...</td>\n",
       "      <td>Article</td>\n",
       "      <td>law</td>\n",
       "      <td>pillar/news</td>\n",
       "      <td>2022-04-29 12:23:43+00:00</td>\n",
       "      <td>621</td>\n",
       "      <td>Allison Bailey says Garden Court chambers and ...</td>\n",
       "      <td>Uk</td>\n",
       "      <td>Haroon Siddique Legal affairs correspondent</td>\n",
       "      <td>A barrister was unlawfully discriminated again...</td>\n",
       "      <td>&lt;p&gt;A barrister was unlawfully discriminated ag...</td>\n",
       "      <td>['law/employment-law' 'law/law' 'world/gender'...</td>\n",
       "    </tr>\n",
       "    <tr>\n",
       "      <th>4</th>\n",
       "      <td>/law/2022/jun/17/sonia-sotomayor-supreme-court...</td>\n",
       "      <td>Sonia Sotomayor says supreme court’s ‘mistakes...</td>\n",
       "      <td>www.theguardian.com/law/2022/jun/17/sonia-soto...</td>\n",
       "      <td>Article</td>\n",
       "      <td>law</td>\n",
       "      <td>pillar/news</td>\n",
       "      <td>2022-06-17 09:00:06+00:00</td>\n",
       "      <td>483</td>\n",
       "      <td>Liberal-leaning justice says ‘there are days I...</td>\n",
       "      <td>Us</td>\n",
       "      <td>Guardian staff and agencies</td>\n",
       "      <td>The liberal-leaning supreme court justice Soni...</td>\n",
       "      <td>&lt;p&gt;The liberal-leaning supreme court justice S...</td>\n",
       "      <td>['law/us-supreme-court' 'us-news/us-news']</td>\n",
       "    </tr>\n",
       "  </tbody>\n",
       "</table>\n",
       "</div>"
      ],
      "text/plain": [
       "                                                path  \\\n",
       "0  /law/commentisfree/2022/mar/26/jurors-who-sat-...   \n",
       "1  /crosswords/crossword-blog/2022/jul/04/crosswo...   \n",
       "2  /retail-reimagined/2022/jan/13/how-businesses-...   \n",
       "3  /law/2022/apr/29/barrister-allison-bailey-ston...   \n",
       "4  /law/2022/jun/17/sonia-sotomayor-supreme-court...   \n",
       "\n",
       "                                            headline  \\\n",
       "0  Jurors who sat in the Zachary Rolfe murder tri...   \n",
       "1  Crossword roundup: could your puzzle find a ho...   \n",
       "2  ‘There’s genuine value in having a nice experi...   \n",
       "3  Barrister was discriminated against for gender...   \n",
       "4  Sonia Sotomayor says supreme court’s ‘mistakes...   \n",
       "\n",
       "                                                 url content_type  \\\n",
       "0  www.theguardian.com/law/commentisfree/2022/mar...      Article   \n",
       "1  www.theguardian.com/crosswords/crossword-blog/...      Article   \n",
       "2  www.theguardian.com/retail-reimagined/2022/jan...      Article   \n",
       "3  www.theguardian.com/law/2022/apr/29/barrister-...      Article   \n",
       "4  www.theguardian.com/law/2022/jun/17/sonia-soto...      Article   \n",
       "\n",
       "          section_id         pillar_id       web_publication_date  word_count  \\\n",
       "0                law       pillar/news  2022-03-25 22:24:09+00:00        1114   \n",
       "1         crosswords  pillar/lifestyle  2022-07-04 11:20:36+00:00         973   \n",
       "2  retail-reimagined               NaN  2022-01-13 15:53:41+00:00         804   \n",
       "3                law       pillar/news  2022-04-29 12:23:43+00:00         621   \n",
       "4                law       pillar/news  2022-06-17 09:00:06+00:00         483   \n",
       "\n",
       "                                          trail_text production_office  \\\n",
       "0  In criminal trials, the information that is ex...               Aus   \n",
       "1  A friendly community with a lot of puzzles, wh...                Uk   \n",
       "2  Frictionless payments, ease of use and persona...                Uk   \n",
       "3  Allison Bailey says Garden Court chambers and ...                Uk   \n",
       "4  Liberal-leaning justice says ‘there are days I...                Us   \n",
       "\n",
       "                                        byline  \\\n",
       "0                              Richard Ackland   \n",
       "1                                  Alan Connor   \n",
       "2                             Duncan Jefferies   \n",
       "3  Haroon Siddique Legal affairs correspondent   \n",
       "4                  Guardian staff and agencies   \n",
       "\n",
       "                                           body_text  \\\n",
       "0  Jurors who sat on the Zachary Rolfe murder tri...   \n",
       "1  I was delighted to read about New York Times s...   \n",
       "2  As consumers, we have increasingly grown more ...   \n",
       "3  A barrister was unlawfully discriminated again...   \n",
       "4  The liberal-leaning supreme court justice Soni...   \n",
       "\n",
       "                                           body_html  \\\n",
       "0  <p>Jurors who sat on the Zachary Rolfe murder ...   \n",
       "1  <p>I was delighted to read about New York Time...   \n",
       "2  <p>As consumers, we have increasingly grown mo...   \n",
       "3  <p>A barrister was unlawfully discriminated ag...   \n",
       "4  <p>The liberal-leaning supreme court justice S...   \n",
       "\n",
       "                                         keyword_tag  \n",
       "0  ['law/law-australia' 'australia-news/australia...  \n",
       "1  ['crosswords/crosswords' 'lifeandstyle/hobbies...  \n",
       "2                                                 []  \n",
       "3  ['law/employment-law' 'law/law' 'world/gender'...  \n",
       "4         ['law/us-supreme-court' 'us-news/us-news']  "
      ]
     },
     "execution_count": 48,
     "metadata": {},
     "output_type": "execute_result"
    }
   ],
   "source": [
    "data.head()"
   ]
  },
  {
   "cell_type": "code",
   "execution_count": 49,
   "id": "85391032-7d8d-480b-8c24-3cfe4a776873",
   "metadata": {},
   "outputs": [
    {
     "data": {
      "text/plain": [
       "(10033, 14)"
      ]
     },
     "execution_count": 49,
     "metadata": {},
     "output_type": "execute_result"
    }
   ],
   "source": [
    "data.shape"
   ]
  },
  {
   "cell_type": "code",
   "execution_count": 50,
   "id": "626d3c9d-d7e8-4c94-b383-33a48c8648ca",
   "metadata": {},
   "outputs": [],
   "source": [
    "data['body_text']=data['body_text'].astype('str')"
   ]
  },
  {
   "cell_type": "code",
   "execution_count": 51,
   "id": "c75a5d1e-78ed-44e5-a19e-b33ce45ec49a",
   "metadata": {},
   "outputs": [],
   "source": [
    "data=data.to_dict('index')"
   ]
  },
  {
   "cell_type": "code",
   "execution_count": 52,
   "id": "f316fae0-b12a-486a-a0f6-e1cc6029b4c8",
   "metadata": {},
   "outputs": [
    {
     "data": {
      "text/plain": [
       "10033"
      ]
     },
     "execution_count": 52,
     "metadata": {},
     "output_type": "execute_result"
    }
   ],
   "source": [
    "len(data.keys())"
   ]
  },
  {
   "cell_type": "code",
   "execution_count": 53,
   "id": "70227834-c743-4255-9467-98c665e2d9f7",
   "metadata": {},
   "outputs": [],
   "source": [
    "NER_TRF_MODEL=\"en_core_web_trf\"\n",
    "nlp = spacy.load(NER_TRF_MODEL)\n",
    "ent_types = nlp.pipe_labels[\"ner\"]"
   ]
  },
  {
   "cell_type": "code",
   "execution_count": 54,
   "id": "11d82ccf-75af-42d7-a94c-a8bfd0d3745f",
   "metadata": {},
   "outputs": [
    {
     "data": {
      "text/plain": [
       "['CARDINAL',\n",
       " 'DATE',\n",
       " 'EVENT',\n",
       " 'FAC',\n",
       " 'GPE',\n",
       " 'LANGUAGE',\n",
       " 'LAW',\n",
       " 'LOC',\n",
       " 'MONEY',\n",
       " 'NORP',\n",
       " 'ORDINAL',\n",
       " 'ORG',\n",
       " 'PERCENT',\n",
       " 'PERSON',\n",
       " 'PRODUCT',\n",
       " 'QUANTITY',\n",
       " 'TIME',\n",
       " 'WORK_OF_ART']"
      ]
     },
     "execution_count": 54,
     "metadata": {},
     "output_type": "execute_result"
    }
   ],
   "source": [
    "ent_types"
   ]
  },
  {
   "cell_type": "code",
   "execution_count": 55,
   "id": "6ce1380b-8025-431b-96d3-0403b2072623",
   "metadata": {},
   "outputs": [],
   "source": [
    "def get_data(doc_index,doc,ent_types):\n",
    "    \"\"\"\n",
    "    Extract the entity data (text, label, start, end) from a Spacy Doc\n",
    "    and format into JSON for the REST API response.\n",
    "    Filter output to only include `ent_types`.\n",
    "    :returns dict\n",
    "    \"\"\"\n",
    "    ents = [\n",
    "        {\n",
    "            \"text\": ent.text,\n",
    "            \"label\": ent.label_,\n",
    "            \"start\": ent.start_char,\n",
    "            \"end\": ent.end_char,\n",
    "        }\n",
    "        for ent in doc.ents\n",
    "        if ent.label_ in ent_types\n",
    "    ]\n",
    "    return {\"doc_index\":doc_index,\n",
    "            #\"text\": doc.text, \n",
    "            \"ents\": ents}"
   ]
  },
  {
   "cell_type": "code",
   "execution_count": 56,
   "id": "8516981a-e980-47c8-a11d-86afc14ae8a8",
   "metadata": {},
   "outputs": [],
   "source": [
    "gu_article_list=[data[key]['body_text'] for key in data.keys()]"
   ]
  },
  {
   "cell_type": "code",
   "execution_count": null,
   "id": "e1836fc4-b878-41e2-be7f-51faee62edcd",
   "metadata": {
    "tags": []
   },
   "outputs": [],
   "source": [
    "NER_TRF_MODEL=\"en_core_web_trf\"\n",
    "#nlp = spacy.load(NER_TRF_MODEL)\n",
    "#ent_types = nlp.pipe_labels[\"ner\"]\n",
    "response_body = []\n",
    "exceptions=[]\n",
    "for doc_index,doc in enumerate(nlp.pipe(gu_article_list, batch_size=20)):\n",
    "    response_body.append(get_data(doc_index,doc, ent_types))"
   ]
  },
  {
   "cell_type": "code",
   "execution_count": null,
   "id": "38300392-74ea-49b9-b853-40b71c0c62f5",
   "metadata": {},
   "outputs": [],
   "source": [
    "len(response_body)"
   ]
  },
  {
   "cell_type": "code",
   "execution_count": null,
   "id": "44c47672-65c9-4550-a95e-1822cf2bddba",
   "metadata": {
    "tags": []
   },
   "outputs": [],
   "source": [
    "response_body[0]"
   ]
  },
  {
   "cell_type": "code",
   "execution_count": null,
   "id": "21aabd86-eca4-4514-8a1c-e5d3338d02d5",
   "metadata": {},
   "outputs": [],
   "source": [
    "response_body[0].keys()"
   ]
  },
  {
   "cell_type": "code",
   "execution_count": null,
   "id": "b6fd0d62-89d6-4921-8224-a88ce2f94fb9",
   "metadata": {},
   "outputs": [],
   "source": [
    "response_body[0]['ents'][0]"
   ]
  },
  {
   "cell_type": "code",
   "execution_count": null,
   "id": "730114d8-ef52-44b5-9c70-1bb74c9fe90c",
   "metadata": {},
   "outputs": [],
   "source": [
    "pd.DataFrame.from_dict({0:response_body[0]['ents'][0]},orient='index')"
   ]
  },
  {
   "cell_type": "code",
   "execution_count": null,
   "id": "7f2513b9-21f5-410d-b297-9b42a396add0",
   "metadata": {
    "tags": []
   },
   "outputs": [],
   "source": [
    "d={}\n",
    "#for i in response_body:\n",
    "for ent_ind,ent in enumerate(response_body[0]['ents']):\n",
    "    ent['doc_index']=response_body[0]['doc_index']\n",
    "    d[ent_ind]=ent\n",
    "df=pd.DataFrame.from_dict(d,orient='index')"
   ]
  },
  {
   "cell_type": "code",
   "execution_count": null,
   "id": "fe109697-c388-4b04-9b9b-a7eea535977c",
   "metadata": {},
   "outputs": [],
   "source": [
    "df.head()"
   ]
  },
  {
   "cell_type": "code",
   "execution_count": null,
   "id": "04523286-d7b0-40bf-abd4-9800f4a6a066",
   "metadata": {},
   "outputs": [],
   "source": [
    "len(response_body)"
   ]
  },
  {
   "cell_type": "code",
   "execution_count": null,
   "id": "ea378cda-ce54-4233-a51e-75fea6e54ca3",
   "metadata": {},
   "outputs": [],
   "source": [
    "d={}\n",
    "i=-1\n",
    "for response in response_body:\n",
    "    for ent_ind,ent in enumerate(response['ents']):\n",
    "        i+=1\n",
    "        ent['doc_index']=response['doc_index']\n",
    "        d[i]=ent\n",
    "df=pd.DataFrame.from_dict(d,orient='index')"
   ]
  },
  {
   "cell_type": "code",
   "execution_count": null,
   "id": "f49fcdc7-ce9f-4aaf-85c3-17f1116e1ea0",
   "metadata": {},
   "outputs": [],
   "source": [
    "df.shape"
   ]
  },
  {
   "cell_type": "code",
   "execution_count": null,
   "id": "20c6d35a-276a-48bc-8c52-344f870c3b06",
   "metadata": {},
   "outputs": [],
   "source": [
    "df.head()"
   ]
  },
  {
   "cell_type": "code",
   "execution_count": null,
   "id": "9ece0c8d-d6c3-4e63-b1f4-464868a277ba",
   "metadata": {},
   "outputs": [],
   "source": [
    "df.groupby(['text'])['text'].count()"
   ]
  },
  {
   "cell_type": "code",
   "execution_count": null,
   "id": "87ba81e4-d6bd-429f-b1d4-497b483f3cbc",
   "metadata": {},
   "outputs": [],
   "source": [
    "df.to_csv('2022_NE_extraction.csv')"
   ]
  },
  {
   "cell_type": "code",
   "execution_count": null,
   "id": "b3121e7d-9a26-4e5e-b9f0-c037fe881b9b",
   "metadata": {},
   "outputs": [],
   "source": []
  },
  {
   "cell_type": "raw",
   "id": "4d10ca3a-f6e6-4e64-b985-984b46932ade",
   "metadata": {},
   "source": [
    "Michels suggestion: get char_location metadata (i.e. exact word location on doc, not dependant on spacy's tokenasation step). "
   ]
  },
  {
   "cell_type": "raw",
   "id": "2a1b27dd-f8c7-47de-ae75-230aefc8a2b2",
   "metadata": {},
   "source": [
    "Get rid of labels: percentage, cardinal, language,"
   ]
  },
  {
   "cell_type": "raw",
   "id": "85a061c5-836c-49c9-b2ad-e2e3bf6e7501",
   "metadata": {},
   "source": [
    "Use pandas to direclty compress csv into a gz file "
   ]
  },
  {
   "cell_type": "code",
   "execution_count": null,
   "id": "4b240a16-0436-4200-b8d8-3a2f47a6edb5",
   "metadata": {},
   "outputs": [],
   "source": []
  },
  {
   "cell_type": "code",
   "execution_count": 3,
   "id": "29ef6ff4-e841-47ce-bb14-e7bfba7787e9",
   "metadata": {},
   "outputs": [],
   "source": [
    "df=pd.read_csv('2022_NE_extraction.csv',index_col=0)"
   ]
  },
  {
   "cell_type": "code",
   "execution_count": 4,
   "id": "81e72bc3-51a5-4bd3-8282-246d296e24a2",
   "metadata": {},
   "outputs": [
    {
     "data": {
      "text/html": [
       "<div>\n",
       "<style scoped>\n",
       "    .dataframe tbody tr th:only-of-type {\n",
       "        vertical-align: middle;\n",
       "    }\n",
       "\n",
       "    .dataframe tbody tr th {\n",
       "        vertical-align: top;\n",
       "    }\n",
       "\n",
       "    .dataframe thead th {\n",
       "        text-align: right;\n",
       "    }\n",
       "</style>\n",
       "<table border=\"1\" class=\"dataframe\">\n",
       "  <thead>\n",
       "    <tr style=\"text-align: right;\">\n",
       "      <th></th>\n",
       "      <th>text</th>\n",
       "      <th>label</th>\n",
       "      <th>start</th>\n",
       "      <th>end</th>\n",
       "      <th>doc_index</th>\n",
       "    </tr>\n",
       "  </thead>\n",
       "  <tbody>\n",
       "    <tr>\n",
       "      <th>0</th>\n",
       "      <td>Zachary Rolfe</td>\n",
       "      <td>PERSON</td>\n",
       "      <td>22</td>\n",
       "      <td>35</td>\n",
       "      <td>0</td>\n",
       "    </tr>\n",
       "    <tr>\n",
       "      <th>1</th>\n",
       "      <td>the Northern Territory</td>\n",
       "      <td>GPE</td>\n",
       "      <td>73</td>\n",
       "      <td>95</td>\n",
       "      <td>0</td>\n",
       "    </tr>\n",
       "    <tr>\n",
       "      <th>2</th>\n",
       "      <td>A week</td>\n",
       "      <td>DATE</td>\n",
       "      <td>122</td>\n",
       "      <td>128</td>\n",
       "      <td>0</td>\n",
       "    </tr>\n",
       "    <tr>\n",
       "      <th>3</th>\n",
       "      <td>more than two dozen</td>\n",
       "      <td>CARDINAL</td>\n",
       "      <td>186</td>\n",
       "      <td>205</td>\n",
       "      <td>0</td>\n",
       "    </tr>\n",
       "    <tr>\n",
       "      <th>4</th>\n",
       "      <td>John Burns</td>\n",
       "      <td>PERSON</td>\n",
       "      <td>358</td>\n",
       "      <td>368</td>\n",
       "      <td>0</td>\n",
       "    </tr>\n",
       "  </tbody>\n",
       "</table>\n",
       "</div>"
      ],
      "text/plain": [
       "                     text     label  start  end  doc_index\n",
       "0           Zachary Rolfe    PERSON     22   35          0\n",
       "1  the Northern Territory       GPE     73   95          0\n",
       "2                  A week      DATE    122  128          0\n",
       "3     more than two dozen  CARDINAL    186  205          0\n",
       "4              John Burns    PERSON    358  368          0"
      ]
     },
     "execution_count": 4,
     "metadata": {},
     "output_type": "execute_result"
    }
   ],
   "source": [
    "df.head()"
   ]
  },
  {
   "cell_type": "code",
   "execution_count": 5,
   "id": "8862f232-fe20-4d25-8da0-6a9c6fc972e6",
   "metadata": {},
   "outputs": [
    {
     "data": {
      "text/plain": [
       "(232515, 5)"
      ]
     },
     "execution_count": 5,
     "metadata": {},
     "output_type": "execute_result"
    }
   ],
   "source": [
    "df[df['label']=='PERSON'].shape"
   ]
  },
  {
   "cell_type": "code",
   "execution_count": 6,
   "id": "80de6994-e5bb-4f59-9355-97b6cc2ba8c6",
   "metadata": {},
   "outputs": [
    {
     "data": {
      "text/plain": [
       "(924269, 5)"
      ]
     },
     "execution_count": 6,
     "metadata": {},
     "output_type": "execute_result"
    }
   ],
   "source": [
    "df.shape"
   ]
  },
  {
   "cell_type": "code",
   "execution_count": 9,
   "id": "1aa64bcc-b227-4160-b24d-ee34bdeaa224",
   "metadata": {},
   "outputs": [
    {
     "data": {
      "text/plain": [
       "PERSON         0.251566\n",
       "GPE            0.153730\n",
       "ORG            0.148293\n",
       "DATE           0.144345\n",
       "CARDINAL       0.093142\n",
       "NORP           0.060367\n",
       "TIME           0.026319\n",
       "ORDINAL        0.025438\n",
       "WORK_OF_ART    0.020238\n",
       "MONEY          0.014003\n",
       "PERCENT        0.012634\n",
       "LOC            0.012298\n",
       "FAC            0.011610\n",
       "EVENT          0.009460\n",
       "QUANTITY       0.006917\n",
       "PRODUCT        0.006282\n",
       "LAW            0.002121\n",
       "LANGUAGE       0.001236\n",
       "Name: label, dtype: float64"
      ]
     },
     "execution_count": 9,
     "metadata": {},
     "output_type": "execute_result"
    }
   ],
   "source": [
    "df['label'].value_counts()/df.shape[0]"
   ]
  },
  {
   "cell_type": "code",
   "execution_count": 10,
   "id": "97c3ddf2-e2b2-4fd9-ae09-403406b304a4",
   "metadata": {},
   "outputs": [
    {
     "data": {
      "text/html": [
       "<div>\n",
       "<style scoped>\n",
       "    .dataframe tbody tr th:only-of-type {\n",
       "        vertical-align: middle;\n",
       "    }\n",
       "\n",
       "    .dataframe tbody tr th {\n",
       "        vertical-align: top;\n",
       "    }\n",
       "\n",
       "    .dataframe thead th {\n",
       "        text-align: right;\n",
       "    }\n",
       "</style>\n",
       "<table border=\"1\" class=\"dataframe\">\n",
       "  <thead>\n",
       "    <tr style=\"text-align: right;\">\n",
       "      <th></th>\n",
       "      <th>text</th>\n",
       "      <th>label</th>\n",
       "      <th>start</th>\n",
       "      <th>end</th>\n",
       "      <th>doc_index</th>\n",
       "    </tr>\n",
       "  </thead>\n",
       "  <tbody>\n",
       "    <tr>\n",
       "      <th>55</th>\n",
       "      <td>the Evidence Act</td>\n",
       "      <td>LAW</td>\n",
       "      <td>5889</td>\n",
       "      <td>5905</td>\n",
       "      <td>0</td>\n",
       "    </tr>\n",
       "    <tr>\n",
       "      <th>162</th>\n",
       "      <td>the Equality Act</td>\n",
       "      <td>LAW</td>\n",
       "      <td>2115</td>\n",
       "      <td>2131</td>\n",
       "      <td>3</td>\n",
       "    </tr>\n",
       "    <tr>\n",
       "      <th>196</th>\n",
       "      <td>Roe v Wade</td>\n",
       "      <td>LAW</td>\n",
       "      <td>578</td>\n",
       "      <td>588</td>\n",
       "      <td>4</td>\n",
       "    </tr>\n",
       "    <tr>\n",
       "      <th>212</th>\n",
       "      <td>Dred Scott</td>\n",
       "      <td>LAW</td>\n",
       "      <td>1729</td>\n",
       "      <td>1739</td>\n",
       "      <td>4</td>\n",
       "    </tr>\n",
       "    <tr>\n",
       "      <th>308</th>\n",
       "      <td>Dred Scott</td>\n",
       "      <td>LAW</td>\n",
       "      <td>7044</td>\n",
       "      <td>7054</td>\n",
       "      <td>8</td>\n",
       "    </tr>\n",
       "    <tr>\n",
       "      <th>...</th>\n",
       "      <td>...</td>\n",
       "      <td>...</td>\n",
       "      <td>...</td>\n",
       "      <td>...</td>\n",
       "      <td>...</td>\n",
       "    </tr>\n",
       "    <tr>\n",
       "      <th>922825</th>\n",
       "      <td>Cultural Heritage Management Plan</td>\n",
       "      <td>LAW</td>\n",
       "      <td>15287</td>\n",
       "      <td>15320</td>\n",
       "      <td>10022</td>\n",
       "    </tr>\n",
       "    <tr>\n",
       "      <th>923054</th>\n",
       "      <td>Roe v Wade</td>\n",
       "      <td>LAW</td>\n",
       "      <td>30734</td>\n",
       "      <td>30744</td>\n",
       "      <td>10022</td>\n",
       "    </tr>\n",
       "    <tr>\n",
       "      <th>923324</th>\n",
       "      <td>Anti-Discrimination Act</td>\n",
       "      <td>LAW</td>\n",
       "      <td>46918</td>\n",
       "      <td>46941</td>\n",
       "      <td>10022</td>\n",
       "    </tr>\n",
       "    <tr>\n",
       "      <th>924185</th>\n",
       "      <td>Vision 2030</td>\n",
       "      <td>LAW</td>\n",
       "      <td>4910</td>\n",
       "      <td>4921</td>\n",
       "      <td>10031</td>\n",
       "    </tr>\n",
       "    <tr>\n",
       "      <th>924187</th>\n",
       "      <td>Vision 2030</td>\n",
       "      <td>LAW</td>\n",
       "      <td>5137</td>\n",
       "      <td>5148</td>\n",
       "      <td>10031</td>\n",
       "    </tr>\n",
       "  </tbody>\n",
       "</table>\n",
       "<p>1960 rows × 5 columns</p>\n",
       "</div>"
      ],
      "text/plain": [
       "                                     text label  start    end  doc_index\n",
       "55                       the Evidence Act   LAW   5889   5905          0\n",
       "162                      the Equality Act   LAW   2115   2131          3\n",
       "196                            Roe v Wade   LAW    578    588          4\n",
       "212                            Dred Scott   LAW   1729   1739          4\n",
       "308                            Dred Scott   LAW   7044   7054          8\n",
       "...                                   ...   ...    ...    ...        ...\n",
       "922825  Cultural Heritage Management Plan   LAW  15287  15320      10022\n",
       "923054                         Roe v Wade   LAW  30734  30744      10022\n",
       "923324            Anti-Discrimination Act   LAW  46918  46941      10022\n",
       "924185                        Vision 2030   LAW   4910   4921      10031\n",
       "924187                        Vision 2030   LAW   5137   5148      10031\n",
       "\n",
       "[1960 rows x 5 columns]"
      ]
     },
     "execution_count": 10,
     "metadata": {},
     "output_type": "execute_result"
    }
   ],
   "source": [
    "df[df['label']=='LAW']"
   ]
  },
  {
   "cell_type": "code",
   "execution_count": 11,
   "id": "491c63fa-9ab9-42cd-a68c-f5587c11115e",
   "metadata": {},
   "outputs": [
    {
     "data": {
      "text/html": [
       "<div>\n",
       "<style scoped>\n",
       "    .dataframe tbody tr th:only-of-type {\n",
       "        vertical-align: middle;\n",
       "    }\n",
       "\n",
       "    .dataframe tbody tr th {\n",
       "        vertical-align: top;\n",
       "    }\n",
       "\n",
       "    .dataframe thead th {\n",
       "        text-align: right;\n",
       "    }\n",
       "</style>\n",
       "<table border=\"1\" class=\"dataframe\">\n",
       "  <thead>\n",
       "    <tr style=\"text-align: right;\">\n",
       "      <th></th>\n",
       "      <th>text</th>\n",
       "      <th>label</th>\n",
       "      <th>start</th>\n",
       "      <th>end</th>\n",
       "      <th>doc_index</th>\n",
       "    </tr>\n",
       "  </thead>\n",
       "  <tbody>\n",
       "    <tr>\n",
       "      <th>322</th>\n",
       "      <td>English</td>\n",
       "      <td>LANGUAGE</td>\n",
       "      <td>529</td>\n",
       "      <td>536</td>\n",
       "      <td>9</td>\n",
       "    </tr>\n",
       "    <tr>\n",
       "      <th>2836</th>\n",
       "      <td>English</td>\n",
       "      <td>LANGUAGE</td>\n",
       "      <td>2061</td>\n",
       "      <td>2068</td>\n",
       "      <td>53</td>\n",
       "    </tr>\n",
       "    <tr>\n",
       "      <th>3264</th>\n",
       "      <td>English</td>\n",
       "      <td>LANGUAGE</td>\n",
       "      <td>2616</td>\n",
       "      <td>2623</td>\n",
       "      <td>66</td>\n",
       "    </tr>\n",
       "    <tr>\n",
       "      <th>3885</th>\n",
       "      <td>French</td>\n",
       "      <td>LANGUAGE</td>\n",
       "      <td>553</td>\n",
       "      <td>559</td>\n",
       "      <td>80</td>\n",
       "    </tr>\n",
       "    <tr>\n",
       "      <th>4878</th>\n",
       "      <td>Latin</td>\n",
       "      <td>LANGUAGE</td>\n",
       "      <td>3713</td>\n",
       "      <td>3718</td>\n",
       "      <td>100</td>\n",
       "    </tr>\n",
       "    <tr>\n",
       "      <th>...</th>\n",
       "      <td>...</td>\n",
       "      <td>...</td>\n",
       "      <td>...</td>\n",
       "      <td>...</td>\n",
       "      <td>...</td>\n",
       "    </tr>\n",
       "    <tr>\n",
       "      <th>922447</th>\n",
       "      <td>English</td>\n",
       "      <td>LANGUAGE</td>\n",
       "      <td>226</td>\n",
       "      <td>233</td>\n",
       "      <td>10019</td>\n",
       "    </tr>\n",
       "    <tr>\n",
       "      <th>922448</th>\n",
       "      <td>English</td>\n",
       "      <td>LANGUAGE</td>\n",
       "      <td>407</td>\n",
       "      <td>414</td>\n",
       "      <td>10019</td>\n",
       "    </tr>\n",
       "    <tr>\n",
       "      <th>922463</th>\n",
       "      <td>English</td>\n",
       "      <td>LANGUAGE</td>\n",
       "      <td>1890</td>\n",
       "      <td>1897</td>\n",
       "      <td>10019</td>\n",
       "    </tr>\n",
       "    <tr>\n",
       "      <th>923884</th>\n",
       "      <td>Bengali</td>\n",
       "      <td>LANGUAGE</td>\n",
       "      <td>1016</td>\n",
       "      <td>1023</td>\n",
       "      <td>10028</td>\n",
       "    </tr>\n",
       "    <tr>\n",
       "      <th>924241</th>\n",
       "      <td>English</td>\n",
       "      <td>LANGUAGE</td>\n",
       "      <td>3717</td>\n",
       "      <td>3724</td>\n",
       "      <td>10032</td>\n",
       "    </tr>\n",
       "  </tbody>\n",
       "</table>\n",
       "<p>1142 rows × 5 columns</p>\n",
       "</div>"
      ],
      "text/plain": [
       "           text     label  start   end  doc_index\n",
       "322     English  LANGUAGE    529   536          9\n",
       "2836    English  LANGUAGE   2061  2068         53\n",
       "3264    English  LANGUAGE   2616  2623         66\n",
       "3885     French  LANGUAGE    553   559         80\n",
       "4878      Latin  LANGUAGE   3713  3718        100\n",
       "...         ...       ...    ...   ...        ...\n",
       "922447  English  LANGUAGE    226   233      10019\n",
       "922448  English  LANGUAGE    407   414      10019\n",
       "922463  English  LANGUAGE   1890  1897      10019\n",
       "923884  Bengali  LANGUAGE   1016  1023      10028\n",
       "924241  English  LANGUAGE   3717  3724      10032\n",
       "\n",
       "[1142 rows x 5 columns]"
      ]
     },
     "execution_count": 11,
     "metadata": {},
     "output_type": "execute_result"
    }
   ],
   "source": [
    "df[df['label']=='LANGUAGE']"
   ]
  },
  {
   "cell_type": "code",
   "execution_count": 20,
   "id": "60f711a4-67bc-4bdf-be3e-38110cff9728",
   "metadata": {},
   "outputs": [
    {
     "data": {
      "text/plain": [
       "array(['Ryder', 'The Australian Law Reform Commission',\n",
       "       'The Judicial Commission of New South Wales',\n",
       "       'the child sexual abuse royal commission', 'New York Times',\n",
       "       'MyCrossword', 'Independent', 'New York Times Games', 'Guardian',\n",
       "       'the Guardian Bookshop', 'Barclaycard Business', 'Barclays',\n",
       "       'Barclaycard Multicurrency', 'Barclaycard', 'Stonewall',\n",
       "       'Garden Court', 'LGB Alliance', 'Times', '@stonewalluk',\n",
       "       'the Equality and Human Rights Commission', 'YouGov',\n",
       "       'Garden Court’s', 'the Bar Council’s', 'supreme court',\n",
       "       'American Constitution Society', 'Board of Education',\n",
       "       'Perspectus Global', 'Yeo Valley Organic', 'Brompton', 'Observer',\n",
       "       'Wells Fargo', 'Crump', 'Johnson &amp', 'Johnson',\n",
       "       'the National Council of Negro Women', 'Johnson &amp;',\n",
       "       'Outlier Media', 'Outlier', 'The Bureau Local', 'Deliveroo',\n",
       "       'the Content Authenticity Initiative',\n",
       "       'The Content Authenticity Initiative',\n",
       "       'Organised Crime and Corruption Reporting Project', 'OCCRP',\n",
       "       'Investigations and Reporting (', 'FT', 'The Wire', 'El Diario',\n",
       "       'Fathm', 'Realtid', 'The High Court', 'EU',\n",
       "       'the European Commission', 'Investigations and Reporting',\n",
       "       'London School of Economics', 'Ofcom',\n",
       "       'the Independent Press Standards Organisation', 'Hacked Off',\n",
       "       'the Office for National Statistics', 'ONS',\n",
       "       'Environment International', 'Wildlife', 'Countryside Link',\n",
       "       'Natural England', 'NHS', 'Friends of the Earth',\n",
       "       'the Institute for Public Policy Research', 'IPPR',\n",
       "       'a National Nature Service', 'mySociety', 'MSOA', 'GRI', 'WRI',\n",
       "       'TCFD', 'SASB', 'WBCSD', 'WEF', 'CDP', 'GHG',\n",
       "       'the US Securities and Exchange Commission', 'the IFRS Foundation',\n",
       "       'an International Sustainability Standards Board',\n",
       "       'the Task Force on Climate-related Financial Disclosures',\n",
       "       'Financial Stability Board', 'CSRD', 'SEC', 'Beach Yoga SoCal',\n",
       "       'Santa Monica Picnic Co', 'Santa Monica Picnic Co.', 'Ancona',\n",
       "       'Fragments Identity', 'Andrew’s Cheese Shop',\n",
       "       'John Kelly Chocolates', 'Broadway Baker',\n",
       "       'the Douglas Aircraft Company', 'the American Cinematheque',\n",
       "       'Max Palevsky', 'Aero', 'Santa Monica Brew Works', 'SMBW'],\n",
       "      dtype=object)"
      ]
     },
     "execution_count": 20,
     "metadata": {},
     "output_type": "execute_result"
    }
   ],
   "source": [
    "df.loc[df['label']=='ORG','text'].unique()[:100]"
   ]
  },
  {
   "cell_type": "code",
   "execution_count": 17,
   "id": "a0ee2bc1-5559-428a-b946-f949c115bef9",
   "metadata": {},
   "outputs": [
    {
     "data": {
      "text/plain": [
       "array(['Garden Court', 'Route 66', 'Aero', 'Auschwitz',\n",
       "       'Noël Coward Theatre', 'West End', 'Fort William', 'Glenfinnan',\n",
       "       'Arthur’s Seat', 'Dugald Stewart Monument', 'Collective',\n",
       "       'City Observatory', 'Edinburgh Castle', 'Greyfriars Kirkyard',\n",
       "       'Craigmillar Castle', 'Holyrood Park',\n",
       "       'the Palace of Holyroodhouse', 'Blackness Castle', 'Holyrood',\n",
       "       'Tantallon Castle', 'Rosslyn Chapel', 'Celtic Connections',\n",
       "       'Old Fruitmarket', 'Grand Ole Opry', 'the Whitechapel Gallery',\n",
       "       'Arena', 'Diocletian’s Palace', 'the Colosseum in Rome',\n",
       "       'Meštrović Gallery', 'Roman Arena', 'Euphrasian Basilica Splendid',\n",
       "       'Euphrasian Basilica', 'Church of the Holy Cross',\n",
       "       'Lovrijenac Fortress', 'Yarra’s Edge', 'Fishermans Bend',\n",
       "       'Voyager', 'South Wharf', 'the Charles Grimes Bridge', 'Southbank',\n",
       "       'Dukes Walk', 'Marvel Stadium', 'the West Gate Freeway',\n",
       "       'Hogwarts', 'La Plagne Home', 'St Mary’s stadium', 'St Mary’s',\n",
       "       'KidSpark', 'High Park', 'Hyde Park', 'the Drake Devonshire',\n",
       "       'Awenda', 'Old Elora Mill', 'Belfountain', 'Creemore', 'Credit',\n",
       "       'Evergreen Brick Works', 'Kings Place', 'York Way',\n",
       "       'the Hush Heath Estate', 'Hush Heath Estate', 'Heathrow',\n",
       "       'Gatwick', 'London Heathrow', 'London Gatwick', 'Hampton Manor',\n",
       "       'University Arms', 'the University Arms', 'Mondrian Shoreditch',\n",
       "       'Park Lane', 'Covent Garden', '24a Centre Point’s',\n",
       "       'Riverside One', 'Sutton Park', 'Blaise Castle', 'Hampstead Heath',\n",
       "       'Windsor Great Park', 'Croxteth Hall', 'Ashton Court',\n",
       "       'Southampton Common', 'Bute Park', 'Greenwich Park',\n",
       "       'the Los Angeles Dolby Theatre', 'the Sümela Monastery', 'Akdamar',\n",
       "       'Source Park', 'West Hill', 'Hastings Castle',\n",
       "       'Hastings Adventure Golf', 'Willows Activity Farm',\n",
       "       'Verulamium Park', 'Hundred Acre Wood', 'Five Hundred Acre Wood',\n",
       "       'Pooh Car Park', 'AA Milne', 'Galleons Lap – “an',\n",
       "       'Pooh Sticks Bridge', 'Harrison’s Rocks', 'Bull Track',\n",
       "       'Nene Park'], dtype=object)"
      ]
     },
     "execution_count": 17,
     "metadata": {},
     "output_type": "execute_result"
    }
   ],
   "source": [
    "df.loc[df['label']=='FAC','text'].unique()[:100]"
   ]
  },
  {
   "cell_type": "code",
   "execution_count": 19,
   "id": "b1d55317-10bc-4c2d-8bd3-ad8b42ca39fc",
   "metadata": {},
   "outputs": [
    {
     "data": {
      "text/plain": [
       "array(['the International Journalism Festival', 'COP26',\n",
       "       'the second world war', 'Edinburgh International Film Festival',\n",
       "       'Year of Stories 2022', 'the Trojan Horse Affair',\n",
       "       'Pula film festival', 'The Dubrovnik summer',\n",
       "       'the Greek civil war', 'Operation Raleigh', 'the Winter Olympics',\n",
       "       'EURO 2022', 'the “Fundraising Event', 'the Fundraising Event',\n",
       "       'The Fundraising Event', 'this Fundraising Event',\n",
       "       'Fundraising Event for the Disasters Emergency Committee',\n",
       "       'World Health Day', 'the Covid-19 pandemic',\n",
       "       'International Women’s Week', 'the Observer Food Monthly Awards',\n",
       "       'the Prize Draw', 'this Prize Draw', 'New Year',\n",
       "       'the Observer Food Monthly Awards 2022', 'Euro', 'Women’s Euro',\n",
       "       'The UEFA Women’s EURO 2022', 'the Euro tournament',\n",
       "       'Genocide Convention', 'the Cultural Revolution',\n",
       "       'the Academy Awards', 'the Korean war', 'Berlin',\n",
       "       'World Crazy Golf Championships', 'Secondhand September',\n",
       "       'Troubles', 'the Kassandra festival', 'World Travel Awards',\n",
       "       'Now Play This', 'the Covid pandemic', 'Cannes', '#MeToo movement',\n",
       "       'the World’s Fair Challenge', 'World’s Fair', 'post-US',\n",
       "       'Civil War', 'First World War', 'Holocaust', 'the Vietnam war',\n",
       "       'Operation Mincemeat', 'the Transylvania film festival',\n",
       "       'the first world war', 'Easter Parade', 'the World’s Fair',\n",
       "       'Oscars', 'Met Gala', 'Summer of Soul',\n",
       "       'the Melbourne International film festival', 'CinemaCon',\n",
       "       'Sundance', 'Glastonbury', '#MeToo', 'Comic-Con',\n",
       "       'Sundance film festival', 'Metaverse Fashion Week', 'DocFest',\n",
       "       'Sheffield DocFest', 'the Golden Globes', 'Isle of Man TT races',\n",
       "       'Oscars Night Live', 'Cultural Revolution', 'Freshman Year',\n",
       "       'SXSW', 'the Sandinista revolution', 'Berlinale',\n",
       "       'Berlin Golden Bear', 'Fourth to First rise',\n",
       "       'the Russian revolution', 'Windrush', 'this Comic-Con',\n",
       "       'the Met Gala', 'Festival', 'Venice',\n",
       "       'the Black Prisoners’ Caucus justice reform', 'Baftas',\n",
       "       'Cannes2022', 'The Cannes film festival', 'NFL Week 18', 'FA Cup',\n",
       "       'the World Economic Forum', 'Ragnarok', 'Golden Age',\n",
       "       'pre-Hays Code', 'the Cinema Rediscovered festival',\n",
       "       'Independence Day', 'Bafta', 'Chinese New Year', 'Great War',\n",
       "       'the Nicaraguan Revolution'], dtype=object)"
      ]
     },
     "execution_count": 19,
     "metadata": {},
     "output_type": "execute_result"
    }
   ],
   "source": [
    "df.loc[df['label']=='EVENT','text'].unique()[:100]"
   ]
  },
  {
   "cell_type": "code",
   "execution_count": 79,
   "id": "28195a96-2af4-4621-b29e-a916311f33c8",
   "metadata": {},
   "outputs": [
    {
     "data": {
      "text/plain": [
       "text       \n",
       "Ukraine        12214\n",
       "first          11300\n",
       "one             9688\n",
       "Russia          9431\n",
       "Russian         8994\n",
       "               ...  \n",
       "morning          867\n",
       "Australians      859\n",
       "Omicron          859\n",
       "Coalition        852\n",
       "half             852\n",
       "Length: 100, dtype: int64"
      ]
     },
     "execution_count": 79,
     "metadata": {},
     "output_type": "execute_result"
    }
   ],
   "source": [
    "df[['text']].value_counts().iloc[:100]"
   ]
  },
  {
   "cell_type": "code",
   "execution_count": 43,
   "id": "da471c10-ef2e-4499-9cc1-a0cedbeb9f0f",
   "metadata": {},
   "outputs": [],
   "source": [
    "#df[['text']].value_counts().to_csv('500_article_sample_NER_counts.csv.gz')"
   ]
  },
  {
   "cell_type": "raw",
   "id": "006492fa-ad58-4336-863f-4bff4177598b",
   "metadata": {},
   "source": [
    "[doc for doc in \\\n",
    "named_entities_2022.loc[(named_entities_2022['label'].isin(['PERSON'])),'doc_index'].unique()\n",
    "if doc in \\\n",
    "(named_entities_2022.loc[(named_entities_2022['label'].isin(['ORG'])),'doc_index'].unique())][:10]"
   ]
  }
 ],
 "metadata": {
  "kernelspec": {
   "display_name": "Python 3 (ipykernel)",
   "language": "python",
   "name": "python3"
  },
  "language_info": {
   "codemirror_mode": {
    "name": "ipython",
    "version": 3
   },
   "file_extension": ".py",
   "mimetype": "text/x-python",
   "name": "python",
   "nbconvert_exporter": "python",
   "pygments_lexer": "ipython3",
   "version": "3.8.13"
  }
 },
 "nbformat": 4,
 "nbformat_minor": 5
}
