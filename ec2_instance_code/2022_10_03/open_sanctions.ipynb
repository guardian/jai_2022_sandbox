{
 "cells": [
  {
   "cell_type": "code",
   "execution_count": 1,
   "id": "4a3959d9-60dd-448e-8776-2bc5a2b1a60c",
   "metadata": {},
   "outputs": [],
   "source": [
    "import requests\n",
    "import json\n",
    "import pandas as pd\n",
    "import numpy as np\n",
    "import glob\n",
    "import pycountry\n",
    "import re"
   ]
  },
  {
   "cell_type": "code",
   "execution_count": 2,
   "id": "03785cbe-8341-4aa4-961e-0ed93917ede4",
   "metadata": {},
   "outputs": [],
   "source": [
    "pd.set_option('display.max_rows', 500)\n",
    "pd.set_option('display.max_columns', 500)\n",
    "pd.set_option('display.width', 1000)"
   ]
  },
  {
   "cell_type": "markdown",
   "id": "d5474ddf-d4c2-40fa-8f5f-ee80290a0eda",
   "metadata": {
    "tags": []
   },
   "source": [
    "## Download open sanctions data as .json"
   ]
  },
  {
   "cell_type": "raw",
   "id": "8a792bcf-3cb2-4434-8161-e2ff31c29daf",
   "metadata": {},
   "source": [
    "url = \"https://data.opensanctions.org/datasets/latest/default/entities.ftm.json\""
   ]
  },
  {
   "cell_type": "raw",
   "id": "d7e5e89c-bc74-4ea8-a6e8-a10a1311fd50",
   "metadata": {},
   "source": [
    "r = requests.get(url, allow_redirects=True)"
   ]
  },
  {
   "cell_type": "raw",
   "id": "17ec5d59-14d7-480d-a3fc-58ce1472f88c",
   "metadata": {},
   "source": [
    "open('open_sanctions.json', 'wb').write(r.content)"
   ]
  },
  {
   "cell_type": "markdown",
   "id": "5b0c756b-63eb-4fbb-b30d-bfd53ba70d1e",
   "metadata": {},
   "source": [
    "## Import open sanctions data .json"
   ]
  },
  {
   "cell_type": "code",
   "execution_count": 3,
   "id": "8e93880f-f43e-4637-9b4f-f4663c6bf097",
   "metadata": {},
   "outputs": [],
   "source": [
    "with open('open_sanctions.json') as f:\n",
    "    sanctions_data = f.readlines()"
   ]
  },
  {
   "cell_type": "code",
   "execution_count": 4,
   "id": "19f9911a-87dc-4130-856d-d4c6b4b7c71e",
   "metadata": {},
   "outputs": [
    {
     "data": {
      "text/plain": [
       "{'id': 'acf-00040861bc3f593000830d987d09967ef3503ef1',\n",
       " 'target': True,\n",
       " 'first_seen': '2022-05-05T15:26:25',\n",
       " 'last_seen': '2022-10-05T06:32:14',\n",
       " 'schema': 'Person',\n",
       " 'properties': {'notes': ['Russian propagandist: host of news program \"Segodnia\" (\"Today\") on NTV'],\n",
       "  'position': ['Propagandists', 'Federal media employees'],\n",
       "  'gender': ['male'],\n",
       "  'name': ['Kolyvanov Egor'],\n",
       "  'alias': ['Колыванов Егор'],\n",
       "  'birthDate': ['1980-11-15']},\n",
       " 'referents': [],\n",
       " 'datasets': ['ru_acf_bribetakers'],\n",
       " 'caption': 'Kolyvanov Egor'}"
      ]
     },
     "execution_count": 4,
     "metadata": {},
     "output_type": "execute_result"
    }
   ],
   "source": [
    "json.loads(sanctions_data[0])"
   ]
  },
  {
   "cell_type": "code",
   "execution_count": 5,
   "id": "bf0fb96a-185e-4b44-91b1-e3bd41591fbb",
   "metadata": {},
   "outputs": [],
   "source": [
    "data=[]\n",
    "for ent_index in range(len(sanctions_data)):\n",
    "    data.append(json.loads(sanctions_data[ent_index]))"
   ]
  },
  {
   "cell_type": "code",
   "execution_count": 6,
   "id": "316f4108-1ac3-4750-ae49-5a7e8d84fe92",
   "metadata": {},
   "outputs": [
    {
     "data": {
      "text/plain": [
       "431828"
      ]
     },
     "execution_count": 6,
     "metadata": {},
     "output_type": "execute_result"
    }
   ],
   "source": [
    "len(data)"
   ]
  },
  {
   "cell_type": "code",
   "execution_count": 7,
   "id": "a13a428e-a81c-45f2-a992-722869c9bc45",
   "metadata": {},
   "outputs": [
    {
     "data": {
      "text/plain": [
       "{'id': 'acf-00040861bc3f593000830d987d09967ef3503ef1',\n",
       " 'target': True,\n",
       " 'first_seen': '2022-05-05T15:26:25',\n",
       " 'last_seen': '2022-10-05T06:32:14',\n",
       " 'schema': 'Person',\n",
       " 'properties': {'notes': ['Russian propagandist: host of news program \"Segodnia\" (\"Today\") on NTV'],\n",
       "  'position': ['Propagandists', 'Federal media employees'],\n",
       "  'gender': ['male'],\n",
       "  'name': ['Kolyvanov Egor'],\n",
       "  'alias': ['Колыванов Егор'],\n",
       "  'birthDate': ['1980-11-15']},\n",
       " 'referents': [],\n",
       " 'datasets': ['ru_acf_bribetakers'],\n",
       " 'caption': 'Kolyvanov Egor'}"
      ]
     },
     "execution_count": 7,
     "metadata": {},
     "output_type": "execute_result"
    }
   ],
   "source": [
    "data[0]"
   ]
  },
  {
   "cell_type": "code",
   "execution_count": 8,
   "id": "d0111d81-3631-487a-9b26-8ca5e1e9d20a",
   "metadata": {},
   "outputs": [],
   "source": [
    "data=pd.DataFrame(data)"
   ]
  },
  {
   "cell_type": "code",
   "execution_count": 9,
   "id": "b47d8ef0-61d0-4cec-9208-ae42468434c0",
   "metadata": {},
   "outputs": [
    {
     "data": {
      "text/html": [
       "<div>\n",
       "<style scoped>\n",
       "    .dataframe tbody tr th:only-of-type {\n",
       "        vertical-align: middle;\n",
       "    }\n",
       "\n",
       "    .dataframe tbody tr th {\n",
       "        vertical-align: top;\n",
       "    }\n",
       "\n",
       "    .dataframe thead th {\n",
       "        text-align: right;\n",
       "    }\n",
       "</style>\n",
       "<table border=\"1\" class=\"dataframe\">\n",
       "  <thead>\n",
       "    <tr style=\"text-align: right;\">\n",
       "      <th></th>\n",
       "      <th>id</th>\n",
       "      <th>target</th>\n",
       "      <th>first_seen</th>\n",
       "      <th>last_seen</th>\n",
       "      <th>schema</th>\n",
       "      <th>properties</th>\n",
       "      <th>referents</th>\n",
       "      <th>datasets</th>\n",
       "      <th>caption</th>\n",
       "    </tr>\n",
       "  </thead>\n",
       "  <tbody>\n",
       "    <tr>\n",
       "      <th>0</th>\n",
       "      <td>acf-00040861bc3f593000830d987d09967ef3503ef1</td>\n",
       "      <td>True</td>\n",
       "      <td>2022-05-05T15:26:25</td>\n",
       "      <td>2022-10-05T06:32:14</td>\n",
       "      <td>Person</td>\n",
       "      <td>{'notes': ['Russian propagandist: host of news...</td>\n",
       "      <td>[]</td>\n",
       "      <td>[ru_acf_bribetakers]</td>\n",
       "      <td>Kolyvanov Egor</td>\n",
       "    </tr>\n",
       "    <tr>\n",
       "      <th>1</th>\n",
       "      <td>acf-0011c68a768924609dc5da5707ac7fa4c4d645a2</td>\n",
       "      <td>True</td>\n",
       "      <td>2022-07-09T18:14:08</td>\n",
       "      <td>2022-10-05T06:32:14</td>\n",
       "      <td>Person</td>\n",
       "      <td>{'name': ['Shipov Sergei Yurievich'], 'notes':...</td>\n",
       "      <td>[]</td>\n",
       "      <td>[ru_acf_bribetakers]</td>\n",
       "      <td>Shipov Sergei Yurievich</td>\n",
       "    </tr>\n",
       "    <tr>\n",
       "      <th>2</th>\n",
       "      <td>acf-001e7e4c0363f08f1e784c230457960b84a6416f</td>\n",
       "      <td>True</td>\n",
       "      <td>2022-05-05T15:26:25</td>\n",
       "      <td>2022-10-05T06:32:14</td>\n",
       "      <td>Person</td>\n",
       "      <td>{'name': ['Egorov Ivan Mikhailovich'], 'alias'...</td>\n",
       "      <td>[]</td>\n",
       "      <td>[ru_acf_bribetakers]</td>\n",
       "      <td>Egorov Ivan Mikhailovich</td>\n",
       "    </tr>\n",
       "    <tr>\n",
       "      <th>3</th>\n",
       "      <td>acf-002c208139012c8d93b6298358188d7cadafe648</td>\n",
       "      <td>True</td>\n",
       "      <td>2022-09-20T01:05:26</td>\n",
       "      <td>2022-10-05T06:32:14</td>\n",
       "      <td>Person</td>\n",
       "      <td>{'name': ['Goreslavsky Alexey Sergeyevich'], '...</td>\n",
       "      <td>[]</td>\n",
       "      <td>[ru_acf_bribetakers]</td>\n",
       "      <td>Goreslavsky Alexey Sergeyevich</td>\n",
       "    </tr>\n",
       "    <tr>\n",
       "      <th>4</th>\n",
       "      <td>acf-002cc8fdf8fe41185091a7cb6c598663e7a22eb5</td>\n",
       "      <td>True</td>\n",
       "      <td>2022-09-20T01:05:26</td>\n",
       "      <td>2022-10-05T06:32:14</td>\n",
       "      <td>Person</td>\n",
       "      <td>{'gender': ['female'], 'name': ['Samoilova Nat...</td>\n",
       "      <td>[]</td>\n",
       "      <td>[ru_acf_bribetakers]</td>\n",
       "      <td>Samoilova Natalya Vladimirovna</td>\n",
       "    </tr>\n",
       "  </tbody>\n",
       "</table>\n",
       "</div>"
      ],
      "text/plain": [
       "                                             id  target           first_seen            last_seen  schema                                         properties referents              datasets                         caption\n",
       "0  acf-00040861bc3f593000830d987d09967ef3503ef1    True  2022-05-05T15:26:25  2022-10-05T06:32:14  Person  {'notes': ['Russian propagandist: host of news...        []  [ru_acf_bribetakers]                  Kolyvanov Egor\n",
       "1  acf-0011c68a768924609dc5da5707ac7fa4c4d645a2    True  2022-07-09T18:14:08  2022-10-05T06:32:14  Person  {'name': ['Shipov Sergei Yurievich'], 'notes':...        []  [ru_acf_bribetakers]         Shipov Sergei Yurievich\n",
       "2  acf-001e7e4c0363f08f1e784c230457960b84a6416f    True  2022-05-05T15:26:25  2022-10-05T06:32:14  Person  {'name': ['Egorov Ivan Mikhailovich'], 'alias'...        []  [ru_acf_bribetakers]        Egorov Ivan Mikhailovich\n",
       "3  acf-002c208139012c8d93b6298358188d7cadafe648    True  2022-09-20T01:05:26  2022-10-05T06:32:14  Person  {'name': ['Goreslavsky Alexey Sergeyevich'], '...        []  [ru_acf_bribetakers]  Goreslavsky Alexey Sergeyevich\n",
       "4  acf-002cc8fdf8fe41185091a7cb6c598663e7a22eb5    True  2022-09-20T01:05:26  2022-10-05T06:32:14  Person  {'gender': ['female'], 'name': ['Samoilova Nat...        []  [ru_acf_bribetakers]  Samoilova Natalya Vladimirovna"
      ]
     },
     "execution_count": 9,
     "metadata": {},
     "output_type": "execute_result"
    }
   ],
   "source": [
    "data.head()"
   ]
  },
  {
   "cell_type": "code",
   "execution_count": 10,
   "id": "281f00e8-a7f4-4f70-981e-4454c3b9e1d6",
   "metadata": {},
   "outputs": [
    {
     "name": "stderr",
     "output_type": "stream",
     "text": [
      "/Users/luis_flores/.local/share/virtualenvs/ner-DhZLIlym/lib/python3.7/site-packages/ipykernel_launcher.py:1: FutureWarning: In a future version of pandas all arguments of DataFrame.drop except for the argument 'labels' will be keyword-only\n",
      "  \"\"\"Entry point for launching an IPython kernel.\n"
     ]
    }
   ],
   "source": [
    "data.drop(['target','first_seen','last_seen','datasets'],1,inplace=True)"
   ]
  },
  {
   "cell_type": "code",
   "execution_count": 11,
   "id": "5b746182-13c7-4e81-9797-a8b8147a0959",
   "metadata": {},
   "outputs": [],
   "source": [
    "unique_keys=[]\n",
    "for row in data['properties']:\n",
    "    for key in row.keys():\n",
    "        if key not in unique_keys:\n",
    "            unique_keys.append(key)"
   ]
  },
  {
   "cell_type": "code",
   "execution_count": 12,
   "id": "8c5fc849-861a-4861-80dc-5bb205caa071",
   "metadata": {
    "tags": []
   },
   "outputs": [],
   "source": [
    "# Only keep entities with an entry on the name field\n",
    "df_dict={}\n",
    "for df_dict_index,row in enumerate(data['properties']):\n",
    "    for key in unique_keys:\n",
    "        if key not in row:\n",
    "            row[key]=''    \n",
    "    if row['name']:\n",
    "        df_dict[df_dict_index]=row "
   ]
  },
  {
   "cell_type": "code",
   "execution_count": 13,
   "id": "f83abb21-aba3-4e5e-82d3-935ed8bb68e3",
   "metadata": {},
   "outputs": [
    {
     "data": {
      "text/plain": [
       "244612"
      ]
     },
     "execution_count": 13,
     "metadata": {},
     "output_type": "execute_result"
    }
   ],
   "source": [
    "len(df_dict)"
   ]
  },
  {
   "cell_type": "code",
   "execution_count": 14,
   "id": "7497257e-ea2b-4ebd-a7a5-128006a17394",
   "metadata": {},
   "outputs": [
    {
     "name": "stderr",
     "output_type": "stream",
     "text": [
      "/Users/luis_flores/.local/share/virtualenvs/ner-DhZLIlym/lib/python3.7/site-packages/ipykernel_launcher.py:1: FutureWarning: In a future version of pandas all arguments of DataFrame.drop except for the argument 'labels' will be keyword-only\n",
      "  \"\"\"Entry point for launching an IPython kernel.\n"
     ]
    }
   ],
   "source": [
    "data.drop(['properties','referents'],1,inplace=True)"
   ]
  },
  {
   "cell_type": "code",
   "execution_count": 15,
   "id": "d843eb24-e99e-41bb-9977-aba4509aaf3e",
   "metadata": {},
   "outputs": [],
   "source": [
    "# Standardise lower and upper cases in the kb names\n",
    "data['caption']=data['caption'].str.title()"
   ]
  },
  {
   "cell_type": "code",
   "execution_count": 16,
   "id": "43c8888a-44f2-418d-b775-77dabeac2119",
   "metadata": {},
   "outputs": [],
   "source": [
    "properties=pd.DataFrame.from_dict(df_dict,orient='index')"
   ]
  },
  {
   "cell_type": "code",
   "execution_count": 17,
   "id": "ce218802-0eba-4047-bec1-13822c34048b",
   "metadata": {},
   "outputs": [
    {
     "data": {
      "text/plain": [
       "(244612, 112)"
      ]
     },
     "execution_count": 17,
     "metadata": {},
     "output_type": "execute_result"
    }
   ],
   "source": [
    "properties.shape"
   ]
  },
  {
   "cell_type": "code",
   "execution_count": 18,
   "id": "2b9111aa-82b7-4c66-952d-0e093fc0bef2",
   "metadata": {},
   "outputs": [],
   "source": [
    "properties=properties.replace('',np.nan)"
   ]
  },
  {
   "cell_type": "code",
   "execution_count": 19,
   "id": "7ed9f734-4353-4fbe-9357-8c7dc9d7dbcb",
   "metadata": {},
   "outputs": [],
   "source": [
    "# Columns made up entirely of NaN\n",
    "cols_to_drop=properties.isna().all(0)"
   ]
  },
  {
   "cell_type": "code",
   "execution_count": 20,
   "id": "1f79c679-dce3-45f5-af5f-c9f57e0e7498",
   "metadata": {},
   "outputs": [],
   "source": [
    "cols_to_drop=list(cols_to_drop[cols_to_drop.values].index)"
   ]
  },
  {
   "cell_type": "code",
   "execution_count": 21,
   "id": "e1c4feb6-248b-4236-9504-dfe46273e07b",
   "metadata": {},
   "outputs": [
    {
     "name": "stderr",
     "output_type": "stream",
     "text": [
      "/Users/luis_flores/.local/share/virtualenvs/ner-DhZLIlym/lib/python3.7/site-packages/ipykernel_launcher.py:1: FutureWarning: In a future version of pandas all arguments of DataFrame.drop except for the argument 'labels' will be keyword-only\n",
      "  \"\"\"Entry point for launching an IPython kernel.\n"
     ]
    }
   ],
   "source": [
    "properties.drop(cols_to_drop,1,inplace=True)"
   ]
  },
  {
   "cell_type": "code",
   "execution_count": 22,
   "id": "686da152-c9ff-428b-99b3-bb7e35989c8e",
   "metadata": {},
   "outputs": [],
   "source": [
    "# Create copy of wikidataIDs\n",
    "wikidataIDs=properties['wikidataId'].copy()\n",
    "wikidataIDs[~wikidataIDs.isna()]=wikidataIDs[~wikidataIDs.isna()].apply(lambda x: ', '.join(x))"
   ]
  },
  {
   "cell_type": "code",
   "execution_count": 23,
   "id": "f12c88e3-f3d5-48dc-91ad-fe3a98fae1fa",
   "metadata": {},
   "outputs": [],
   "source": [
    "# Create copy of websites\n",
    "websites=properties['website'].copy()\n",
    "websites[~websites.isna()]=websites[~websites.isna()].apply(lambda x: ', '.join(x))"
   ]
  },
  {
   "cell_type": "code",
   "execution_count": 24,
   "id": "513ec1bd-1cf6-4c7b-a49f-fb508cabaa34",
   "metadata": {},
   "outputs": [],
   "source": [
    "# manually selected columns to drop\n",
    "more_cols_to_drop=[\n",
    "                'bikCode',\n",
    "                'dunsCode',\n",
    "                'callSign',\n",
    "                'tonnage',\n",
    "                'grossRegisteredTonnage', \n",
    "                'ogrnCode', \n",
    "                'innCode',\n",
    "                'leiCode',\n",
    "                'swiftBic',\n",
    "                'ogrnCode', \n",
    "                'classification', \n",
    "                'program', \n",
    "                'sourceUrl', \n",
    "                'addressEntity', \n",
    "                'imoNumber', \n",
    "                'mmsi',\n",
    "                'registrationNumber',\n",
    "                'modifiedAt',\n",
    "                'idNumber',\n",
    "                'passportNumber',\n",
    "                'phone',\n",
    "                'kppCode',\n",
    "                'vatCode',\n",
    "                'serialNumber',\n",
    "                'owner',\n",
    "                'opencorporatesUrl',\n",
    "                'taxNumber',\n",
    "                'flag',\n",
    "                'status',\n",
    "                'jurisdiction',\n",
    "                'wikidataId',\n",
    "                'email',\n",
    "                'website',\n",
    "                'education',\n",
    "                'type',\n",
    "                'firstName',\n",
    "                'secondName',\n",
    "                'createdAt',\n",
    "                'middleName',\n",
    "                'lastName',\n",
    "                'title',\n",
    "                'religion',\n",
    "                'buildDate',\n",
    "                'model',\n",
    "                'incorporationDate',\n",
    "                'previousName',\n",
    "                'fatherName',\n",
    "                'motherName',\n",
    "                'address',\n",
    "                'legalForm',\n",
    "                ]"
   ]
  },
  {
   "cell_type": "code",
   "execution_count": 25,
   "id": "0a2a29a4-b219-4835-bf49-a46522a73399",
   "metadata": {},
   "outputs": [
    {
     "name": "stderr",
     "output_type": "stream",
     "text": [
      "/Users/luis_flores/.local/share/virtualenvs/ner-DhZLIlym/lib/python3.7/site-packages/ipykernel_launcher.py:1: FutureWarning: In a future version of pandas all arguments of DataFrame.drop except for the argument 'labels' will be keyword-only\n",
      "  \"\"\"Entry point for launching an IPython kernel.\n"
     ]
    }
   ],
   "source": [
    "properties.drop(more_cols_to_drop,1,inplace=True)"
   ]
  },
  {
   "cell_type": "code",
   "execution_count": 26,
   "id": "00767cf7-e130-4c0a-9dbe-f0578a91edf2",
   "metadata": {},
   "outputs": [],
   "source": [
    "# Convert topics into sentences\n",
    "topics_translation_dict={\n",
    "    'crime':'Crime',\n",
    "    'crime.fraud':'Fraud',\n",
    "    'crime.cyber':'Cybercrime',\n",
    "    'crime.fin':'Financial crime',\n",
    "    'crime.theft':'Theft',\n",
    "    'crime.war':'War crimes',\n",
    "    'crime.boss':'Criminal leadership',\n",
    "    'crime.terror':'Terrorism',\n",
    "    'crime.traffick':'Trafficking',\n",
    "    'crime.traffick.drug':'Drug trafficking',\n",
    "    'crime.traffick.human':'Human trafficking',\n",
    "    'corp.offshore':'Offshore',\n",
    "    'corp.shell':'Shell company',\n",
    "    'gov':'Government',\n",
    "    'gov.national':'National government',\n",
    "    'gov.state':'State government',\n",
    "    'gov.muni':'Municipal government',\n",
    "    'gov.soe':'State-owned enterprise',\n",
    "    'gov.igo':'Intergovernmental organization',\n",
    "    'fin':'Financial services',\n",
    "    'fin.bank':'Bank',\n",
    "    'fin.fund':'Fund',\n",
    "    'fin.adivsor':'Financial advisor',\n",
    "    'role.pep':'Politician',\n",
    "    'role.rca':'Close Associate',\n",
    "    'role.judge':'Judge',\n",
    "    'role.civil':'Civil servant',\n",
    "    'role.diplo':'Diplomat',\n",
    "    'role.lawyer':'Lawyer',\n",
    "    'role.acct':'Accountant',\n",
    "    'role.spy':'Spy',\n",
    "    'role.oligarch':'Oligarch',\n",
    "    'role.journo':'Journalist',\n",
    "    'role.act':'Activist',\n",
    "    'pol.party':'Political party',\n",
    "    'pol.union':'Union',\n",
    "    'rel':'Religion',\n",
    "    'mil':'Military',\n",
    "    'asset.frozen':'Frozen asset',\n",
    "    'sanction':'Sanctioned entity',\n",
    "    'debarment':'Debarred entity',\n",
    "    'poi':'Person of interest'}\n",
    "\n",
    "for key,value in topics_translation_dict.items():\n",
    "    value=f'Associated with {value}.'\n",
    "    topics_translation_dict[key]=value\n",
    "\n",
    "properties['topics']=properties['topics'].fillna('').apply(lambda x: [topics_translation_dict[key] for key in x])\n",
    "properties['topics']=properties['topics'].apply(lambda x: ' '.join(x))"
   ]
  },
  {
   "cell_type": "code",
   "execution_count": 27,
   "id": "edb45a2e-c729-4e96-bd40-9cbd65f8e43f",
   "metadata": {},
   "outputs": [],
   "source": [
    "def transform_into_sentence(df,col,sentence,separator=', '): \n",
    "    df.loc[~df[col].isna(),col]=df.loc[~df[col].isna(),col].apply(lambda x: f'{separator}'.join(x))\n",
    "    df.loc[~df[col].isna(),col]=df.loc[~df[col].isna(),col].apply(lambda x: f'{sentence}{x}.')"
   ]
  },
  {
   "cell_type": "code",
   "execution_count": 28,
   "id": "79c8270d-f7ef-4ad8-bcec-813fc87c67ba",
   "metadata": {},
   "outputs": [],
   "source": [
    "def show_not_na(df,col,n_rows=20):\n",
    "    return df[~df[col].isna()].head(n_rows)"
   ]
  },
  {
   "cell_type": "code",
   "execution_count": 29,
   "id": "c8c21ef9-7cab-4ef1-9a06-df6e6bc75d24",
   "metadata": {},
   "outputs": [
    {
     "data": {
      "text/plain": [
       "Index(['id', 'schema', 'caption'], dtype='object')"
      ]
     },
     "execution_count": 29,
     "metadata": {},
     "output_type": "execute_result"
    }
   ],
   "source": [
    "data.columns"
   ]
  },
  {
   "cell_type": "code",
   "execution_count": 30,
   "id": "5a0ef48b-cbd5-48c6-ae5b-e41d2f5e97c4",
   "metadata": {},
   "outputs": [],
   "source": [
    "# Remove dates and ordinals from each string in the list\n",
    "date_expr = re.compile('\\d{4}-\\d{4}')\n",
    "digit_expr = re.compile('\\s\\d{2}[a-zA-Z]{2}\\s')\n",
    "for expr in [date_expr, digit_expr]:\n",
    "    # Delete expression from string\n",
    "    properties.loc[~properties['position'].isna(),'position']=properties.loc[~properties['position'].isna(),'position'].apply(lambda x: [re.sub(expr, ' ', i)  for i in x])\n",
    "    # Remove parentheses and comma\n",
    "    properties.loc[~properties['position'].isna(),'position']=properties.loc[~properties['position'].isna(),'position'].apply(lambda x: [i.replace('(','').replace(')','').replace(',','') for i in x])\n",
    "    # Remove position redundancy\n",
    "    properties.loc[~properties['position'].isna(),'position']=properties.loc[~properties['position'].isna(),'position'].apply(lambda x: set(x))"
   ]
  },
  {
   "cell_type": "code",
   "execution_count": 31,
   "id": "54f694c8-0dac-447a-b0ba-4552b67143a4",
   "metadata": {},
   "outputs": [],
   "source": [
    "# export dates\n",
    "properties['birthdate']=properties['birthDate']\n",
    "properties['deathdate']=properties['deathDate']"
   ]
  },
  {
   "cell_type": "code",
   "execution_count": 32,
   "id": "39203cde-24c3-42d2-8ea1-d5439b23971d",
   "metadata": {},
   "outputs": [],
   "source": [
    "cols_to_sentence={\n",
    "    'gender':'This person is a ',\n",
    "    'position':'This person has held these positions: ',\n",
    "    'birthDate':'This person was born in ',\n",
    "    'birthPlace': 'This person was born in ',\n",
    "    'deathDate':'This person died in ',\n",
    "    'keywords':'This person has worked in: ',\n",
    "    'sector':'This person worked for: ',\n",
    "    'publisher':'This person was present in ',\n",
    "    'pastFlags':'In the past this person was at ',\n",
    "    'ethnicity':'This person\\'s ethnicity is '\n",
    "}\n",
    "for col,sentence in cols_to_sentence.items():\n",
    "    transform_into_sentence(properties,col,sentence)"
   ]
  },
  {
   "cell_type": "code",
   "execution_count": 33,
   "id": "abfe2940-7df2-48b9-bf80-582c17780ba7",
   "metadata": {},
   "outputs": [
    {
     "name": "stderr",
     "output_type": "stream",
     "text": [
      "/Users/luis_flores/.local/share/virtualenvs/ner-DhZLIlym/lib/python3.7/site-packages/ipykernel_launcher.py:14: FutureWarning: The default value of regex will change from True to False in a future version.\n",
      "  \n"
     ]
    }
   ],
   "source": [
    "# Fix most common position abbreviations \n",
    "positions_in_full={'Min\\.':'Minister',\n",
    "                   'Dep\\.':'Deputy',\n",
    "                   'Pres\\.':'President', \n",
    "                   'Chmn\\.':'Chairman',\n",
    "                   'Dir\\.':'Director',\n",
    "                   'Cdr\\.':'Commander', \n",
    "                   'Sec\\.':'Secretary', \n",
    "                   'Gen\\.':'General',\n",
    "                   'Col\\.':'Colonel', \n",
    "                   'Brig\\.':'Brigadier',\n",
    "                   'Lt\\.':'Lieutenant'}\n",
    "for abbv, full in positions_in_full.items():\n",
    "    properties['position']=properties['position'].str.replace(abbv, full)"
   ]
  },
  {
   "cell_type": "code",
   "execution_count": 34,
   "id": "5e3e20fb-631b-44e8-8641-0d5e59e3ab98",
   "metadata": {},
   "outputs": [],
   "source": [
    "# Convert country ISO alpha 2 codes into names"
   ]
  },
  {
   "cell_type": "code",
   "execution_count": 35,
   "id": "d6b16bce-9a85-40d6-a73c-eb79aec2b508",
   "metadata": {},
   "outputs": [],
   "source": [
    "for regionality in ['country','nationality']:\n",
    "    properties.loc[~properties[regionality].isna(),regionality]=\\\n",
    "        properties.loc[~properties[regionality].isna(),regionality].apply(lambda x: [country for country in x if len(country)==2])\n",
    "\n",
    "    exceptions=set()\n",
    "    countries=set()\n",
    "    for row in properties.loc[~properties[regionality].isna(),regionality]:\n",
    "        for country in row:\n",
    "            try:\n",
    "                countries.add(pycountry.countries.get(alpha_2=country).name)\n",
    "            except:\n",
    "                exceptions.add(country)\n",
    "\n",
    "    properties.loc[~properties[regionality].isna(),regionality]=\\\n",
    "        properties.loc[~properties[regionality].isna(),regionality].apply(lambda x: \n",
    "                                ','.join([pycountry.countries.get(alpha_2=country).name\n",
    "                                 for country in x if country not in exceptions])\n",
    "                               )"
   ]
  },
  {
   "cell_type": "code",
   "execution_count": 36,
   "id": "5bcbbe61-8f45-4ec6-a62b-48f3e7e59e9e",
   "metadata": {},
   "outputs": [],
   "source": [
    "# Transform country and nationality into sentences\n",
    "properties.loc[~properties['country'].isna(),'country']=properties.loc[~properties['country'].isna(),'country'].apply(lambda x: f'This person belongs to these countries: {x}.')\n",
    "properties.loc[~properties['nationality'].isna(),'nationality']=properties.loc[~properties['nationality'].isna(),'nationality'].apply(lambda x: f'This person has these nationalities: {x}.')"
   ]
  },
  {
   "cell_type": "raw",
   "id": "e81c0170-9833-4d4c-aaac-b35edfa83ace",
   "metadata": {},
   "source": [
    "# exclude debared company names - generally contain no contextual info \n",
    "properties=properties[~(properties['topics'].fillna(' ').apply(lambda x: x[0])=='debarment')]"
   ]
  },
  {
   "cell_type": "code",
   "execution_count": 37,
   "id": "77784bf8-47bf-488a-b6ea-a26ec5faa610",
   "metadata": {},
   "outputs": [],
   "source": [
    "properties['AKA'] = properties['name'] + properties['alias'] + properties['weakAlias']"
   ]
  },
  {
   "cell_type": "code",
   "execution_count": 38,
   "id": "f735b669-ac96-4a53-8cbb-fa94c656e2ef",
   "metadata": {},
   "outputs": [
    {
     "name": "stderr",
     "output_type": "stream",
     "text": [
      "/Users/luis_flores/.local/share/virtualenvs/ner-DhZLIlym/lib/python3.7/site-packages/ipykernel_launcher.py:1: FutureWarning: In a future version of pandas all arguments of DataFrame.drop except for the argument 'labels' will be keyword-only\n",
      "  \"\"\"Entry point for launching an IPython kernel.\n"
     ]
    }
   ],
   "source": [
    "properties.drop(['name','alias', 'weakAlias'],1,inplace=True)"
   ]
  },
  {
   "cell_type": "code",
   "execution_count": 39,
   "id": "1b67c7eb-b756-45fc-801e-37e1b4abdc5c",
   "metadata": {},
   "outputs": [],
   "source": [
    "context_cols=[\n",
    "    'position', \n",
    "    'gender',\n",
    "    'birthDate', \n",
    "    'country',\n",
    "    'topics', \n",
    "    'birthPlace', \n",
    "    'nationality', \n",
    "    'sector', \n",
    "    'keywords', \n",
    "    'deathDate',\n",
    "    'publisher',\n",
    "    'pastFlags',  \n",
    "    'ethnicity'\n",
    "]"
   ]
  },
  {
   "cell_type": "code",
   "execution_count": 40,
   "id": "0160804c-2430-4f55-be3a-19a50f95039c",
   "metadata": {},
   "outputs": [],
   "source": [
    "i = 0\n",
    "for col in context_cols:\n",
    "    if i==0:\n",
    "        properties['context']=properties[col].fillna('NAN')\n",
    "        i+=1\n",
    "    else:\n",
    "        properties['context']= properties['context'] + properties[col].fillna('NAN')\n",
    "properties['context']=properties['context'].str.replace('NAN','')\n",
    "properties['context']=properties['context'].str.split('.').apply(lambda x:'. '.join(x))"
   ]
  },
  {
   "cell_type": "code",
   "execution_count": 41,
   "id": "b9cc91db-93b4-43c2-b98f-ac5ac768509a",
   "metadata": {},
   "outputs": [],
   "source": [
    "properties=properties[['notes','AKA','context','birthdate','deathdate']]"
   ]
  },
  {
   "cell_type": "code",
   "execution_count": 42,
   "id": "cf05333c-c229-4a89-b7e3-d5afcbd02c4c",
   "metadata": {},
   "outputs": [],
   "source": [
    "properties['notes']=properties['notes'].fillna('').apply(lambda x:' '.join(x))"
   ]
  },
  {
   "cell_type": "code",
   "execution_count": 43,
   "id": "b7f8466d-a9c4-44e4-971f-c97bde23723e",
   "metadata": {},
   "outputs": [],
   "source": [
    "properties=properties.merge(wikidataIDs,left_index=True, right_index=True)\n",
    "properties=properties.merge(websites,left_index=True, right_index=True)"
   ]
  },
  {
   "cell_type": "code",
   "execution_count": 44,
   "id": "540e472d-be5f-4262-bacf-a2e63257c091",
   "metadata": {},
   "outputs": [],
   "source": [
    "data=data.merge(properties,left_index=True,right_index=True)"
   ]
  },
  {
   "cell_type": "code",
   "execution_count": 45,
   "id": "fee39858-5898-4159-9f03-79e3076f547c",
   "metadata": {},
   "outputs": [],
   "source": [
    "# Remove dates from list\n",
    "data.loc[~data['birthdate'].isna(),'birthdate']=data.loc[~data['birthdate'].isna(),'birthdate'].apply(lambda x: x[0])\n",
    "data.loc[~data['deathdate'].isna(),'deathdate']=data.loc[~data['deathdate'].isna(),'deathdate'].apply(lambda x: x[0])"
   ]
  },
  {
   "cell_type": "code",
   "execution_count": 46,
   "id": "1c32da4f-87e1-4e2b-b41f-c5a85607a3ce",
   "metadata": {},
   "outputs": [
    {
     "data": {
      "text/plain": [
       "Person          218690\n",
       "Company          16560\n",
       "LegalEntity       4893\n",
       "Organization      3659\n",
       "Vessel             524\n",
       "Airplane           286\n",
       "Name: schema, dtype: int64"
      ]
     },
     "execution_count": 46,
     "metadata": {},
     "output_type": "execute_result"
    }
   ],
   "source": [
    "data['schema'].value_counts()"
   ]
  },
  {
   "cell_type": "code",
   "execution_count": 47,
   "id": "98f67714-5c1c-415f-b3af-56c3d556fdd6",
   "metadata": {},
   "outputs": [],
   "source": [
    "data=data[data['schema']=='Person']"
   ]
  },
  {
   "cell_type": "code",
   "execution_count": 48,
   "id": "579bdfbd-eecb-4555-a513-122c194b310e",
   "metadata": {},
   "outputs": [],
   "source": [
    "data=data.rename(columns={'caption':'name'})"
   ]
  },
  {
   "cell_type": "code",
   "execution_count": 49,
   "id": "920a8820-61ee-425b-897d-5d1b5b1bfa18",
   "metadata": {},
   "outputs": [
    {
     "data": {
      "text/plain": [
       "(218690, 10)"
      ]
     },
     "execution_count": 49,
     "metadata": {},
     "output_type": "execute_result"
    }
   ],
   "source": [
    "data.shape"
   ]
  },
  {
   "cell_type": "code",
   "execution_count": 50,
   "id": "065866e8-d1d3-40f9-9430-1eff7640a245",
   "metadata": {},
   "outputs": [],
   "source": [
    "## Ramzan Akhmadovitch Kadyrov test case ##"
   ]
  },
  {
   "cell_type": "code",
   "execution_count": 51,
   "id": "504ae4d8-e156-4f72-8a18-516de759d1d1",
   "metadata": {
    "tags": []
   },
   "outputs": [],
   "source": [
    "# Include name in context info\n",
    "min_context_thres=10\n",
    "min_context_notes_indices=data[data['notes'].str.replace(' ','').apply(len)<min_context_thres].index.values\n",
    "data.loc[min_context_notes_indices,'notes']=''\n",
    "empty_notes_indices=data[data['notes'].str.replace(' ','').str.len()==0].index.values\n",
    "name_in_notes_indices=data[data.apply(lambda x: x['name'].lower() in x['notes'].lower(),axis=1)].index.values\n",
    "filled_notes_indices=data[data['notes'].str.replace(' ','').str.len()>=min_context_thres].index.values\n",
    "filled_notes_indices=set(filled_notes_indices).difference(set(name_in_notes_indices))\n",
    "# Include name in description when context is null\n",
    "data.loc[empty_notes_indices, 'notes'] = data.loc[empty_notes_indices,'name'].apply(lambda x: f'This person is called {x}.')\n",
    "# Include name in description when context is not null\n",
    "data.loc[filled_notes_indices,'notes']=data.loc[filled_notes_indices, 'name'].apply(lambda x: f'{x} is a ') + data.loc[filled_notes_indices,'notes'] + '.'"
   ]
  },
  {
   "cell_type": "code",
   "execution_count": 52,
   "id": "d262a692-66e5-47ac-87f7-093f633db106",
   "metadata": {},
   "outputs": [],
   "source": [
    "crime_vocab=['murder', \n",
    "            'fraud', \n",
    "            'corruption',\n",
    "            'conspiracy',\n",
    "            'crime', \n",
    "            'dealing', \n",
    "            'drug', \n",
    "            'trafficking', \n",
    "            'criminal', \n",
    "            'cheating', \n",
    "            'forgery', \n",
    "            'robbery', \n",
    "            'violen', #violent, violence\n",
    "            'sexual', \n",
    "            'rape', \n",
    "            'assault', \n",
    "            'illegal', \n",
    "            'transport',\n",
    "            'travel']\n",
    "default_expr = 'is a '\n",
    "crime_expr = 'was involved in '\n",
    "\n",
    "for crime in crime_vocab:\n",
    "    crime_indices = data.loc[data['notes'].str.lower().str.contains(default_expr + crime)].index.values\n",
    "    data.loc[crime_indices,'notes'] = data.loc[crime_indices,'notes'].str.lower().str.replace(default_expr, crime_expr)"
   ]
  },
  {
   "cell_type": "code",
   "execution_count": 53,
   "id": "4175ef36-d836-45fc-9db1-141a8c65e929",
   "metadata": {},
   "outputs": [],
   "source": [
    "data['full_notes']= data['notes'].fillna('') + ' ' + data['context'].fillna('')"
   ]
  },
  {
   "cell_type": "raw",
   "id": "4e0ee46b-e7dd-48fd-ab74-4e60966acd1b",
   "metadata": {},
   "source": [
    "data['full_notes']= data['full_notes'] + ' ' + data['AKA'].fillna('').apply(lambda r:' '.join(r))"
   ]
  },
  {
   "cell_type": "code",
   "execution_count": 54,
   "id": "f0eed338-3e6e-4cab-8306-5b103ce4928b",
   "metadata": {},
   "outputs": [],
   "source": [
    "data.to_csv('../../kb_datasets/open_sanctions_entities.csv')"
   ]
  },
  {
   "cell_type": "raw",
   "id": "569d6286-95ce-4303-b805-4dfac6411e02",
   "metadata": {},
   "source": [
    "data=pd.read_csv('../../kb_datasets/open_sanctions_entities.csv', index_col=0)"
   ]
  },
  {
   "cell_type": "code",
   "execution_count": null,
   "id": "47b6ae36-cf46-4aaf-afef-29c19b509120",
   "metadata": {},
   "outputs": [],
   "source": []
  }
 ],
 "metadata": {
  "kernelspec": {
   "display_name": "Python 3 (ipykernel)",
   "language": "python",
   "name": "python3"
  },
  "language_info": {
   "codemirror_mode": {
    "name": "ipython",
    "version": 3
   },
   "file_extension": ".py",
   "mimetype": "text/x-python",
   "name": "python",
   "nbconvert_exporter": "python",
   "pygments_lexer": "ipython3",
   "version": "3.7.13"
  }
 },
 "nbformat": 4,
 "nbformat_minor": 5
}
