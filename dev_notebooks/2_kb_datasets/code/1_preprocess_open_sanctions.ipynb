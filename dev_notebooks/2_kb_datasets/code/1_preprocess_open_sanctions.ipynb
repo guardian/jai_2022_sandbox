{
 "cells": [
  {
   "cell_type": "markdown",
   "id": "6895a6ba-75fd-4b03-89fa-1a342c19aced",
   "metadata": {},
   "source": [
    "# Import and preprocess Open Sanctions dataset"
   ]
  },
  {
   "cell_type": "code",
   "execution_count": 1,
   "id": "f2d713f5-ca3f-4cf9-a1f7-6ebbc163cbb0",
   "metadata": {},
   "outputs": [],
   "source": [
    "import requests\n",
    "import json\n",
    "import pandas as pd\n",
    "import numpy as np\n",
    "import glob\n",
    "import pycountry\n",
    "import re\n",
    "import shutil"
   ]
  },
  {
   "cell_type": "code",
   "execution_count": 2,
   "id": "03785cbe-8341-4aa4-961e-0ed93917ede4",
   "metadata": {},
   "outputs": [],
   "source": [
    "pd.set_option('display.max_rows', 500)\n",
    "pd.set_option('display.max_columns', 500)\n",
    "pd.set_option('display.width', 1000)"
   ]
  },
  {
   "cell_type": "code",
   "execution_count": 3,
   "id": "76701301-939f-44e8-9249-63afb4a2e662",
   "metadata": {},
   "outputs": [],
   "source": [
    "def transform_into_sentence(df,col,sentence,separator=', '): \n",
    "    \"\"\"\n",
    "    Transform keywords in certain fields into sentences.\n",
    "    This was done to try to improve the quality of sentence encodings. \n",
    "    \"\"\"\n",
    "    df.loc[~df[col].isna(),col]=df.loc[~df[col].isna(),col].apply(lambda x: f'{separator}'.join(x))\n",
    "    df.loc[~df[col].isna(),col]=df.loc[~df[col].isna(),col].apply(lambda x: f'{sentence}{x}.')\n",
    "\n",
    "def show_not_na(df,col,n_rows=20):\n",
    "    \"\"\"\n",
    "    Helper function to dispay values excluding NaNs\n",
    "    \"\"\"\n",
    "    return df[~df[col].isna()].head(n_rows)"
   ]
  },
  {
   "cell_type": "markdown",
   "id": "d5474ddf-d4c2-40fa-8f5f-ee80290a0eda",
   "metadata": {
    "tags": []
   },
   "source": [
    "## Download open sanctions data as .json"
   ]
  },
  {
   "cell_type": "raw",
   "id": "01d8cbf8-e395-4a32-bfa0-ba9af3ef8061",
   "metadata": {},
   "source": [
    "NB: the original dataset can be retrieved from an S3 bucket. Please refer to /1_sample_gu_paragraphs/code/2_spacy_trf_model_all_files.ipynb "
   ]
  },
  {
   "cell_type": "code",
   "execution_count": null,
   "id": "4d632ee1-6b13-4b83-a6e2-e902fb72dc36",
   "metadata": {},
   "outputs": [],
   "source": [
    "# Download dataset from website (will have been updated since 2022)\n",
    "url = \"https://data.opensanctions.org/datasets/latest/default/entities.ftm.json\"\n",
    "r = requests.get(url, allow_redirects=True)\n",
    "open('open_sanctions.json', 'wb').write(r.content)\n",
    "# Move downloaded file into assets folder\n",
    "shutil.move('open_sanctions.json','../assets/open_sanctions.json') "
   ]
  },
  {
   "cell_type": "markdown",
   "id": "5b0c756b-63eb-4fbb-b30d-bfd53ba70d1e",
   "metadata": {},
   "source": [
    "## Import open sanctions data .json"
   ]
  },
  {
   "cell_type": "code",
   "execution_count": 5,
   "id": "8e93880f-f43e-4637-9b4f-f4663c6bf097",
   "metadata": {},
   "outputs": [],
   "source": [
    "with open('../assets/open_sanctions.json') as f:\n",
    "    sanctions_data = f.readlines()"
   ]
  },
  {
   "cell_type": "code",
   "execution_count": 6,
   "id": "19f9911a-87dc-4130-856d-d4c6b4b7c71e",
   "metadata": {},
   "outputs": [
    {
     "data": {
      "text/plain": [
       "{'id': 'acf-00040861bc3f593000830d987d09967ef3503ef1',\n",
       " 'target': True,\n",
       " 'first_seen': '2022-05-05T15:26:25',\n",
       " 'last_seen': '2022-10-05T06:32:14',\n",
       " 'schema': 'Person',\n",
       " 'properties': {'notes': ['Russian propagandist: host of news program \"Segodnia\" (\"Today\") on NTV'],\n",
       "  'position': ['Propagandists', 'Federal media employees'],\n",
       "  'gender': ['male'],\n",
       "  'name': ['Kolyvanov Egor'],\n",
       "  'alias': ['Колыванов Егор'],\n",
       "  'birthDate': ['1980-11-15']},\n",
       " 'referents': [],\n",
       " 'datasets': ['ru_acf_bribetakers'],\n",
       " 'caption': 'Kolyvanov Egor'}"
      ]
     },
     "execution_count": 6,
     "metadata": {},
     "output_type": "execute_result"
    }
   ],
   "source": [
    "json.loads(sanctions_data[0])"
   ]
  },
  {
   "cell_type": "code",
   "execution_count": 7,
   "id": "bf0fb96a-185e-4b44-91b1-e3bd41591fbb",
   "metadata": {},
   "outputs": [],
   "source": [
    "# load all entities into variable\n",
    "data=[]\n",
    "for ent_index in range(len(sanctions_data)):\n",
    "    data.append(json.loads(sanctions_data[ent_index]))\n",
    "data=pd.DataFrame(data)"
   ]
  },
  {
   "cell_type": "code",
   "execution_count": 8,
   "id": "316f4108-1ac3-4750-ae49-5a7e8d84fe92",
   "metadata": {},
   "outputs": [
    {
     "data": {
      "text/plain": [
       "(431828, 9)"
      ]
     },
     "execution_count": 8,
     "metadata": {},
     "output_type": "execute_result"
    }
   ],
   "source": [
    "data.shape"
   ]
  },
  {
   "cell_type": "code",
   "execution_count": 9,
   "id": "b47d8ef0-61d0-4cec-9208-ae42468434c0",
   "metadata": {},
   "outputs": [
    {
     "data": {
      "text/html": [
       "<div>\n",
       "<style scoped>\n",
       "    .dataframe tbody tr th:only-of-type {\n",
       "        vertical-align: middle;\n",
       "    }\n",
       "\n",
       "    .dataframe tbody tr th {\n",
       "        vertical-align: top;\n",
       "    }\n",
       "\n",
       "    .dataframe thead th {\n",
       "        text-align: right;\n",
       "    }\n",
       "</style>\n",
       "<table border=\"1\" class=\"dataframe\">\n",
       "  <thead>\n",
       "    <tr style=\"text-align: right;\">\n",
       "      <th></th>\n",
       "      <th>id</th>\n",
       "      <th>target</th>\n",
       "      <th>first_seen</th>\n",
       "      <th>last_seen</th>\n",
       "      <th>schema</th>\n",
       "      <th>properties</th>\n",
       "      <th>referents</th>\n",
       "      <th>datasets</th>\n",
       "      <th>caption</th>\n",
       "    </tr>\n",
       "  </thead>\n",
       "  <tbody>\n",
       "    <tr>\n",
       "      <th>0</th>\n",
       "      <td>acf-00040861bc3f593000830d987d09967ef3503ef1</td>\n",
       "      <td>True</td>\n",
       "      <td>2022-05-05T15:26:25</td>\n",
       "      <td>2022-10-05T06:32:14</td>\n",
       "      <td>Person</td>\n",
       "      <td>{'notes': ['Russian propagandist: host of news...</td>\n",
       "      <td>[]</td>\n",
       "      <td>[ru_acf_bribetakers]</td>\n",
       "      <td>Kolyvanov Egor</td>\n",
       "    </tr>\n",
       "    <tr>\n",
       "      <th>1</th>\n",
       "      <td>acf-0011c68a768924609dc5da5707ac7fa4c4d645a2</td>\n",
       "      <td>True</td>\n",
       "      <td>2022-07-09T18:14:08</td>\n",
       "      <td>2022-10-05T06:32:14</td>\n",
       "      <td>Person</td>\n",
       "      <td>{'name': ['Shipov Sergei Yurievich'], 'notes':...</td>\n",
       "      <td>[]</td>\n",
       "      <td>[ru_acf_bribetakers]</td>\n",
       "      <td>Shipov Sergei Yurievich</td>\n",
       "    </tr>\n",
       "  </tbody>\n",
       "</table>\n",
       "</div>"
      ],
      "text/plain": [
       "                                             id  target           first_seen            last_seen  schema                                         properties referents              datasets                  caption\n",
       "0  acf-00040861bc3f593000830d987d09967ef3503ef1    True  2022-05-05T15:26:25  2022-10-05T06:32:14  Person  {'notes': ['Russian propagandist: host of news...        []  [ru_acf_bribetakers]           Kolyvanov Egor\n",
       "1  acf-0011c68a768924609dc5da5707ac7fa4c4d645a2    True  2022-07-09T18:14:08  2022-10-05T06:32:14  Person  {'name': ['Shipov Sergei Yurievich'], 'notes':...        []  [ru_acf_bribetakers]  Shipov Sergei Yurievich"
      ]
     },
     "execution_count": 9,
     "metadata": {},
     "output_type": "execute_result"
    }
   ],
   "source": [
    "data.head(2)"
   ]
  },
  {
   "cell_type": "code",
   "execution_count": 10,
   "id": "281f00e8-a7f4-4f70-981e-4454c3b9e1d6",
   "metadata": {},
   "outputs": [
    {
     "name": "stderr",
     "output_type": "stream",
     "text": [
      "/Users/luis_flores/.local/share/virtualenvs/nel-mBUv7xk_/lib/python3.7/site-packages/ipykernel_launcher.py:2: FutureWarning: In a future version of pandas all arguments of DataFrame.drop except for the argument 'labels' will be keyword-only\n",
      "  \n"
     ]
    }
   ],
   "source": [
    "# Drop unwanted columns\n",
    "data.drop(['target','first_seen','last_seen','datasets', 'referents'],1,inplace=True)"
   ]
  },
  {
   "cell_type": "markdown",
   "id": "06562e19-238d-4314-b4cb-92e9eb7bc95a",
   "metadata": {
    "tags": []
   },
   "source": [
    "## Extract properties field into separate dataframe "
   ]
  },
  {
   "cell_type": "code",
   "execution_count": 11,
   "id": "8a1c91a1-0551-4b79-afd4-734b1e84b076",
   "metadata": {},
   "outputs": [],
   "source": [
    "# Create dictionary storing subfields within properties \n",
    "unique_keys=[]\n",
    "for row in data['properties']:\n",
    "    for key in row.keys():\n",
    "        if key not in unique_keys:\n",
    "            unique_keys.append(key)\n",
    "\n",
    "# Only keep entities with an entry on the name field\n",
    "df_dict={}\n",
    "for df_dict_index,row in enumerate(data['properties']):\n",
    "    for key in unique_keys:\n",
    "        if key not in row:\n",
    "            row[key]=''    \n",
    "    if row['name']:\n",
    "        df_dict[df_dict_index]=row \n",
    "\n",
    "# Cast dictionary as dataframe\n",
    "properties=pd.DataFrame.from_dict(df_dict,orient='index')\n",
    "properties=properties.replace('',np.nan)"
   ]
  },
  {
   "cell_type": "code",
   "execution_count": 12,
   "id": "f83abb21-aba3-4e5e-82d3-935ed8bb68e3",
   "metadata": {},
   "outputs": [
    {
     "data": {
      "text/plain": [
       "(244612, 112)"
      ]
     },
     "execution_count": 12,
     "metadata": {},
     "output_type": "execute_result"
    }
   ],
   "source": [
    "properties.shape"
   ]
  },
  {
   "cell_type": "markdown",
   "id": "937e134b-adf7-4c87-919d-ec7e5cbdbcf4",
   "metadata": {},
   "source": [
    "## Wrangle data"
   ]
  },
  {
   "cell_type": "code",
   "execution_count": 13,
   "id": "4169aec6-026d-4d7c-b735-29069b86497d",
   "metadata": {},
   "outputs": [
    {
     "name": "stderr",
     "output_type": "stream",
     "text": [
      "/Users/luis_flores/.local/share/virtualenvs/nel-mBUv7xk_/lib/python3.7/site-packages/ipykernel_launcher.py:2: FutureWarning: In a future version of pandas all arguments of DataFrame.drop except for the argument 'labels' will be keyword-only\n",
      "  \n"
     ]
    }
   ],
   "source": [
    "# Remove properties (stored as separate df) from data  \n",
    "data.drop(['properties'],1,inplace=True)\n",
    "# Standardise KB aliases (first letter to upper case)\n",
    "data['caption']=data['caption'].str.title()"
   ]
  },
  {
   "cell_type": "code",
   "execution_count": 14,
   "id": "747c7487-2ba9-497c-bebf-1acad6ad71f4",
   "metadata": {},
   "outputs": [
    {
     "name": "stderr",
     "output_type": "stream",
     "text": [
      "/Users/luis_flores/.local/share/virtualenvs/nel-mBUv7xk_/lib/python3.7/site-packages/ipykernel_launcher.py:4: FutureWarning: In a future version of pandas all arguments of DataFrame.drop except for the argument 'labels' will be keyword-only\n",
      "  after removing the cwd from sys.path.\n"
     ]
    }
   ],
   "source": [
    "# Drop columns made up entirely of NaN from properties df\n",
    "cols_to_drop=properties.isna().all(0)\n",
    "cols_to_drop=list(cols_to_drop[cols_to_drop.values].index)\n",
    "properties.drop(cols_to_drop,1,inplace=True)"
   ]
  },
  {
   "cell_type": "code",
   "execution_count": 15,
   "id": "686da152-c9ff-428b-99b3-bb7e35989c8e",
   "metadata": {},
   "outputs": [],
   "source": [
    "# Create copy of wikidataID field\n",
    "wikidataIDs=properties['wikidataId'].copy()\n",
    "wikidataIDs[~wikidataIDs.isna()]=wikidataIDs[~wikidataIDs.isna()].apply(lambda x: ', '.join(x))"
   ]
  },
  {
   "cell_type": "code",
   "execution_count": 16,
   "id": "f12c88e3-f3d5-48dc-91ad-fe3a98fae1fa",
   "metadata": {},
   "outputs": [],
   "source": [
    "# Create copy of website field\n",
    "websites=properties['website'].copy()\n",
    "websites[~websites.isna()]=websites[~websites.isna()].apply(lambda x: ', '.join(x))"
   ]
  },
  {
   "cell_type": "code",
   "execution_count": 17,
   "id": "32230777-246e-4520-af26-9fd2df5b301a",
   "metadata": {},
   "outputs": [
    {
     "name": "stderr",
     "output_type": "stream",
     "text": [
      "/Users/luis_flores/.local/share/virtualenvs/nel-mBUv7xk_/lib/python3.7/site-packages/ipykernel_launcher.py:55: FutureWarning: In a future version of pandas all arguments of DataFrame.drop except for the argument 'labels' will be keyword-only\n"
     ]
    }
   ],
   "source": [
    "# manually selected columns to drop (including wikidataID and website)\n",
    "more_cols_to_drop=[\n",
    "                'bikCode',\n",
    "                'dunsCode',\n",
    "                'callSign',\n",
    "                'tonnage',\n",
    "                'grossRegisteredTonnage', \n",
    "                'ogrnCode', \n",
    "                'innCode',\n",
    "                'leiCode',\n",
    "                'swiftBic',\n",
    "                'ogrnCode', \n",
    "                'classification', \n",
    "                'program', \n",
    "                'sourceUrl', \n",
    "                'addressEntity', \n",
    "                'imoNumber', \n",
    "                'mmsi',\n",
    "                'registrationNumber',\n",
    "                'modifiedAt',\n",
    "                'idNumber',\n",
    "                'passportNumber',\n",
    "                'phone',\n",
    "                'kppCode',\n",
    "                'vatCode',\n",
    "                'serialNumber',\n",
    "                'owner',\n",
    "                'opencorporatesUrl',\n",
    "                'taxNumber',\n",
    "                'flag',\n",
    "                'status',\n",
    "                'jurisdiction',\n",
    "                'wikidataId',\n",
    "                'email',\n",
    "                'website',\n",
    "                'education',\n",
    "                'type',\n",
    "                'firstName',\n",
    "                'secondName',\n",
    "                'createdAt',\n",
    "                'middleName',\n",
    "                'lastName',\n",
    "                'title',\n",
    "                'religion',\n",
    "                'buildDate',\n",
    "                'model',\n",
    "                'incorporationDate',\n",
    "                'previousName',\n",
    "                'fatherName',\n",
    "                'motherName',\n",
    "                'address',\n",
    "                'legalForm',\n",
    "                ]\n",
    "\n",
    "properties.drop(more_cols_to_drop,1,inplace=True)"
   ]
  },
  {
   "cell_type": "code",
   "execution_count": 18,
   "id": "1615eda5-a07b-46f7-af5a-1276f17beb70",
   "metadata": {},
   "outputs": [],
   "source": [
    "# Edit crime related topic keyswords and transform them into sentences\n",
    "topics_translation_dict={\n",
    "    'crime':'Crime',\n",
    "    'crime.fraud':'Fraud',\n",
    "    'crime.cyber':'Cybercrime',\n",
    "    'crime.fin':'Financial crime',\n",
    "    'crime.theft':'Theft',\n",
    "    'crime.war':'War crimes',\n",
    "    'crime.boss':'Criminal leadership',\n",
    "    'crime.terror':'Terrorism',\n",
    "    'crime.traffick':'Trafficking',\n",
    "    'crime.traffick.drug':'Drug trafficking',\n",
    "    'crime.traffick.human':'Human trafficking',\n",
    "    'corp.offshore':'Offshore',\n",
    "    'corp.shell':'Shell company',\n",
    "    'gov':'Government',\n",
    "    'gov.national':'National government',\n",
    "    'gov.state':'State government',\n",
    "    'gov.muni':'Municipal government',\n",
    "    'gov.soe':'State-owned enterprise',\n",
    "    'gov.igo':'Intergovernmental organization',\n",
    "    'fin':'Financial services',\n",
    "    'fin.bank':'Bank',\n",
    "    'fin.fund':'Fund',\n",
    "    'fin.adivsor':'Financial advisor',\n",
    "    'role.pep':'Politician',\n",
    "    'role.rca':'Close Associate',\n",
    "    'role.judge':'Judge',\n",
    "    'role.civil':'Civil servant',\n",
    "    'role.diplo':'Diplomat',\n",
    "    'role.lawyer':'Lawyer',\n",
    "    'role.acct':'Accountant',\n",
    "    'role.spy':'Spy',\n",
    "    'role.oligarch':'Oligarch',\n",
    "    'role.journo':'Journalist',\n",
    "    'role.act':'Activist',\n",
    "    'pol.party':'Political party',\n",
    "    'pol.union':'Union',\n",
    "    'rel':'Religion',\n",
    "    'mil':'Military',\n",
    "    'asset.frozen':'Frozen asset',\n",
    "    'sanction':'Sanctioned entity',\n",
    "    'debarment':'Debarred entity',\n",
    "    'poi':'Person of interest'}\n",
    "\n",
    "for key,value in topics_translation_dict.items():\n",
    "    value=f'Associated with {value}.'\n",
    "    topics_translation_dict[key]=value\n",
    "\n",
    "properties['topics']=properties['topics'].fillna('').apply(lambda x: [topics_translation_dict[key] for key in x])\n",
    "properties['topics']=properties['topics'].apply(lambda x: ' '.join(x))"
   ]
  },
  {
   "cell_type": "code",
   "execution_count": 19,
   "id": "6cee6129-9ee8-4d27-9da7-2a7cd32b4506",
   "metadata": {},
   "outputs": [
    {
     "name": "stdout",
     "output_type": "stream",
     "text": [
      "[['United States senator (1989-1991)', 'United States senator (2005-2007)', 'Senate (member, 1999-2001)', 'Senate (member, 1993-1995)', 'United States senator (1987-1989)', 'United States senator (1997-1999)', 'Senate (member, 1989-1991)', 'Senate (member, 2007-2009)', 'United States senator (1993-1995)', 'United States senator (2007-2009)', 'Senate (member, 1985-1987)', 'United States senator (2009-2009)', 'Senate (member, 1987-1989)', 'Senate (member, 2003-2005)', 'Vice President of the United States (2009-2017)', 'United States senator (1977-1979)', 'Senate (member, 1995-1997)', 'United States senator (1991-1993)', 'President-elect of the United States (2020-2021)', 'council member (1970-1972)', 'United States senator (2001-2003)', 'United States senator (1973-1975)', 'United States senator (1979-1981)', 'United States senator (2003-2005)', 'Senate (member, 2001-2003)', 'United States senator (1995-1997)', 'United States senator (1975-1977)', 'Senate (member, 1997-1999)', 'Senate (member, 2005-2007)', 'Senate (member, 1981-1983)', 'United States senator (1999-2001)', 'Senate (member, 2009-2009)', 'Senate (member, 1991-1993)', 'President of the United States (2021-)', 'United States senator (1983-1985)', 'United States senator (1981-1983)', 'United States senator (1985-1987)', 'Senate (member, 1983-1983)']]\n",
      "---\n",
      "[{'Senate member  ', 'Vice President of the United States  ', 'council member  ', 'President-elect of the United States  ', 'United States senator  ', 'President of the United States 2021-'}]\n"
     ]
    }
   ],
   "source": [
    "print(list(properties.loc[properties['name'].apply(lambda x: x[0]=='Joe Biden'), 'position'])[:5])\n",
    "# Fix positions which appear multiple times due to changing dates by removing dates and ordinals from each string in the list.\n",
    "date_expr = re.compile('\\d{4}-\\d{4}')\n",
    "digit_expr = re.compile('\\s\\d{2}[a-zA-Z]{2}\\s')\n",
    "for expr in [date_expr, digit_expr]:\n",
    "    # Delete expression from string\n",
    "    properties.loc[~properties['position'].isna(),'position']=properties.loc[~properties['position'].isna(),'position'].apply(lambda x: [re.sub(expr, ' ', i)  for i in x])\n",
    "    # Remove parentheses and comma\n",
    "    properties.loc[~properties['position'].isna(),'position']=properties.loc[~properties['position'].isna(),'position'].apply(lambda x: [i.replace('(','').replace(')','').replace(',','') for i in x])\n",
    "    # Remove position redundancy\n",
    "    properties.loc[~properties['position'].isna(),'position']=properties.loc[~properties['position'].isna(),'position'].apply(lambda x: set(x))\n",
    "print('---')\n",
    "print(list(properties.loc[properties['name'].apply(lambda x: x[0]=='Joe Biden'), 'position'])[:5])"
   ]
  },
  {
   "cell_type": "code",
   "execution_count": 20,
   "id": "32b0a4b7-03e0-42d7-a50a-7c6f11ae42bd",
   "metadata": {},
   "outputs": [],
   "source": [
    "# Create copy of dates in dateformat (original dates to be converted into sentences) \n",
    "properties['birthdate']=properties['birthDate']\n",
    "properties['deathdate']=properties['deathDate']"
   ]
  },
  {
   "cell_type": "code",
   "execution_count": 21,
   "id": "39203cde-24c3-42d2-8ea1-d5439b23971d",
   "metadata": {},
   "outputs": [],
   "source": [
    "# Convert keywords accross fields into full sentences. \n",
    "cols_to_sentence={\n",
    "    'gender':'This person is a ',\n",
    "    'position':'This person has held these positions: ',\n",
    "    'birthDate':'This person was born in ',\n",
    "    'birthPlace': 'This person was born in ',\n",
    "    'deathDate':'This person died in ',\n",
    "    'keywords':'This person has worked in: ',\n",
    "    'sector':'This person worked for: ',\n",
    "    'publisher':'This person was present in ',\n",
    "    'pastFlags':'In the past this person was at ',\n",
    "    'ethnicity':'This person\\'s ethnicity is '\n",
    "}\n",
    "for col,sentence in cols_to_sentence.items():\n",
    "    transform_into_sentence(properties,col,sentence)"
   ]
  },
  {
   "cell_type": "code",
   "execution_count": 22,
   "id": "abfe2940-7df2-48b9-bf80-582c17780ba7",
   "metadata": {},
   "outputs": [
    {
     "name": "stderr",
     "output_type": "stream",
     "text": [
      "/Users/luis_flores/.local/share/virtualenvs/nel-mBUv7xk_/lib/python3.7/site-packages/ipykernel_launcher.py:14: FutureWarning: The default value of regex will change from True to False in a future version.\n",
      "  \n"
     ]
    }
   ],
   "source": [
    "# Edit most common position abbreviations \n",
    "positions_in_full={'Min\\.':'Minister',\n",
    "                   'Dep\\.':'Deputy',\n",
    "                   'Pres\\.':'President', \n",
    "                   'Chmn\\.':'Chairman',\n",
    "                   'Dir\\.':'Director',\n",
    "                   'Cdr\\.':'Commander', \n",
    "                   'Sec\\.':'Secretary', \n",
    "                   'Gen\\.':'General',\n",
    "                   'Col\\.':'Colonel', \n",
    "                   'Brig\\.':'Brigadier',\n",
    "                   'Lt\\.':'Lieutenant'}\n",
    "for abbv, full in positions_in_full.items():\n",
    "    properties['position']=properties['position'].str.replace(abbv, full)"
   ]
  },
  {
   "cell_type": "code",
   "execution_count": 23,
   "id": "507b5c06-95aa-4d27-a379-472748ccbb36",
   "metadata": {},
   "outputs": [],
   "source": [
    "# Convert country ISO alpha 2 codes into names (UK into United Kingdom)\n",
    "for regionality in ['country','nationality']:\n",
    "    properties.loc[~properties[regionality].isna(),regionality]=\\\n",
    "        properties.loc[~properties[regionality].isna(),regionality].apply(lambda x: [country for country in x if len(country)==2])\n",
    "\n",
    "    exceptions=set()\n",
    "    countries=set()\n",
    "    for row in properties.loc[~properties[regionality].isna(),regionality]:\n",
    "        for country in row:\n",
    "            try:\n",
    "                countries.add(pycountry.countries.get(alpha_2=country).name)\n",
    "            except:\n",
    "                exceptions.add(country)\n",
    "\n",
    "    properties.loc[~properties[regionality].isna(),regionality]=\\\n",
    "        properties.loc[~properties[regionality].isna(),regionality].apply(lambda x: \n",
    "                                ','.join([pycountry.countries.get(alpha_2=country).name\n",
    "                                 for country in x if country not in exceptions])\n",
    "                               )\n",
    "\n",
    "# Transform country and nationality into sentences\n",
    "properties.loc[~properties['country'].isna(),'country']=properties.loc[~properties['country'].isna(),'country'].apply(lambda x: f'This person belongs to these countries: {x}.')\n",
    "properties.loc[~properties['nationality'].isna(),'nationality']=properties.loc[~properties['nationality'].isna(),'nationality'].apply(lambda x: f'This person has these nationalities: {x}.')"
   ]
  },
  {
   "cell_type": "code",
   "execution_count": 24,
   "id": "e9f67943-1b6e-410d-9363-672576d068f8",
   "metadata": {},
   "outputs": [
    {
     "name": "stderr",
     "output_type": "stream",
     "text": [
      "/Users/luis_flores/.local/share/virtualenvs/nel-mBUv7xk_/lib/python3.7/site-packages/ipykernel_launcher.py:3: FutureWarning: In a future version of pandas all arguments of DataFrame.drop except for the argument 'labels' will be keyword-only\n",
      "  This is separate from the ipykernel package so we can avoid doing imports until\n"
     ]
    }
   ],
   "source": [
    "# Store alternative aliases\n",
    "properties['AKA'] = properties['name'] + properties['alias'] + properties['weakAlias']\n",
    "properties.drop(['name','alias', 'weakAlias'],1,inplace=True)"
   ]
  },
  {
   "cell_type": "code",
   "execution_count": 25,
   "id": "fd8c171e-d1b0-4138-8a4c-4c6e4a0241c1",
   "metadata": {},
   "outputs": [],
   "source": [
    "# Concatenate context columns into a single field\n",
    "context_cols=[\n",
    "    'position', \n",
    "    'gender',\n",
    "    'birthDate', \n",
    "    'country',\n",
    "    'topics', \n",
    "    'birthPlace', \n",
    "    'nationality', \n",
    "    'sector', \n",
    "    'keywords', \n",
    "    'deathDate',\n",
    "    'publisher',\n",
    "    'pastFlags',  \n",
    "    'ethnicity'\n",
    "]\n",
    "\n",
    "i = 0\n",
    "for col in context_cols:\n",
    "    if i==0:\n",
    "        properties['context']=properties[col].fillna('NAN')\n",
    "        i+=1\n",
    "    else:\n",
    "        properties['context']= properties['context'] + properties[col].fillna('NAN')\n",
    "properties['context']=properties['context'].str.replace('NAN','')\n",
    "properties['context']=properties['context'].str.split('.').apply(lambda x:'. '.join(x))"
   ]
  },
  {
   "cell_type": "code",
   "execution_count": 26,
   "id": "b9cc91db-93b4-43c2-b98f-ac5ac768509a",
   "metadata": {},
   "outputs": [],
   "source": [
    "# Drop redundant columns \n",
    "properties=properties[['notes','AKA','context','birthdate','deathdate']]"
   ]
  },
  {
   "cell_type": "code",
   "execution_count": 27,
   "id": "cf05333c-c229-4a89-b7e3-d5afcbd02c4c",
   "metadata": {},
   "outputs": [],
   "source": [
    "# Edit notes field\n",
    "properties['notes']=properties['notes'].fillna('').apply(lambda x:' '.join(x))"
   ]
  },
  {
   "cell_type": "code",
   "execution_count": 28,
   "id": "b7f8466d-a9c4-44e4-971f-c97bde23723e",
   "metadata": {},
   "outputs": [],
   "source": [
    "# Merge wikidataID and website back into dataset\n",
    "properties=properties.merge(wikidataIDs,left_index=True, right_index=True)\n",
    "properties=properties.merge(websites,left_index=True, right_index=True)"
   ]
  },
  {
   "cell_type": "code",
   "execution_count": 29,
   "id": "540e472d-be5f-4262-bacf-a2e63257c091",
   "metadata": {},
   "outputs": [],
   "source": [
    "# Merge properties into dataset\n",
    "data=data.merge(properties,left_index=True,right_index=True)"
   ]
  },
  {
   "cell_type": "code",
   "execution_count": 30,
   "id": "5a7a87fd-1fd8-46c6-b687-5edd8c404669",
   "metadata": {},
   "outputs": [
    {
     "data": {
      "text/html": [
       "<div>\n",
       "<style scoped>\n",
       "    .dataframe tbody tr th:only-of-type {\n",
       "        vertical-align: middle;\n",
       "    }\n",
       "\n",
       "    .dataframe tbody tr th {\n",
       "        vertical-align: top;\n",
       "    }\n",
       "\n",
       "    .dataframe thead th {\n",
       "        text-align: right;\n",
       "    }\n",
       "</style>\n",
       "<table border=\"1\" class=\"dataframe\">\n",
       "  <thead>\n",
       "    <tr style=\"text-align: right;\">\n",
       "      <th></th>\n",
       "      <th>id</th>\n",
       "      <th>schema</th>\n",
       "      <th>caption</th>\n",
       "      <th>notes</th>\n",
       "      <th>AKA</th>\n",
       "      <th>context</th>\n",
       "      <th>birthdate</th>\n",
       "      <th>deathdate</th>\n",
       "      <th>wikidataId</th>\n",
       "      <th>website</th>\n",
       "    </tr>\n",
       "  </thead>\n",
       "  <tbody>\n",
       "    <tr>\n",
       "      <th>0</th>\n",
       "      <td>acf-00040861bc3f593000830d987d09967ef3503ef1</td>\n",
       "      <td>Person</td>\n",
       "      <td>Kolyvanov Egor</td>\n",
       "      <td>Russian propagandist: host of news program \"Se...</td>\n",
       "      <td>NaN</td>\n",
       "      <td>This person has held these positions: Federal ...</td>\n",
       "      <td>[1980-11-15]</td>\n",
       "      <td>NaN</td>\n",
       "      <td>NaN</td>\n",
       "      <td>NaN</td>\n",
       "    </tr>\n",
       "    <tr>\n",
       "      <th>1</th>\n",
       "      <td>acf-0011c68a768924609dc5da5707ac7fa4c4d645a2</td>\n",
       "      <td>Person</td>\n",
       "      <td>Shipov Sergei Yurievich</td>\n",
       "      <td>Russian chess player, grandmaster, chess coach...</td>\n",
       "      <td>NaN</td>\n",
       "      <td>This person has held these positions: Athletes...</td>\n",
       "      <td>[1966-04-17]</td>\n",
       "      <td>NaN</td>\n",
       "      <td>NaN</td>\n",
       "      <td>NaN</td>\n",
       "    </tr>\n",
       "    <tr>\n",
       "      <th>2</th>\n",
       "      <td>acf-001e7e4c0363f08f1e784c230457960b84a6416f</td>\n",
       "      <td>Person</td>\n",
       "      <td>Egorov Ivan Mikhailovich</td>\n",
       "      <td>Deputy of the State Council of the Republic of...</td>\n",
       "      <td>NaN</td>\n",
       "      <td>This person has held these positions: Regional...</td>\n",
       "      <td>[1961-01-21]</td>\n",
       "      <td>NaN</td>\n",
       "      <td>NaN</td>\n",
       "      <td>NaN</td>\n",
       "    </tr>\n",
       "    <tr>\n",
       "      <th>3</th>\n",
       "      <td>acf-002c208139012c8d93b6298358188d7cadafe648</td>\n",
       "      <td>Person</td>\n",
       "      <td>Goreslavsky Alexey Sergeyevich</td>\n",
       "      <td>Russian journalist and media manager. Helped d...</td>\n",
       "      <td>NaN</td>\n",
       "      <td>This person has held these positions: Investig...</td>\n",
       "      <td>[1977-07-13]</td>\n",
       "      <td>NaN</td>\n",
       "      <td>NaN</td>\n",
       "      <td>NaN</td>\n",
       "    </tr>\n",
       "    <tr>\n",
       "      <th>4</th>\n",
       "      <td>acf-002cc8fdf8fe41185091a7cb6c598663e7a22eb5</td>\n",
       "      <td>Person</td>\n",
       "      <td>Samoilova Natalya Vladimirovna</td>\n",
       "      <td>Russian singer, composer. Supported the action...</td>\n",
       "      <td>NaN</td>\n",
       "      <td>This person has held these positions: Celebrit...</td>\n",
       "      <td>[1987-06-24]</td>\n",
       "      <td>NaN</td>\n",
       "      <td>NaN</td>\n",
       "      <td>NaN</td>\n",
       "    </tr>\n",
       "    <tr>\n",
       "      <th>...</th>\n",
       "      <td>...</td>\n",
       "      <td>...</td>\n",
       "      <td>...</td>\n",
       "      <td>...</td>\n",
       "      <td>...</td>\n",
       "      <td>...</td>\n",
       "      <td>...</td>\n",
       "      <td>...</td>\n",
       "      <td>...</td>\n",
       "      <td>...</td>\n",
       "    </tr>\n",
       "    <tr>\n",
       "      <th>412324</th>\n",
       "      <td>wbdeb-692816</td>\n",
       "      <td>LegalEntity</td>\n",
       "      <td>Laxminarayan Construction</td>\n",
       "      <td></td>\n",
       "      <td>NaN</td>\n",
       "      <td>This person belongs to these countries: India....</td>\n",
       "      <td>NaN</td>\n",
       "      <td>NaN</td>\n",
       "      <td>NaN</td>\n",
       "      <td>NaN</td>\n",
       "    </tr>\n",
       "    <tr>\n",
       "      <th>412325</th>\n",
       "      <td>wbdeb-692833</td>\n",
       "      <td>LegalEntity</td>\n",
       "      <td>Quvasoy Mukammal Tamir Llc</td>\n",
       "      <td></td>\n",
       "      <td>NaN</td>\n",
       "      <td>This person belongs to these countries: Uzbeki...</td>\n",
       "      <td>NaN</td>\n",
       "      <td>NaN</td>\n",
       "      <td>NaN</td>\n",
       "      <td>NaN</td>\n",
       "    </tr>\n",
       "    <tr>\n",
       "      <th>412326</th>\n",
       "      <td>wbdeb-692834</td>\n",
       "      <td>LegalEntity</td>\n",
       "      <td>Stroy Montaj Invest</td>\n",
       "      <td></td>\n",
       "      <td>NaN</td>\n",
       "      <td>This person belongs to these countries: Uzbeki...</td>\n",
       "      <td>NaN</td>\n",
       "      <td>NaN</td>\n",
       "      <td>NaN</td>\n",
       "      <td>NaN</td>\n",
       "    </tr>\n",
       "    <tr>\n",
       "      <th>412328</th>\n",
       "      <td>wbdeb-698401</td>\n",
       "      <td>LegalEntity</td>\n",
       "      <td>Göksin Insaat Gida Turizm Bilisim Tüketim Mall...</td>\n",
       "      <td></td>\n",
       "      <td>NaN</td>\n",
       "      <td>This person belongs to these countries: Turkey...</td>\n",
       "      <td>NaN</td>\n",
       "      <td>NaN</td>\n",
       "      <td>NaN</td>\n",
       "      <td>NaN</td>\n",
       "    </tr>\n",
       "    <tr>\n",
       "      <th>412435</th>\n",
       "      <td>wbdeb-83317</td>\n",
       "      <td>LegalEntity</td>\n",
       "      <td>Seydou Idani</td>\n",
       "      <td></td>\n",
       "      <td>NaN</td>\n",
       "      <td>This person belongs to these countries: Burkin...</td>\n",
       "      <td>NaN</td>\n",
       "      <td>NaN</td>\n",
       "      <td>NaN</td>\n",
       "      <td>NaN</td>\n",
       "    </tr>\n",
       "  </tbody>\n",
       "</table>\n",
       "<p>244612 rows × 10 columns</p>\n",
       "</div>"
      ],
      "text/plain": [
       "                                                  id       schema                                            caption                                              notes  AKA                                            context     birthdate deathdate wikidataId website\n",
       "0       acf-00040861bc3f593000830d987d09967ef3503ef1       Person                                     Kolyvanov Egor  Russian propagandist: host of news program \"Se...  NaN  This person has held these positions: Federal ...  [1980-11-15]       NaN        NaN     NaN\n",
       "1       acf-0011c68a768924609dc5da5707ac7fa4c4d645a2       Person                            Shipov Sergei Yurievich  Russian chess player, grandmaster, chess coach...  NaN  This person has held these positions: Athletes...  [1966-04-17]       NaN        NaN     NaN\n",
       "2       acf-001e7e4c0363f08f1e784c230457960b84a6416f       Person                           Egorov Ivan Mikhailovich  Deputy of the State Council of the Republic of...  NaN  This person has held these positions: Regional...  [1961-01-21]       NaN        NaN     NaN\n",
       "3       acf-002c208139012c8d93b6298358188d7cadafe648       Person                     Goreslavsky Alexey Sergeyevich  Russian journalist and media manager. Helped d...  NaN  This person has held these positions: Investig...  [1977-07-13]       NaN        NaN     NaN\n",
       "4       acf-002cc8fdf8fe41185091a7cb6c598663e7a22eb5       Person                     Samoilova Natalya Vladimirovna  Russian singer, composer. Supported the action...  NaN  This person has held these positions: Celebrit...  [1987-06-24]       NaN        NaN     NaN\n",
       "...                                              ...          ...                                                ...                                                ...  ...                                                ...           ...       ...        ...     ...\n",
       "412324                                  wbdeb-692816  LegalEntity                          Laxminarayan Construction                                                     NaN  This person belongs to these countries: India....           NaN       NaN        NaN     NaN\n",
       "412325                                  wbdeb-692833  LegalEntity                         Quvasoy Mukammal Tamir Llc                                                     NaN  This person belongs to these countries: Uzbeki...           NaN       NaN        NaN     NaN\n",
       "412326                                  wbdeb-692834  LegalEntity                                Stroy Montaj Invest                                                     NaN  This person belongs to these countries: Uzbeki...           NaN       NaN        NaN     NaN\n",
       "412328                                  wbdeb-698401  LegalEntity  Göksin Insaat Gida Turizm Bilisim Tüketim Mall...                                                     NaN  This person belongs to these countries: Turkey...           NaN       NaN        NaN     NaN\n",
       "412435                                   wbdeb-83317  LegalEntity                                       Seydou Idani                                                     NaN  This person belongs to these countries: Burkin...           NaN       NaN        NaN     NaN\n",
       "\n",
       "[244612 rows x 10 columns]"
      ]
     },
     "execution_count": 30,
     "metadata": {},
     "output_type": "execute_result"
    }
   ],
   "source": [
    "data"
   ]
  },
  {
   "cell_type": "code",
   "execution_count": 31,
   "id": "fee39858-5898-4159-9f03-79e3076f547c",
   "metadata": {},
   "outputs": [],
   "source": [
    "# Remove dates from list\n",
    "data.loc[~data['birthdate'].isna(),'birthdate']=data.loc[~data['birthdate'].isna(),'birthdate'].apply(lambda x: x[0])\n",
    "data.loc[~data['deathdate'].isna(),'deathdate']=data.loc[~data['deathdate'].isna(),'deathdate'].apply(lambda x: x[0])"
   ]
  },
  {
   "cell_type": "code",
   "execution_count": 32,
   "id": "1c32da4f-87e1-4e2b-b41f-c5a85607a3ce",
   "metadata": {},
   "outputs": [
    {
     "data": {
      "text/plain": [
       "Person          218690\n",
       "Company          16560\n",
       "LegalEntity       4893\n",
       "Organization      3659\n",
       "Vessel             524\n",
       "Airplane           286\n",
       "Name: schema, dtype: int64"
      ]
     },
     "execution_count": 32,
     "metadata": {},
     "output_type": "execute_result"
    }
   ],
   "source": [
    "data['schema'].value_counts()"
   ]
  },
  {
   "cell_type": "code",
   "execution_count": 33,
   "id": "98f67714-5c1c-415f-b3af-56c3d556fdd6",
   "metadata": {},
   "outputs": [],
   "source": [
    "# Filter out non-PERSON entities (for a PERSON only EL model) \n",
    "data=data[data['schema']=='Person']"
   ]
  },
  {
   "cell_type": "code",
   "execution_count": 34,
   "id": "920a8820-61ee-425b-897d-5d1b5b1bfa18",
   "metadata": {},
   "outputs": [
    {
     "data": {
      "text/plain": [
       "(218690, 10)"
      ]
     },
     "execution_count": 34,
     "metadata": {},
     "output_type": "execute_result"
    }
   ],
   "source": [
    "data.shape"
   ]
  },
  {
   "cell_type": "code",
   "execution_count": 35,
   "id": "50d4827d-c2c3-4e46-a94d-67c06ffc7008",
   "metadata": {
    "tags": []
   },
   "outputs": [],
   "source": [
    "# Rename alias field\n",
    "data=data.rename(columns={'caption':'name'})\n",
    "# Ensure alias is included in the context field (for later encoding and use in training an EL model) \n",
    "min_context_thres=10\n",
    "min_context_notes_indices=data[data['notes'].str.replace(' ','').apply(len)<min_context_thres].index.values\n",
    "data.loc[min_context_notes_indices,'notes']=''\n",
    "empty_notes_indices=data[data['notes'].str.replace(' ','').str.len()==0].index.values\n",
    "name_in_notes_indices=data[data.apply(lambda x: x['name'].lower() in x['notes'].lower(),axis=1)].index.values\n",
    "filled_notes_indices=data[data['notes'].str.replace(' ','').str.len()>=min_context_thres].index.values\n",
    "filled_notes_indices=set(filled_notes_indices).difference(set(name_in_notes_indices))\n",
    "# Include name in description when context is null\n",
    "data.loc[empty_notes_indices, 'notes'] = data.loc[empty_notes_indices,'name'].apply(lambda x: f'This person is called {x}.')\n",
    "# Include name in description when context is not null\n",
    "data.loc[filled_notes_indices,'notes']=data.loc[filled_notes_indices, 'name'].apply(lambda x: f'{x} is a ') + data.loc[filled_notes_indices,'notes'] + '.'"
   ]
  },
  {
   "cell_type": "code",
   "execution_count": 36,
   "id": "d262a692-66e5-47ac-87f7-093f633db106",
   "metadata": {},
   "outputs": [],
   "source": [
    "# Convert crime vocabulary into sentences \n",
    "crime_vocab=['murder', \n",
    "            'fraud', \n",
    "            'corruption',\n",
    "            'conspiracy',\n",
    "            'crime', \n",
    "            'dealing', \n",
    "            'drug', \n",
    "            'trafficking', \n",
    "            'criminal', \n",
    "            'cheating', \n",
    "            'forgery', \n",
    "            'robbery', \n",
    "            'violen', #violent, violence\n",
    "            'sexual', \n",
    "            'rape', \n",
    "            'assault', \n",
    "            'illegal', \n",
    "            'transport',\n",
    "            'travel']\n",
    "default_expr = 'is a '\n",
    "crime_expr = 'was involved in '\n",
    "\n",
    "for crime in crime_vocab:\n",
    "    crime_indices = data.loc[data['notes'].str.lower().str.contains(default_expr + crime)].index.values\n",
    "    data.loc[crime_indices,'notes'] = data.loc[crime_indices,'notes'].str.lower().str.replace(default_expr, crime_expr)"
   ]
  },
  {
   "cell_type": "code",
   "execution_count": 37,
   "id": "4175ef36-d836-45fc-9db1-141a8c65e929",
   "metadata": {},
   "outputs": [],
   "source": [
    "# Concatenate information from context and notes fields together \n",
    "data['full_notes']= data['notes'].fillna('') + ' ' + data['context'].fillna('')"
   ]
  },
  {
   "cell_type": "markdown",
   "id": "3b6427b5-3183-45e6-9a45-e730e18cba3f",
   "metadata": {},
   "source": [
    "## Export dataset"
   ]
  },
  {
   "cell_type": "code",
   "execution_count": 38,
   "id": "f0eed338-3e6e-4cab-8306-5b103ce4928b",
   "metadata": {},
   "outputs": [],
   "source": [
    "data.to_csv('../assets/open_sanctions_entities.csv')"
   ]
  }
 ],
 "metadata": {
  "kernelspec": {
   "display_name": "Python 3 (ipykernel)",
   "language": "python",
   "name": "python3"
  },
  "language_info": {
   "codemirror_mode": {
    "name": "ipython",
    "version": 3
   },
   "file_extension": ".py",
   "mimetype": "text/x-python",
   "name": "python",
   "nbconvert_exporter": "python",
   "pygments_lexer": "ipython3",
   "version": "3.7.13"
  }
 },
 "nbformat": 4,
 "nbformat_minor": 5
}
