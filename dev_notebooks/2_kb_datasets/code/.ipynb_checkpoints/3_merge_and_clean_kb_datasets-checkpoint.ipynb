{
 "cells": [
  {
   "cell_type": "markdown",
   "id": "7ed2293b-e768-48b4-8eda-16ec29b7a257",
   "metadata": {},
   "source": [
    "# Merge Open Sanctions and LittleSis datasets into spaCy KB input file  "
   ]
  },
  {
   "cell_type": "code",
   "execution_count": 1,
   "id": "b77c9158-734e-455e-a125-b9bb0dfabbbb",
   "metadata": {},
   "outputs": [],
   "source": [
    "import pandas as pd\n",
    "import pickle\n",
    "import numpy as np\n",
    "import re \n",
    "import datetime as dt"
   ]
  },
  {
   "cell_type": "code",
   "execution_count": 2,
   "id": "49178260-16ea-4594-b6c0-177ee56d1cfe",
   "metadata": {},
   "outputs": [],
   "source": [
    "pd.set_option('display.max_rows', 100)\n",
    "pd.set_option('display.max_columns', 100)\n",
    "pd.set_option('display.width', 100)\n",
    "pd.set_option('display.max_colwidth', None)"
   ]
  },
  {
   "cell_type": "code",
   "execution_count": null,
   "id": "6858b43e-a1e1-4861-a684-776cc649016a",
   "metadata": {},
   "outputs": [],
   "source": [
    "def url_generator(id_,name, dataset):\n",
    "    \"\"\"\n",
    "    Generate KB urls\n",
    "    \"\"\"\n",
    "    if dataset=='open_sanctions':\n",
    "        return f'https://www.opensanctions.org/entities/{id_}'\n",
    "    if dataset=='lilsis':\n",
    "        return f'https://littlesis.org/person/{id_}-{name}'"
   ]
  },
  {
   "cell_type": "markdown",
   "id": "e157933f-fd9a-4df8-8ed1-d89ff970ee00",
   "metadata": {},
   "source": [
    "## Import individual datasets "
   ]
  },
  {
   "cell_type": "code",
   "execution_count": null,
   "id": "8add3ccf-4314-4991-bc09-2cfe385423e8",
   "metadata": {},
   "outputs": [],
   "source": [
    "# Read both datasets\n",
    "os_kb_entities=pd.read_csv(f'../assets/open_sanctions_entities.csv',index_col=0)\n",
    "os_kb_entities['kb_origin']='open_sanctions'\n",
    "ls_kb_entities=pd.read_csv(f'../assets/lilsis_entities.csv',index_col=0)\n",
    "ls_kb_entities['kb_origin']='lilsis'"
   ]
  },
  {
   "cell_type": "code",
   "execution_count": 5,
   "id": "1d9d7f9e-32a1-4b7d-92b7-6be09b2c529c",
   "metadata": {},
   "outputs": [],
   "source": [
    "# Rename columns to concat datasets  \n",
    "os_kb_entities=os_kb_entities.rename(columns={'full_notes':'desc'})\n",
    "ls_kb_entities=ls_kb_entities.rename(columns={'primary_ext':'schema','end_date':'deathdate','aliases':'AKA','start_date':'birthdate','context':'desc'})"
   ]
  },
  {
   "cell_type": "code",
   "execution_count": 6,
   "id": "cf84f215-8c46-43d4-aaa8-1f1877966754",
   "metadata": {
    "tags": []
   },
   "outputs": [],
   "source": [
    "# Concat datasets into one\n",
    "kb_entities=pd.concat([os_kb_entities,ls_kb_entities]).reset_index().rename(columns={'index':'original_index'})"
   ]
  },
  {
   "cell_type": "code",
   "execution_count": 7,
   "id": "c8a5d524-da9e-4fea-b962-4e47753e511f",
   "metadata": {},
   "outputs": [
    {
     "name": "stderr",
     "output_type": "stream",
     "text": [
      "/Users/luis_flores/.local/share/virtualenvs/nel-mBUv7xk_/lib/python3.7/site-packages/ipykernel_launcher.py:2: FutureWarning: In a future version of pandas all arguments of DataFrame.drop except for the argument 'labels' will be keyword-only\n",
      "  \n"
     ]
    }
   ],
   "source": [
    "# Drop useless columns\n",
    "kb_entities.drop(['schema','notes','context','types','start_date_sentence','end_date_sentence'],1,inplace=True)"
   ]
  },
  {
   "cell_type": "code",
   "execution_count": 8,
   "id": "0359c068-7f6d-4adf-b36a-479445cf40cb",
   "metadata": {},
   "outputs": [
    {
     "data": {
      "text/plain": [
       "(503310, 11)"
      ]
     },
     "execution_count": 8,
     "metadata": {},
     "output_type": "execute_result"
    }
   ],
   "source": [
    "kb_entities.shape"
   ]
  },
  {
   "cell_type": "code",
   "execution_count": 9,
   "id": "a4a4fd8c-94bd-4c11-b057-ff7bcdaea5c5",
   "metadata": {},
   "outputs": [],
   "source": [
    "# Fix trailing whitespaces\n",
    "kb_entities['desc']=kb_entities['desc'].apply(lambda x: re.sub(r\"\\b(\\.)[\\.\\s]+$\", \"\\\\1\", x))"
   ]
  },
  {
   "cell_type": "code",
   "execution_count": 10,
   "id": "52862616-c4b4-4294-b4f6-a67f585f9a19",
   "metadata": {},
   "outputs": [],
   "source": [
    "# Remove entities with no description\n",
    "kb_entities=kb_entities[kb_entities['desc'].str.replace(' ','').apply(len)>0]"
   ]
  },
  {
   "cell_type": "code",
   "execution_count": 11,
   "id": "a1c8c8a6-a734-4b8a-b90a-55ba5e8f2f9b",
   "metadata": {},
   "outputs": [],
   "source": [
    "# Drop duplicated based on same name and description\n",
    "kb_entities.drop_duplicates(subset=['name','desc'],inplace=True)"
   ]
  },
  {
   "cell_type": "code",
   "execution_count": 12,
   "id": "2deb881c-adf1-479f-b6e4-cdf00d941c47",
   "metadata": {},
   "outputs": [
    {
     "data": {
      "text/plain": [
       "(429953, 11)"
      ]
     },
     "execution_count": 12,
     "metadata": {},
     "output_type": "execute_result"
    }
   ],
   "source": [
    "kb_entities.shape"
   ]
  },
  {
   "cell_type": "raw",
   "id": "8c911769-cf6a-4257-a8c1-f885a1e269c0",
   "metadata": {},
   "source": [
    "NB: the minimum requirement to create a spaCy KB object from a dataframe is an unique ID, a non-unique alias (entity name) and a description field (providing real-world information about the entity)."
   ]
  },
  {
   "cell_type": "code",
   "execution_count": 13,
   "id": "51c611de-439e-4382-8e6e-69bd0b19710e",
   "metadata": {},
   "outputs": [
    {
     "data": {
      "text/html": [
       "<div>\n",
       "<style scoped>\n",
       "    .dataframe tbody tr th:only-of-type {\n",
       "        vertical-align: middle;\n",
       "    }\n",
       "\n",
       "    .dataframe tbody tr th {\n",
       "        vertical-align: top;\n",
       "    }\n",
       "\n",
       "    .dataframe thead th {\n",
       "        text-align: right;\n",
       "    }\n",
       "</style>\n",
       "<table border=\"1\" class=\"dataframe\">\n",
       "  <thead>\n",
       "    <tr style=\"text-align: right;\">\n",
       "      <th></th>\n",
       "      <th>original_index</th>\n",
       "      <th>id</th>\n",
       "      <th>name</th>\n",
       "      <th>AKA</th>\n",
       "      <th>birthdate</th>\n",
       "      <th>deathdate</th>\n",
       "      <th>wikidataId</th>\n",
       "      <th>website</th>\n",
       "      <th>desc</th>\n",
       "      <th>kb_origin</th>\n",
       "      <th>birthplace</th>\n",
       "    </tr>\n",
       "  </thead>\n",
       "  <tbody>\n",
       "    <tr>\n",
       "      <th>0</th>\n",
       "      <td>0</td>\n",
       "      <td>acf-00040861bc3f593000830d987d09967ef3503ef1</td>\n",
       "      <td>Kolyvanov Egor</td>\n",
       "      <td>NaN</td>\n",
       "      <td>1980-11-15</td>\n",
       "      <td>NaN</td>\n",
       "      <td>NaN</td>\n",
       "      <td>NaN</td>\n",
       "      <td>Kolyvanov Egor is a Russian propagandist: host of news program \"Segodnia\" (\"Today\") on NTV. This person has held these positions: Federal media employees, Propagandists. This person is a male. This person was born in 1980-11-15.</td>\n",
       "      <td>open_sanctions</td>\n",
       "      <td>NaN</td>\n",
       "    </tr>\n",
       "    <tr>\n",
       "      <th>1</th>\n",
       "      <td>1</td>\n",
       "      <td>acf-0011c68a768924609dc5da5707ac7fa4c4d645a2</td>\n",
       "      <td>Shipov Sergei Yurievich</td>\n",
       "      <td>NaN</td>\n",
       "      <td>1966-04-17</td>\n",
       "      <td>NaN</td>\n",
       "      <td>NaN</td>\n",
       "      <td>NaN</td>\n",
       "      <td>Shipov Sergei Yurievich is a Russian chess player, grandmaster, chess coach, commentator. Publicly supported Russia's war against Ukraine.. This person has held these positions: Athletes, Warmongers. This person is a male. This person was born in 1966-04-17.</td>\n",
       "      <td>open_sanctions</td>\n",
       "      <td>NaN</td>\n",
       "    </tr>\n",
       "  </tbody>\n",
       "</table>\n",
       "</div>"
      ],
      "text/plain": [
       "   original_index                                            id                     name  AKA  \\\n",
       "0               0  acf-00040861bc3f593000830d987d09967ef3503ef1           Kolyvanov Egor  NaN   \n",
       "1               1  acf-0011c68a768924609dc5da5707ac7fa4c4d645a2  Shipov Sergei Yurievich  NaN   \n",
       "\n",
       "    birthdate deathdate wikidataId website  \\\n",
       "0  1980-11-15       NaN        NaN     NaN   \n",
       "1  1966-04-17       NaN        NaN     NaN   \n",
       "\n",
       "                                                                                                                                                                                                                                                                 desc  \\\n",
       "0                                Kolyvanov Egor is a Russian propagandist: host of news program \"Segodnia\" (\"Today\") on NTV. This person has held these positions: Federal media employees, Propagandists. This person is a male. This person was born in 1980-11-15.   \n",
       "1  Shipov Sergei Yurievich is a Russian chess player, grandmaster, chess coach, commentator. Publicly supported Russia's war against Ukraine.. This person has held these positions: Athletes, Warmongers. This person is a male. This person was born in 1966-04-17.   \n",
       "\n",
       "        kb_origin birthplace  \n",
       "0  open_sanctions        NaN  \n",
       "1  open_sanctions        NaN  "
      ]
     },
     "execution_count": 13,
     "metadata": {},
     "output_type": "execute_result"
    }
   ],
   "source": [
    "kb_entities.head(2)"
   ]
  },
  {
   "cell_type": "markdown",
   "id": "51665dee-ac03-4f68-bf3c-3b49da24eb72",
   "metadata": {},
   "source": [
    "## Resolve duplicate entitiy IDs"
   ]
  },
  {
   "cell_type": "raw",
   "id": "c596016c-f6c2-4025-8986-fe6870b6edd3",
   "metadata": {},
   "source": [
    "NB: while KBs and likely will have duplicate aliases (entities sharing the same name) each entity id should be a unique primary database key. It is critical that the does cannot contain entitiy ID duplicates."
   ]
  },
  {
   "cell_type": "code",
   "execution_count": 14,
   "id": "99a6b1d5-4df3-4ffc-be5d-55aaaeaceb51",
   "metadata": {},
   "outputs": [],
   "source": [
    "# Find duplicate entries on the 'id' columns\n",
    "redundant_entities_by_id=kb_entities[kb_entities['id'].duplicated(keep=False)].sort_values(['id','name'])\n",
    "# Drop duplicate_entities (these were all cases where the ID was taken from Wikidata)\n",
    "redundant_entities_indices=redundant_entities_by_id.index\n",
    "kb_entities.drop(redundant_entities_indices, inplace=True)\n",
    "# Keep first of duplicated entities\n",
    "redundant_entities_by_id_consolidated_desc=redundant_entities_by_id.groupby(['id']).first().reset_index()\n",
    "# Concatenate back to kb entity dataframe \n",
    "kb_entities=pd.concat([kb_entities,redundant_entities_by_id_consolidated_desc])\n",
    "kb_entities.reset_index(drop=True,inplace=True)"
   ]
  },
  {
   "cell_type": "code",
   "execution_count": 15,
   "id": "b6009cb3-c32f-45f4-a6e1-bf72c01a33e4",
   "metadata": {},
   "outputs": [
    {
     "data": {
      "text/plain": [
       "(429861, 11)"
      ]
     },
     "execution_count": 15,
     "metadata": {},
     "output_type": "execute_result"
    }
   ],
   "source": [
    "kb_entities.shape"
   ]
  },
  {
   "cell_type": "code",
   "execution_count": 16,
   "id": "0058eb3f-45a9-4f31-8144-520cc627b3a5",
   "metadata": {},
   "outputs": [],
   "source": [
    "# Raise exception if duplicated IDs are found in the dataset\n",
    "if (kb_entities['id'].duplicated().any()) | (kb_entities['id'].nunique()!=kb_entities.shape[0]):\n",
    "    raise Exception('There might be duplicate entitiy IDs in the KB file.')"
   ]
  },
  {
   "cell_type": "markdown",
   "id": "a31288b7-0386-4403-968c-69dc65608328",
   "metadata": {},
   "source": [
    "## Resolve duplicates on birthdate, deathdate and website"
   ]
  },
  {
   "cell_type": "raw",
   "id": "72ad8df9-38b7-4d5a-bc9f-739cc33bdd52",
   "metadata": {},
   "source": [
    "NB: Apart from duplicate entity IDs there is a second problem with the current KB dataset. This is the fact that multiple real-world entities have more than one KB entry (e.g. multiple entity IDs for Theresa May). This is specially likely for figures of high public exposure (like famous polititians) as they have typically been logged into both OS and LS. There is a further layer of duplication coming from within each KB - i.e. both LittleSister and Open Sanctions already contained some duplicates before merging.  \n",
    "Multiple Guardian paragraph NER mention to KB candidate matches caused hindrances in the annotation, training and testing stages, because the EL model we used in the project was not concieved to accept more than one correct match. This type of KB entity duplicate should therefore be minimised as much as possible. \n",
    "Unfortunately doing so is far from trivial. During the project we tried several strategies, including fuzzymatching aliases and focusing on the largest pairwise similarity scores for encoded descriptions in entities with similar aliases. But all advanced strategies ultimately proved inneficient. This notebook only retains a simpler deduplication algorithm, based on accepting that entities sharing an alias in combination with another contextual clue (birth date, ...) belong to the same real-world person.   \n",
    "This is an issue that requires further research if the same KBs are to be used in future stages or projects.  "
   ]
  },
  {
   "cell_type": "code",
   "execution_count": 17,
   "id": "d218e385-6cf4-4f12-bc81-95d942fc6d59",
   "metadata": {},
   "outputs": [],
   "source": [
    "# create auxiliary column for ordering based on len of description field\n",
    "kb_entities['desc_len']=kb_entities['desc'].str.len()\n",
    "# handpicked columns providing contextual identity clues\n",
    "redundancy_cols=['birthdate','deathdate','website']\n",
    "for col in redundancy_cols:\n",
    "    # Find duplicates ordered by description len\n",
    "    redundant_entities_by_col=kb_entities[~(kb_entities[col].isna())&\n",
    "                (kb_entities.duplicated(['name',col],keep=False))\n",
    "               ].sort_values(by=['name','desc_len'],ascending=False)\n",
    "\n",
    "    # Drop duplicate_entities on name and birthdate\n",
    "    redundant_entities_indices=redundant_entities_by_col.index\n",
    "    kb_entities.drop(redundant_entities_indices, inplace=True)\n",
    "\n",
    "    # Keep first of duplicated entities\n",
    "    redundant_entities_by_col_consolidated_desc=redundant_entities_by_col.groupby(['name',col]).first().reset_index()\n",
    "\n",
    "    # Concatenate back to kb entity dataframe \n",
    "    kb_entities=pd.concat([kb_entities,redundant_entities_by_col_consolidated_desc])\n",
    "    kb_entities.reset_index(drop=True,inplace=True)"
   ]
  },
  {
   "cell_type": "code",
   "execution_count": 18,
   "id": "02bd528a-34db-4ee2-9556-05c4824fa3c8",
   "metadata": {},
   "outputs": [
    {
     "data": {
      "text/plain": [
       "(428519, 12)"
      ]
     },
     "execution_count": 18,
     "metadata": {},
     "output_type": "execute_result"
    }
   ],
   "source": [
    "kb_entities.shape"
   ]
  },
  {
   "cell_type": "markdown",
   "id": "5daa380b-9c5f-44c1-abef-a171906c54fa",
   "metadata": {},
   "source": [
    "## Further wrangling"
   ]
  },
  {
   "cell_type": "code",
   "execution_count": 19,
   "id": "47f6790c-d794-4b8d-9da4-86a0db8483e9",
   "metadata": {},
   "outputs": [],
   "source": [
    "# Duplicates on name\n",
    "kb_duplicated=kb_entities[kb_entities.duplicated(keep=False,subset=['name'])].sort_values(by=['name'])"
   ]
  },
  {
   "cell_type": "code",
   "execution_count": 20,
   "id": "c5dcf178-be55-4442-80af-762f663f7380",
   "metadata": {},
   "outputs": [
    {
     "data": {
      "text/plain": [
       "(428519, 12)"
      ]
     },
     "execution_count": 20,
     "metadata": {},
     "output_type": "execute_result"
    }
   ],
   "source": [
    "kb_entities.shape"
   ]
  },
  {
   "cell_type": "code",
   "execution_count": 21,
   "id": "c5a1f4bc-6468-4bf5-833f-84819da6a646",
   "metadata": {},
   "outputs": [],
   "source": [
    "# Standardise names \n",
    "kb_entities['name']=kb_entities['name'].str.title()"
   ]
  },
  {
   "cell_type": "code",
   "execution_count": 22,
   "id": "1a5d6c9e-9da5-4d47-a881-23638a51f07c",
   "metadata": {},
   "outputs": [],
   "source": [
    "# Ensure person name is included in all descriptions\n",
    "name_not_in_notes_indices=kb_entities[kb_entities.apply(lambda x: x['name'].lower() not in x['desc'].lower(),axis=1)].index.values\n",
    "naming_string = 'This person is called '\n",
    "kb_entities.loc[name_not_in_notes_indices,'desc'] = kb_entities.loc[name_not_in_notes_indices].apply(lambda x: naming_string + x['name'] + '. ' + x['desc'],axis=1)"
   ]
  },
  {
   "cell_type": "code",
   "execution_count": 23,
   "id": "e3d41a62-0870-4f13-88d8-c7987a69df1e",
   "metadata": {},
   "outputs": [],
   "source": [
    "# Ensure descriptions end in stop mark\n",
    "kb_entities.loc[~kb_entities['desc'].isna(),'desc']=kb_entities.loc[~kb_entities['desc'].isna(),'desc'].apply(lambda x: x + '.' if x[-1]!='.' else x)"
   ]
  },
  {
   "cell_type": "code",
   "execution_count": 24,
   "id": "592dda25-5356-48d8-b112-147972cb06ba",
   "metadata": {},
   "outputs": [],
   "source": [
    "# Clean up data by removing multiple trailing stop marks\n",
    "multi_stopmarks_expr = re.compile('\\.\\s?\\.')\n",
    "\n",
    "for expr in [multi_stopmarks_expr]:\n",
    "    # Replace expression in string\n",
    "    kb_entities.loc[~kb_entities['desc'].isna(),'desc']=kb_entities.loc[~kb_entities['desc'].isna(),'desc'].apply(lambda x: ''.join([re.sub(expr, '. ', x)]))"
   ]
  },
  {
   "cell_type": "code",
   "execution_count": 25,
   "id": "ed330b63-144f-4242-ae3f-611d614376f8",
   "metadata": {},
   "outputs": [],
   "source": [
    "# Add KB URLs\n",
    "kb_entities['kb_url']=kb_entities.apply(\n",
    "    lambda x: [url_generator(x['id'],x['name'], 'open_sanctions') \n",
    "                             if x['kb_origin']=='open_sanctions' \n",
    "                             else url_generator(x['id'],x['name'], 'lilsis') \n",
    "                                                  ][0],1\n",
    ")"
   ]
  },
  {
   "cell_type": "markdown",
   "id": "535ce483-8bfd-4219-bdc5-b34208ce510b",
   "metadata": {},
   "source": [
    "## Export KB dataset"
   ]
  },
  {
   "cell_type": "code",
   "execution_count": 26,
   "id": "32306bb3-09c1-4d9a-abcc-d34d3ff674a2",
   "metadata": {},
   "outputs": [],
   "source": [
    "dataset='full'\n",
    "kb_iteration=dt.datetime.now().strftime('%Y_%m_%d')\n",
    "dataset=f'{dataset}_{kb_iteration}'\n",
    "kb_entities.to_csv(f'../assets/kb_entities_{dataset}.csv')"
   ]
  }
 ],
 "metadata": {
  "kernelspec": {
   "display_name": "Python 3 (ipykernel)",
   "language": "python",
   "name": "python3"
  },
  "language_info": {
   "codemirror_mode": {
    "name": "ipython",
    "version": 3
   },
   "file_extension": ".py",
   "mimetype": "text/x-python",
   "name": "python",
   "nbconvert_exporter": "python",
   "pygments_lexer": "ipython3",
   "version": "3.7.13"
  }
 },
 "nbformat": 4,
 "nbformat_minor": 5
}
