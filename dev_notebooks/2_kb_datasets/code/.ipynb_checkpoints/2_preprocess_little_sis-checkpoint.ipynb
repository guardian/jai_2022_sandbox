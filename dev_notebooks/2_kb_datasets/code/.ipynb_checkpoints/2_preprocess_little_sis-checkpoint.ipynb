{
 "cells": [
  {
   "cell_type": "markdown",
   "id": "b7cfc627-1d18-4e0a-ae70-62f0da90891f",
   "metadata": {},
   "source": [
    "# Import and preprocess LittleSis dataset"
   ]
  },
  {
   "cell_type": "code",
   "execution_count": 1,
   "id": "379c75c2-cc6e-4ffc-b107-6ead5bfa1b99",
   "metadata": {},
   "outputs": [],
   "source": [
    "import pandas as pd\n",
    "import json\n",
    "import glob"
   ]
  },
  {
   "cell_type": "code",
   "execution_count": 2,
   "id": "f54d50aa-61ab-43d5-ae97-dad6c988b927",
   "metadata": {},
   "outputs": [],
   "source": [
    "pd.set_option('display.max_rows', 500)\n",
    "pd.set_option('display.max_columns', 500)\n",
    "pd.set_option('display.width', 1000)"
   ]
  },
  {
   "cell_type": "code",
   "execution_count": 3,
   "id": "6aca8487-60c9-4ad2-a80e-134a448508d5",
   "metadata": {},
   "outputs": [],
   "source": [
    "def combine_dictionaries(list_of_dicts):\n",
    "    result = {}\n",
    "    for d in list_of_dicts:\n",
    "        result.update(d)\n",
    "    return result"
   ]
  },
  {
   "cell_type": "markdown",
   "id": "057be8a0-3817-43e2-93c0-77ee82037c08",
   "metadata": {},
   "source": [
    "## Download open sanctions data as .json"
   ]
  },
  {
   "cell_type": "raw",
   "id": "47c19df6-fe9e-4f03-a478-beda3e207551",
   "metadata": {},
   "source": [
    "NB: the original dataset can be retrieved from an S3 bucket. Please refer to /1_sample_gu_paragraphs/code/2_spacy_trf_model_all_files.ipynb. Alternatively an updated dataset can be manually downloaded from https://littlesis.org/  "
   ]
  },
  {
   "cell_type": "code",
   "execution_count": 4,
   "id": "2602082c-4908-4b80-9df2-91dacd2d3c7a",
   "metadata": {},
   "outputs": [],
   "source": [
    "# open .json file\n",
    "f = open('../assets/entities.json')\n",
    "data = json.load(f)\n",
    "# Read data into dataframe \n",
    "d={}\n",
    "for ent in data:\n",
    "    row=pd.DataFrame.from_dict(ent['attributes'], orient='index')\n",
    "    d[ent['id']-1]=row.transpose().iloc[0]\n",
    "data=pd.DataFrame.from_dict(d,orient='index')"
   ]
  },
  {
   "cell_type": "markdown",
   "id": "14bb45ac-6b50-48dd-877e-6d2bb484c3b9",
   "metadata": {},
   "source": [
    "## Wrangle data"
   ]
  },
  {
   "cell_type": "code",
   "execution_count": 5,
   "id": "5875f932-668d-4509-b7f5-f6eb0677adae",
   "metadata": {},
   "outputs": [],
   "source": [
    "# Filter out non-PERSON entities (for a PERSON only EL model) \n",
    "data=data[data['primary_ext']=='Person']"
   ]
  },
  {
   "cell_type": "code",
   "execution_count": 6,
   "id": "ac257f53-173a-4a7e-86dd-4a930cb307ad",
   "metadata": {},
   "outputs": [
    {
     "data": {
      "text/plain": [
       "(284620, 13)"
      ]
     },
     "execution_count": 6,
     "metadata": {},
     "output_type": "execute_result"
    }
   ],
   "source": [
    "data.shape"
   ]
  },
  {
   "cell_type": "code",
   "execution_count": 7,
   "id": "78023fe5-c786-4edb-ba73-dff76864c0ad",
   "metadata": {},
   "outputs": [
    {
     "data": {
      "text/plain": [
       "284620"
      ]
     },
     "execution_count": 7,
     "metadata": {},
     "output_type": "execute_result"
    }
   ],
   "source": [
    "data['id'].nunique()"
   ]
  },
  {
   "cell_type": "code",
   "execution_count": 8,
   "id": "64cff801-e299-45d6-b537-9dcbbf0cf705",
   "metadata": {},
   "outputs": [
    {
     "data": {
      "text/plain": [
       "273467"
      ]
     },
     "execution_count": 8,
     "metadata": {},
     "output_type": "execute_result"
    }
   ],
   "source": [
    "data['name'].nunique()"
   ]
  },
  {
   "cell_type": "code",
   "execution_count": 9,
   "id": "26e82078-36fc-44a3-a96f-e0da5f523811",
   "metadata": {},
   "outputs": [
    {
     "data": {
      "text/plain": [
       "1005           Mr.  Questrom was the Chairman and CEO of J.\n",
       "1006      Ms.  Wolf is the former Chairman and CEO of Le...\n",
       "1007      Ms.  Alvarez is the former Administrator of th...\n",
       "1008      Mr.  Penner has been a General Partner at Madr...\n",
       "1009      Mr.  Breyer is a Managing Partner of Accel Par...\n",
       "                                ...                        \n",
       "427650                                                    .\n",
       "427651                                                    .\n",
       "427652                                                    .\n",
       "427654                                                    .\n",
       "427656                                                    .\n",
       "Name: summary, Length: 284620, dtype: object"
      ]
     },
     "execution_count": 9,
     "metadata": {},
     "output_type": "execute_result"
    }
   ],
   "source": [
    "# Insert alias into context field (for later encoding and use in training an EL model) \n",
    "data['blurb'] = data['name'] + ' is a ' + data['blurb'] + '.'\n",
    "# Edit summary field\n",
    "data['summary'].fillna('').str.split('.').apply(lambda x: '. '.join(x[:2]) + '.')"
   ]
  },
  {
   "cell_type": "code",
   "execution_count": 10,
   "id": "e26b2392-b3b1-4626-83c1-4ca48d793904",
   "metadata": {},
   "outputs": [],
   "source": [
    "# Transform start date into sentence\n",
    "data.loc[~data['start_date'].isnull(),'start_date_sentence']=data.loc[~data['start_date'].isnull(),'start_date'].apply(lambda x: f'This person was born in {x}.')"
   ]
  },
  {
   "cell_type": "code",
   "execution_count": 11,
   "id": "3162c77c-990e-493a-b7c4-d191d69d7cdd",
   "metadata": {},
   "outputs": [],
   "source": [
    "# Transform end date into sentence\n",
    "data.loc[~data['end_date'].isnull(),'end_date_sentence']=data.loc[~data['end_date'].isnull(),'end_date'].apply(lambda x: f'This person died in {x}.')"
   ]
  },
  {
   "cell_type": "code",
   "execution_count": 12,
   "id": "ba34d318-b9f1-4e63-8114-93524a531fe0",
   "metadata": {},
   "outputs": [
    {
     "name": "stderr",
     "output_type": "stream",
     "text": [
      "/Users/luis_flores/.local/share/virtualenvs/nel-mBUv7xk_/lib/python3.7/site-packages/ipykernel_launcher.py:5: FutureWarning: The default value of regex will change from True to False in a future version.\n",
      "  \"\"\"\n"
     ]
    }
   ],
   "source": [
    "# Transform types into sentence\n",
    "data['types']=data['types'].apply(lambda x:' '.join(x)).str.replace('Person','')\n",
    "data['types']=data['types'].str.replace(' ',', ').apply(lambda x: 'This person is associated with: '+x[1:]+'.')\n",
    "# Fix typos\n",
    "data['types']=data['types'].str.replace(', ,',',').str.replace(', \\.','.').str.replace('Media, ality','Media Personality')\n",
    "# Remove sentences without context \n",
    "data.loc[data['types']=='This person is associated with: .','types']=''"
   ]
  },
  {
   "cell_type": "code",
   "execution_count": 13,
   "id": "0502d93a-578f-470f-91d8-302b7d063358",
   "metadata": {},
   "outputs": [
    {
     "name": "stderr",
     "output_type": "stream",
     "text": [
      "/Users/luis_flores/.local/share/virtualenvs/nel-mBUv7xk_/lib/python3.7/site-packages/ipykernel_launcher.py:4: FutureWarning: In a future version of pandas all arguments of DataFrame.drop except for the argument 'labels' will be keyword-only\n",
      "  after removing the cwd from sys.path.\n"
     ]
    }
   ],
   "source": [
    "# Concatenate information from blurb and summary fields together into single context field\n",
    "data['context'] = data['blurb'].fillna('') + ' ' + data['summary'].fillna('')\n",
    "data['context']=data['context'].str.replace('\\r','').str.replace('\\n', '')\n",
    "data.drop(['blurb','summary', 'updated_at', 'parent_id'],1,inplace=True)"
   ]
  },
  {
   "cell_type": "code",
   "execution_count": 14,
   "id": "77753f16-69b0-40e4-afc7-c9e46c1ed73e",
   "metadata": {},
   "outputs": [
    {
     "data": {
      "text/plain": [
       "(284620, 12)"
      ]
     },
     "execution_count": 14,
     "metadata": {},
     "output_type": "execute_result"
    }
   ],
   "source": [
    "data.shape"
   ]
  },
  {
   "cell_type": "code",
   "execution_count": 15,
   "id": "91b47f88-90f5-42e0-b2c6-bc1d41e97d1e",
   "metadata": {},
   "outputs": [
    {
     "data": {
      "text/html": [
       "<div>\n",
       "<style scoped>\n",
       "    .dataframe tbody tr th:only-of-type {\n",
       "        vertical-align: middle;\n",
       "    }\n",
       "\n",
       "    .dataframe tbody tr th {\n",
       "        vertical-align: top;\n",
       "    }\n",
       "\n",
       "    .dataframe thead th {\n",
       "        text-align: right;\n",
       "    }\n",
       "</style>\n",
       "<table border=\"1\" class=\"dataframe\">\n",
       "  <thead>\n",
       "    <tr style=\"text-align: right;\">\n",
       "      <th></th>\n",
       "      <th>id</th>\n",
       "      <th>name</th>\n",
       "      <th>website</th>\n",
       "      <th>primary_ext</th>\n",
       "      <th>start_date</th>\n",
       "      <th>end_date</th>\n",
       "      <th>aliases</th>\n",
       "      <th>types</th>\n",
       "      <th>extensions</th>\n",
       "      <th>start_date_sentence</th>\n",
       "      <th>end_date_sentence</th>\n",
       "      <th>context</th>\n",
       "    </tr>\n",
       "  </thead>\n",
       "  <tbody>\n",
       "    <tr>\n",
       "      <th>1005</th>\n",
       "      <td>1006</td>\n",
       "      <td>Allen I Questrom</td>\n",
       "      <td>None</td>\n",
       "      <td>Person</td>\n",
       "      <td>1940-04-13</td>\n",
       "      <td>None</td>\n",
       "      <td>[Allen I Questrom, Mr Allen Irving Questrom]</td>\n",
       "      <td>This person is associated with:  Business.</td>\n",
       "      <td>{'Person': {'name_last': 'Questrom', 'name_fir...</td>\n",
       "      <td>This person was born in 1940-04-13.</td>\n",
       "      <td>NaN</td>\n",
       "      <td>Allen I Questrom is a former chairman &amp; CEO of...</td>\n",
       "    </tr>\n",
       "    <tr>\n",
       "      <th>1006</th>\n",
       "      <td>1007</td>\n",
       "      <td>Linda S Wolf</td>\n",
       "      <td>None</td>\n",
       "      <td>Person</td>\n",
       "      <td>None</td>\n",
       "      <td>None</td>\n",
       "      <td>[Linda S Wolf, Ms Linda S. Wolf]</td>\n",
       "      <td>This person is associated with:  Business.</td>\n",
       "      <td>{'Person': {'name_last': 'Wolf', 'name_first':...</td>\n",
       "      <td>NaN</td>\n",
       "      <td>NaN</td>\n",
       "      <td>Ms. Wolf is the former Chairman and CEO of Le...</td>\n",
       "    </tr>\n",
       "  </tbody>\n",
       "</table>\n",
       "</div>"
      ],
      "text/plain": [
       "        id              name website primary_ext  start_date end_date                                       aliases                                       types                                         extensions                  start_date_sentence end_date_sentence                                            context\n",
       "1005  1006  Allen I Questrom    None      Person  1940-04-13     None  [Allen I Questrom, Mr Allen Irving Questrom]  This person is associated with:  Business.  {'Person': {'name_last': 'Questrom', 'name_fir...  This person was born in 1940-04-13.               NaN  Allen I Questrom is a former chairman & CEO of...\n",
       "1006  1007      Linda S Wolf    None      Person        None     None              [Linda S Wolf, Ms Linda S. Wolf]  This person is associated with:  Business.  {'Person': {'name_last': 'Wolf', 'name_first':...                                  NaN               NaN   Ms. Wolf is the former Chairman and CEO of Le..."
      ]
     },
     "execution_count": 15,
     "metadata": {},
     "output_type": "execute_result"
    }
   ],
   "source": [
    "data.head(2)"
   ]
  },
  {
   "cell_type": "code",
   "execution_count": 16,
   "id": "6d3cea34-7d11-46c3-9858-74f7628872f9",
   "metadata": {},
   "outputs": [
    {
     "name": "stderr",
     "output_type": "stream",
     "text": [
      "/Users/luis_flores/.local/share/virtualenvs/nel-mBUv7xk_/lib/python3.7/site-packages/ipykernel_launcher.py:14: FutureWarning: In a future version of pandas all arguments of DataFrame.drop except for the argument 'labels' will be keyword-only\n",
      "  \n"
     ]
    }
   ],
   "source": [
    "# Extract extra contexual info from extensions field\n",
    "data['extensions']=data['extensions'].apply(lambda r: [r[key] for key in r.keys()])\n",
    "unique_extension_keys_extension_keys=[]\n",
    "df=data['extensions'].apply(lambda r: list(combine_dictionaries(r).keys()))\n",
    "for row in df:\n",
    "    unique_extension_keys_extension_keys.extend(row)\n",
    "del(df)\n",
    "# manual selection of columns in  extension_fields - most other fields were useless, sparse or null\n",
    "extensions_fields=['birthplace']\n",
    "valid_indices=data[data['extensions'].apply(lambda x: len(x))>0].index.values\n",
    "for field in extensions_fields:\n",
    "    data.loc[valid_indices,field]=data.loc[valid_indices,'extensions'].apply(lambda x: [x[0][field] if field in x[0] else None][0])\n",
    "# drop column\n",
    "data.drop(['extensions'],1,inplace=True)"
   ]
  },
  {
   "cell_type": "code",
   "execution_count": 17,
   "id": "da7845f1-d9d0-4ae3-b860-3d093dbdbd1e",
   "metadata": {},
   "outputs": [],
   "source": [
    "# Transform birth place into sentence\n",
    "data.loc[~data['birthplace'].isnull(),'birthplace']=data.loc[~data['birthplace'].isnull(),'birthplace'].apply(lambda x: f'This person was born in {x}.')"
   ]
  },
  {
   "cell_type": "code",
   "execution_count": 18,
   "id": "e756a36a-a33d-4b92-be0c-cd4f27841cdf",
   "metadata": {},
   "outputs": [],
   "source": [
    "# Concatenate extra info into context field\n",
    "extra_context_cols=['start_date_sentence','end_date_sentence','types','birthplace']\n",
    "for col in extra_context_cols:\n",
    "    data['context'] = data['context'] + ' ' + data[col].fillna('')"
   ]
  },
  {
   "cell_type": "markdown",
   "id": "eb183a08-8a2c-42f9-bfa5-2642ab6678d1",
   "metadata": {},
   "source": [
    "## Export dataset"
   ]
  },
  {
   "cell_type": "code",
   "execution_count": 19,
   "id": "eb74c5cb-2676-4680-a27b-8c14da19dd58",
   "metadata": {},
   "outputs": [],
   "source": [
    "data.to_csv('../assets/lilsis_entities.csv')"
   ]
  }
 ],
 "metadata": {
  "kernelspec": {
   "display_name": "Python 3 (ipykernel)",
   "language": "python",
   "name": "python3"
  },
  "language_info": {
   "codemirror_mode": {
    "name": "ipython",
    "version": 3
   },
   "file_extension": ".py",
   "mimetype": "text/x-python",
   "name": "python",
   "nbconvert_exporter": "python",
   "pygments_lexer": "ipython3",
   "version": "3.7.13"
  }
 },
 "nbformat": 4,
 "nbformat_minor": 5
}
