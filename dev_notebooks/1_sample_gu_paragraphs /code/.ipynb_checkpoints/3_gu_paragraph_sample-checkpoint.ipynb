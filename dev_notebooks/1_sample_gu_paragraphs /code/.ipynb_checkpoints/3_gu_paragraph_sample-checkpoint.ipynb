{
 "cells": [
  {
   "cell_type": "markdown",
   "id": "320603d1-d02a-4db4-a4ad-e3b161126c06",
   "metadata": {
    "tags": []
   },
   "source": [
    "# Sample paragraphs from downsampled Guardian content to use in EL train/test datasets"
   ]
  },
  {
   "cell_type": "code",
   "execution_count": 1,
   "id": "c3db551c-cc70-4a9d-8917-142ff36c9cb5",
   "metadata": {
    "tags": []
   },
   "outputs": [],
   "source": [
    "import pandas as pd\n",
    "import glob\n",
    "from datetime import datetime\n",
    "from bs4 import BeautifulSoup\n",
    "import random "
   ]
  },
  {
   "cell_type": "code",
   "execution_count": 2,
   "id": "af77d0d1-87d0-406b-a1c4-b55da1341b6b",
   "metadata": {},
   "outputs": [],
   "source": [
    "# set random number seed\n",
    "rng_seed=42"
   ]
  },
  {
   "cell_type": "code",
   "execution_count": 3,
   "id": "5fe6d277-a8f0-4409-9421-d9d3f5e28f68",
   "metadata": {},
   "outputs": [],
   "source": [
    "def get_article_paragraphs(html_text: str):\n",
    "    \n",
    "    \"\"\" Takes the full html of an article (CAPI format) and strips out all HTML tags. \n",
    "        Creates paragraphs from the <p></p> HTML items.\n",
    "\n",
    "        :param text: the raw HTML of an article\n",
    "        \n",
    "        returns: article paragraphs: list(str)\n",
    "        \"\"\"\n",
    "\n",
    "    soup = BeautifulSoup(html_text, features=\"html.parser\")\n",
    "    \n",
    "    # Remove article embellishments (sub-headings, figures, asides, etc.) \n",
    "    for h2 in soup.find_all('h2'):\n",
    "        try:\n",
    "            soup.h2.extract()\n",
    "        except:\n",
    "            pass\n",
    "    \n",
    "    for span in soup.find_all('span'):\n",
    "        try:            \n",
    "            soup.span.extract()\n",
    "        except:\n",
    "            pass\n",
    "\n",
    "    for aside in soup.find_all('aside'):\n",
    "        try:\n",
    "            soup.aside.extract()\n",
    "        except:\n",
    "            pass\n",
    "    \n",
    "    for figure in soup.find_all('figure'):\n",
    "        try:\n",
    "            soup.figure.extract()\n",
    "        except:\n",
    "            pass\n",
    "        \n",
    "    for a in soup.find_all('a'):\n",
    "        a.unwrap()\n",
    "        \n",
    "    paragraphs = [p.getText() for p in  soup.find_all('p')]\n",
    "    \n",
    "    return paragraphs"
   ]
  },
  {
   "cell_type": "markdown",
   "id": "5b15996f-2a0e-4e1f-92cf-899f30f831a7",
   "metadata": {},
   "source": [
    "## Select guardian articles belonging to handpicked sections (politics, business, crime, ...)"
   ]
  },
  {
   "cell_type": "code",
   "execution_count": 4,
   "id": "439bd60a-055c-44fe-86d0-3b35d4f22533",
   "metadata": {},
   "outputs": [],
   "source": [
    "# Concat all articles\n",
    "gu_body_texts=''\n",
    "first_cycle=1\n",
    "for gu_file in glob.glob('../assets/sampled_*'):\n",
    "    if 'ner' not in gu_file:\n",
    "        year=gu_file.split('_')[-1].split('.')[-2]\n",
    "        gu_article=pd.read_csv(gu_file)\n",
    "        #gu_article=gu_article[['body_text']]\n",
    "        gu_article['article_year']=int(year)\n",
    "        gu_article['doc_index']=gu_article.index.values\n",
    "        if first_cycle:\n",
    "            gu_body_texts=gu_article\n",
    "            first_cycle=0\n",
    "        else:\n",
    "            gu_body_texts=pd.concat([gu_body_texts, gu_article],ignore_index=True)\n",
    "gu_body_texts.dropna(subset=['body_text'],inplace=True)"
   ]
  },
  {
   "cell_type": "code",
   "execution_count": 5,
   "id": "29928ede-d861-4e1d-88fd-5cf073bd3b70",
   "metadata": {},
   "outputs": [],
   "source": [
    "# Filter out non-article content\n",
    "# Removed liveblogs as they have several url pages making it difficult for the annotator to identify the paragraph/context where the mention appears\n",
    "gu_body_texts=gu_body_texts[gu_body_texts['content_type']=='Article']"
   ]
  },
  {
   "cell_type": "code",
   "execution_count": 6,
   "id": "cee93019-fa97-4e9f-af62-72f4f3843339",
   "metadata": {},
   "outputs": [],
   "source": [
    "# Manual selection of relevant sections - likely to contain political/crime/corruption related articles \n",
    "gu_body_texts=gu_body_texts[gu_body_texts['section_id'].isin(['law', 'global','global-development', 'news', 'world', 'uk-news', 'us-news', 'business','politics'])]"
   ]
  },
  {
   "cell_type": "code",
   "execution_count": 7,
   "id": "21ba3f4e-00c3-4ba5-8f5d-794218d2a33a",
   "metadata": {},
   "outputs": [],
   "source": [
    "gu_sample=gu_body_texts"
   ]
  },
  {
   "cell_type": "code",
   "execution_count": 8,
   "id": "ce302439-8e44-4744-bd8a-34eebbd660df",
   "metadata": {},
   "outputs": [
    {
     "data": {
      "text/html": [
       "<div>\n",
       "<style scoped>\n",
       "    .dataframe tbody tr th:only-of-type {\n",
       "        vertical-align: middle;\n",
       "    }\n",
       "\n",
       "    .dataframe tbody tr th {\n",
       "        vertical-align: top;\n",
       "    }\n",
       "\n",
       "    .dataframe thead th {\n",
       "        text-align: right;\n",
       "    }\n",
       "</style>\n",
       "<table border=\"1\" class=\"dataframe\">\n",
       "  <thead>\n",
       "    <tr style=\"text-align: right;\">\n",
       "      <th></th>\n",
       "      <th>path</th>\n",
       "      <th>headline</th>\n",
       "      <th>url</th>\n",
       "      <th>content_type</th>\n",
       "      <th>section_id</th>\n",
       "      <th>pillar_id</th>\n",
       "      <th>web_publication_date</th>\n",
       "      <th>word_count</th>\n",
       "      <th>trail_text</th>\n",
       "      <th>production_office</th>\n",
       "      <th>byline</th>\n",
       "      <th>body_text</th>\n",
       "      <th>body_html</th>\n",
       "      <th>keyword_tag</th>\n",
       "      <th>article_year</th>\n",
       "      <th>doc_index</th>\n",
       "    </tr>\n",
       "  </thead>\n",
       "  <tbody>\n",
       "    <tr>\n",
       "      <th>0</th>\n",
       "      <td>/law/commentisfree/2022/mar/26/jurors-who-sat-...</td>\n",
       "      <td>Jurors who sat in the Zachary Rolfe murder tri...</td>\n",
       "      <td>www.theguardian.com/law/commentisfree/2022/mar...</td>\n",
       "      <td>Article</td>\n",
       "      <td>law</td>\n",
       "      <td>pillar/news</td>\n",
       "      <td>2022-03-25 22:24:09+00:00</td>\n",
       "      <td>1114</td>\n",
       "      <td>In criminal trials, the information that is ex...</td>\n",
       "      <td>Aus</td>\n",
       "      <td>Richard Ackland</td>\n",
       "      <td>Jurors who sat on the Zachary Rolfe murder tri...</td>\n",
       "      <td>&lt;p&gt;Jurors who sat on the Zachary Rolfe murder ...</td>\n",
       "      <td>['law/law-australia' 'australia-news/australia...</td>\n",
       "      <td>2022</td>\n",
       "      <td>0</td>\n",
       "    </tr>\n",
       "    <tr>\n",
       "      <th>3</th>\n",
       "      <td>/law/2022/apr/29/barrister-allison-bailey-ston...</td>\n",
       "      <td>Barrister was discriminated against for gender...</td>\n",
       "      <td>www.theguardian.com/law/2022/apr/29/barrister-...</td>\n",
       "      <td>Article</td>\n",
       "      <td>law</td>\n",
       "      <td>pillar/news</td>\n",
       "      <td>2022-04-29 12:23:43+00:00</td>\n",
       "      <td>621</td>\n",
       "      <td>Allison Bailey says Garden Court chambers and ...</td>\n",
       "      <td>Uk</td>\n",
       "      <td>Haroon Siddique Legal affairs correspondent</td>\n",
       "      <td>A barrister was unlawfully discriminated again...</td>\n",
       "      <td>&lt;p&gt;A barrister was unlawfully discriminated ag...</td>\n",
       "      <td>['law/employment-law' 'law/law' 'world/gender'...</td>\n",
       "      <td>2022</td>\n",
       "      <td>3</td>\n",
       "    </tr>\n",
       "    <tr>\n",
       "      <th>4</th>\n",
       "      <td>/law/2022/jun/17/sonia-sotomayor-supreme-court...</td>\n",
       "      <td>Sonia Sotomayor says supreme court’s ‘mistakes...</td>\n",
       "      <td>www.theguardian.com/law/2022/jun/17/sonia-soto...</td>\n",
       "      <td>Article</td>\n",
       "      <td>law</td>\n",
       "      <td>pillar/news</td>\n",
       "      <td>2022-06-17 09:00:06+00:00</td>\n",
       "      <td>483</td>\n",
       "      <td>Liberal-leaning justice says ‘there are days I...</td>\n",
       "      <td>Us</td>\n",
       "      <td>Guardian staff and agencies</td>\n",
       "      <td>The liberal-leaning supreme court justice Soni...</td>\n",
       "      <td>&lt;p&gt;The liberal-leaning supreme court justice S...</td>\n",
       "      <td>['law/us-supreme-court' 'us-news/us-news']</td>\n",
       "      <td>2022</td>\n",
       "      <td>4</td>\n",
       "    </tr>\n",
       "    <tr>\n",
       "      <th>8</th>\n",
       "      <td>/law/2022/apr/29/its-part-of-our-culture-to-ma...</td>\n",
       "      <td>‘It’s part of our culture to marginalize minor...</td>\n",
       "      <td>www.theguardian.com/law/2022/apr/29/its-part-o...</td>\n",
       "      <td>Article</td>\n",
       "      <td>law</td>\n",
       "      <td>pillar/news</td>\n",
       "      <td>2022-04-29 21:37:57+00:00</td>\n",
       "      <td>1285</td>\n",
       "      <td>The prominent civil rights attorney represente...</td>\n",
       "      <td>Us</td>\n",
       "      <td>Edwin Rios</td>\n",
       "      <td>Civil rights attorney Ben Crump sees a through...</td>\n",
       "      <td>&lt;p&gt;Civil rights attorney Ben Crump sees a thro...</td>\n",
       "      <td>['law/law-us' 'world/race']</td>\n",
       "      <td>2022</td>\n",
       "      <td>8</td>\n",
       "    </tr>\n",
       "    <tr>\n",
       "      <th>10</th>\n",
       "      <td>/law/2022/jul/22/legislating-against-lying-wou...</td>\n",
       "      <td>Legislating against lying would do more harm t...</td>\n",
       "      <td>www.theguardian.com/law/2022/jul/22/legislatin...</td>\n",
       "      <td>Article</td>\n",
       "      <td>law</td>\n",
       "      <td>pillar/news</td>\n",
       "      <td>2022-07-22 16:52:59+00:00</td>\n",
       "      <td>427</td>\n",
       "      <td>&lt;strong&gt;Letters: &lt;/strong&gt;Attacking freedom of...</td>\n",
       "      <td>Uk</td>\n",
       "      <td>Letters</td>\n",
       "      <td>My friend Dr Sam Fowles’s proposal for a “trut...</td>\n",
       "      <td>&lt;p&gt;My friend Dr Sam Fowles’s proposal for a “t...</td>\n",
       "      <td>['law/law' 'politics/politics' 'media/media' '...</td>\n",
       "      <td>2022</td>\n",
       "      <td>10</td>\n",
       "    </tr>\n",
       "  </tbody>\n",
       "</table>\n",
       "</div>"
      ],
      "text/plain": [
       "                                                 path  \\\n",
       "0   /law/commentisfree/2022/mar/26/jurors-who-sat-...   \n",
       "3   /law/2022/apr/29/barrister-allison-bailey-ston...   \n",
       "4   /law/2022/jun/17/sonia-sotomayor-supreme-court...   \n",
       "8   /law/2022/apr/29/its-part-of-our-culture-to-ma...   \n",
       "10  /law/2022/jul/22/legislating-against-lying-wou...   \n",
       "\n",
       "                                             headline  \\\n",
       "0   Jurors who sat in the Zachary Rolfe murder tri...   \n",
       "3   Barrister was discriminated against for gender...   \n",
       "4   Sonia Sotomayor says supreme court’s ‘mistakes...   \n",
       "8   ‘It’s part of our culture to marginalize minor...   \n",
       "10  Legislating against lying would do more harm t...   \n",
       "\n",
       "                                                  url content_type section_id  \\\n",
       "0   www.theguardian.com/law/commentisfree/2022/mar...      Article        law   \n",
       "3   www.theguardian.com/law/2022/apr/29/barrister-...      Article        law   \n",
       "4   www.theguardian.com/law/2022/jun/17/sonia-soto...      Article        law   \n",
       "8   www.theguardian.com/law/2022/apr/29/its-part-o...      Article        law   \n",
       "10  www.theguardian.com/law/2022/jul/22/legislatin...      Article        law   \n",
       "\n",
       "      pillar_id       web_publication_date  word_count  \\\n",
       "0   pillar/news  2022-03-25 22:24:09+00:00        1114   \n",
       "3   pillar/news  2022-04-29 12:23:43+00:00         621   \n",
       "4   pillar/news  2022-06-17 09:00:06+00:00         483   \n",
       "8   pillar/news  2022-04-29 21:37:57+00:00        1285   \n",
       "10  pillar/news  2022-07-22 16:52:59+00:00         427   \n",
       "\n",
       "                                           trail_text production_office  \\\n",
       "0   In criminal trials, the information that is ex...               Aus   \n",
       "3   Allison Bailey says Garden Court chambers and ...                Uk   \n",
       "4   Liberal-leaning justice says ‘there are days I...                Us   \n",
       "8   The prominent civil rights attorney represente...                Us   \n",
       "10  <strong>Letters: </strong>Attacking freedom of...                Uk   \n",
       "\n",
       "                                         byline  \\\n",
       "0                               Richard Ackland   \n",
       "3   Haroon Siddique Legal affairs correspondent   \n",
       "4                   Guardian staff and agencies   \n",
       "8                                    Edwin Rios   \n",
       "10                                      Letters   \n",
       "\n",
       "                                            body_text  \\\n",
       "0   Jurors who sat on the Zachary Rolfe murder tri...   \n",
       "3   A barrister was unlawfully discriminated again...   \n",
       "4   The liberal-leaning supreme court justice Soni...   \n",
       "8   Civil rights attorney Ben Crump sees a through...   \n",
       "10  My friend Dr Sam Fowles’s proposal for a “trut...   \n",
       "\n",
       "                                            body_html  \\\n",
       "0   <p>Jurors who sat on the Zachary Rolfe murder ...   \n",
       "3   <p>A barrister was unlawfully discriminated ag...   \n",
       "4   <p>The liberal-leaning supreme court justice S...   \n",
       "8   <p>Civil rights attorney Ben Crump sees a thro...   \n",
       "10  <p>My friend Dr Sam Fowles’s proposal for a “t...   \n",
       "\n",
       "                                          keyword_tag  article_year  doc_index  \n",
       "0   ['law/law-australia' 'australia-news/australia...          2022          0  \n",
       "3   ['law/employment-law' 'law/law' 'world/gender'...          2022          3  \n",
       "4          ['law/us-supreme-court' 'us-news/us-news']          2022          4  \n",
       "8                         ['law/law-us' 'world/race']          2022          8  \n",
       "10  ['law/law' 'politics/politics' 'media/media' '...          2022         10  "
      ]
     },
     "execution_count": 8,
     "metadata": {},
     "output_type": "execute_result"
    }
   ],
   "source": [
    "gu_sample.head()"
   ]
  },
  {
   "cell_type": "code",
   "execution_count": 9,
   "id": "88c5cc1a-ca84-45cd-ae91-fb4503fe8765",
   "metadata": {},
   "outputs": [
    {
     "data": {
      "text/plain": [
       "(9098, 16)"
      ]
     },
     "execution_count": 9,
     "metadata": {},
     "output_type": "execute_result"
    }
   ],
   "source": [
    "gu_sample.shape"
   ]
  },
  {
   "cell_type": "markdown",
   "id": "196b0f3e-6544-408f-b798-2963652a9c13",
   "metadata": {
    "tags": []
   },
   "source": [
    "## Read in raw KB dataset"
   ]
  },
  {
   "cell_type": "raw",
   "id": "b5687f79-a6b5-4246-ade9-5721f2def77c",
   "metadata": {},
   "source": [
    "NB: The raw KB dataset file needs to be generated within the 2_kb_datasets/ folder. This is important for sampling because the vast majority of Guardian paragraphs do not contain any mentions of interest for linking, and thus need to be filtered out to speed up the annotation process. "
   ]
  },
  {
   "cell_type": "code",
   "execution_count": 10,
   "id": "e48b12c5-5525-4e46-8897-e1302bc219b1",
   "metadata": {
    "tags": []
   },
   "outputs": [
    {
     "name": "stderr",
     "output_type": "stream",
     "text": [
      "/Users/luis_flores/.local/share/virtualenvs/nel-mBUv7xk_/lib/python3.7/site-packages/IPython/core/interactiveshell.py:3553: DtypeWarning: Columns (2,7,11) have mixed types.Specify dtype option on import or set low_memory=False.\n",
      "  exec(code_obj, self.user_global_ns, self.user_ns)\n"
     ]
    }
   ],
   "source": [
    "# Read in entities present in the KB to sample paragraphs with full name matches\n",
    "dataset='full'\n",
    "kb_iteration='2022_11_07'\n",
    "dataset=f'{dataset}_{kb_iteration}'\n",
    "entity_data=pd.read_csv(f'../../2_kb_datasets/assets/kb_entities_{dataset}.csv',index_col=0)"
   ]
  },
  {
   "cell_type": "code",
   "execution_count": 11,
   "id": "6d538a8a-554a-4d1d-bbda-19e63098bd45",
   "metadata": {},
   "outputs": [],
   "source": [
    "# Cast aliases as lower case \n",
    "aliases=entity_data['name'].str.lower()"
   ]
  },
  {
   "cell_type": "code",
   "execution_count": 12,
   "id": "9db79aa4-6496-4d51-b4a9-272c6a1527c0",
   "metadata": {},
   "outputs": [
    {
     "name": "stdout",
     "output_type": "stream",
     "text": [
      "There are 428519 entities in the KB dataset with 414002 unique aliases\n"
     ]
    }
   ],
   "source": [
    "print(f'There are {len(aliases)} entities in the KB dataset with {len(set(aliases))} unique aliases')"
   ]
  },
  {
   "cell_type": "markdown",
   "id": "47880b2c-01c9-41a1-8a63-28b6624aa917",
   "metadata": {},
   "source": [
    "## Load NER entities"
   ]
  },
  {
   "cell_type": "raw",
   "id": "cc09d69d-99e9-488b-b9f4-f328efa5ce5f",
   "metadata": {},
   "source": [
    "NB: Generated by running 2_spacy_trf_model_ner_all_files.ipynb"
   ]
  },
  {
   "cell_type": "code",
   "execution_count": 13,
   "id": "fc1ef270-22ea-4279-a245-059d062a30d9",
   "metadata": {},
   "outputs": [],
   "source": [
    "# Concat all ner files\n",
    "first_cycle=1\n",
    "for gu_file in glob.glob('../assets/sampled_*'):\n",
    "    if 'ner' in gu_file:\n",
    "        year = int(gu_file.split('/')[-1].split('_')[-2])\n",
    "        gu_article=pd.read_csv(gu_file, index_col=0)\n",
    "        gu_article['article_year']=year\n",
    "        if first_cycle:\n",
    "            gu_ents=gu_article\n",
    "            first_cycle=0\n",
    "        else:\n",
    "            gu_ents=pd.concat([gu_ents, gu_article],ignore_index=True)"
   ]
  },
  {
   "cell_type": "code",
   "execution_count": 14,
   "id": "49d0c321-89d7-456e-bb2e-db6993280325",
   "metadata": {},
   "outputs": [],
   "source": [
    "gu_ents=gu_ents.dropna()"
   ]
  },
  {
   "cell_type": "code",
   "execution_count": 15,
   "id": "67395d80-d1da-41e5-a2e8-d3e156122074",
   "metadata": {},
   "outputs": [],
   "source": [
    "# Rename entity column\n",
    "gu_ents.rename(columns={'text':'ents'}, inplace=True)"
   ]
  },
  {
   "cell_type": "markdown",
   "id": "46bf7975-69e7-4f83-9c9a-fde30b1a8da6",
   "metadata": {},
   "source": [
    "## Filter out content without potential NER/KB matches"
   ]
  },
  {
   "cell_type": "code",
   "execution_count": 16,
   "id": "db4e701a-116b-41c2-8d76-ca5b7ef1d9c0",
   "metadata": {},
   "outputs": [],
   "source": [
    "# Find entities with common aliases between KB and Guardian content\n",
    "gu_person_entities=gu_ents.loc[(gu_ents['label'] == 'PERSON'), 'ents'].unique()\n",
    "gu_ents_set=set([ent.lower() for ent in gu_person_entities])\n",
    "common_ents=set(gu_ents_set).intersection(set(aliases))"
   ]
  },
  {
   "cell_type": "code",
   "execution_count": 17,
   "id": "673acab2-a883-4a94-acb0-bae1c619db0d",
   "metadata": {},
   "outputs": [],
   "source": [
    "# Filter out irrelevant entities\n",
    "gu_ents=gu_ents[gu_ents['ents'].str.lower().isin(common_ents)]"
   ]
  },
  {
   "cell_type": "code",
   "execution_count": 18,
   "id": "38915ae1-b7b2-41ef-b5da-adcf533c30b6",
   "metadata": {},
   "outputs": [
    {
     "name": "stdout",
     "output_type": "stream",
     "text": [
      "There are 11990 common entities between kb and gu article sample\n"
     ]
    }
   ],
   "source": [
    "print('There are {} common entities between kb and gu article sample'.format(len(common_ents)))"
   ]
  },
  {
   "cell_type": "code",
   "execution_count": 19,
   "id": "9cf0ca07-c5d1-407d-8957-db00afd734e3",
   "metadata": {},
   "outputs": [
    {
     "data": {
      "text/plain": [
       "(9098, 16)"
      ]
     },
     "execution_count": 19,
     "metadata": {},
     "output_type": "execute_result"
    }
   ],
   "source": [
    "gu_sample.shape"
   ]
  },
  {
   "cell_type": "code",
   "execution_count": 20,
   "id": "557197ed-1392-496d-9cb4-67a7117214c9",
   "metadata": {},
   "outputs": [],
   "source": [
    "# Filter out content without potential EL matches\n",
    "content_with_common_ents=gu_sample[['doc_index','article_year']].merge(gu_ents[['doc_index','article_year']]).drop_duplicates()\n",
    "gu_sample=gu_sample.merge(content_with_common_ents)"
   ]
  },
  {
   "cell_type": "code",
   "execution_count": 21,
   "id": "8f21d853-17c3-4364-88a2-77151838aa2b",
   "metadata": {},
   "outputs": [
    {
     "data": {
      "text/html": [
       "<div>\n",
       "<style scoped>\n",
       "    .dataframe tbody tr th:only-of-type {\n",
       "        vertical-align: middle;\n",
       "    }\n",
       "\n",
       "    .dataframe tbody tr th {\n",
       "        vertical-align: top;\n",
       "    }\n",
       "\n",
       "    .dataframe thead th {\n",
       "        text-align: right;\n",
       "    }\n",
       "</style>\n",
       "<table border=\"1\" class=\"dataframe\">\n",
       "  <thead>\n",
       "    <tr style=\"text-align: right;\">\n",
       "      <th></th>\n",
       "      <th>path</th>\n",
       "      <th>headline</th>\n",
       "      <th>url</th>\n",
       "      <th>content_type</th>\n",
       "      <th>section_id</th>\n",
       "      <th>pillar_id</th>\n",
       "      <th>web_publication_date</th>\n",
       "      <th>word_count</th>\n",
       "      <th>trail_text</th>\n",
       "      <th>production_office</th>\n",
       "      <th>byline</th>\n",
       "      <th>body_text</th>\n",
       "      <th>body_html</th>\n",
       "      <th>keyword_tag</th>\n",
       "      <th>article_year</th>\n",
       "      <th>doc_index</th>\n",
       "    </tr>\n",
       "  </thead>\n",
       "  <tbody>\n",
       "    <tr>\n",
       "      <th>0</th>\n",
       "      <td>/law/commentisfree/2022/mar/26/jurors-who-sat-...</td>\n",
       "      <td>Jurors who sat in the Zachary Rolfe murder tri...</td>\n",
       "      <td>www.theguardian.com/law/commentisfree/2022/mar...</td>\n",
       "      <td>Article</td>\n",
       "      <td>law</td>\n",
       "      <td>pillar/news</td>\n",
       "      <td>2022-03-25 22:24:09+00:00</td>\n",
       "      <td>1114</td>\n",
       "      <td>In criminal trials, the information that is ex...</td>\n",
       "      <td>Aus</td>\n",
       "      <td>Richard Ackland</td>\n",
       "      <td>Jurors who sat on the Zachary Rolfe murder tri...</td>\n",
       "      <td>&lt;p&gt;Jurors who sat on the Zachary Rolfe murder ...</td>\n",
       "      <td>['law/law-australia' 'australia-news/australia...</td>\n",
       "      <td>2022</td>\n",
       "      <td>0</td>\n",
       "    </tr>\n",
       "    <tr>\n",
       "      <th>1</th>\n",
       "      <td>/law/2022/jun/17/sonia-sotomayor-supreme-court...</td>\n",
       "      <td>Sonia Sotomayor says supreme court’s ‘mistakes...</td>\n",
       "      <td>www.theguardian.com/law/2022/jun/17/sonia-soto...</td>\n",
       "      <td>Article</td>\n",
       "      <td>law</td>\n",
       "      <td>pillar/news</td>\n",
       "      <td>2022-06-17 09:00:06+00:00</td>\n",
       "      <td>483</td>\n",
       "      <td>Liberal-leaning justice says ‘there are days I...</td>\n",
       "      <td>Us</td>\n",
       "      <td>Guardian staff and agencies</td>\n",
       "      <td>The liberal-leaning supreme court justice Soni...</td>\n",
       "      <td>&lt;p&gt;The liberal-leaning supreme court justice S...</td>\n",
       "      <td>['law/us-supreme-court' 'us-news/us-news']</td>\n",
       "      <td>2022</td>\n",
       "      <td>4</td>\n",
       "    </tr>\n",
       "  </tbody>\n",
       "</table>\n",
       "</div>"
      ],
      "text/plain": [
       "                                                path  \\\n",
       "0  /law/commentisfree/2022/mar/26/jurors-who-sat-...   \n",
       "1  /law/2022/jun/17/sonia-sotomayor-supreme-court...   \n",
       "\n",
       "                                            headline  \\\n",
       "0  Jurors who sat in the Zachary Rolfe murder tri...   \n",
       "1  Sonia Sotomayor says supreme court’s ‘mistakes...   \n",
       "\n",
       "                                                 url content_type section_id  \\\n",
       "0  www.theguardian.com/law/commentisfree/2022/mar...      Article        law   \n",
       "1  www.theguardian.com/law/2022/jun/17/sonia-soto...      Article        law   \n",
       "\n",
       "     pillar_id       web_publication_date  word_count  \\\n",
       "0  pillar/news  2022-03-25 22:24:09+00:00        1114   \n",
       "1  pillar/news  2022-06-17 09:00:06+00:00         483   \n",
       "\n",
       "                                          trail_text production_office  \\\n",
       "0  In criminal trials, the information that is ex...               Aus   \n",
       "1  Liberal-leaning justice says ‘there are days I...                Us   \n",
       "\n",
       "                        byline  \\\n",
       "0              Richard Ackland   \n",
       "1  Guardian staff and agencies   \n",
       "\n",
       "                                           body_text  \\\n",
       "0  Jurors who sat on the Zachary Rolfe murder tri...   \n",
       "1  The liberal-leaning supreme court justice Soni...   \n",
       "\n",
       "                                           body_html  \\\n",
       "0  <p>Jurors who sat on the Zachary Rolfe murder ...   \n",
       "1  <p>The liberal-leaning supreme court justice S...   \n",
       "\n",
       "                                         keyword_tag  article_year  doc_index  \n",
       "0  ['law/law-australia' 'australia-news/australia...          2022          0  \n",
       "1         ['law/us-supreme-court' 'us-news/us-news']          2022          4  "
      ]
     },
     "execution_count": 21,
     "metadata": {},
     "output_type": "execute_result"
    }
   ],
   "source": [
    "gu_sample.head(2)"
   ]
  },
  {
   "cell_type": "markdown",
   "id": "49aefb65-e67b-49f3-ac07-b25c544d4d15",
   "metadata": {
    "tags": []
   },
   "source": [
    "## Break content down into paragraphs"
   ]
  },
  {
   "cell_type": "code",
   "execution_count": 22,
   "id": "6e394f2c-6e60-42bf-b324-105e9b2c44bd",
   "metadata": {},
   "outputs": [],
   "source": [
    "# Select relevant columns\n",
    "gu_sample_content=gu_sample[['url','doc_index','body_text','body_html', 'article_year']]\n",
    "del(gu_sample)"
   ]
  },
  {
   "cell_type": "code",
   "execution_count": 23,
   "id": "dbbcfade-4a83-42ea-a07d-ef049b7ab5ae",
   "metadata": {},
   "outputs": [],
   "source": [
    "# Split full article text into paragraphs using html tags\n",
    "gu_sample_content['paragraphs'] = gu_sample_content['body_html'].apply(get_article_paragraphs)"
   ]
  },
  {
   "cell_type": "code",
   "execution_count": 24,
   "id": "028f74dd-8c78-4687-ae57-2f30bc0762fc",
   "metadata": {},
   "outputs": [
    {
     "data": {
      "text/plain": [
       "(6558, 6)"
      ]
     },
     "execution_count": 24,
     "metadata": {},
     "output_type": "execute_result"
    }
   ],
   "source": [
    "gu_sample_content.shape"
   ]
  },
  {
   "cell_type": "code",
   "execution_count": 25,
   "id": "1136537d-36e7-4bbe-ac9e-ec54ad9b5a46",
   "metadata": {},
   "outputs": [],
   "source": [
    "# Explode individual text paragraphs across rows \n",
    "gu_sample_content=gu_sample_content[['url','paragraphs','doc_index','article_year']].explode(['paragraphs'])"
   ]
  },
  {
   "cell_type": "code",
   "execution_count": 26,
   "id": "8f469f9d-703c-4c02-88c8-2aa055d2f4cd",
   "metadata": {},
   "outputs": [],
   "source": [
    "gu_sample_content.dropna(inplace=True)"
   ]
  },
  {
   "cell_type": "code",
   "execution_count": 27,
   "id": "026a1841-7995-4137-876b-c0bb6b47ea4b",
   "metadata": {},
   "outputs": [
    {
     "data": {
      "text/plain": [
       "(120982, 4)"
      ]
     },
     "execution_count": 27,
     "metadata": {},
     "output_type": "execute_result"
    }
   ],
   "source": [
    "gu_sample_content.shape"
   ]
  },
  {
   "cell_type": "markdown",
   "id": "ce9e90e4-339e-4344-b267-9a8637ee145a",
   "metadata": {},
   "source": [
    "## Sample aliases and select at most 3 paragraphs per alias (downsample common aliases) "
   ]
  },
  {
   "cell_type": "code",
   "execution_count": 42,
   "id": "d59d34e9-db88-45bc-ad83-1b4f5134da20",
   "metadata": {
    "tags": []
   },
   "outputs": [
    {
     "name": "stderr",
     "output_type": "stream",
     "text": [
      "/Users/luis_flores/.local/share/virtualenvs/nel-mBUv7xk_/lib/python3.7/site-packages/ipykernel_launcher.py:14: SettingWithCopyWarning: \n",
      "A value is trying to be set on a copy of a slice from a DataFrame.\n",
      "Try using .loc[row_indexer,col_indexer] = value instead\n",
      "\n",
      "See the caveats in the documentation: https://pandas.pydata.org/pandas-docs/stable/user_guide/indexing.html#returning-a-view-versus-a-copy\n",
      "  \n"
     ]
    }
   ],
   "source": [
    "resampled_gu_articlesmple aliases and find all paragraphs that contain sample mentions \n",
    "aliases=[ent for ent in common_ents if len(ent) > 4] # exclude very short aliases, as these tend to be NER model mistakes\n",
    "n_aliases = 10000\n",
    "sample_aliases=pd.DataFrame(aliases).sample(n_aliases, random_state=rng_seed)[0].tolist()\n",
    "gu_sample_content['lower_paragraphs']=gu_sample_content['paragraphs'].str.lower()\n",
    "start_time = datetime.now()\n",
    "i = 0\n",
    "first_cycle=True\n",
    "start=datetime.now()\n",
    "for alias in sample_aliases:\n",
    "    paragraphs=gu_sample_content[\n",
    "        gu_sample_content['lower_paragraphs'].str.contains(alias,na=False)\n",
    "    ]\n",
    "    paragraphs['alias']=alias\n",
    "    if first_cycle:\n",
    "        relevant_gu_paragraphs=paragraphs\n",
    "        first_cycle=False\n",
    "    else:\n",
    "        relevant_gu_paragraphs=pd.concat([relevant_gu_paragraphs, paragraphs])\n",
    "    i+=1\n",
    "    if i%2000==0:\n",
    "        end_time = datetime.now()\n",
    "        print('Duration: {}'.format(end_time - start_time))\n",
    "        print(i)\n",
    "        print('--')\n",
    "#\n",
    "end_time=datetime.now()"
   ]
  },
  {
   "cell_type": "code",
   "execution_count": 43,
   "id": "d58f02b1-a69a-4dab-9552-2e23b21873c5",
   "metadata": {},
   "outputs": [
    {
     "name": "stdout",
     "output_type": "stream",
     "text": [
      "0:01:19.239169\n"
     ]
    }
   ],
   "source": [
    "print(end_time-start_time)"
   ]
  },
  {
   "cell_type": "code",
   "execution_count": 44,
   "id": "dce2634c-e591-4b69-94d4-5e3b4268ef4d",
   "metadata": {},
   "outputs": [],
   "source": [
    "relevant_gu_paragraphs.drop_duplicates(inplace=True)"
   ]
  },
  {
   "cell_type": "code",
   "execution_count": 45,
   "id": "2160840f-70e0-4ec2-8e29-f6348aba99cd",
   "metadata": {},
   "outputs": [
    {
     "data": {
      "text/plain": [
       "(120982, 5)"
      ]
     },
     "execution_count": 45,
     "metadata": {},
     "output_type": "execute_result"
    }
   ],
   "source": [
    "gu_sample_content.shape"
   ]
  },
  {
   "cell_type": "code",
   "execution_count": 46,
   "id": "9daf9fb6-a1e9-4191-b672-b5b6c3dcb1a9",
   "metadata": {},
   "outputs": [
    {
     "data": {
      "text/plain": [
       "(3062, 6)"
      ]
     },
     "execution_count": 46,
     "metadata": {},
     "output_type": "execute_result"
    }
   ],
   "source": [
    "relevant_gu_paragraphs.shape"
   ]
  },
  {
   "cell_type": "code",
   "execution_count": 47,
   "id": "2310b26a-6c4d-4ec7-916b-f342c4a7e156",
   "metadata": {},
   "outputs": [
    {
     "data": {
      "text/plain": [
       "anita              519\n",
       "vladimir putin     463\n",
       "rishi sunak        407\n",
       "michael gove       142\n",
       "ted cruz            60\n",
       "                  ... \n",
       "octavia spencer      1\n",
       "gary peters          1\n",
       "alison thewliss      1\n",
       "dave schatz          1\n",
       "david taylor         1\n",
       "Name: alias, Length: 461, dtype: int64"
      ]
     },
     "execution_count": 47,
     "metadata": {},
     "output_type": "execute_result"
    }
   ],
   "source": [
    "relevant_gu_paragraphs['alias'].value_counts()"
   ]
  },
  {
   "cell_type": "code",
   "execution_count": 48,
   "id": "219b8b46-f4d6-4013-91d1-1f1478b44a67",
   "metadata": {},
   "outputs": [
    {
     "data": {
      "text/plain": [
       "(3062, 6)"
      ]
     },
     "execution_count": 48,
     "metadata": {},
     "output_type": "execute_result"
    }
   ],
   "source": [
    "relevant_gu_paragraphs.shape"
   ]
  },
  {
   "cell_type": "code",
   "execution_count": 49,
   "id": "f6f8f063-c35c-4552-b0e0-37dc7cff1ecd",
   "metadata": {},
   "outputs": [],
   "source": [
    "# split paragraph dataset according to alias prevalence  \n",
    "entity_counts=relevant_gu_paragraphs['alias'].value_counts()\n",
    "gu_ents_low_prevalence=relevant_gu_paragraphs[relevant_gu_paragraphs['alias'].isin(entity_counts[entity_counts<=3].index.values)]\n",
    "gu_ents_high_prevalence=relevant_gu_paragraphs[relevant_gu_paragraphs['alias'].isin(entity_counts[entity_counts>3].index.values)]"
   ]
  },
  {
   "cell_type": "code",
   "execution_count": 50,
   "id": "3a1312a2-209a-4476-b82d-56bd553abe85",
   "metadata": {},
   "outputs": [],
   "source": [
    "# Sequentially downsample paragraphs for groups of very prevalent entities\n",
    "cycle=0\n",
    "unique_ents=set(gu_ents_high_prevalence['alias'])\n",
    "n_cycles=10\n",
    "n_ents=int(len(unique_ents)/n_cycles)\n",
    "n_paragraphs=3\n",
    "for entities in zip(*(iter(unique_ents),) * n_ents):\n",
    "    entities_df=gu_ents_high_prevalence[gu_ents_high_prevalence['alias'].isin(entities)]\n",
    "    entities_df=entities_df.groupby('alias').apply(lambda x: x.sample(n=n_paragraphs, random_state=rng_seed, replace=False)).reset_index(drop = True)\n",
    "    if cycle==0:\n",
    "        downsampled_gu_ents_high_prevalence=entities_df\n",
    "    else:\n",
    "        downsampled_gu_ents_high_prevalence=pd.concat([downsampled_gu_ents_high_prevalence,entities_df], ignore_index=True)\n",
    "    cycle+=1"
   ]
  },
  {
   "cell_type": "code",
   "execution_count": 51,
   "id": "295561b2-84f8-465b-8d9c-abf8cc8df2a0",
   "metadata": {},
   "outputs": [],
   "source": [
    "resampled_gu_articles=pd.concat([downsampled_gu_ents_high_prevalence,gu_ents_low_prevalence])"
   ]
  },
  {
   "cell_type": "code",
   "execution_count": 52,
   "id": "9526924f-f8ac-4770-92b9-4f050bf9c286",
   "metadata": {},
   "outputs": [],
   "source": [
    "# Group unique paragraphs by aliases into a list\n",
    "resampled_gu_articles['alias']=resampled_gu_articles['alias'].str.title()\n",
    "resampled_gu_articles=resampled_gu_articles.groupby(['url','paragraphs','doc_index','article_year']).agg({'alias':lambda x: x.unique()}).reset_index()\n",
    "resampled_gu_articles['alias']=resampled_gu_articles['alias'].apply(lambda x: [x] if type(x)==str else x)\n",
    "resampled_gu_articles.rename(columns={'alias':'paragraph_aliases'},inplace=True)\n",
    "# First alias in paragraph\n",
    "resampled_gu_articles['alias']=resampled_gu_articles['paragraph_aliases'].apply(lambda x: x[0])"
   ]
  },
  {
   "cell_type": "code",
   "execution_count": 53,
   "id": "1951ffc8-0e9a-4e19-857e-061564f10d22",
   "metadata": {},
   "outputs": [
    {
     "data": {
      "text/plain": [
       "766"
      ]
     },
     "execution_count": 53,
     "metadata": {},
     "output_type": "execute_result"
    }
   ],
   "source": [
    "resampled_gu_articles['paragraphs'].nunique()"
   ]
  },
  {
   "cell_type": "code",
   "execution_count": 54,
   "id": "b580edb0-ce19-47e4-a983-fdc1faa4c161",
   "metadata": {},
   "outputs": [
    {
     "data": {
      "text/plain": [
       "Margaret Atwood     3\n",
       "Jonathan Evans      3\n",
       "Rachel Wolf         3\n",
       "Ian Stewart         3\n",
       "Michelle Obama      3\n",
       "                   ..\n",
       "Gwen Carr           1\n",
       "Margaret Brennan    1\n",
       "Lawson Bader        1\n",
       "Steve Forbes        1\n",
       "Aziz Huq            1\n",
       "Name: alias, Length: 459, dtype: int64"
      ]
     },
     "execution_count": 54,
     "metadata": {},
     "output_type": "execute_result"
    }
   ],
   "source": [
    "resampled_gu_articles['alias'].value_counts()"
   ]
  },
  {
   "cell_type": "code",
   "execution_count": 55,
   "id": "82bb7f5a-cf11-4f25-ac2d-d769f5bdd9f6",
   "metadata": {},
   "outputs": [],
   "source": [
    "# Reorder paragraphs\n",
    "resampled_gu_articles=resampled_gu_articles.sample(frac=1, random_state=42)"
   ]
  },
  {
   "cell_type": "code",
   "execution_count": 64,
   "id": "0eedd151-c4be-40e1-a0ca-d56c1e144a80",
   "metadata": {},
   "outputs": [],
   "source": [
    "# Rename text column\n",
    "resampled_gu_articles=resampled_gu_articles.rename(columns={'paragraphs':'text'})"
   ]
  },
  {
   "cell_type": "markdown",
   "id": "9ff7f6ca-6e24-4f9c-afcc-23ebfffe5c3b",
   "metadata": {
    "tags": []
   },
   "source": [
    "## Export sampled Guardian paragraphs "
   ]
  },
  {
   "cell_type": "code",
   "execution_count": 66,
   "id": "3e4e85b2-79e4-417b-93f6-81d4fbbd9e5c",
   "metadata": {},
   "outputs": [],
   "source": [
    "# Export csv copy\n",
    "resampled_gu_articles.to_csv('../assets/gu_sampled_paragraphs.csv') "
   ]
  },
  {
   "cell_type": "code",
   "execution_count": 70,
   "id": "ce788c8c-67ee-4c15-8bdf-8c082e73524c",
   "metadata": {},
   "outputs": [],
   "source": [
    "# Export paragraphs as .json for prodigy annotations\n",
    "resampled_gu_articles[['text','url']].to_json('../../3_prodigy_annotations/assets/gu_sampled_paragraphs.jsonl', orient='records', lines=True) "
   ]
  }
 ],
 "metadata": {
  "kernelspec": {
   "display_name": "Python 3 (ipykernel)",
   "language": "python",
   "name": "python3"
  },
  "language_info": {
   "codemirror_mode": {
    "name": "ipython",
    "version": 3
   },
   "file_extension": ".py",
   "mimetype": "text/x-python",
   "name": "python",
   "nbconvert_exporter": "python",
   "pygments_lexer": "ipython3",
   "version": "3.7.13"
  }
 },
 "nbformat": 4,
 "nbformat_minor": 5
}
