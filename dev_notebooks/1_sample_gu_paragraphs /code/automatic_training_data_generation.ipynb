{
 "cells": [
  {
   "cell_type": "code",
   "execution_count": 1,
   "id": "fc7b26dd-dbf7-4139-8184-d34e27730bc3",
   "metadata": {},
   "outputs": [],
   "source": [
    "import pandas as pd"
   ]
  },
  {
   "cell_type": "code",
   "execution_count": 2,
   "id": "a551461c-17a5-489f-a01a-3cc7f11cdc5d",
   "metadata": {},
   "outputs": [],
   "source": [
    "import sys\n",
    "sys.path.append('/home/ubuntu/JAI/')"
   ]
  },
  {
   "cell_type": "code",
   "execution_count": 3,
   "id": "67aa02c7-6a61-431e-811f-296983802985",
   "metadata": {},
   "outputs": [
    {
     "name": "stderr",
     "output_type": "stream",
     "text": [
      "/home/ubuntu/.conda/envs/jai_new_venv/lib/python3.8/site-packages/tqdm/auto.py:22: TqdmWarning: IProgress not found. Please update jupyter and ipywidgets. See https://ipywidgets.readthedocs.io/en/stable/user_install.html\n",
      "  from .autonotebook import tqdm as notebook_tqdm\n"
     ]
    }
   ],
   "source": [
    "import pickle\n",
    "from pathlib import Path\n",
    "import datetime as dt\n",
    "import logging\n",
    "import numpy as np\n",
    "import pandas as pd\n",
    "import spacy\n",
    "from en_ner_guardian.trf_tensor_to_vec import *"
   ]
  },
  {
   "cell_type": "code",
   "execution_count": 4,
   "id": "54cf1c47-e522-4a70-a778-4dc38b062bd0",
   "metadata": {},
   "outputs": [
    {
     "data": {
      "text/plain": [
       "True"
      ]
     },
     "execution_count": 4,
     "metadata": {},
     "output_type": "execute_result"
    }
   ],
   "source": [
    "spacy.prefer_gpu()"
   ]
  },
  {
   "cell_type": "code",
   "execution_count": 5,
   "id": "3517bcb3-ab68-4a1e-86c5-dda957d78e42",
   "metadata": {},
   "outputs": [
    {
     "name": "stderr",
     "output_type": "stream",
     "text": [
      "/home/ubuntu/.conda/envs/jai_new_venv/lib/python3.8/site-packages/spacy/util.py:877: UserWarning: [W095] Model 'en_ner_guardian' (1.0.3) was trained with spaCy v3.0 and may not be 100% compatible with the current version (3.4.2). If you see errors or degraded performance, download a newer compatible model or retrain your custom model with the current spaCy version. For more details and available updates, run: python -m spacy validate\n",
      "  warnings.warn(warn_msg)\n",
      "/home/ubuntu/.conda/envs/jai_new_venv/lib/python3.8/site-packages/spacy_transformers/pipeline_component.py:405: UserWarning: Automatically converting a transformer component from spacy-transformers v1.0 to v1.1+. If you see errors or degraded performance, download a newer compatible model or retrain your custom model with the current spacy-transformers version. For more details and available updates, run: python -m spacy validate\n",
      "  warnings.warn(warn_msg)\n"
     ]
    },
    {
     "data": {
      "text/plain": [
       "<en_ner_guardian.trf_tensor_to_vec.Tensor2Attr at 0x7f9bde760460>"
      ]
     },
     "execution_count": 5,
     "metadata": {},
     "output_type": "execute_result"
    }
   ],
   "source": [
    "model = 'gu_trf'\n",
    "nlp = spacy.load('/home/ubuntu/JAI/en_ner_guardian/en_ner_guardian/en_ner_guardian/en_ner_guardian-1.0.3/')\n",
    "nlp.add_pipe('tensor2attr')"
   ]
  },
  {
   "cell_type": "code",
   "execution_count": 7,
   "id": "2e540067-ac90-4a71-b44c-cd3aa2efdf59",
   "metadata": {},
   "outputs": [],
   "source": [
    "gu_data = pd.read_csv('gu_resampled_by_section_id_full_name_all_aliases_kb_match_paragraphs.csv',index_col=0)"
   ]
  },
  {
   "cell_type": "code",
   "execution_count": 8,
   "id": "57b698bc-68d6-458f-9448-57e6e9027159",
   "metadata": {},
   "outputs": [
    {
     "data": {
      "text/plain": [
       "(152616, 5)"
      ]
     },
     "execution_count": 8,
     "metadata": {},
     "output_type": "execute_result"
    }
   ],
   "source": [
    "gu_data.shape"
   ]
  },
  {
   "cell_type": "code",
   "execution_count": 9,
   "id": "327439af-bae7-47a6-b612-416775294c40",
   "metadata": {},
   "outputs": [],
   "source": [
    "gu_data=gu_data[['paragraphs']]"
   ]
  },
  {
   "cell_type": "code",
   "execution_count": 10,
   "id": "dfe4979d-fa87-41d5-b9de-bf5bb93b0bcd",
   "metadata": {},
   "outputs": [],
   "source": [
    "gu_data=gu_data.drop_duplicates()"
   ]
  },
  {
   "cell_type": "code",
   "execution_count": 15,
   "id": "ff41fdd7-1850-496b-8b83-dd452b19a642",
   "metadata": {},
   "outputs": [],
   "source": [
    "gu_data=gu_data.sample(20000, random_state=14)"
   ]
  },
  {
   "cell_type": "code",
   "execution_count": null,
   "id": "6439e2dc-7e82-457c-84bc-eb66e1ca8c7f",
   "metadata": {},
   "outputs": [],
   "source": []
  },
  {
   "cell_type": "code",
   "execution_count": 16,
   "id": "7ac5f390-3723-4583-b178-d7dc6033b914",
   "metadata": {},
   "outputs": [],
   "source": [
    "doc = nlp('Donald Trump is a president.')"
   ]
  },
  {
   "cell_type": "code",
   "execution_count": 22,
   "id": "83e4606b-0ef7-4a91-a0c1-e87673905d0e",
   "metadata": {},
   "outputs": [
    {
     "data": {
      "text/plain": [
       "'Donald Trump'"
      ]
     },
     "execution_count": 22,
     "metadata": {},
     "output_type": "execute_result"
    }
   ],
   "source": [
    "str(doc.ents[0])"
   ]
  },
  {
   "cell_type": "code",
   "execution_count": 75,
   "id": "bdae69eb-cceb-4df1-9967-f8f19b5f5fe0",
   "metadata": {},
   "outputs": [],
   "source": [
    "paragraph_dict={}\n",
    "ner_lst=[]\n",
    "for index, paragraph in gu_data.iterrows():\n",
    "    paragraph_dict[index] = paragraph[0]\n",
    "    ent_lst=[]\n",
    "    doc = nlp(paragraph[0])\n",
    "    for ent in doc.ents:\n",
    "        ent_lst.append([index,\n",
    "                        str(ent),\n",
    "                        ent.start_char,\n",
    "                        ent.end_char\n",
    "                      ])\n",
    "    ner_lst.extend(ent_lst)"
   ]
  },
  {
   "cell_type": "code",
   "execution_count": 80,
   "id": "560fdf31-1d68-4ce4-bc5b-68992026283c",
   "metadata": {},
   "outputs": [],
   "source": [
    "paragraph_ner = pd.DataFrame(ner_lst, columns=['index','ent','start_char','end_char'])"
   ]
  },
  {
   "cell_type": "code",
   "execution_count": null,
   "id": "b9e190cb-5efd-44ad-8feb-5a9347c1d6c6",
   "metadata": {},
   "outputs": [],
   "source": []
  },
  {
   "cell_type": "code",
   "execution_count": 81,
   "id": "fe42d546-fb57-4c44-858f-0cfb740a4fd9",
   "metadata": {},
   "outputs": [],
   "source": [
    "gu_paragraphs = pd.DataFrame.from_dict(paragraph_dict, orient='index', columns=['paragraph']).reset_index()"
   ]
  },
  {
   "cell_type": "code",
   "execution_count": 85,
   "id": "2ba738e9-6618-4ae2-ba26-ebb6b4306993",
   "metadata": {},
   "outputs": [],
   "source": [
    "paragraph_ner = paragraph_ner.merge(gu_paragraphs)"
   ]
  },
  {
   "cell_type": "code",
   "execution_count": 87,
   "id": "2eef418f-788f-4529-8d64-b29f02a83981",
   "metadata": {},
   "outputs": [
    {
     "data": {
      "text/html": [
       "<div>\n",
       "<style scoped>\n",
       "    .dataframe tbody tr th:only-of-type {\n",
       "        vertical-align: middle;\n",
       "    }\n",
       "\n",
       "    .dataframe tbody tr th {\n",
       "        vertical-align: top;\n",
       "    }\n",
       "\n",
       "    .dataframe thead th {\n",
       "        text-align: right;\n",
       "    }\n",
       "</style>\n",
       "<table border=\"1\" class=\"dataframe\">\n",
       "  <thead>\n",
       "    <tr style=\"text-align: right;\">\n",
       "      <th></th>\n",
       "      <th>index</th>\n",
       "      <th>ent</th>\n",
       "      <th>start_char</th>\n",
       "      <th>end_char</th>\n",
       "      <th>paragraph</th>\n",
       "    </tr>\n",
       "  </thead>\n",
       "  <tbody>\n",
       "    <tr>\n",
       "      <th>0</th>\n",
       "      <td>2453</td>\n",
       "      <td>Putin</td>\n",
       "      <td>6</td>\n",
       "      <td>11</td>\n",
       "      <td>Other Putin critics have died in the UK in mys...</td>\n",
       "    </tr>\n",
       "    <tr>\n",
       "      <th>1</th>\n",
       "      <td>2453</td>\n",
       "      <td>Nikolai Glushkov</td>\n",
       "      <td>128</td>\n",
       "      <td>144</td>\n",
       "      <td>Other Putin critics have died in the UK in mys...</td>\n",
       "    </tr>\n",
       "    <tr>\n",
       "      <th>2</th>\n",
       "      <td>2453</td>\n",
       "      <td>Boris Berezovsky</td>\n",
       "      <td>341</td>\n",
       "      <td>357</td>\n",
       "      <td>Other Putin critics have died in the UK in mys...</td>\n",
       "    </tr>\n",
       "    <tr>\n",
       "      <th>3</th>\n",
       "      <td>41366</td>\n",
       "      <td>Jackson</td>\n",
       "      <td>51</td>\n",
       "      <td>58</td>\n",
       "      <td>Even as senators focused on the historic natur...</td>\n",
       "    </tr>\n",
       "    <tr>\n",
       "      <th>4</th>\n",
       "      <td>41366</td>\n",
       "      <td>Mazie Hirono</td>\n",
       "      <td>301</td>\n",
       "      <td>313</td>\n",
       "      <td>Even as senators focused on the historic natur...</td>\n",
       "    </tr>\n",
       "    <tr>\n",
       "      <th>...</th>\n",
       "      <td>...</td>\n",
       "      <td>...</td>\n",
       "      <td>...</td>\n",
       "      <td>...</td>\n",
       "      <td>...</td>\n",
       "    </tr>\n",
       "    <tr>\n",
       "      <th>39122</th>\n",
       "      <td>544427</td>\n",
       "      <td>Nancy Pelosi</td>\n",
       "      <td>19</td>\n",
       "      <td>31</td>\n",
       "      <td>The House speaker, Nancy Pelosi, ordered flags...</td>\n",
       "    </tr>\n",
       "    <tr>\n",
       "      <th>39123</th>\n",
       "      <td>185048</td>\n",
       "      <td>Narendra Modi</td>\n",
       "      <td>120</td>\n",
       "      <td>133</td>\n",
       "      <td>The Bharatiya Janata party (BJP) has repeatedl...</td>\n",
       "    </tr>\n",
       "    <tr>\n",
       "      <th>39124</th>\n",
       "      <td>55487</td>\n",
       "      <td>Starmer</td>\n",
       "      <td>103</td>\n",
       "      <td>110</td>\n",
       "      <td>Labour’s progress on Thursday has been oversha...</td>\n",
       "    </tr>\n",
       "    <tr>\n",
       "      <th>39125</th>\n",
       "      <td>55487</td>\n",
       "      <td>Johnson</td>\n",
       "      <td>204</td>\n",
       "      <td>211</td>\n",
       "      <td>Labour’s progress on Thursday has been oversha...</td>\n",
       "    </tr>\n",
       "    <tr>\n",
       "      <th>39126</th>\n",
       "      <td>55487</td>\n",
       "      <td>Sue Gray</td>\n",
       "      <td>266</td>\n",
       "      <td>274</td>\n",
       "      <td>Labour’s progress on Thursday has been oversha...</td>\n",
       "    </tr>\n",
       "  </tbody>\n",
       "</table>\n",
       "<p>39127 rows × 5 columns</p>\n",
       "</div>"
      ],
      "text/plain": [
       "        index               ent  start_char  end_char  \\\n",
       "0        2453             Putin           6        11   \n",
       "1        2453  Nikolai Glushkov         128       144   \n",
       "2        2453  Boris Berezovsky         341       357   \n",
       "3       41366           Jackson          51        58   \n",
       "4       41366      Mazie Hirono         301       313   \n",
       "...       ...               ...         ...       ...   \n",
       "39122  544427      Nancy Pelosi          19        31   \n",
       "39123  185048     Narendra Modi         120       133   \n",
       "39124   55487           Starmer         103       110   \n",
       "39125   55487           Johnson         204       211   \n",
       "39126   55487          Sue Gray         266       274   \n",
       "\n",
       "                                               paragraph  \n",
       "0      Other Putin critics have died in the UK in mys...  \n",
       "1      Other Putin critics have died in the UK in mys...  \n",
       "2      Other Putin critics have died in the UK in mys...  \n",
       "3      Even as senators focused on the historic natur...  \n",
       "4      Even as senators focused on the historic natur...  \n",
       "...                                                  ...  \n",
       "39122  The House speaker, Nancy Pelosi, ordered flags...  \n",
       "39123  The Bharatiya Janata party (BJP) has repeatedl...  \n",
       "39124  Labour’s progress on Thursday has been oversha...  \n",
       "39125  Labour’s progress on Thursday has been oversha...  \n",
       "39126  Labour’s progress on Thursday has been oversha...  \n",
       "\n",
       "[39127 rows x 5 columns]"
      ]
     },
     "execution_count": 87,
     "metadata": {},
     "output_type": "execute_result"
    }
   ],
   "source": [
    "paragraph_ner"
   ]
  },
  {
   "cell_type": "code",
   "execution_count": 94,
   "id": "e3f31793-448e-4879-b545-bf6e82e2272c",
   "metadata": {},
   "outputs": [],
   "source": [
    "paragraph_ner.to_csv('20k_sample_paragraphs_ner.csv')"
   ]
  },
  {
   "cell_type": "code",
   "execution_count": 88,
   "id": "41aee0cd-063e-4424-b995-c9e3cbb18c78",
   "metadata": {},
   "outputs": [],
   "source": [
    "dataset='full'# OR'open_sanctions'# OR 'lilsis'\n",
    "kb_iteration='_2022_11_07'"
   ]
  },
  {
   "cell_type": "code",
   "execution_count": 92,
   "id": "25e1a58b-25b0-4931-b62a-dd758ffac108",
   "metadata": {},
   "outputs": [
    {
     "name": "stderr",
     "output_type": "stream",
     "text": [
      "/tmp/ipykernel_8742/1633190115.py:1: DtypeWarning: Columns (2,7,11) have mixed types. Specify dtype option on import or set low_memory=False.\n",
      "  kb_data=pd.read_csv(f'../kb_datasets/kb_entities_{dataset}{kb_iteration}.csv',index_col=0)\n"
     ]
    }
   ],
   "source": [
    "kb_data=pd.read_csv(f'../kb_datasets/kb_entities_{dataset}{kb_iteration}.csv',index_col=0)"
   ]
  },
  {
   "cell_type": "code",
   "execution_count": 98,
   "id": "85a0fe32-fe73-419f-902b-ff68106e5ecc",
   "metadata": {},
   "outputs": [],
   "source": [
    "paragraph_ner['single_name']=paragraph_ner['ent'].apply(lambda x: x if len(x.split())==1 else x.split()[-1])"
   ]
  },
  {
   "cell_type": "code",
   "execution_count": 101,
   "id": "b4acc81c-afe7-45b9-ad4a-ddf9acfb796c",
   "metadata": {},
   "outputs": [],
   "source": [
    "kb_data['single_name'] = kb_data['name'].apply(lambda x: x if len(x.split())==1 else x.split()[-1])"
   ]
  },
  {
   "cell_type": "code",
   "execution_count": 102,
   "id": "111ceee1-952c-4f16-b1c0-45789929aeea",
   "metadata": {},
   "outputs": [
    {
     "data": {
      "text/html": [
       "<div>\n",
       "<style scoped>\n",
       "    .dataframe tbody tr th:only-of-type {\n",
       "        vertical-align: middle;\n",
       "    }\n",
       "\n",
       "    .dataframe tbody tr th {\n",
       "        vertical-align: top;\n",
       "    }\n",
       "\n",
       "    .dataframe thead th {\n",
       "        text-align: right;\n",
       "    }\n",
       "</style>\n",
       "<table border=\"1\" class=\"dataframe\">\n",
       "  <thead>\n",
       "    <tr style=\"text-align: right;\">\n",
       "      <th></th>\n",
       "      <th>id</th>\n",
       "      <th>name</th>\n",
       "      <th>single_name</th>\n",
       "      <th>desc</th>\n",
       "    </tr>\n",
       "  </thead>\n",
       "  <tbody>\n",
       "    <tr>\n",
       "      <th>0</th>\n",
       "      <td>acf-00040861bc3f593000830d987d09967ef3503ef1</td>\n",
       "      <td>Kolyvanov Egor</td>\n",
       "      <td>Egor</td>\n",
       "      <td>Kolyvanov Egor is a Russian propagandist: host...</td>\n",
       "    </tr>\n",
       "    <tr>\n",
       "      <th>1</th>\n",
       "      <td>acf-0011c68a768924609dc5da5707ac7fa4c4d645a2</td>\n",
       "      <td>Shipov Sergei Yurievich</td>\n",
       "      <td>Yurievich</td>\n",
       "      <td>Shipov Sergei Yurievich is a Russian chess pla...</td>\n",
       "    </tr>\n",
       "    <tr>\n",
       "      <th>2</th>\n",
       "      <td>acf-001e7e4c0363f08f1e784c230457960b84a6416f</td>\n",
       "      <td>Egorov Ivan Mikhailovich</td>\n",
       "      <td>Mikhailovich</td>\n",
       "      <td>Egorov Ivan Mikhailovich is a Deputy of the St...</td>\n",
       "    </tr>\n",
       "    <tr>\n",
       "      <th>3</th>\n",
       "      <td>acf-002c208139012c8d93b6298358188d7cadafe648</td>\n",
       "      <td>Goreslavsky Alexey Sergeyevich</td>\n",
       "      <td>Sergeyevich</td>\n",
       "      <td>Goreslavsky Alexey Sergeyevich is a Russian jo...</td>\n",
       "    </tr>\n",
       "    <tr>\n",
       "      <th>4</th>\n",
       "      <td>acf-002cc8fdf8fe41185091a7cb6c598663e7a22eb5</td>\n",
       "      <td>Samoilova Natalya Vladimirovna</td>\n",
       "      <td>Vladimirovna</td>\n",
       "      <td>Samoilova Natalya Vladimirovna is a Russian si...</td>\n",
       "    </tr>\n",
       "    <tr>\n",
       "      <th>...</th>\n",
       "      <td>...</td>\n",
       "      <td>...</td>\n",
       "      <td>...</td>\n",
       "      <td>...</td>\n",
       "    </tr>\n",
       "    <tr>\n",
       "      <th>428514</th>\n",
       "      <td>413772</td>\n",
       "      <td>Cory Bernardi</td>\n",
       "      <td>Bernardi</td>\n",
       "      <td>Cory Bernardi is a Australian politician and r...</td>\n",
       "    </tr>\n",
       "    <tr>\n",
       "      <th>428515</th>\n",
       "      <td>Q47668202</td>\n",
       "      <td>Jalbasürengiin Batzandan</td>\n",
       "      <td>Batzandan</td>\n",
       "      <td>Jalbasürengiin Batzandan is a Mongolian politi...</td>\n",
       "    </tr>\n",
       "    <tr>\n",
       "      <th>428516</th>\n",
       "      <td>13488</td>\n",
       "      <td>Patrick Murphy</td>\n",
       "      <td>Murphy</td>\n",
       "      <td>Patrick Murphy is a former US Representative f...</td>\n",
       "    </tr>\n",
       "    <tr>\n",
       "      <th>428517</th>\n",
       "      <td>Q28033808</td>\n",
       "      <td>Sharif Street</td>\n",
       "      <td>Street</td>\n",
       "      <td>Sharif Street is a American politician from Pe...</td>\n",
       "    </tr>\n",
       "    <tr>\n",
       "      <th>428518</th>\n",
       "      <td>407938</td>\n",
       "      <td>Wendy Carrillo</td>\n",
       "      <td>Carrillo</td>\n",
       "      <td>Wendy Carrillo is a Assemblymember representin...</td>\n",
       "    </tr>\n",
       "  </tbody>\n",
       "</table>\n",
       "<p>428519 rows × 4 columns</p>\n",
       "</div>"
      ],
      "text/plain": [
       "                                                  id  \\\n",
       "0       acf-00040861bc3f593000830d987d09967ef3503ef1   \n",
       "1       acf-0011c68a768924609dc5da5707ac7fa4c4d645a2   \n",
       "2       acf-001e7e4c0363f08f1e784c230457960b84a6416f   \n",
       "3       acf-002c208139012c8d93b6298358188d7cadafe648   \n",
       "4       acf-002cc8fdf8fe41185091a7cb6c598663e7a22eb5   \n",
       "...                                              ...   \n",
       "428514                                        413772   \n",
       "428515                                     Q47668202   \n",
       "428516                                         13488   \n",
       "428517                                     Q28033808   \n",
       "428518                                        407938   \n",
       "\n",
       "                                  name   single_name  \\\n",
       "0                       Kolyvanov Egor          Egor   \n",
       "1              Shipov Sergei Yurievich     Yurievich   \n",
       "2             Egorov Ivan Mikhailovich  Mikhailovich   \n",
       "3       Goreslavsky Alexey Sergeyevich   Sergeyevich   \n",
       "4       Samoilova Natalya Vladimirovna  Vladimirovna   \n",
       "...                                ...           ...   \n",
       "428514                   Cory Bernardi      Bernardi   \n",
       "428515        Jalbasürengiin Batzandan     Batzandan   \n",
       "428516                  Patrick Murphy        Murphy   \n",
       "428517                   Sharif Street        Street   \n",
       "428518                  Wendy Carrillo      Carrillo   \n",
       "\n",
       "                                                     desc  \n",
       "0       Kolyvanov Egor is a Russian propagandist: host...  \n",
       "1       Shipov Sergei Yurievich is a Russian chess pla...  \n",
       "2       Egorov Ivan Mikhailovich is a Deputy of the St...  \n",
       "3       Goreslavsky Alexey Sergeyevich is a Russian jo...  \n",
       "4       Samoilova Natalya Vladimirovna is a Russian si...  \n",
       "...                                                   ...  \n",
       "428514  Cory Bernardi is a Australian politician and r...  \n",
       "428515  Jalbasürengiin Batzandan is a Mongolian politi...  \n",
       "428516  Patrick Murphy is a former US Representative f...  \n",
       "428517  Sharif Street is a American politician from Pe...  \n",
       "428518  Wendy Carrillo is a Assemblymember representin...  \n",
       "\n",
       "[428519 rows x 4 columns]"
      ]
     },
     "execution_count": 102,
     "metadata": {},
     "output_type": "execute_result"
    }
   ],
   "source": [
    "kb_data[['id','name','single_name','desc']]"
   ]
  },
  {
   "cell_type": "code",
   "execution_count": 104,
   "id": "cefba425-5b23-4b43-8a28-c881f069f535",
   "metadata": {},
   "outputs": [],
   "source": [
    "paragraph_ner = paragraph_ner.merge(kb_data[['id','name','single_name','desc']])"
   ]
  },
  {
   "cell_type": "code",
   "execution_count": 111,
   "id": "86eb8802-d7f7-4691-aea9-a726637dde56",
   "metadata": {},
   "outputs": [
    {
     "name": "stderr",
     "output_type": "stream",
     "text": [
      "[nltk_data] Downloading package stopwords to /home/ubuntu/nltk_data...\n",
      "[nltk_data]   Unzipping corpora/stopwords.zip.\n"
     ]
    }
   ],
   "source": [
    "import nltk\n",
    "#nltk.download('stopwords')\n",
    "from nltk.corpus import stopwords\n",
    "stopwords_ = stopwords.words('english')"
   ]
  },
  {
   "cell_type": "code",
   "execution_count": 118,
   "id": "3858baa4-f930-4aed-9534-e74f19adfaef",
   "metadata": {},
   "outputs": [],
   "source": [
    "paragraph_ner['paragraph'] = paragraph_ner['paragraph'].iloc[:10].apply(lambda x: set([w for w in x.split() if w not in stopwords_]))"
   ]
  },
  {
   "cell_type": "code",
   "execution_count": 116,
   "id": "63f4968b-ddd1-4e6d-b810-a7452d825f6a",
   "metadata": {},
   "outputs": [
    {
     "data": {
      "text/html": [
       "<div>\n",
       "<style scoped>\n",
       "    .dataframe tbody tr th:only-of-type {\n",
       "        vertical-align: middle;\n",
       "    }\n",
       "\n",
       "    .dataframe tbody tr th {\n",
       "        vertical-align: top;\n",
       "    }\n",
       "\n",
       "    .dataframe thead th {\n",
       "        text-align: right;\n",
       "    }\n",
       "</style>\n",
       "<table border=\"1\" class=\"dataframe\">\n",
       "  <thead>\n",
       "    <tr style=\"text-align: right;\">\n",
       "      <th></th>\n",
       "      <th>index</th>\n",
       "      <th>ent</th>\n",
       "      <th>start_char</th>\n",
       "      <th>end_char</th>\n",
       "      <th>paragraph</th>\n",
       "      <th>single_name</th>\n",
       "      <th>id</th>\n",
       "      <th>name</th>\n",
       "      <th>desc</th>\n",
       "    </tr>\n",
       "  </thead>\n",
       "  <tbody>\n",
       "    <tr>\n",
       "      <th>0</th>\n",
       "      <td>2453</td>\n",
       "      <td>Putin</td>\n",
       "      <td>6</td>\n",
       "      <td>11</td>\n",
       "      <td>Other Putin critics have died in the UK in mys...</td>\n",
       "      <td>Putin</td>\n",
       "      <td>Q15087614</td>\n",
       "      <td>Roman Igorevich Putin</td>\n",
       "      <td>Roman Igorevich Putin is a Роман Путін бере уч...</td>\n",
       "    </tr>\n",
       "    <tr>\n",
       "      <th>1</th>\n",
       "      <td>2453</td>\n",
       "      <td>Putin</td>\n",
       "      <td>6</td>\n",
       "      <td>11</td>\n",
       "      <td>Other Putin critics have died in the UK in mys...</td>\n",
       "      <td>Putin</td>\n",
       "      <td>Q1833348</td>\n",
       "      <td>Igor Alexandrovich Putin</td>\n",
       "      <td>Igor Alexandrovich Putin is a Russian politici...</td>\n",
       "    </tr>\n",
       "    <tr>\n",
       "      <th>2</th>\n",
       "      <td>2453</td>\n",
       "      <td>Putin</td>\n",
       "      <td>6</td>\n",
       "      <td>11</td>\n",
       "      <td>Other Putin critics have died in the UK in mys...</td>\n",
       "      <td>Putin</td>\n",
       "      <td>Q27303716</td>\n",
       "      <td>Alexander Spiridonovich Putin</td>\n",
       "      <td>This person is called Alexander Spiridonovich ...</td>\n",
       "    </tr>\n",
       "    <tr>\n",
       "      <th>3</th>\n",
       "      <td>2453</td>\n",
       "      <td>Putin</td>\n",
       "      <td>6</td>\n",
       "      <td>11</td>\n",
       "      <td>Other Putin critics have died in the UK in mys...</td>\n",
       "      <td>Putin</td>\n",
       "      <td>Q7747</td>\n",
       "      <td>Vladimir Vladimirovitj Putin</td>\n",
       "      <td>Vladimir Vladimirovitj Putin is a President of...</td>\n",
       "    </tr>\n",
       "    <tr>\n",
       "      <th>4</th>\n",
       "      <td>2453</td>\n",
       "      <td>Putin</td>\n",
       "      <td>6</td>\n",
       "      <td>11</td>\n",
       "      <td>Other Putin critics have died in the UK in mys...</td>\n",
       "      <td>Putin</td>\n",
       "      <td>149070</td>\n",
       "      <td>Vladimir Putin</td>\n",
       "      <td>Vladimir Putin is a President of Russia.  This...</td>\n",
       "    </tr>\n",
       "    <tr>\n",
       "      <th>...</th>\n",
       "      <td>...</td>\n",
       "      <td>...</td>\n",
       "      <td>...</td>\n",
       "      <td>...</td>\n",
       "      <td>...</td>\n",
       "      <td>...</td>\n",
       "      <td>...</td>\n",
       "      <td>...</td>\n",
       "      <td>...</td>\n",
       "    </tr>\n",
       "    <tr>\n",
       "      <th>3904031</th>\n",
       "      <td>709250</td>\n",
       "      <td>Abdel Mahdi</td>\n",
       "      <td>0</td>\n",
       "      <td>11</td>\n",
       "      <td>Abdel Mahdi congratulated his successor and th...</td>\n",
       "      <td>Mahdi</td>\n",
       "      <td>Q4670492</td>\n",
       "      <td>Abubakar Mahdi</td>\n",
       "      <td>Abubakar Mahdi is a Nigerian politician. This ...</td>\n",
       "    </tr>\n",
       "    <tr>\n",
       "      <th>3904032</th>\n",
       "      <td>709250</td>\n",
       "      <td>Abdel Mahdi</td>\n",
       "      <td>0</td>\n",
       "      <td>11</td>\n",
       "      <td>Abdel Mahdi congratulated his successor and th...</td>\n",
       "      <td>Mahdi</td>\n",
       "      <td>Q6930870</td>\n",
       "      <td>Mubarak Al Fadil Al Mahdi</td>\n",
       "      <td>Mubarak Al Fadil Al Mahdi is a Sudanese politi...</td>\n",
       "    </tr>\n",
       "    <tr>\n",
       "      <th>3904033</th>\n",
       "      <td>709250</td>\n",
       "      <td>Abdel Mahdi</td>\n",
       "      <td>0</td>\n",
       "      <td>11</td>\n",
       "      <td>Abdel Mahdi congratulated his successor and th...</td>\n",
       "      <td>Mahdi</td>\n",
       "      <td>Q75807853</td>\n",
       "      <td>Sammy Mahdi</td>\n",
       "      <td>Sammy Mahdi is a Belgian politician. This pers...</td>\n",
       "    </tr>\n",
       "    <tr>\n",
       "      <th>3904034</th>\n",
       "      <td>709250</td>\n",
       "      <td>Abdel Mahdi</td>\n",
       "      <td>0</td>\n",
       "      <td>11</td>\n",
       "      <td>Abdel Mahdi congratulated his successor and th...</td>\n",
       "      <td>Mahdi</td>\n",
       "      <td>Q95626382</td>\n",
       "      <td>Adil Abdallah Mahdi</td>\n",
       "      <td>Adil Abdallah Mahdi is a Ba'th party regional ...</td>\n",
       "    </tr>\n",
       "    <tr>\n",
       "      <th>3904035</th>\n",
       "      <td>709250</td>\n",
       "      <td>Abdel Mahdi</td>\n",
       "      <td>0</td>\n",
       "      <td>11</td>\n",
       "      <td>Abdel Mahdi congratulated his successor and th...</td>\n",
       "      <td>Mahdi</td>\n",
       "      <td>us-cia-iraq-mahdi-rashid-mahdi-min-of-water-re...</td>\n",
       "      <td>Mahdi Rashid Mahdi</td>\n",
       "      <td>This person is called Mahdi Rashid Mahdi. This...</td>\n",
       "    </tr>\n",
       "  </tbody>\n",
       "</table>\n",
       "<p>3904036 rows × 9 columns</p>\n",
       "</div>"
      ],
      "text/plain": [
       "          index          ent  start_char  end_char  \\\n",
       "0          2453        Putin           6        11   \n",
       "1          2453        Putin           6        11   \n",
       "2          2453        Putin           6        11   \n",
       "3          2453        Putin           6        11   \n",
       "4          2453        Putin           6        11   \n",
       "...         ...          ...         ...       ...   \n",
       "3904031  709250  Abdel Mahdi           0        11   \n",
       "3904032  709250  Abdel Mahdi           0        11   \n",
       "3904033  709250  Abdel Mahdi           0        11   \n",
       "3904034  709250  Abdel Mahdi           0        11   \n",
       "3904035  709250  Abdel Mahdi           0        11   \n",
       "\n",
       "                                                 paragraph single_name  \\\n",
       "0        Other Putin critics have died in the UK in mys...       Putin   \n",
       "1        Other Putin critics have died in the UK in mys...       Putin   \n",
       "2        Other Putin critics have died in the UK in mys...       Putin   \n",
       "3        Other Putin critics have died in the UK in mys...       Putin   \n",
       "4        Other Putin critics have died in the UK in mys...       Putin   \n",
       "...                                                    ...         ...   \n",
       "3904031  Abdel Mahdi congratulated his successor and th...       Mahdi   \n",
       "3904032  Abdel Mahdi congratulated his successor and th...       Mahdi   \n",
       "3904033  Abdel Mahdi congratulated his successor and th...       Mahdi   \n",
       "3904034  Abdel Mahdi congratulated his successor and th...       Mahdi   \n",
       "3904035  Abdel Mahdi congratulated his successor and th...       Mahdi   \n",
       "\n",
       "                                                        id  \\\n",
       "0                                                Q15087614   \n",
       "1                                                 Q1833348   \n",
       "2                                                Q27303716   \n",
       "3                                                    Q7747   \n",
       "4                                                   149070   \n",
       "...                                                    ...   \n",
       "3904031                                           Q4670492   \n",
       "3904032                                           Q6930870   \n",
       "3904033                                          Q75807853   \n",
       "3904034                                          Q95626382   \n",
       "3904035  us-cia-iraq-mahdi-rashid-mahdi-min-of-water-re...   \n",
       "\n",
       "                                  name  \\\n",
       "0                Roman Igorevich Putin   \n",
       "1             Igor Alexandrovich Putin   \n",
       "2        Alexander Spiridonovich Putin   \n",
       "3         Vladimir Vladimirovitj Putin   \n",
       "4                       Vladimir Putin   \n",
       "...                                ...   \n",
       "3904031                 Abubakar Mahdi   \n",
       "3904032      Mubarak Al Fadil Al Mahdi   \n",
       "3904033                    Sammy Mahdi   \n",
       "3904034            Adil Abdallah Mahdi   \n",
       "3904035             Mahdi Rashid Mahdi   \n",
       "\n",
       "                                                      desc  \n",
       "0        Roman Igorevich Putin is a Роман Путін бере уч...  \n",
       "1        Igor Alexandrovich Putin is a Russian politici...  \n",
       "2        This person is called Alexander Spiridonovich ...  \n",
       "3        Vladimir Vladimirovitj Putin is a President of...  \n",
       "4        Vladimir Putin is a President of Russia.  This...  \n",
       "...                                                    ...  \n",
       "3904031  Abubakar Mahdi is a Nigerian politician. This ...  \n",
       "3904032  Mubarak Al Fadil Al Mahdi is a Sudanese politi...  \n",
       "3904033  Sammy Mahdi is a Belgian politician. This pers...  \n",
       "3904034  Adil Abdallah Mahdi is a Ba'th party regional ...  \n",
       "3904035  This person is called Mahdi Rashid Mahdi. This...  \n",
       "\n",
       "[3904036 rows x 9 columns]"
      ]
     },
     "execution_count": 116,
     "metadata": {},
     "output_type": "execute_result"
    }
   ],
   "source": [
    "paragraph_ner"
   ]
  },
  {
   "cell_type": "code",
   "execution_count": null,
   "id": "28cbdcf4-a71c-4e38-916e-dcec5e1de0fc",
   "metadata": {},
   "outputs": [],
   "source": []
  }
 ],
 "metadata": {
  "kernelspec": {
   "display_name": "Python 3 (ipykernel)",
   "language": "python",
   "name": "python3"
  },
  "language_info": {
   "codemirror_mode": {
    "name": "ipython",
    "version": 3
   },
   "file_extension": ".py",
   "mimetype": "text/x-python",
   "name": "python",
   "nbconvert_exporter": "python",
   "pygments_lexer": "ipython3",
   "version": "3.7.13"
  }
 },
 "nbformat": 4,
 "nbformat_minor": 5
}
