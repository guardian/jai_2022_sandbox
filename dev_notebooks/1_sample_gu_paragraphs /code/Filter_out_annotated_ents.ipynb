{
 "cells": [
  {
   "cell_type": "code",
   "execution_count": 1,
   "id": "9733344b-369b-40ce-9255-4d8f4d15977d",
   "metadata": {},
   "outputs": [],
   "source": [
    "import re"
   ]
  },
  {
   "cell_type": "code",
   "execution_count": 2,
   "id": "82911d54-11ac-4e70-9f56-bc4540d93066",
   "metadata": {
    "tags": []
   },
   "outputs": [],
   "source": [
    "import pandas as pd"
   ]
  },
  {
   "cell_type": "code",
   "execution_count": 3,
   "id": "29e42f1a-93b6-479f-846f-5b93de890a2a",
   "metadata": {},
   "outputs": [
    {
     "name": "stderr",
     "output_type": "stream",
     "text": [
      "/home/ubuntu/.conda/envs/jai_new_venv/lib/python3.8/site-packages/tqdm/auto.py:22: TqdmWarning: IProgress not found. Please update jupyter and ipywidgets. See https://ipywidgets.readthedocs.io/en/stable/user_install.html\n",
      "  from .autonotebook import tqdm as notebook_tqdm\n"
     ]
    }
   ],
   "source": [
    "import spacy"
   ]
  },
  {
   "cell_type": "markdown",
   "id": "dd674ad1-31c9-4133-8146-45f2350e3ff8",
   "metadata": {},
   "source": [
    "## Import and process annotation session data"
   ]
  },
  {
   "cell_type": "code",
   "execution_count": 4,
   "id": "8e0d49ec-fd36-4324-a366-5f48fdd5fbf0",
   "metadata": {},
   "outputs": [],
   "source": [
    "data_session_1=pd.read_json('../../training/data/prodigy_sessions/el_session_1.jsonl',lines=True)\n",
    "data_session_2=pd.read_json('../../training/data/prodigy_sessions/el_session_2.jsonl',lines=True)"
   ]
  },
  {
   "cell_type": "code",
   "execution_count": 5,
   "id": "5a16a889-9e21-4fa4-8598-1ae8b76e0679",
   "metadata": {},
   "outputs": [
    {
     "name": "stderr",
     "output_type": "stream",
     "text": [
      "/tmp/ipykernel_5040/2485285366.py:1: FutureWarning: The frame.append method is deprecated and will be removed from pandas in a future version. Use pandas.concat instead.\n",
      "  df=data_session_1.append(data_session_2).reset_index()\n"
     ]
    }
   ],
   "source": [
    "df=data_session_1.append(data_session_2).reset_index()\n",
    "del(data_session_1)\n",
    "del(data_session_2)"
   ]
  },
  {
   "cell_type": "code",
   "execution_count": 6,
   "id": "10ca297d-69b8-4fb9-bb4d-8846e2e12c28",
   "metadata": {},
   "outputs": [
    {
     "data": {
      "text/plain": [
       "(4470, 18)"
      ]
     },
     "execution_count": 6,
     "metadata": {},
     "output_type": "execute_result"
    }
   ],
   "source": [
    "df.shape"
   ]
  },
  {
   "cell_type": "code",
   "execution_count": 7,
   "id": "105c600f-ab18-45ae-b656-e54ee17657cd",
   "metadata": {},
   "outputs": [
    {
     "name": "stderr",
     "output_type": "stream",
     "text": [
      "/tmp/ipykernel_5040/2620138047.py:4: FutureWarning: In a future version of pandas all arguments of DataFrame.drop except for the argument 'labels' will be keyword-only.\n",
      "  df.drop('accept_len',1,inplace=True)\n"
     ]
    }
   ],
   "source": [
    "# Remove instances wrongly accepted without any selected options\n",
    "df['accept_len']=df['accept'].apply(lambda x: len(''.join(x))).sort_values()\n",
    "df=df[df['accept_len']!=0]\n",
    "df.drop('accept_len',1,inplace=True)"
   ]
  },
  {
   "cell_type": "code",
   "execution_count": 8,
   "id": "63890441-fd12-4c7f-9bb7-05a1d1d1288a",
   "metadata": {},
   "outputs": [
    {
     "data": {
      "text/plain": [
       "(4466, 18)"
      ]
     },
     "execution_count": 8,
     "metadata": {},
     "output_type": "execute_result"
    }
   ],
   "source": [
    "df.shape"
   ]
  },
  {
   "cell_type": "code",
   "execution_count": 9,
   "id": "7eba8287-c9c2-4e5b-aa54-d46e8fd70383",
   "metadata": {},
   "outputs": [],
   "source": [
    "df.loc[:,'ents']=df.loc[:,'spans'].apply(lambda x: x[0]['text'])"
   ]
  },
  {
   "cell_type": "code",
   "execution_count": 10,
   "id": "7fb9d8dc-bc3c-4946-965c-20c2d0dbe1c7",
   "metadata": {},
   "outputs": [
    {
     "data": {
      "text/plain": [
       "2057"
      ]
     },
     "execution_count": 10,
     "metadata": {},
     "output_type": "execute_result"
    }
   ],
   "source": [
    "df['ents'].nunique()"
   ]
  },
  {
   "cell_type": "code",
   "execution_count": 11,
   "id": "90f5ace8-a4b5-4e3b-a5ba-e3d09c6c2474",
   "metadata": {},
   "outputs": [],
   "source": [
    "## Remove entities that show up too often (> 3 times)"
   ]
  },
  {
   "cell_type": "code",
   "execution_count": 12,
   "id": "538c8642-68a0-408d-9070-217c487800b3",
   "metadata": {},
   "outputs": [],
   "source": [
    "ent_counts=pd.DataFrame(df['ents'].value_counts())"
   ]
  },
  {
   "cell_type": "code",
   "execution_count": 13,
   "id": "32edba92-b343-4850-a98b-e0a0a2407050",
   "metadata": {},
   "outputs": [],
   "source": [
    "ent_counts=ent_counts.reset_index().rename(columns={'index':'ents','ents':'counts'})"
   ]
  },
  {
   "cell_type": "code",
   "execution_count": 14,
   "id": "fd6a104b-6b75-4efa-a2a6-5bba0c4f0c2f",
   "metadata": {},
   "outputs": [],
   "source": [
    "punctuation_to_filter=ent_counts.loc[ent_counts['ents'].str.len()==1,'ents'].unique()"
   ]
  },
  {
   "cell_type": "code",
   "execution_count": 15,
   "id": "1bdedb54-5b6a-45ff-8beb-f1006eeb66b4",
   "metadata": {},
   "outputs": [
    {
     "data": {
      "text/plain": [
       "array(['–', '“', '”', '‘', '’'], dtype=object)"
      ]
     },
     "execution_count": 15,
     "metadata": {},
     "output_type": "execute_result"
    }
   ],
   "source": [
    "punctuation_to_filter"
   ]
  },
  {
   "cell_type": "code",
   "execution_count": 16,
   "id": "feb7bfb6-47b5-4426-adf3-231dfb54d383",
   "metadata": {},
   "outputs": [],
   "source": [
    "ent_counts=ent_counts[~ent_counts['ents'].isin(punctuation_to_filter)]"
   ]
  },
  {
   "cell_type": "code",
   "execution_count": 17,
   "id": "74c57098-c14e-4c71-9740-303658110ff4",
   "metadata": {},
   "outputs": [],
   "source": [
    "unwanted_ents=set(ent_counts.loc[ent_counts['counts']>4,'ents'])"
   ]
  },
  {
   "cell_type": "code",
   "execution_count": 18,
   "id": "55d4ee00-cff7-4ad5-b5c6-c8b3e383c986",
   "metadata": {},
   "outputs": [],
   "source": [
    "data=pd.read_csv('gu_resampled_by_section_id_full_name_all_aliases_kb_match_paragraphs.csv', index_col=0)\n"
   ]
  },
  {
   "cell_type": "code",
   "execution_count": 19,
   "id": "9ffb890f-3b58-49f0-9191-0087a0db7278",
   "metadata": {},
   "outputs": [
    {
     "data": {
      "text/plain": [
       "(152616, 5)"
      ]
     },
     "execution_count": 19,
     "metadata": {},
     "output_type": "execute_result"
    }
   ],
   "source": [
    "data.shape"
   ]
  },
  {
   "cell_type": "code",
   "execution_count": 20,
   "id": "b53d0d83-19c7-4b88-af99-d3f5efb5a0d1",
   "metadata": {},
   "outputs": [],
   "source": [
    "for punctuation_mark in punctuation_to_filter:\n",
    "    data['paragraphs']=data['paragraphs'].str.replace(punctuation_mark, ' ')"
   ]
  },
  {
   "cell_type": "code",
   "execution_count": 21,
   "id": "fb072c31-6311-4002-9354-60dd2e79e9b2",
   "metadata": {},
   "outputs": [],
   "source": [
    "paragraphs=df[['text','_input_hash']]"
   ]
  },
  {
   "cell_type": "code",
   "execution_count": 22,
   "id": "09ae5b6e-942b-43d3-8204-de3385f2812a",
   "metadata": {},
   "outputs": [
    {
     "data": {
      "text/plain": [
       "(152616, 5)"
      ]
     },
     "execution_count": 22,
     "metadata": {},
     "output_type": "execute_result"
    }
   ],
   "source": [
    "data.shape"
   ]
  },
  {
   "cell_type": "code",
   "execution_count": 23,
   "id": "e22142fd-71e1-4c1e-9b0d-0349da64ed9d",
   "metadata": {},
   "outputs": [
    {
     "data": {
      "text/plain": [
       "(4466, 2)"
      ]
     },
     "execution_count": 23,
     "metadata": {},
     "output_type": "execute_result"
    }
   ],
   "source": [
    "paragraphs.shape"
   ]
  },
  {
   "cell_type": "code",
   "execution_count": 24,
   "id": "ba399eed-b400-4382-b79b-0b51e28a6cdd",
   "metadata": {},
   "outputs": [],
   "source": [
    "data=data.drop_duplicates('paragraphs')"
   ]
  },
  {
   "cell_type": "code",
   "execution_count": 25,
   "id": "fe885024-cbe1-4867-bf92-3788f51706c4",
   "metadata": {},
   "outputs": [],
   "source": [
    "paragraphs=paragraphs.drop_duplicates('text')"
   ]
  },
  {
   "cell_type": "code",
   "execution_count": 26,
   "id": "236b0325-c798-4468-9ce7-4866967dcb47",
   "metadata": {},
   "outputs": [
    {
     "data": {
      "text/plain": [
       "(152084, 5)"
      ]
     },
     "execution_count": 26,
     "metadata": {},
     "output_type": "execute_result"
    }
   ],
   "source": [
    "data.shape"
   ]
  },
  {
   "cell_type": "code",
   "execution_count": 27,
   "id": "509618f1-e6f6-486f-9324-3866f2a9a5ec",
   "metadata": {},
   "outputs": [
    {
     "data": {
      "text/plain": [
       "(1917, 2)"
      ]
     },
     "execution_count": 27,
     "metadata": {},
     "output_type": "execute_result"
    }
   ],
   "source": [
    "paragraphs.shape"
   ]
  },
  {
   "cell_type": "code",
   "execution_count": 28,
   "id": "5063160b-4dfa-4c0e-9a9c-e14d9bebe78c",
   "metadata": {},
   "outputs": [],
   "source": [
    "data['paragraph_match']=data['paragraphs'].apply(lambda x: re.sub(r'\\W+', '', x))"
   ]
  },
  {
   "cell_type": "code",
   "execution_count": 29,
   "id": "c80512e2-abfc-44a0-9392-df10eeb1e9ec",
   "metadata": {},
   "outputs": [],
   "source": [
    "paragraphs['paragraph_match']=paragraphs['text'].apply(lambda x: re.sub(r'\\W+', '', x))"
   ]
  },
  {
   "cell_type": "code",
   "execution_count": 30,
   "id": "5e956d66-6bff-4d1d-a09c-182dbfb0d8e3",
   "metadata": {},
   "outputs": [],
   "source": [
    "data=data.merge(paragraphs, how='left', on=['paragraph_match'])"
   ]
  },
  {
   "cell_type": "code",
   "execution_count": 31,
   "id": "cce87f92-996e-429f-b125-497c59dccb20",
   "metadata": {},
   "outputs": [
    {
     "name": "stderr",
     "output_type": "stream",
     "text": [
      "/tmp/ipykernel_5040/3336296306.py:1: FutureWarning: In a future version of pandas all arguments of DataFrame.drop except for the argument 'labels' will be keyword-only.\n",
      "  data.drop('paragraph_match',1,inplace=True)\n"
     ]
    }
   ],
   "source": [
    "data.drop('paragraph_match',1,inplace=True)"
   ]
  },
  {
   "cell_type": "code",
   "execution_count": 32,
   "id": "3af2eb22-fc9c-4eb1-b6db-dec19ec8e8b2",
   "metadata": {},
   "outputs": [
    {
     "data": {
      "text/plain": [
       "False"
      ]
     },
     "execution_count": 32,
     "metadata": {},
     "output_type": "execute_result"
    }
   ],
   "source": [
    "data['paragraphs'].isna().any()"
   ]
  },
  {
   "cell_type": "code",
   "execution_count": 33,
   "id": "42794132-c819-43d1-99fd-68854e8a20c3",
   "metadata": {},
   "outputs": [],
   "source": [
    "data=data[data['_input_hash'].isna()]"
   ]
  },
  {
   "cell_type": "code",
   "execution_count": 34,
   "id": "35f175af-680b-440d-bf39-fa9d03715f51",
   "metadata": {},
   "outputs": [
    {
     "name": "stderr",
     "output_type": "stream",
     "text": [
      "/tmp/ipykernel_5040/1640300887.py:1: FutureWarning: In a future version of pandas all arguments of DataFrame.drop except for the argument 'labels' will be keyword-only.\n",
      "  data.drop(['text','_input_hash'],1,inplace=True)\n"
     ]
    }
   ],
   "source": [
    "data.drop(['text','_input_hash'],1,inplace=True)"
   ]
  },
  {
   "cell_type": "code",
   "execution_count": 35,
   "id": "98a77852-5f2f-47b7-bd87-adfdc48f8c9e",
   "metadata": {},
   "outputs": [],
   "source": [
    "data=data.drop_duplicates(['paragraphs'])"
   ]
  },
  {
   "cell_type": "code",
   "execution_count": 36,
   "id": "940984d8-65b1-492e-ae17-6c0bd5634cf6",
   "metadata": {},
   "outputs": [
    {
     "data": {
      "text/plain": [
       "(150325, 5)"
      ]
     },
     "execution_count": 36,
     "metadata": {},
     "output_type": "execute_result"
    }
   ],
   "source": [
    "data.shape"
   ]
  },
  {
   "cell_type": "code",
   "execution_count": 37,
   "id": "6b2235bd-78f4-4988-a0f7-c8d72115c0f0",
   "metadata": {},
   "outputs": [],
   "source": [
    "for ent in unwanted_ents:\n",
    "    data=data[~data['paragraphs'].str.contains(ent)]"
   ]
  },
  {
   "cell_type": "code",
   "execution_count": 38,
   "id": "3346d822-80ca-4cf7-8ba7-5e27f8aabf77",
   "metadata": {},
   "outputs": [
    {
     "data": {
      "text/plain": [
       "(79002, 5)"
      ]
     },
     "execution_count": 38,
     "metadata": {},
     "output_type": "execute_result"
    }
   ],
   "source": [
    "data.shape"
   ]
  },
  {
   "cell_type": "code",
   "execution_count": 63,
   "id": "a5cc5226-14dd-4d7a-bd21-5bd349f3ed7b",
   "metadata": {},
   "outputs": [
    {
     "data": {
      "text/html": [
       "<div>\n",
       "<style scoped>\n",
       "    .dataframe tbody tr th:only-of-type {\n",
       "        vertical-align: middle;\n",
       "    }\n",
       "\n",
       "    .dataframe tbody tr th {\n",
       "        vertical-align: top;\n",
       "    }\n",
       "\n",
       "    .dataframe thead th {\n",
       "        text-align: right;\n",
       "    }\n",
       "</style>\n",
       "<table border=\"1\" class=\"dataframe\">\n",
       "  <thead>\n",
       "    <tr style=\"text-align: right;\">\n",
       "      <th></th>\n",
       "      <th>url</th>\n",
       "      <th>paragraphs</th>\n",
       "      <th>doc_index</th>\n",
       "      <th>lower_paragraphs</th>\n",
       "      <th>alias</th>\n",
       "    </tr>\n",
       "  </thead>\n",
       "  <tbody>\n",
       "    <tr>\n",
       "      <th>28</th>\n",
       "      <td>www.theguardian.com/global-development/2018/ma...</td>\n",
       "      <td>Since January 2017, a measles outbreak has led...</td>\n",
       "      <td>17440</td>\n",
       "      <td>since january 2017, a measles outbreak has led...</td>\n",
       "      <td>ed case</td>\n",
       "    </tr>\n",
       "    <tr>\n",
       "      <th>128</th>\n",
       "      <td>www.theguardian.com/uk-news/2014/oct/06/northu...</td>\n",
       "      <td>This will include contacting the victims in t...</td>\n",
       "      <td>16275</td>\n",
       "      <td>“this will include contacting the victims in t...</td>\n",
       "      <td>ed case</td>\n",
       "    </tr>\n",
       "    <tr>\n",
       "      <th>338</th>\n",
       "      <td>www.theguardian.com/world/2017/oct/06/japanese...</td>\n",
       "      <td>It said 368 people   352 of them men   had kil...</td>\n",
       "      <td>6826</td>\n",
       "      <td>it said 368 people – 352 of them men – had kil...</td>\n",
       "      <td>ed case</td>\n",
       "    </tr>\n",
       "    <tr>\n",
       "      <th>385</th>\n",
       "      <td>www.theguardian.com/world/2020/mar/16/coronavi...</td>\n",
       "      <td>We have a simple message for all countries Te...</td>\n",
       "      <td>5719</td>\n",
       "      <td>“we have a simple message for all countries te...</td>\n",
       "      <td>ed case</td>\n",
       "    </tr>\n",
       "    <tr>\n",
       "      <th>598</th>\n",
       "      <td>www.theguardian.com/business/2015/jun/10/obscu...</td>\n",
       "      <td>A year after the Moorburg case closed, Vattenf...</td>\n",
       "      <td>18151</td>\n",
       "      <td>a year after the moorburg case closed, vattenf...</td>\n",
       "      <td>ed case</td>\n",
       "    </tr>\n",
       "    <tr>\n",
       "      <th>...</th>\n",
       "      <td>...</td>\n",
       "      <td>...</td>\n",
       "      <td>...</td>\n",
       "      <td>...</td>\n",
       "      <td>...</td>\n",
       "    </tr>\n",
       "    <tr>\n",
       "      <th>151410</th>\n",
       "      <td>www.theguardian.com/global-development/2020/au...</td>\n",
       "      <td>Four years after the last recorded cases of wi...</td>\n",
       "      <td>17518</td>\n",
       "      <td>four years after the last recorded cases of wi...</td>\n",
       "      <td>ed case</td>\n",
       "    </tr>\n",
       "    <tr>\n",
       "      <th>151465</th>\n",
       "      <td>www.theguardian.com/us-news/2022/mar/22/cowboy...</td>\n",
       "      <td>The ruling bolsters a key theory from prosecut...</td>\n",
       "      <td>5094</td>\n",
       "      <td>the ruling bolsters a key theory from prosecut...</td>\n",
       "      <td>ed case</td>\n",
       "    </tr>\n",
       "    <tr>\n",
       "      <th>151473</th>\n",
       "      <td>www.theguardian.com/us-news/2020/oct/19/scott-...</td>\n",
       "      <td>Coronavirus is back on the ascendant, across t...</td>\n",
       "      <td>10381</td>\n",
       "      <td>coronavirus is back on the ascendant, across t...</td>\n",
       "      <td>ed case</td>\n",
       "    </tr>\n",
       "    <tr>\n",
       "      <th>151583</th>\n",
       "      <td>www.theguardian.com/world/2014/oct/17/ebola-ep...</td>\n",
       "      <td>While the outbreak is now officially over, Se...</td>\n",
       "      <td>13203</td>\n",
       "      <td>“while the outbreak is now officially over, se...</td>\n",
       "      <td>ed case</td>\n",
       "    </tr>\n",
       "    <tr>\n",
       "      <th>151936</th>\n",
       "      <td>www.theguardian.com/world/2020/jan/28/canada-c...</td>\n",
       "      <td>Canada has so far seen three confirmed cases o...</td>\n",
       "      <td>6866</td>\n",
       "      <td>canada has so far seen three confirmed cases o...</td>\n",
       "      <td>ed case</td>\n",
       "    </tr>\n",
       "  </tbody>\n",
       "</table>\n",
       "<p>984 rows × 5 columns</p>\n",
       "</div>"
      ],
      "text/plain": [
       "                                                      url  \\\n",
       "28      www.theguardian.com/global-development/2018/ma...   \n",
       "128     www.theguardian.com/uk-news/2014/oct/06/northu...   \n",
       "338     www.theguardian.com/world/2017/oct/06/japanese...   \n",
       "385     www.theguardian.com/world/2020/mar/16/coronavi...   \n",
       "598     www.theguardian.com/business/2015/jun/10/obscu...   \n",
       "...                                                   ...   \n",
       "151410  www.theguardian.com/global-development/2020/au...   \n",
       "151465  www.theguardian.com/us-news/2022/mar/22/cowboy...   \n",
       "151473  www.theguardian.com/us-news/2020/oct/19/scott-...   \n",
       "151583  www.theguardian.com/world/2014/oct/17/ebola-ep...   \n",
       "151936  www.theguardian.com/world/2020/jan/28/canada-c...   \n",
       "\n",
       "                                               paragraphs  doc_index  \\\n",
       "28      Since January 2017, a measles outbreak has led...      17440   \n",
       "128      This will include contacting the victims in t...      16275   \n",
       "338     It said 368 people   352 of them men   had kil...       6826   \n",
       "385      We have a simple message for all countries Te...       5719   \n",
       "598     A year after the Moorburg case closed, Vattenf...      18151   \n",
       "...                                                   ...        ...   \n",
       "151410  Four years after the last recorded cases of wi...      17518   \n",
       "151465  The ruling bolsters a key theory from prosecut...       5094   \n",
       "151473  Coronavirus is back on the ascendant, across t...      10381   \n",
       "151583   While the outbreak is now officially over, Se...      13203   \n",
       "151936  Canada has so far seen three confirmed cases o...       6866   \n",
       "\n",
       "                                         lower_paragraphs    alias  \n",
       "28      since january 2017, a measles outbreak has led...  ed case  \n",
       "128     “this will include contacting the victims in t...  ed case  \n",
       "338     it said 368 people – 352 of them men – had kil...  ed case  \n",
       "385     “we have a simple message for all countries te...  ed case  \n",
       "598     a year after the moorburg case closed, vattenf...  ed case  \n",
       "...                                                   ...      ...  \n",
       "151410  four years after the last recorded cases of wi...  ed case  \n",
       "151465  the ruling bolsters a key theory from prosecut...  ed case  \n",
       "151473  coronavirus is back on the ascendant, across t...  ed case  \n",
       "151583  “while the outbreak is now officially over, se...  ed case  \n",
       "151936  canada has so far seen three confirmed cases o...  ed case  \n",
       "\n",
       "[984 rows x 5 columns]"
      ]
     },
     "execution_count": 63,
     "metadata": {},
     "output_type": "execute_result"
    }
   ],
   "source": [
    "data.loc[data['alias'].isin(['ed case'])]"
   ]
  },
  {
   "cell_type": "code",
   "execution_count": null,
   "id": "eb4114c7-c086-43df-870c-225116d38668",
   "metadata": {},
   "outputs": [],
   "source": [
    "['anita','innocent', 'al from', 'barba', 'ed case', 'christo']"
   ]
  },
  {
   "cell_type": "code",
   "execution_count": 74,
   "id": "47dbe92f-8e05-4ddf-ab8b-af83487b0986",
   "metadata": {},
   "outputs": [],
   "source": [
    "alias_counts=data['alias'].value_counts().reset_index().rename(columns={'index':'alias','alias':'counts'})"
   ]
  },
  {
   "cell_type": "code",
   "execution_count": 83,
   "id": "13a16efb-40bc-4297-9676-025dac409029",
   "metadata": {},
   "outputs": [],
   "source": [
    "less_common_alias=alias_counts.loc[alias_counts['counts']<100,'alias'].unique()"
   ]
  },
  {
   "cell_type": "code",
   "execution_count": 88,
   "id": "358ab06a-e8ea-4b16-9b8f-776db5ae580b",
   "metadata": {},
   "outputs": [],
   "source": [
    "data=data[data['alias'].isin(less_common_alias)]"
   ]
  },
  {
   "cell_type": "code",
   "execution_count": 93,
   "id": "d869d9e3-3f71-4fd9-880b-3f1a6611e198",
   "metadata": {},
   "outputs": [],
   "source": [
    "data=data.groupby(['alias']).sample(3, replace=True, random_state=42)"
   ]
  },
  {
   "cell_type": "code",
   "execution_count": 95,
   "id": "18494499-12bb-4974-bd47-90b15ac3912c",
   "metadata": {},
   "outputs": [],
   "source": [
    "data=data.drop_duplicates()"
   ]
  },
  {
   "cell_type": "code",
   "execution_count": 100,
   "id": "1a1fc218-49ce-48f8-a49c-e71e0923d796",
   "metadata": {},
   "outputs": [
    {
     "data": {
      "text/plain": [
       "michel kafando       3\n",
       "nick xenophon        3\n",
       "john randall         3\n",
       "carly fiorina        3\n",
       "carme forcadell      3\n",
       "                    ..\n",
       "lindbergh farias     1\n",
       "linda-gail bekker    1\n",
       "linda white          1\n",
       "linda walker         1\n",
       "șerban nicolae       1\n",
       "Name: alias, Length: 14593, dtype: int64"
      ]
     },
     "execution_count": 100,
     "metadata": {},
     "output_type": "execute_result"
    }
   ],
   "source": [
    "data['alias'].value_counts()"
   ]
  },
  {
   "cell_type": "code",
   "execution_count": 101,
   "id": "224f82b1-62e5-46ad-baf1-59af12767f43",
   "metadata": {},
   "outputs": [],
   "source": [
    "data=data[['paragraphs','url']].rename(columns={'paragraphs':'text'})"
   ]
  },
  {
   "cell_type": "code",
   "execution_count": 103,
   "id": "3f106ff6-103f-4fe7-b691-340e5c89803c",
   "metadata": {},
   "outputs": [],
   "source": [
    "data.to_json('gu_paragraphs_remove_common_entities_and_downsample_to_3_each.jsonl',lines=True, orient='records')"
   ]
  },
  {
   "cell_type": "code",
   "execution_count": null,
   "id": "7197b2cb-e2cc-4fd1-8354-78357e7f367c",
   "metadata": {},
   "outputs": [],
   "source": [
    "##"
   ]
  }
 ],
 "metadata": {
  "kernelspec": {
   "display_name": "Python 3 (ipykernel)",
   "language": "python",
   "name": "python3"
  },
  "language_info": {
   "codemirror_mode": {
    "name": "ipython",
    "version": 3
   },
   "file_extension": ".py",
   "mimetype": "text/x-python",
   "name": "python",
   "nbconvert_exporter": "python",
   "pygments_lexer": "ipython3",
   "version": "3.8.0"
  }
 },
 "nbformat": 4,
 "nbformat_minor": 5
}
