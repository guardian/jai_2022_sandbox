{
 "cells": [
  {
   "cell_type": "code",
   "execution_count": 1,
   "id": "dd69de9f-d4e9-463b-a141-7c8d89ebc570",
   "metadata": {},
   "outputs": [],
   "source": [
    "import pandas as pd"
   ]
  },
  {
   "cell_type": "code",
   "execution_count": 2,
   "id": "2c9e1604-807f-4795-8a1f-6eb39fd301ee",
   "metadata": {},
   "outputs": [],
   "source": [
    "import glob"
   ]
  },
  {
   "cell_type": "code",
   "execution_count": 3,
   "id": "9a88a32b-e068-4068-9f39-537e814a0ee2",
   "metadata": {},
   "outputs": [],
   "source": [
    "first_cycle=1\n",
    "for gu_ner_file in glob.glob('sampled_*'):\n",
    "    year=gu_ner_file.split('_')[-2]\n",
    "    gu_ents_cycle = pd.read_csv(gu_ner_file,index_col=0)\n",
    "    gu_ents_cycle['article_year']=year\n",
    "    if first_cycle:\n",
    "        gu_ents=gu_ents_cycle\n",
    "        first_cycle=0\n",
    "    else:\n",
    "        gu_ents=pd.concat([gu_ents, gu_ents_cycle],ignore_index=True)"
   ]
  },
  {
   "cell_type": "code",
   "execution_count": 7,
   "id": "cc93d76d-f0a0-4463-be37-522c7ee43d80",
   "metadata": {},
   "outputs": [],
   "source": [
    "gu_ents=gu_ents[gu_ents['article_year']>'2013']"
   ]
  },
  {
   "cell_type": "code",
   "execution_count": 10,
   "id": "be5398fe-e0a5-462e-9382-a77bc26bd625",
   "metadata": {},
   "outputs": [],
   "source": [
    "gu_ents=gu_ents[gu_ents['label']=='PERSON']"
   ]
  },
  {
   "cell_type": "code",
   "execution_count": 13,
   "id": "c00c22d8-b6aa-4ad3-8c4e-da3cd51588c7",
   "metadata": {},
   "outputs": [
    {
     "name": "stderr",
     "output_type": "stream",
     "text": [
      "/tmp/ipykernel_1464/2101730499.py:1: SettingWithCopyWarning: \n",
      "A value is trying to be set on a copy of a slice from a DataFrame.\n",
      "Try using .loc[row_indexer,col_indexer] = value instead\n",
      "\n",
      "See the caveats in the documentation: https://pandas.pydata.org/pandas-docs/stable/user_guide/indexing.html#returning-a-view-versus-a-copy\n",
      "  gu_ents['text']=gu_ents['text'].str.lower()\n"
     ]
    }
   ],
   "source": [
    "gu_ents['text']=gu_ents['text'].str.lower()"
   ]
  },
  {
   "cell_type": "code",
   "execution_count": 20,
   "id": "d9c7c826-a2c8-45c3-ad09-33594d68848f",
   "metadata": {},
   "outputs": [],
   "source": [
    "unique_ents=pd.DataFrame(gu_ents['text'].unique(),columns=['name'])"
   ]
  },
  {
   "cell_type": "code",
   "execution_count": 17,
   "id": "3a0fc820-0cf4-454d-b7cf-75da1ea7d077",
   "metadata": {},
   "outputs": [],
   "source": [
    "kb_aliases=pd.read_csv('gu_resampled_by_section_id_aliases.csv',index_col=0)"
   ]
  },
  {
   "cell_type": "code",
   "execution_count": 22,
   "id": "5f50476c-b234-43cc-902b-bd47fa7d3a0c",
   "metadata": {},
   "outputs": [],
   "source": [
    "kb_aliases.merge(unique_ents, on='name').to_csv('gu_resampled_by_section_id_full_name_kb_match_aliases.csv')"
   ]
  }
 ],
 "metadata": {
  "kernelspec": {
   "display_name": "Python 3 (ipykernel)",
   "language": "python",
   "name": "python3"
  },
  "language_info": {
   "codemirror_mode": {
    "name": "ipython",
    "version": 3
   },
   "file_extension": ".py",
   "mimetype": "text/x-python",
   "name": "python",
   "nbconvert_exporter": "python",
   "pygments_lexer": "ipython3",
   "version": "3.7.13"
  }
 },
 "nbformat": 4,
 "nbformat_minor": 5
}
