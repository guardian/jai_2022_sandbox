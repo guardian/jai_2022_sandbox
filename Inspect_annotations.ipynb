{
 "cells": [
  {
   "cell_type": "code",
   "execution_count": 1,
   "id": "46e58ce6-cd16-4828-8ec0-4df40e18edb7",
   "metadata": {},
   "outputs": [],
   "source": [
    "import pandas as pd"
   ]
  },
  {
   "cell_type": "code",
   "execution_count": 2,
   "id": "2d625f17-c3ac-41ce-9295-74fc28de83be",
   "metadata": {},
   "outputs": [],
   "source": [
    "data_session_1=pd.read_json('assets/prodigy_sessions/el_session_1.jsonl',lines=True)\n",
    "data_session_2=pd.read_json('assets/prodigy_sessions/el_session_2.jsonl',lines=True)"
   ]
  },
  {
   "cell_type": "code",
   "execution_count": 3,
   "id": "e936dccb-0b83-431b-b2f6-9cd0462534f1",
   "metadata": {},
   "outputs": [],
   "source": [
    "data=data_session_1.append(data_session_2).reset_index()"
   ]
  },
  {
   "cell_type": "code",
   "execution_count": 4,
   "id": "621b487b-697c-4a5c-91db-184402e5e88a",
   "metadata": {},
   "outputs": [
    {
     "name": "stderr",
     "output_type": "stream",
     "text": [
      "/Users/luis_flores/.local/share/virtualenvs/ner-DhZLIlym/lib/python3.7/site-packages/ipykernel_launcher.py:1: FutureWarning: In a future version of pandas all arguments of DataFrame.drop except for the argument 'labels' will be keyword-only\n",
      "  \"\"\"Entry point for launching an IPython kernel.\n"
     ]
    },
    {
     "data": {
      "text/html": [
       "<div>\n",
       "<style scoped>\n",
       "    .dataframe tbody tr th:only-of-type {\n",
       "        vertical-align: middle;\n",
       "    }\n",
       "\n",
       "    .dataframe tbody tr th {\n",
       "        vertical-align: top;\n",
       "    }\n",
       "\n",
       "    .dataframe thead th {\n",
       "        text-align: right;\n",
       "    }\n",
       "</style>\n",
       "<table border=\"1\" class=\"dataframe\">\n",
       "  <thead>\n",
       "    <tr style=\"text-align: right;\">\n",
       "      <th></th>\n",
       "      <th>index</th>\n",
       "      <th>text</th>\n",
       "      <th>_input_hash</th>\n",
       "      <th>_task_hash</th>\n",
       "      <th>gu_url</th>\n",
       "      <th>spans</th>\n",
       "      <th>meta</th>\n",
       "      <th>_is_binary</th>\n",
       "      <th>options</th>\n",
       "      <th>config</th>\n",
       "      <th>_view_id</th>\n",
       "      <th>accept</th>\n",
       "      <th>answer</th>\n",
       "      <th>_timestamp</th>\n",
       "      <th>_annotator_id</th>\n",
       "      <th>_session_id</th>\n",
       "      <th>flagged</th>\n",
       "      <th>url</th>\n",
       "    </tr>\n",
       "  </thead>\n",
       "  <tbody>\n",
       "  </tbody>\n",
       "</table>\n",
       "</div>"
      ],
      "text/plain": [
       "Empty DataFrame\n",
       "Columns: [index, text, _input_hash, _task_hash, gu_url, spans, meta, _is_binary, options, config, _view_id, accept, answer, _timestamp, _annotator_id, _session_id, flagged, url]\n",
       "Index: []"
      ]
     },
     "execution_count": 4,
     "metadata": {},
     "output_type": "execute_result"
    }
   ],
   "source": [
    "data[data.drop(['flagged','url','gu_url'],1).isna().any(1)]"
   ]
  },
  {
   "cell_type": "code",
   "execution_count": 5,
   "id": "9953fb5a-f940-490f-839a-90c289ab41c1",
   "metadata": {},
   "outputs": [
    {
     "data": {
      "text/plain": [
       " 1181780303    17\n",
       "-1155515297    13\n",
       "-122158038     11\n",
       "-801910587     11\n",
       "-1692783485    11\n",
       "               ..\n",
       " 811129546      1\n",
       "-383857937      1\n",
       " 925792991      1\n",
       " 1934483787     1\n",
       "-1462095615     1\n",
       "Name: _input_hash, Length: 1252, dtype: int64"
      ]
     },
     "execution_count": 5,
     "metadata": {},
     "output_type": "execute_result"
    }
   ],
   "source": [
    "data['_input_hash'].value_counts()"
   ]
  },
  {
   "cell_type": "code",
   "execution_count": 6,
   "id": "ba365f84-a4e3-4a0b-91cd-b5ae1d05e55f",
   "metadata": {},
   "outputs": [
    {
     "data": {
      "text/plain": [
       "(2906, 18)"
      ]
     },
     "execution_count": 6,
     "metadata": {},
     "output_type": "execute_result"
    }
   ],
   "source": [
    "data.shape"
   ]
  },
  {
   "cell_type": "code",
   "execution_count": 8,
   "id": "aa5979d4-7c50-4098-a4df-acc15d4fe017",
   "metadata": {},
   "outputs": [
    {
     "data": {
      "text/plain": [
       "1258"
      ]
     },
     "execution_count": 8,
     "metadata": {},
     "output_type": "execute_result"
    }
   ],
   "source": [
    "data['text'].nunique()"
   ]
  },
  {
   "cell_type": "code",
   "execution_count": 10,
   "id": "89b4b96a-a1df-444d-937c-90be86c11edc",
   "metadata": {},
   "outputs": [],
   "source": [
    "def find_no_candidates(row, no_candidate_sub_str=['NEL','NER']):\n",
    "    return any(sub_str in ' '.join(row['accept']) for sub_str in no_candidate_sub_str)"
   ]
  },
  {
   "cell_type": "code",
   "execution_count": 11,
   "id": "834f8299-3416-4a34-b86e-a7a325f8c666",
   "metadata": {},
   "outputs": [],
   "source": [
    "data=data[~data.apply(find_no_candidates,1)]"
   ]
  },
  {
   "cell_type": "code",
   "execution_count": null,
   "id": "1676682a-37fd-4d03-a996-5ed2a750dd9d",
   "metadata": {},
   "outputs": [
    {
     "name": "stderr",
     "output_type": "stream",
     "text": [
      "/Users/luis_flores/.local/share/virtualenvs/ner-DhZLIlym/lib/python3.7/site-packages/ipykernel_launcher.py:1: SettingWithCopyWarning: \n",
      "A value is trying to be set on a copy of a slice from a DataFrame.\n",
      "Try using .loc[row_indexer,col_indexer] = value instead\n",
      "\n",
      "See the caveats in the documentation: https://pandas.pydata.org/pandas-docs/stable/user_guide/indexing.html#returning-a-view-versus-a-copy\n",
      "  \"\"\"Entry point for launching an IPython kernel.\n"
     ]
    }
   ],
   "source": [
    "data['accept_len']=data['accept'].apply(lambda x: len(''.join(x))).sort_values()"
   ]
  },
  {
   "cell_type": "code",
   "execution_count": null,
   "id": "a71bd178-1476-4b83-9b0c-371b30e1d0eb",
   "metadata": {},
   "outputs": [
    {
     "data": {
      "text/plain": [
       "(1649, 19)"
      ]
     },
     "execution_count": 13,
     "metadata": {},
     "output_type": "execute_result"
    }
   ],
   "source": [
    "data.shape"
   ]
  },
  {
   "cell_type": "code",
   "execution_count": null,
   "id": "ec0d7b40-55d8-4d5c-9076-f6c1e24d0f5f",
   "metadata": {},
   "outputs": [
    {
     "data": {
      "text/plain": [
       "(3, 19)"
      ]
     },
     "execution_count": 14,
     "metadata": {},
     "output_type": "execute_result"
    }
   ],
   "source": [
    "# Number of empty accepts\n",
    "data[data['accept_len']==0].shape"
   ]
  },
  {
   "cell_type": "code",
   "execution_count": null,
   "id": "197b992d-fcb5-4491-85ad-4cff3698ca16",
   "metadata": {},
   "outputs": [],
   "source": [
    "data=data[data['accept_len']!=0]"
   ]
  },
  {
   "cell_type": "code",
   "execution_count": null,
   "id": "51686f25-e92f-4d02-bc47-45a3b4fa5c53",
   "metadata": {},
   "outputs": [
    {
     "data": {
      "text/plain": [
       "(1646, 19)"
      ]
     },
     "execution_count": 16,
     "metadata": {},
     "output_type": "execute_result"
    }
   ],
   "source": [
    "data.shape"
   ]
  },
  {
   "cell_type": "code",
   "execution_count": 17,
   "id": "716a5f35-4ed0-426a-8235-992e89e08c09",
   "metadata": {},
   "outputs": [],
   "source": [
    "def find_best_candidate(row,best_candidate=0):\n",
    "    best_candidate_d={}\n",
    "    for option_id in row['accept']:\n",
    "        for candidate in list(filter(lambda x: option_id == x['id'], row['options'])):\n",
    "            candidate_len=len(candidate['html'].split('a>:')[1])\n",
    "            best_candidate_d[option_id]=candidate_len\n",
    "    return [max(best_candidate_d, key=best_candidate_d.get)][0]"
   ]
  },
  {
   "cell_type": "code",
   "execution_count": 18,
   "id": "0b3e2aa0-b302-4745-a598-77e290dc32ed",
   "metadata": {},
   "outputs": [],
   "source": [
    "data['accept']=data.apply(find_best_candidate,1)"
   ]
  },
  {
   "cell_type": "code",
   "execution_count": 19,
   "id": "ecc9bcc5-b7ba-42d6-a2e2-37f430daacb1",
   "metadata": {},
   "outputs": [],
   "source": [
    "data['mentions']=data['spans'].apply(lambda x: x[0]['text'])"
   ]
  },
  {
   "cell_type": "code",
   "execution_count": 26,
   "id": "522f911a-70c5-4fb9-b6bb-b575a2d3d15d",
   "metadata": {},
   "outputs": [
    {
     "data": {
      "text/plain": [
       "Donald Trump         70\n",
       "Boris Johnson        48\n",
       "Corbyn               42\n",
       "Theresa May          38\n",
       "Trump                38\n",
       "                     ..\n",
       "Alfred Hitchcock      1\n",
       "Charlie Chaplin       1\n",
       "Brigitte Bardot       1\n",
       "Hank Meijer           1\n",
       "James Brokenshire     1\n",
       "Name: mentions, Length: 888, dtype: int64"
      ]
     },
     "execution_count": 26,
     "metadata": {},
     "output_type": "execute_result"
    }
   ],
   "source": [
    "data['mentions'].value_counts()"
   ]
  },
  {
   "cell_type": "code",
   "execution_count": 20,
   "id": "de719805-0200-497d-b7fa-adc64000d85e",
   "metadata": {},
   "outputs": [],
   "source": [
    "pd.DataFrame(data['mentions'].value_counts()).to_csv('annotations_2022_11_08.csv')"
   ]
  },
  {
   "cell_type": "code",
   "execution_count": null,
   "id": "c8f77c79-8034-4384-b249-6b2acfad57e1",
   "metadata": {},
   "outputs": [],
   "source": []
  }
 ],
 "metadata": {
  "kernelspec": {
   "display_name": "Python 3 (ipykernel)",
   "language": "python",
   "name": "python3"
  },
  "language_info": {
   "codemirror_mode": {
    "name": "ipython",
    "version": 3
   },
   "file_extension": ".py",
   "mimetype": "text/x-python",
   "name": "python",
   "nbconvert_exporter": "python",
   "pygments_lexer": "ipython3",
   "version": "3.7.13"
  }
 },
 "nbformat": 4,
 "nbformat_minor": 5
}
