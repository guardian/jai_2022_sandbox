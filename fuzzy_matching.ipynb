{
 "cells": [
  {
   "cell_type": "markdown",
   "metadata": {
    "tags": []
   },
   "source": [
    "## KB Fuzzy Matching"
   ]
  },
  {
   "cell_type": "code",
   "execution_count": 218,
   "metadata": {},
   "outputs": [],
   "source": [
    "import pandas as pd"
   ]
  },
  {
   "cell_type": "code",
   "execution_count": 63,
   "metadata": {},
   "outputs": [],
   "source": [
    "import Levenshtein as lev"
   ]
  },
  {
   "cell_type": "code",
   "execution_count": 58,
   "metadata": {},
   "outputs": [],
   "source": [
    "import rapidfuzz"
   ]
  },
  {
   "cell_type": "code",
   "execution_count": 59,
   "metadata": {},
   "outputs": [],
   "source": [
    "### Match based on "
   ]
  },
  {
   "cell_type": "code",
   "execution_count": 78,
   "metadata": {
    "tags": []
   },
   "outputs": [],
   "source": [
    "kb_entities=pd.read_csv('kb_entities.csv',names=['id','entity','desc'])"
   ]
  },
  {
   "cell_type": "code",
   "execution_count": 61,
   "metadata": {},
   "outputs": [
    {
     "data": {
      "text/plain": [
       "35.29411764705882"
      ]
     },
     "execution_count": 61,
     "metadata": {},
     "output_type": "execute_result"
    }
   ],
   "source": [
    "rapidfuzz.fuzz.ratio('Boris Johnson', 'Bojo')"
   ]
  },
  {
   "cell_type": "code",
   "execution_count": 70,
   "metadata": {},
   "outputs": [
    {
     "data": {
      "text/plain": [
       "66.66666666666667"
      ]
     },
     "execution_count": 70,
     "metadata": {},
     "output_type": "execute_result"
    }
   ],
   "source": [
    "rapidfuzz.fuzz.partial_ratio('Boris Johnson', 'Bojo')"
   ]
  },
  {
   "cell_type": "code",
   "execution_count": 156,
   "metadata": {},
   "outputs": [
    {
     "data": {
      "text/plain": [
       "69.56521739130434"
      ]
     },
     "execution_count": 156,
     "metadata": {},
     "output_type": "execute_result"
    }
   ],
   "source": [
    "rapidfuzz.fuzz.partial_ratio('Boris Johnson', 'Boris Kevin Jonshon')"
   ]
  },
  {
   "cell_type": "code",
   "execution_count": 157,
   "metadata": {},
   "outputs": [
    {
     "data": {
      "text/plain": [
       "75.0"
      ]
     },
     "execution_count": 157,
     "metadata": {},
     "output_type": "execute_result"
    }
   ],
   "source": [
    "rapidfuzz.fuzz.token_set_ratio('Boris Johnson', 'Boris Kevin Jonshon')"
   ]
  },
  {
   "cell_type": "code",
   "execution_count": 178,
   "metadata": {},
   "outputs": [
    {
     "data": {
      "text/plain": [
       "76.47058823529412"
      ]
     },
     "execution_count": 182,
     "metadata": {},
     "output_type": "execute_result"
    }
   ],
   "source": [
    "rapidfuzz.fuzz.token_set_ratio('Boris K Johnson','Boris Johnson')"
   ]
  },
  {
   "cell_type": "code",
   "execution_count": 159,
   "metadata": {},
   "outputs": [
    {
     "data": {
      "text/plain": [
       "75.0"
      ]
     },
     "execution_count": 159,
     "metadata": {},
     "output_type": "execute_result"
    }
   ],
   "source": [
    "rapidfuzz.fuzz.WRatio('Boris Johnson', 'Boris Kevin Jonshon')"
   ]
  },
  {
   "cell_type": "code",
   "execution_count": 160,
   "metadata": {},
   "outputs": [
    {
     "data": {
      "text/plain": [
       "66.66666666666667"
      ]
     },
     "execution_count": 160,
     "metadata": {},
     "output_type": "execute_result"
    }
   ],
   "source": [
    "rapidfuzz.fuzz.partial_ratio('Boris Johnson', 'Bojo')"
   ]
  },
  {
   "cell_type": "code",
   "execution_count": 161,
   "metadata": {},
   "outputs": [
    {
     "data": {
      "text/plain": [
       "47.05882352941177"
      ]
     },
     "execution_count": 161,
     "metadata": {},
     "output_type": "execute_result"
    }
   ],
   "source": [
    "rapidfuzz.fuzz.token_set_ratio('Boris Johnson', 'Bojo')"
   ]
  },
  {
   "cell_type": "code",
   "execution_count": 162,
   "metadata": {},
   "outputs": [
    {
     "data": {
      "text/plain": [
       "60.00000000000001"
      ]
     },
     "execution_count": 162,
     "metadata": {},
     "output_type": "execute_result"
    }
   ],
   "source": [
    "rapidfuzz.fuzz.WRatio('Boris Johnson', 'Bojo')"
   ]
  },
  {
   "cell_type": "code",
   "execution_count": 68,
   "metadata": {},
   "outputs": [
    {
     "data": {
      "text/plain": [
       "10"
      ]
     },
     "execution_count": 68,
     "metadata": {},
     "output_type": "execute_result"
    }
   ],
   "source": [
    "lev.distance('Boris Johnson', 'Bojo')"
   ]
  },
  {
   "cell_type": "code",
   "execution_count": 198,
   "metadata": {},
   "outputs": [
    {
     "data": {
      "text/plain": [
       "68.42105263157895"
      ]
     },
     "execution_count": 198,
     "metadata": {},
     "output_type": "execute_result"
    }
   ],
   "source": [
    "rapidfuzz.fuzz.token_set_ratio('Borris Johnson', 'Dr. Boris K. D. Johnson PhD')"
   ]
  },
  {
   "cell_type": "code",
   "execution_count": 186,
   "metadata": {},
   "outputs": [
    {
     "data": {
      "text/plain": [
       "55.55555555555556"
      ]
     },
     "execution_count": 186,
     "metadata": {},
     "output_type": "execute_result"
    }
   ],
   "source": [
    "rapidfuzz.fuzz.ratio('boris johnson', 'boris')"
   ]
  },
  {
   "cell_type": "code",
   "execution_count": 72,
   "metadata": {},
   "outputs": [
    {
     "data": {
      "text/plain": [
       "100.0"
      ]
     },
     "execution_count": 72,
     "metadata": {},
     "output_type": "execute_result"
    }
   ],
   "source": [
    "rapidfuzz.fuzz.partial_ratio('Boris Johnson', 'Boris')"
   ]
  },
  {
   "cell_type": "code",
   "execution_count": 69,
   "metadata": {},
   "outputs": [
    {
     "data": {
      "text/plain": [
       "8"
      ]
     },
     "execution_count": 69,
     "metadata": {},
     "output_type": "execute_result"
    }
   ],
   "source": [
    "lev.distance('Boris Johnson', 'Boris')"
   ]
  },
  {
   "cell_type": "code",
   "execution_count": 90,
   "metadata": {},
   "outputs": [
    {
     "data": {
      "text/html": [
       "<div>\n",
       "<style scoped>\n",
       "    .dataframe tbody tr th:only-of-type {\n",
       "        vertical-align: middle;\n",
       "    }\n",
       "\n",
       "    .dataframe tbody tr th {\n",
       "        vertical-align: top;\n",
       "    }\n",
       "\n",
       "    .dataframe thead th {\n",
       "        text-align: right;\n",
       "    }\n",
       "</style>\n",
       "<table border=\"1\" class=\"dataframe\">\n",
       "  <thead>\n",
       "    <tr style=\"text-align: right;\">\n",
       "      <th></th>\n",
       "      <th>id</th>\n",
       "      <th>entity</th>\n",
       "    </tr>\n",
       "  </thead>\n",
       "  <tbody>\n",
       "    <tr>\n",
       "      <th>0</th>\n",
       "      <td>41210</td>\n",
       "      <td>John Burns</td>\n",
       "    </tr>\n",
       "    <tr>\n",
       "      <th>1</th>\n",
       "      <td>52782</td>\n",
       "      <td>Independent</td>\n",
       "    </tr>\n",
       "    <tr>\n",
       "      <th>2</th>\n",
       "      <td>37933</td>\n",
       "      <td>Sonia Sotomayor</td>\n",
       "    </tr>\n",
       "    <tr>\n",
       "      <th>3</th>\n",
       "      <td>36983</td>\n",
       "      <td>Samuel Alito</td>\n",
       "    </tr>\n",
       "    <tr>\n",
       "      <th>4</th>\n",
       "      <td>15108</td>\n",
       "      <td>Donald Trump</td>\n",
       "    </tr>\n",
       "    <tr>\n",
       "      <th>...</th>\n",
       "      <td>...</td>\n",
       "      <td>...</td>\n",
       "    </tr>\n",
       "    <tr>\n",
       "      <th>6751</th>\n",
       "      <td>243486</td>\n",
       "      <td>David Gordon</td>\n",
       "    </tr>\n",
       "    <tr>\n",
       "      <th>6752</th>\n",
       "      <td>407940</td>\n",
       "      <td>David Gordon</td>\n",
       "    </tr>\n",
       "    <tr>\n",
       "      <th>6753</th>\n",
       "      <td>412578</td>\n",
       "      <td>David Gordon</td>\n",
       "    </tr>\n",
       "    <tr>\n",
       "      <th>6754</th>\n",
       "      <td>41748</td>\n",
       "      <td>Palm</td>\n",
       "    </tr>\n",
       "    <tr>\n",
       "      <th>6755</th>\n",
       "      <td>424915</td>\n",
       "      <td>Yogi Adityanath</td>\n",
       "    </tr>\n",
       "  </tbody>\n",
       "</table>\n",
       "<p>6756 rows × 2 columns</p>\n",
       "</div>"
      ],
      "text/plain": [
       "          id           entity\n",
       "0      41210       John Burns\n",
       "1      52782      Independent\n",
       "2      37933  Sonia Sotomayor\n",
       "3      36983     Samuel Alito\n",
       "4      15108     Donald Trump\n",
       "...      ...              ...\n",
       "6751  243486     David Gordon\n",
       "6752  407940     David Gordon\n",
       "6753  412578     David Gordon\n",
       "6754   41748             Palm\n",
       "6755  424915  Yogi Adityanath\n",
       "\n",
       "[6756 rows x 2 columns]"
      ]
     },
     "execution_count": 90,
     "metadata": {},
     "output_type": "execute_result"
    }
   ],
   "source": [
    "kb_entities[['id','entity']]"
   ]
  },
  {
   "cell_type": "code",
   "execution_count": 205,
   "metadata": {},
   "outputs": [],
   "source": [
    "reference='Adam Smith'\n",
    "distances={}\n",
    "for entity_id in names.keys():\n",
    "    distance=rapidfuzz.fuzz.token_set_ratio(reference,names[entity_id])\n",
    "    distances[entity_id]=distance"
   ]
  },
  {
   "cell_type": "code",
   "execution_count": 206,
   "metadata": {},
   "outputs": [],
   "source": [
    "K = 60\n",
    "candidate_ids={key : val for key, val in distances.items() if val > K}\n",
    "candidate_ids=list(candidate_ids.keys())"
   ]
  },
  {
   "cell_type": "code",
   "execution_count": 207,
   "metadata": {},
   "outputs": [
    {
     "data": {
      "text/plain": [
       "'53881'"
      ]
     },
     "execution_count": 207,
     "metadata": {},
     "output_type": "execute_result"
    }
   ],
   "source": [
    "candidate_ids[0]"
   ]
  },
  {
   "cell_type": "code",
   "execution_count": 208,
   "metadata": {},
   "outputs": [],
   "source": [
    "kb_entities['id']=kb_entities['id'].astype(str)"
   ]
  },
  {
   "cell_type": "code",
   "execution_count": 209,
   "metadata": {},
   "outputs": [],
   "source": [
    "candidate_df=kb_entities[kb_entities['id'].isin(candidate_ids)]"
   ]
  },
  {
   "cell_type": "code",
   "execution_count": 210,
   "metadata": {},
   "outputs": [],
   "source": [
    "candidate_df.to_csv('candidates.csv')"
   ]
  },
  {
   "cell_type": "code",
   "execution_count": 127,
   "metadata": {},
   "outputs": [],
   "source": [
    "### Match based on embedding similarity"
   ]
  },
  {
   "cell_type": "code",
   "execution_count": 174,
   "metadata": {},
   "outputs": [],
   "source": [
    "import spacy\n",
    "nlp = spacy.load(\"en_core_web_lg\")"
   ]
  },
  {
   "cell_type": "code",
   "execution_count": 175,
   "metadata": {},
   "outputs": [],
   "source": [
    "names = dict()\n",
    "descriptions = dict()\n",
    "descriptions_vec=dict()\n",
    "\n",
    "for row in candidate_df.iterrows():\n",
    "    qid = row[1]['id']\n",
    "    name = row[1]['entity']\n",
    "    desc = row[1]['desc']\n",
    "    names[qid] = name\n",
    "    desc_doc = nlp(desc)\n",
    "    desc_enc = desc_doc.vector\n",
    "    descriptions[qid] = desc\n",
    "    descriptions_vec[qid] = desc_enc"
   ]
  },
  {
   "cell_type": "code",
   "execution_count": 176,
   "metadata": {},
   "outputs": [
    {
     "data": {
      "text/html": [
       "<div>\n",
       "<style scoped>\n",
       "    .dataframe tbody tr th:only-of-type {\n",
       "        vertical-align: middle;\n",
       "    }\n",
       "\n",
       "    .dataframe tbody tr th {\n",
       "        vertical-align: top;\n",
       "    }\n",
       "\n",
       "    .dataframe thead th {\n",
       "        text-align: right;\n",
       "    }\n",
       "</style>\n",
       "<table border=\"1\" class=\"dataframe\">\n",
       "  <thead>\n",
       "    <tr style=\"text-align: right;\">\n",
       "      <th></th>\n",
       "      <th>id</th>\n",
       "      <th>entity</th>\n",
       "      <th>desc</th>\n",
       "    </tr>\n",
       "  </thead>\n",
       "  <tbody>\n",
       "    <tr>\n",
       "      <th>3415</th>\n",
       "      <td>13596</td>\n",
       "      <td>Adam Smith</td>\n",
       "      <td>US Representative from Washington (1997-presen...</td>\n",
       "    </tr>\n",
       "    <tr>\n",
       "      <th>3416</th>\n",
       "      <td>129552</td>\n",
       "      <td>Adam Smith</td>\n",
       "      <td>Moral philosopher and political economist</td>\n",
       "    </tr>\n",
       "    <tr>\n",
       "      <th>3417</th>\n",
       "      <td>256328</td>\n",
       "      <td>Adam Smith</td>\n",
       "      <td>San Diego realtor</td>\n",
       "    </tr>\n",
       "    <tr>\n",
       "      <th>3418</th>\n",
       "      <td>269916</td>\n",
       "      <td>Adam Smith</td>\n",
       "      <td>First National Bank of Coffee County</td>\n",
       "    </tr>\n",
       "    <tr>\n",
       "      <th>3419</th>\n",
       "      <td>379819</td>\n",
       "      <td>Adam Smith</td>\n",
       "      <td>Founder and CEO of Geoplex Australia</td>\n",
       "    </tr>\n",
       "  </tbody>\n",
       "</table>\n",
       "</div>"
      ],
      "text/plain": [
       "          id      entity                                               desc\n",
       "3415   13596  Adam Smith  US Representative from Washington (1997-presen...\n",
       "3416  129552  Adam Smith         Moral philosopher and political economist \n",
       "3417  256328  Adam Smith                                 San Diego realtor \n",
       "3418  269916  Adam Smith              First National Bank of Coffee County \n",
       "3419  379819  Adam Smith              Founder and CEO of Geoplex Australia "
      ]
     },
     "execution_count": 176,
     "metadata": {},
     "output_type": "execute_result"
    }
   ],
   "source": [
    "candidate_df[candidate_df['entity']=='Adam Smith']"
   ]
  },
  {
   "cell_type": "raw",
   "metadata": {},
   "source": [
    "descriptions['']"
   ]
  },
  {
   "cell_type": "code",
   "execution_count": 152,
   "metadata": {},
   "outputs": [
    {
     "name": "stderr",
     "output_type": "stream",
     "text": [
      "/Users/luis_flores/.local/share/virtualenvs/ner-DhZLIlym/lib/python3.7/site-packages/ipykernel_launcher.py:5: RuntimeWarning: invalid value encountered in float_scalars\n",
      "  \"\"\"\n"
     ]
    }
   ],
   "source": [
    "vector=descriptions_vec['13596']\n",
    "distances={}\n",
    "for entity_id in descriptions_vec.keys():\n",
    "    vector_b=descriptions_vec[entity_id]\n",
    "    distance=dot(vector, vector_b)/(norm(vector)*norm(vector_b))\n",
    "    distances[entity_id]=distance"
   ]
  },
  {
   "cell_type": "code",
   "execution_count": 153,
   "metadata": {},
   "outputs": [],
   "source": [
    "res = dict(sorted(distances.items(), key = itemgetter(1), reverse = True)[:5])"
   ]
  },
  {
   "cell_type": "code",
   "execution_count": 154,
   "metadata": {},
   "outputs": [
    {
     "data": {
      "text/plain": [
       "{'13596': 0.99999994,\n",
       " '13573': 0.9508932,\n",
       " '13861': 0.9436378,\n",
       " '115495': 0.88238436,\n",
       " '200612': 0.88210636}"
      ]
     },
     "execution_count": 154,
     "metadata": {},
     "output_type": "execute_result"
    }
   ],
   "source": [
    "res"
   ]
  },
  {
   "cell_type": "code",
   "execution_count": 155,
   "metadata": {},
   "outputs": [
    {
     "data": {
      "text/html": [
       "<div>\n",
       "<style scoped>\n",
       "    .dataframe tbody tr th:only-of-type {\n",
       "        vertical-align: middle;\n",
       "    }\n",
       "\n",
       "    .dataframe tbody tr th {\n",
       "        vertical-align: top;\n",
       "    }\n",
       "\n",
       "    .dataframe thead th {\n",
       "        text-align: right;\n",
       "    }\n",
       "</style>\n",
       "<table border=\"1\" class=\"dataframe\">\n",
       "  <thead>\n",
       "    <tr style=\"text-align: right;\">\n",
       "      <th></th>\n",
       "      <th>id</th>\n",
       "      <th>entity</th>\n",
       "      <th>desc</th>\n",
       "    </tr>\n",
       "  </thead>\n",
       "  <tbody>\n",
       "    <tr>\n",
       "      <th>1104</th>\n",
       "      <td>13573</td>\n",
       "      <td>Adam Schiff</td>\n",
       "      <td>US Representative from California (2001-presen...</td>\n",
       "    </tr>\n",
       "    <tr>\n",
       "      <th>1600</th>\n",
       "      <td>115495</td>\n",
       "      <td>Eric Adams</td>\n",
       "      <td>\\n        Mayor of NYC; former Brooklyn Boroug...</td>\n",
       "    </tr>\n",
       "    <tr>\n",
       "      <th>1607</th>\n",
       "      <td>200612</td>\n",
       "      <td>Tim Smith</td>\n",
       "      <td>President &amp; CEO, Skidmore Studio Tim Smith, wh...</td>\n",
       "    </tr>\n",
       "    <tr>\n",
       "      <th>1702</th>\n",
       "      <td>13861</td>\n",
       "      <td>Robert Smith</td>\n",
       "      <td>former US Representative and Senator from New ...</td>\n",
       "    </tr>\n",
       "    <tr>\n",
       "      <th>3415</th>\n",
       "      <td>13596</td>\n",
       "      <td>Adam Smith</td>\n",
       "      <td>US Representative from Washington (1997-presen...</td>\n",
       "    </tr>\n",
       "  </tbody>\n",
       "</table>\n",
       "</div>"
      ],
      "text/plain": [
       "          id        entity                                               desc\n",
       "1104   13573   Adam Schiff  US Representative from California (2001-presen...\n",
       "1600  115495    Eric Adams  \\n        Mayor of NYC; former Brooklyn Boroug...\n",
       "1607  200612     Tim Smith  President & CEO, Skidmore Studio Tim Smith, wh...\n",
       "1702   13861  Robert Smith  former US Representative and Senator from New ...\n",
       "3415   13596    Adam Smith  US Representative from Washington (1997-presen..."
      ]
     },
     "execution_count": 155,
     "metadata": {},
     "output_type": "execute_result"
    }
   ],
   "source": [
    "candidate_df[candidate_df['id'].isin(res.keys())]"
   ]
  },
  {
   "cell_type": "code",
   "execution_count": 199,
   "metadata": {},
   "outputs": [],
   "source": [
    "candidates_alphabetical = {candidate.alias_ + ' ' + candidate.entity_: candidate for candidate in candidates}\n",
    "\n",
    "candidates_alphabetical = dict(sorted(candidates_alphabetical.items(), key = itemgetter(0), reverse = True))\n",
    "\n",
    "[candidate for candidate in candidates_alphabetical.values()]"
   ]
  },
  {
   "cell_type": "code",
   "execution_count": 159,
   "metadata": {},
   "outputs": [
    {
     "data": {
      "text/plain": [
       "True"
      ]
     },
     "execution_count": 159,
     "metadata": {},
     "output_type": "execute_result"
    }
   ],
   "source": [
    "'the Grateful Dead' in candidates_alphabetical.keys()"
   ]
  },
  {
   "cell_type": "raw",
   "metadata": {},
   "source": [
    "candidates_alphabetical"
   ]
  },
  {
   "cell_type": "code",
   "execution_count": null,
   "metadata": {},
   "outputs": [],
   "source": [
    "import csv\n",
    "from pathlib import Path\n",
    "\n",
    "def load_entities():\n",
    "    entities_loc = Path.cwd()/\"kb_entities.csv\"  # distributed alongside this notebook\n",
    "\n",
    "    names = dict()\n",
    "    descriptions = dict()\n",
    "    descriptions_vec=dict()\n",
    "    with entities_loc.open(\"r\", encoding=\"utf8\") as csvfile:\n",
    "        csvreader = csv.reader(csvfile, delimiter=\",\")\n",
    "        for row in csvreader:\n",
    "            qid = row[0]\n",
    "            name = row[1]\n",
    "            desc = row[2]\n",
    "            names[qid] = name\n",
    "            desc_doc = nlp(desc)\n",
    "            desc_enc = desc_doc.vector\n",
    "            descriptions[qid] = desc\n",
    "            descriptions_vec[qid] = desc_enc\n",
    "    return names, descriptions, descriptions_vec"
   ]
  },
  {
   "cell_type": "code",
   "execution_count": 49,
   "metadata": {},
   "outputs": [],
   "source": [
    "names, descriptions, descriptions_vec =load_entities()"
   ]
  },
  {
   "cell_type": "code",
   "execution_count": null,
   "metadata": {},
   "outputs": [],
   "source": [
    "from numpy import dot\n",
    "from numpy.linalg import norm\n",
    "\n",
    "vector=descriptions['41210']\n",
    "distances={}\n",
    "for entity_id in descriptions.keys():\n",
    "    vector_b=descriptions[entity_id]\n",
    "    distance=dot(vector, vector_b)/(norm(vector)*norm(vector_b))\n",
    "    distances[entity_id]=distance"
   ]
  },
  {
   "cell_type": "code",
   "execution_count": 36,
   "metadata": {},
   "outputs": [],
   "source": [
    "from operator import itemgetter\n",
    "res = dict(sorted(distances.items(), key = itemgetter(1), reverse = True)[:5])"
   ]
  },
  {
   "cell_type": "code",
   "execution_count": null,
   "metadata": {},
   "outputs": [],
   "source": []
  },
  {
   "cell_type": "code",
   "execution_count": 10,
   "metadata": {},
   "outputs": [],
   "source": [
    "import rapidfuzz\n",
    "\n",
    "import spacy\n",
    "from spacy.kb import KnowledgeBase, Candidate #, get_candidates\n",
    "\n",
    "import prodigy\n",
    "from prodigy.models.ner import EntityRecognizer\n",
    "from prodigy.components.loaders import TXT\n",
    "from prodigy.util import set_hashes\n",
    "from prodigy.components.filters import filter_duplicates"
   ]
  },
  {
   "cell_type": "code",
   "execution_count": 11,
   "metadata": {},
   "outputs": [],
   "source": [
    "nlp_dir='my_output/my_nlp'\n",
    "kb_loc='my_output/my_kb'"
   ]
  },
  {
   "cell_type": "code",
   "execution_count": 25,
   "metadata": {},
   "outputs": [],
   "source": [
    "nlp = spacy.load(nlp_dir)\n",
    "kb = KnowledgeBase(vocab=nlp.vocab, entity_vector_length=1)\n",
    "kb.from_disk(kb_loc)"
   ]
  },
  {
   "cell_type": "code",
   "execution_count": 18,
   "metadata": {},
   "outputs": [],
   "source": [
    "span='Johnson'\n",
    "aliases=kb.get_alias_strings()\n",
    "match_scores={}\n",
    "for al in aliases:\n",
    "    fuzzy_ratio=rapidfuzz.fuzz.token_set_ratio(span.lower(),al.lower())\n",
    "    if fuzzy_ratio >=99:\n",
    "        match_scores[al]=fuzzy_ratio\n",
    "\n",
    "candidates=[]\n",
    "for match in match_scores.keys():\n",
    "    candidates.extend(kb.get_alias_candidates(match))"
   ]
  },
  {
   "cell_type": "code",
   "execution_count": null,
   "metadata": {},
   "outputs": [],
   "source": []
  },
  {
   "cell_type": "code",
   "execution_count": 69,
   "metadata": {},
   "outputs": [],
   "source": [
    "import spacy\n",
    "nlp = spacy.load(\"en_core_web_lg\")"
   ]
  },
  {
   "cell_type": "code",
   "execution_count": null,
   "metadata": {},
   "outputs": [],
   "source": []
  },
  {
   "cell_type": "code",
   "execution_count": 123,
   "metadata": {},
   "outputs": [],
   "source": [
    "ref_sentence='Boris Jonhson is a scoundrel politian who spent far too long on the UK Parliament.'"
   ]
  },
  {
   "cell_type": "code",
   "execution_count": 124,
   "metadata": {},
   "outputs": [],
   "source": [
    "ref_sentence_spacy=nlp(ref_sentence).vector"
   ]
  },
  {
   "cell_type": "raw",
   "metadata": {},
   "source": [
    "ref_sentence_spacy.vector"
   ]
  },
  {
   "cell_type": "code",
   "execution_count": 125,
   "metadata": {},
   "outputs": [
    {
     "data": {
      "text/plain": [
       "300"
      ]
     },
     "execution_count": 125,
     "metadata": {},
     "output_type": "execute_result"
    }
   ],
   "source": [
    "len(ref_sentence_spacy)"
   ]
  },
  {
   "cell_type": "code",
   "execution_count": 128,
   "metadata": {},
   "outputs": [],
   "source": [
    "aliases=kb.get_alias_strings()\n",
    "candidates=[]\n",
    "for al in aliases:\n",
    "    candidates.extend(kb.get_alias_candidates(al))"
   ]
  },
  {
   "cell_type": "code",
   "execution_count": 130,
   "metadata": {},
   "outputs": [
    {
     "data": {
      "text/plain": [
       "6756"
      ]
     },
     "execution_count": 130,
     "metadata": {},
     "output_type": "execute_result"
    }
   ],
   "source": [
    "len(candidates)"
   ]
  },
  {
   "cell_type": "code",
   "execution_count": 63,
   "metadata": {},
   "outputs": [],
   "source": [
    "names = dict()\n",
    "descriptions_vec=dict()\n",
    "for candidate in candidates:\n",
    "    qid = candidate.entity_\n",
    "    name = candidate.alias_\n",
    "    desc_enc = candidate.entity_vector\n",
    "    names[qid] = name\n",
    "    descriptions_vec[qid] = desc_enc"
   ]
  },
  {
   "cell_type": "code",
   "execution_count": 77,
   "metadata": {},
   "outputs": [],
   "source": [
    "import numpy as np\n",
    "from numpy import dot\n",
    "from numpy.linalg import norm\n",
    "from operator import itemgetter"
   ]
  },
  {
   "cell_type": "code",
   "execution_count": 117,
   "metadata": {},
   "outputs": [
    {
     "name": "stderr",
     "output_type": "stream",
     "text": [
      "/Users/luis_flores/.local/share/virtualenvs/ner-DhZLIlym/lib/python3.7/site-packages/ipykernel_launcher.py:4: RuntimeWarning: invalid value encountered in double_scalars\n",
      "  after removing the cwd from sys.path.\n"
     ]
    }
   ],
   "source": [
    "distances={}\n",
    "for entity_id in descriptions_vec.keys():\n",
    "    vector_b=descriptions_vec[entity_id]\n",
    "    distance=np.nan_to_num(dot(ref_sentence_spacy.vector, vector_b)/(norm(ref_sentence_spacy.vector)*norm(vector_b)),0)\n",
    "    distances[entity_id]=distance"
   ]
  },
  {
   "cell_type": "code",
   "execution_count": 118,
   "metadata": {},
   "outputs": [],
   "source": [
    "res = dict(sorted(distances.items(), key = itemgetter(1), reverse = True)[:20])"
   ]
  },
  {
   "cell_type": "code",
   "execution_count": 119,
   "metadata": {},
   "outputs": [
    {
     "name": "stderr",
     "output_type": "stream",
     "text": [
      "/Users/luis_flores/.local/share/virtualenvs/ner-DhZLIlym/lib/python3.7/site-packages/ipykernel_launcher.py:2: RuntimeWarning: invalid value encountered in double_scalars\n",
      "  \n"
     ]
    },
    {
     "data": {
      "text/plain": [
       "nan"
      ]
     },
     "execution_count": 119,
     "metadata": {},
     "output_type": "execute_result"
    }
   ],
   "source": [
    "vector_b=[candidate for candidate in selected_candidates if candidate.entity_=='231407'][0].entity_vector\n",
    "dot(ref_sentence_spacy.vector, vector_b)/(norm(ref_sentence_spacy.vector)*norm(vector_b))"
   ]
  },
  {
   "cell_type": "code",
   "execution_count": 120,
   "metadata": {},
   "outputs": [
    {
     "data": {
      "text/plain": [
       "{'277103': 0.8214952323983455,\n",
       " '67986': 0.8194300603879058,\n",
       " '46087': 0.8191962211405379,\n",
       " '247763': 0.8167178204327862,\n",
       " '414532': 0.7985223929282222,\n",
       " '159743': 0.7961500100947096,\n",
       " '161421': 0.7859962755192861,\n",
       " '175844': 0.7852419570087164,\n",
       " '192959': 0.7637444516616055,\n",
       " '247496': 0.761963452479024,\n",
       " '13365': 0.7599241701775898,\n",
       " '366432': 0.7587513473503269,\n",
       " '232981': 0.7515396883852269,\n",
       " '153744': 0.7514635891934693,\n",
       " '84062': 0.738965672530237,\n",
       " '409580': 0.7371468985349952,\n",
       " '340202': 0.7272839416030585,\n",
       " '91598': 0.726751742865994,\n",
       " '91597': 0.7240283513477187,\n",
       " '22635': 0.7184876190151583}"
      ]
     },
     "execution_count": 120,
     "metadata": {},
     "output_type": "execute_result"
    }
   ],
   "source": [
    "res"
   ]
  },
  {
   "cell_type": "code",
   "execution_count": 98,
   "metadata": {},
   "outputs": [],
   "source": [
    "selected_candidates=[candidate for candidate in candidates if candidate.entity_ in res.keys()]"
   ]
  },
  {
   "cell_type": "code",
   "execution_count": 99,
   "metadata": {},
   "outputs": [
    {
     "data": {
      "text/plain": [
       "['Steve Johnson',\n",
       " 'Andrew Johnson',\n",
       " 'Tim Johnson',\n",
       " 'Tim Johnson',\n",
       " 'Lyndon B Johnson',\n",
       " 'Dan Johnson',\n",
       " 'Eric Johnson',\n",
       " 'James Johnson',\n",
       " 'Ron Johnson',\n",
       " 'Paul Johnson',\n",
       " 'Woody Johnson',\n",
       " 'Harriet Johnson',\n",
       " 'Mark Johnson',\n",
       " 'Bill Johnson',\n",
       " 'Bill Johnson',\n",
       " 'Sam Johnson',\n",
       " 'Boris Johnson',\n",
       " 'Lee Johnson',\n",
       " 'Dakota Johnson',\n",
       " 'Alexis McGill Johnson']"
      ]
     },
     "execution_count": 99,
     "metadata": {},
     "output_type": "execute_result"
    }
   ],
   "source": [
    "[selected_candidate.alias_ for selected_candidate in selected_candidates]"
   ]
  },
  {
   "cell_type": "code",
   "execution_count": null,
   "metadata": {},
   "outputs": [],
   "source": []
  },
  {
   "cell_type": "code",
   "execution_count": 155,
   "metadata": {},
   "outputs": [
    {
     "data": {
      "text/html": [
       "<div>\n",
       "<style scoped>\n",
       "    .dataframe tbody tr th:only-of-type {\n",
       "        vertical-align: middle;\n",
       "    }\n",
       "\n",
       "    .dataframe tbody tr th {\n",
       "        vertical-align: top;\n",
       "    }\n",
       "\n",
       "    .dataframe thead th {\n",
       "        text-align: right;\n",
       "    }\n",
       "</style>\n",
       "<table border=\"1\" class=\"dataframe\">\n",
       "  <thead>\n",
       "    <tr style=\"text-align: right;\">\n",
       "      <th></th>\n",
       "      <th>id</th>\n",
       "      <th>entity</th>\n",
       "      <th>desc</th>\n",
       "    </tr>\n",
       "  </thead>\n",
       "  <tbody>\n",
       "    <tr>\n",
       "      <th>1104</th>\n",
       "      <td>13573</td>\n",
       "      <td>Adam Schiff</td>\n",
       "      <td>US Representative from California (2001-presen...</td>\n",
       "    </tr>\n",
       "    <tr>\n",
       "      <th>1600</th>\n",
       "      <td>115495</td>\n",
       "      <td>Eric Adams</td>\n",
       "      <td>\\n        Mayor of NYC; former Brooklyn Boroug...</td>\n",
       "    </tr>\n",
       "    <tr>\n",
       "      <th>1607</th>\n",
       "      <td>200612</td>\n",
       "      <td>Tim Smith</td>\n",
       "      <td>President &amp; CEO, Skidmore Studio Tim Smith, wh...</td>\n",
       "    </tr>\n",
       "    <tr>\n",
       "      <th>1702</th>\n",
       "      <td>13861</td>\n",
       "      <td>Robert Smith</td>\n",
       "      <td>former US Representative and Senator from New ...</td>\n",
       "    </tr>\n",
       "    <tr>\n",
       "      <th>3415</th>\n",
       "      <td>13596</td>\n",
       "      <td>Adam Smith</td>\n",
       "      <td>US Representative from Washington (1997-presen...</td>\n",
       "    </tr>\n",
       "  </tbody>\n",
       "</table>\n",
       "</div>"
      ],
      "text/plain": [
       "          id        entity                                               desc\n",
       "1104   13573   Adam Schiff  US Representative from California (2001-presen...\n",
       "1600  115495    Eric Adams  \\n        Mayor of NYC; former Brooklyn Boroug...\n",
       "1607  200612     Tim Smith  President & CEO, Skidmore Studio Tim Smith, wh...\n",
       "1702   13861  Robert Smith  former US Representative and Senator from New ...\n",
       "3415   13596    Adam Smith  US Representative from Washington (1997-presen..."
      ]
     },
     "execution_count": 155,
     "metadata": {},
     "output_type": "execute_result"
    }
   ],
   "source": [
    "candidate_df[candidate_df['id'].isin(res.keys())]"
   ]
  },
  {
   "cell_type": "code",
   "execution_count": null,
   "metadata": {},
   "outputs": [],
   "source": []
  },
  {
   "cell_type": "code",
   "execution_count": 27,
   "metadata": {},
   "outputs": [],
   "source": [
    "import spacy\n",
    "from spacy.kb import KnowledgeBase, Candidate\n",
    "import prodigy\n",
    "from prodigy.models.ner import EntityRecognizer\n",
    "import pandas as pd\n",
    "import rapidfuzz\n",
    "from operator import itemgetter"
   ]
  },
  {
   "cell_type": "raw",
   "metadata": {},
   "source": [
    "\n",
    "from typing import Iterator\n",
    "\n",
    "from prodigy.components.loaders import TXT\n",
    "from prodigy.util import set_hashes\n",
    "from prodigy.components.filters import filter_duplicates\n",
    "\n",
    "#import csv\n",
    "from pathlib import Path\n",
    "\n",
    "\n",
    "\n",
    "\n",
    "import numpy as np\n",
    "from numpy import dot\n",
    "from numpy.linalg import norm\n"
   ]
  },
  {
   "cell_type": "code",
   "execution_count": 14,
   "metadata": {},
   "outputs": [],
   "source": [
    "nlp_dir='my_output/nlp_lilsis'\n",
    "kb_loc='my_output/kb_lilsis'\n",
    "entity_loc='kb_datasets/kb_entities_lilsis.csv'"
   ]
  },
  {
   "cell_type": "code",
   "execution_count": 13,
   "metadata": {},
   "outputs": [],
   "source": [
    "# Load the NLP and KB objects from file\n",
    "nlp = spacy.load(nlp_dir)\n",
    "kb = KnowledgeBase(vocab=nlp.vocab, entity_vector_length=1)\n",
    "kb.from_disk(kb_loc)\n",
    "model = EntityRecognizer(nlp)"
   ]
  },
  {
   "cell_type": "code",
   "execution_count": 17,
   "metadata": {},
   "outputs": [
    {
     "name": "stderr",
     "output_type": "stream",
     "text": [
      "/Users/luis_flores/.local/share/virtualenvs/ner-DhZLIlym/lib/python3.7/site-packages/IPython/core/interactiveshell.py:3553: DtypeWarning: Columns (1) have mixed types.Specify dtype option on import or set low_memory=False.\n",
      "  exec(code_obj, self.user_global_ns, self.user_ns)\n"
     ]
    }
   ],
   "source": [
    "# Read the pre-defined CSV file into dictionaries mapping QIDs to the full names and descriptions\n",
    "id_dict = dict()\n",
    "\n",
    "kb_entities=pd.read_csv(entity_loc, names=['qid','name','desc'])\n",
    "for row in kb_entities.iterrows():\n",
    "    qid = str(row[1][0])\n",
    "    name = str(row[1][1])\n",
    "    desc = str(row[1][2])\n",
    "    id_dict[qid] = (name, desc)"
   ]
  },
  {
   "cell_type": "code",
   "execution_count": 21,
   "metadata": {},
   "outputs": [],
   "source": [
    "def get_candidates_from_fuzzy_matching(span, kb, matching_thres=60):\n",
    "    \"\"\"\n",
    "    Return a list of candidate entities for an alias based on fuzzy string matching.\n",
    "    Each candidate defines the entity, the original alias,\n",
    "    and the prior probability of that alias resolving to that entity.\n",
    "    If the alias is not known in the KB, and empty list is returned.\n",
    "    \"\"\"\n",
    "\n",
    "    aliases=kb.get_alias_strings()\n",
    "    #matches=[]\n",
    "    matches={}\n",
    "    for al in aliases:\n",
    "        #fuzzy_ratio=rapidfuzz.fuzz.token_set_ratio(span.lower(),al.lower())\n",
    "        fuzzy_ratio = rapidfuzz.fuzz.WRatio(span.lower(), al.lower())\n",
    "        if fuzzy_ratio >=matching_thres:\n",
    "            #matches.append(al)\n",
    "            matches[al]=fuzzy_ratio\n",
    "\n",
    "    candidates=[]\n",
    "    for match in matches:\n",
    "        candidates.extend(kb.get_alias_candidates(match))\n",
    "\n",
    "    return candidates, matches"
   ]
  },
  {
   "cell_type": "code",
   "execution_count": 28,
   "metadata": {},
   "outputs": [],
   "source": [
    "def order_candidates_fuzzy_score(candidates, matches, candidate_limit=10):\n",
    "    \"\"\"\n",
    "    Order candidates by descending fuzzy name matching score\n",
    "    \"\"\"\n",
    "    # names = dict()\n",
    "    candidate_d = dict()\n",
    "    fuzzy_scores = dict()\n",
    "    for candidate in candidates:\n",
    "        qid = candidate.entity_\n",
    "        name = candidate.alias_\n",
    "        # names[qid] = name\n",
    "        candidate_d[qid] = candidate\n",
    "        fuzzy_scores[qid] = matches[name]\n",
    "\n",
    "    entities_ordered = dict(sorted(fuzzy_scores.items(), key=itemgetter(1), reverse=True))\n",
    "    entities_ordered = list(entities_ordered.keys())[:candidate_limit]\n",
    "    entities_ordered=[candidate_d[entity] for entity in entities_ordered]\n",
    "    scores_ordered=\n",
    "    return "
   ]
  },
  {
   "cell_type": "code",
   "execution_count": 42,
   "metadata": {},
   "outputs": [],
   "source": [
    "candidate_d = dict()\n",
    "fuzzy_scores = dict()\n",
    "for candidate in candidates:\n",
    "    qid = candidate.entity_\n",
    "    name = candidate.alias_\n",
    "    # names[qid] = name\n",
    "    candidate_d[qid] = candidate\n",
    "    fuzzy_scores[qid] = matches[name]\n",
    "\n",
    "entities_ordered = dict(sorted(fuzzy_scores.items(), key=itemgetter(1), reverse=True))\n",
    "entities_ordered = list(entities_ordered.keys())[:10]\n"
   ]
  },
  {
   "cell_type": "code",
   "execution_count": 44,
   "metadata": {},
   "outputs": [
    {
     "data": {
      "text/plain": [
       "[90.0, 90.0, 90.0, 90.0, 90.0, 90.0, 90.0, 90.0, 90.0, 90.0]"
      ]
     },
     "execution_count": 44,
     "metadata": {},
     "output_type": "execute_result"
    }
   ],
   "source": [
    "scores_ordered"
   ]
  },
  {
   "cell_type": "code",
   "execution_count": 22,
   "metadata": {},
   "outputs": [],
   "source": [
    "candidates, matches = get_candidates_from_fuzzy_matching('Boris', kb)"
   ]
  },
  {
   "cell_type": "code",
   "execution_count": 29,
   "metadata": {},
   "outputs": [],
   "source": [
    "candidates=order_candidates_fuzzy_score(candidates, matches)"
   ]
  },
  {
   "cell_type": "code",
   "execution_count": null,
   "metadata": {},
   "outputs": [],
   "source": []
  },
  {
   "cell_type": "code",
   "execution_count": null,
   "metadata": {
    "tags": []
   },
   "outputs": [],
   "source": [
    "# Initialize the Prodigy stream by running the NER model\n",
    "stream = TXT(source)\n",
    "stream = [set_hashes(eg) for eg in stream]\n",
    "stream = (eg for score, eg in model(stream))\n",
    "\n",
    "# For each NER mention, add the candidates from the KB to the annotation task\n",
    "stream = _add_options(stream, kb, nlp, id_dict)\n",
    "stream = filter_duplicates(stream, by_input=False, by_task=True)\n",
    "\n",
    "return {\n",
    "    \"dataset\": dataset,\n",
    "    \"stream\": stream,\n",
    "    \"view_id\": \"choice\",\n",
    "    \"config\": {\"choice_auto_accept\": False},\n",
    "}\n",
    "\n"
   ]
  }
 ],
 "metadata": {
  "kernelspec": {
   "display_name": "Python 3 (ipykernel)",
   "language": "python",
   "name": "python3"
  },
  "language_info": {
   "codemirror_mode": {
    "name": "ipython",
    "version": 3
   },
   "file_extension": ".py",
   "mimetype": "text/x-python",
   "name": "python",
   "nbconvert_exporter": "python",
   "pygments_lexer": "ipython3",
   "version": "3.7.13"
  },
  "pycharm": {
   "stem_cell": {
    "cell_type": "raw",
    "metadata": {
     "collapsed": false
    },
    "source": []
   }
  }
 },
 "nbformat": 4,
 "nbformat_minor": 4
}
