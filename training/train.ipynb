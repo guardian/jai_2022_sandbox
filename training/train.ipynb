{
 "cells": [
  {
   "cell_type": "markdown",
   "source": [
    "# Prepare and run EL training"
   ],
   "metadata": {
    "collapsed": false
   }
  },
  {
   "cell_type": "code",
   "execution_count": 37,
   "metadata": {
    "collapsed": true
   },
   "outputs": [],
   "source": [
    "import pandas"
   ]
  },
  {
   "cell_type": "code",
   "execution_count": 38,
   "outputs": [
    {
     "data": {
      "text/plain": "                                                text  _input_hash  _task_hash  \\\n0  The Welsh Labour leader, Carwyn Jones has reje...      2464972  -288309831   \n1  The Welsh Labour leader, Carwyn Jones has reje...      2464972  1845531960   \n2  The Conservatives’ idea to make firms list the...   -679110122  1266616370   \n3  The review is being led by the Labour MP David...   1774082438  1860777600   \n4  Politics Home has been doing a dogged job of l...   1698700430  -948326007   \n\n                                              gu_url  \\\n0  www.theguardian.com/politics/2016/apr/29/welsh...   \n1  www.theguardian.com/politics/2016/apr/29/welsh...   \n2  www.theguardian.com/politics/2016/oct/09/tory-...   \n3  www.theguardian.com/uk-news/2016/jul/19/metrop...   \n4  www.theguardian.com/politics/2017/apr/27/the-s...   \n\n                                               spans  \\\n0  [{'start': 73, 'end': 79, 'text': 'Corbyn', 'r...   \n1  [{'start': 254, 'end': 260, 'text': 'Corbyn', ...   \n2  [{'start': 136, 'end': 149, 'text': 'David Cam...   \n3  [{'start': 72, 'end': 85, 'text': 'David Camer...   \n4  [{'start': 257, 'end': 268, 'text': 'Theresa M...   \n\n                            meta  _is_binary  \\\n0                   {'score': 1}        True   \n1                   {'score': 1}        True   \n2  {'score': 0.6887111677000001}        True   \n3                   {'score': 1}        True   \n4  {'score': 0.6887141895000001}        True   \n\n                                             options  \\\n0  [{'id': 'NER_WrongType', 'text': 'Incorrect en...   \n1  [{'id': 'NER_WrongType', 'text': 'Incorrect en...   \n2  [{'id': 'NER_WrongType', 'text': 'Incorrect en...   \n3  [{'id': 'NER_WrongType', 'text': 'Incorrect en...   \n4  [{'id': 'NER_WrongType', 'text': 'Incorrect en...   \n\n                         config _view_id     accept  answer  _timestamp  \\\n0  {'choice_style': 'multiple'}   blocks  [Q291169]  accept  1666974436   \n1  {'choice_style': 'multiple'}   blocks  [Q291169]  accept  1666974444   \n2  {'choice_style': 'multiple'}   blocks    [53756]  accept  1666974461   \n3  {'choice_style': 'multiple'}   blocks    [53756]  accept  1666974465   \n4  {'choice_style': 'multiple'}   blocks  [Q264766]  accept  1666974475   \n\n       _annotator_id        _session_id  flagged  \n0  el_session_1-Anna  el_session_1-Anna      NaN  \n1  el_session_1-Anna  el_session_1-Anna      NaN  \n2  el_session_1-Anna  el_session_1-Anna      NaN  \n3  el_session_1-Anna  el_session_1-Anna      NaN  \n4  el_session_1-Anna  el_session_1-Anna      NaN  ",
      "text/html": "<div>\n<style scoped>\n    .dataframe tbody tr th:only-of-type {\n        vertical-align: middle;\n    }\n\n    .dataframe tbody tr th {\n        vertical-align: top;\n    }\n\n    .dataframe thead th {\n        text-align: right;\n    }\n</style>\n<table border=\"1\" class=\"dataframe\">\n  <thead>\n    <tr style=\"text-align: right;\">\n      <th></th>\n      <th>text</th>\n      <th>_input_hash</th>\n      <th>_task_hash</th>\n      <th>gu_url</th>\n      <th>spans</th>\n      <th>meta</th>\n      <th>_is_binary</th>\n      <th>options</th>\n      <th>config</th>\n      <th>_view_id</th>\n      <th>accept</th>\n      <th>answer</th>\n      <th>_timestamp</th>\n      <th>_annotator_id</th>\n      <th>_session_id</th>\n      <th>flagged</th>\n    </tr>\n  </thead>\n  <tbody>\n    <tr>\n      <th>0</th>\n      <td>The Welsh Labour leader, Carwyn Jones has reje...</td>\n      <td>2464972</td>\n      <td>-288309831</td>\n      <td>www.theguardian.com/politics/2016/apr/29/welsh...</td>\n      <td>[{'start': 73, 'end': 79, 'text': 'Corbyn', 'r...</td>\n      <td>{'score': 1}</td>\n      <td>True</td>\n      <td>[{'id': 'NER_WrongType', 'text': 'Incorrect en...</td>\n      <td>{'choice_style': 'multiple'}</td>\n      <td>blocks</td>\n      <td>[Q291169]</td>\n      <td>accept</td>\n      <td>1666974436</td>\n      <td>el_session_1-Anna</td>\n      <td>el_session_1-Anna</td>\n      <td>NaN</td>\n    </tr>\n    <tr>\n      <th>1</th>\n      <td>The Welsh Labour leader, Carwyn Jones has reje...</td>\n      <td>2464972</td>\n      <td>1845531960</td>\n      <td>www.theguardian.com/politics/2016/apr/29/welsh...</td>\n      <td>[{'start': 254, 'end': 260, 'text': 'Corbyn', ...</td>\n      <td>{'score': 1}</td>\n      <td>True</td>\n      <td>[{'id': 'NER_WrongType', 'text': 'Incorrect en...</td>\n      <td>{'choice_style': 'multiple'}</td>\n      <td>blocks</td>\n      <td>[Q291169]</td>\n      <td>accept</td>\n      <td>1666974444</td>\n      <td>el_session_1-Anna</td>\n      <td>el_session_1-Anna</td>\n      <td>NaN</td>\n    </tr>\n    <tr>\n      <th>2</th>\n      <td>The Conservatives’ idea to make firms list the...</td>\n      <td>-679110122</td>\n      <td>1266616370</td>\n      <td>www.theguardian.com/politics/2016/oct/09/tory-...</td>\n      <td>[{'start': 136, 'end': 149, 'text': 'David Cam...</td>\n      <td>{'score': 0.6887111677000001}</td>\n      <td>True</td>\n      <td>[{'id': 'NER_WrongType', 'text': 'Incorrect en...</td>\n      <td>{'choice_style': 'multiple'}</td>\n      <td>blocks</td>\n      <td>[53756]</td>\n      <td>accept</td>\n      <td>1666974461</td>\n      <td>el_session_1-Anna</td>\n      <td>el_session_1-Anna</td>\n      <td>NaN</td>\n    </tr>\n    <tr>\n      <th>3</th>\n      <td>The review is being led by the Labour MP David...</td>\n      <td>1774082438</td>\n      <td>1860777600</td>\n      <td>www.theguardian.com/uk-news/2016/jul/19/metrop...</td>\n      <td>[{'start': 72, 'end': 85, 'text': 'David Camer...</td>\n      <td>{'score': 1}</td>\n      <td>True</td>\n      <td>[{'id': 'NER_WrongType', 'text': 'Incorrect en...</td>\n      <td>{'choice_style': 'multiple'}</td>\n      <td>blocks</td>\n      <td>[53756]</td>\n      <td>accept</td>\n      <td>1666974465</td>\n      <td>el_session_1-Anna</td>\n      <td>el_session_1-Anna</td>\n      <td>NaN</td>\n    </tr>\n    <tr>\n      <th>4</th>\n      <td>Politics Home has been doing a dogged job of l...</td>\n      <td>1698700430</td>\n      <td>-948326007</td>\n      <td>www.theguardian.com/politics/2017/apr/27/the-s...</td>\n      <td>[{'start': 257, 'end': 268, 'text': 'Theresa M...</td>\n      <td>{'score': 0.6887141895000001}</td>\n      <td>True</td>\n      <td>[{'id': 'NER_WrongType', 'text': 'Incorrect en...</td>\n      <td>{'choice_style': 'multiple'}</td>\n      <td>blocks</td>\n      <td>[Q264766]</td>\n      <td>accept</td>\n      <td>1666974475</td>\n      <td>el_session_1-Anna</td>\n      <td>el_session_1-Anna</td>\n      <td>NaN</td>\n    </tr>\n  </tbody>\n</table>\n</div>"
     },
     "execution_count": 38,
     "metadata": {},
     "output_type": "execute_result"
    }
   ],
   "source": [
    "df = pandas.read_json('./data/el_session_1_clean.jsonl', lines=True)\n",
    "df.head()"
   ],
   "metadata": {
    "collapsed": false
   }
  },
  {
   "cell_type": "markdown",
   "source": [
    "## Make train and dev set"
   ],
   "metadata": {
    "collapsed": false
   }
  },
  {
   "cell_type": "code",
   "execution_count": 39,
   "outputs": [],
   "source": [
    "from sklearn.model_selection import train_test_split"
   ],
   "metadata": {
    "collapsed": false
   }
  },
  {
   "cell_type": "code",
   "execution_count": 45,
   "outputs": [],
   "source": [
    "index_train, index_test = train_test_split(df['_input_hash'].unique(), test_size=0.4, random_state=14)"
   ],
   "metadata": {
    "collapsed": false
   }
  },
  {
   "cell_type": "code",
   "execution_count": 48,
   "outputs": [],
   "source": [
    "df_train = df[df['_input_hash'].isin(index_train)]\n",
    "df_test = df[df['_input_hash'].isin(index_test)]"
   ],
   "metadata": {
    "collapsed": false
   }
  },
  {
   "cell_type": "code",
   "execution_count": 51,
   "outputs": [
    {
     "data": {
      "text/plain": "((389, 16), (266, 16))"
     },
     "execution_count": 51,
     "metadata": {},
     "output_type": "execute_result"
    }
   ],
   "source": [
    "df_train.shape, df_test.shape"
   ],
   "metadata": {
    "collapsed": false
   }
  },
  {
   "cell_type": "markdown",
   "source": [
    "## Create `.spacy` corpus"
   ],
   "metadata": {
    "collapsed": false
   }
  },
  {
   "cell_type": "code",
   "execution_count": 59,
   "outputs": [],
   "source": [
    "nlp_model = 'en_core_web_lg'"
   ],
   "metadata": {
    "collapsed": false
   }
  },
  {
   "cell_type": "code",
   "execution_count": 65,
   "outputs": [
    {
     "name": "stderr",
     "output_type": "stream",
     "text": [
      "/usr/local/Caskroom/miniconda/base/envs/jai_2022/lib/python3.7/site-packages/spacy/util.py:877: UserWarning: [W095] Model 'en_core_web_lg' (3.2.0) was trained with spaCy v3.2 and may not be 100% compatible with the current version (3.4.2). If you see errors or degraded performance, download a newer compatible model or retrain your custom model with the current spaCy version. For more details and available updates, run: python -m spacy validate\n",
      "  warnings.warn(warn_msg)\n"
     ]
    }
   ],
   "source": [
    "import typer\n",
    "import json\n",
    "from collections import Counter\n",
    "from pathlib import Path\n",
    "import spacy\n",
    "from spacy.tokens import DocBin, Span\n",
    "\n",
    "nlp = spacy.load(nlp_model, exclude=\"parser, tagger\")\n",
    "train_corpus = 'data/el_train.spacy'\n",
    "test_corpus = 'data/el_test.spacy'"
   ],
   "metadata": {
    "collapsed": false
   }
  },
  {
   "cell_type": "code",
   "execution_count": 64,
   "outputs": [],
   "source": [
    "docs = []\n",
    "gold_ids = []\n",
    "\n",
    "def make_doc(example):\n",
    "    sentence = example[\"text\"]\n",
    "    if example[\"answer\"] == \"accept\":\n",
    "        QID = example[\"accept\"][0]\n",
    "        doc = nlp.make_doc(sentence)\n",
    "        gold_ids.append(QID)\n",
    "        # we assume only 1 annotated span per sentence, and only 1 KB ID per span\n",
    "        entity = doc.char_span(\n",
    "            example[\"spans\"][0][\"start\"],\n",
    "            example[\"spans\"][0][\"end\"],\n",
    "            label=example[\"spans\"][0][\"label\"],\n",
    "            kb_id=QID,\n",
    "        )\n",
    "        doc.ents = [entity]\n",
    "        for i, t in enumerate(doc):\n",
    "            doc[i].is_sent_start = i == 0\n",
    "        return doc\n",
    "\n",
    "train_docs = df_train.apply(make_doc, axis=1)\n",
    "test_docs = df_test.apply(make_doc, axis=1)"
   ],
   "metadata": {
    "collapsed": false
   }
  },
  {
   "cell_type": "code",
   "execution_count": 68,
   "outputs": [],
   "source": [
    "train_docbin = DocBin()\n",
    "test_docbin = DocBin()\n",
    "\n",
    "for doc in train_docs:\n",
    "    train_docbin.add(doc)\n",
    "for doc in test_docs:\n",
    "    test_docbin.add(doc)\n",
    "\n",
    "train_docbin.to_disk(train_corpus)\n",
    "test_docbin.to_disk(test_corpus)"
   ],
   "metadata": {
    "collapsed": false
   }
  },
  {
   "cell_type": "markdown",
   "source": [
    "## Run training"
   ],
   "metadata": {
    "collapsed": false
   }
  },
  {
   "cell_type": "code",
   "execution_count": 4,
   "outputs": [
    {
     "name": "stdout",
     "output_type": "stream",
     "text": [
      "\u001B[38;5;4mℹ Saving to output directory: training\u001B[0m\r\n",
      "\u001B[38;5;4mℹ Using CPU\u001B[0m\r\n",
      "\u001B[1m\r\n",
      "=========================== Initializing pipeline ===========================\u001B[0m\r\n",
      "/usr/local/Caskroom/miniconda/base/envs/jai_2022/lib/python3.7/site-packages/spacy/util.py:877: UserWarning: [W095] Model 'en_core_web_lg' (3.2.0) was trained with spaCy v3.2 and may not be 100% compatible with the current version (3.4.2). If you see errors or degraded performance, download a newer compatible model or retrain your custom model with the current spaCy version. For more details and available updates, run: python -m spacy validate\r\n",
      "  warnings.warn(warn_msg)\r\n",
      "[2022-11-04 09:36:10,069] [INFO] Set up nlp object from config\r\n",
      "[2022-11-04 09:36:10,080] [INFO] Pipeline: ['sentencizer', 'ner', 'entity_linker']\r\n",
      "[2022-11-04 09:36:10,086] [INFO] Created vocabulary\r\n",
      "/usr/local/Caskroom/miniconda/base/envs/jai_2022/lib/python3.7/site-packages/spacy/util.py:877: UserWarning: [W095] Model 'en_core_web_lg' (3.2.0) was trained with spaCy v3.2 and may not be 100% compatible with the current version (3.4.2). If you see errors or degraded performance, download a newer compatible model or retrain your custom model with the current spaCy version. For more details and available updates, run: python -m spacy validate\r\n",
      "  warnings.warn(warn_msg)\r\n",
      "[2022-11-04 09:36:13,165] [INFO] Added vectors: ../Assets/my_output/nlp_full_2022_10_14\r\n",
      "[2022-11-04 09:36:15,405] [INFO] Finished initializing nlp object\r\n",
      "[2022-11-04 09:36:47,382] [INFO] Initialized pipeline components: ['entity_linker']\r\n",
      "\u001B[38;5;2m✔ Initialized pipeline\u001B[0m\r\n",
      "\u001B[1m\r\n",
      "============================= Training pipeline =============================\u001B[0m\r\n",
      "\u001B[38;5;4mℹ Pipeline: ['sentencizer', 'ner', 'entity_linker']\u001B[0m\r\n",
      "\u001B[38;5;4mℹ Frozen components: ['sentencizer', 'ner']\u001B[0m\r\n",
      "\u001B[38;5;4mℹ Initial learn rate: 0.001\u001B[0m\r\n",
      "E    #       LOSS ENTIT...  SENTS_F  SENTS_P  SENTS_R  ENTS_F  ENTS_P  ENTS_R  NEL_MICRO_F  NEL_MICRO_R  NEL_MICRO_P  SCORE \r\n",
      "---  ------  -------------  -------  -------  -------  ------  ------  ------  -----------  -----------  -----------  ------\r\n",
      "/usr/local/Caskroom/miniconda/base/envs/jai_2022/lib/python3.7/site-packages/spacy/pipeline/legacy/entity_linker.py:297: RuntimeWarning: invalid value encountered in true_divide\r\n",
      "  sentence_norm * entity_norm\r\n",
      "  0       0           1.00    24.77    17.89    40.23   19.40   11.08   77.82        69.61        60.43        82.08    0.38\r\n",
      "  0     200           9.57    24.77    17.89    40.23   19.40   11.08   77.82        68.14        59.15        80.35    0.37\r\n",
      "  1     400           0.70    24.77    17.89    40.23   19.40   11.08   77.82        67.16        58.30        79.19    0.37\r\n",
      "  2     600           0.37    24.77    17.89    40.23   19.40   11.08   77.82        65.20        56.60        76.88    0.36\r\n",
      "\u001B[38;5;2m✔ Saved pipeline to output directory\u001B[0m\r\n",
      "training/model-last\r\n"
     ]
    }
   ],
   "source": [
    "!python -m spacy train configs/nel.cfg --output training --paths.train data/el_train.spacy --paths.dev data/el_test.spacy \\\n",
    "    --paths.kb kb/kb_full_2022_10_26 --paths.base_nlp ../Assets/my_output/nlp_full_2022_10_14 -c scripts/custom_functions.py"
   ],
   "metadata": {
    "collapsed": false
   }
  },
  {
   "cell_type": "code",
   "execution_count": null,
   "outputs": [],
   "source": [],
   "metadata": {
    "collapsed": false
   }
  }
 ],
 "metadata": {
  "kernelspec": {
   "display_name": "Python 3",
   "language": "python",
   "name": "python3"
  },
  "language_info": {
   "codemirror_mode": {
    "name": "ipython",
    "version": 2
   },
   "file_extension": ".py",
   "mimetype": "text/x-python",
   "name": "python",
   "nbconvert_exporter": "python",
   "pygments_lexer": "ipython2",
   "version": "2.7.6"
  }
 },
 "nbformat": 4,
 "nbformat_minor": 0
}
