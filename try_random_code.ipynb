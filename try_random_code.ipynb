{
 "cells": [
  {
   "cell_type": "code",
   "execution_count": 1,
   "id": "7b5d29ce-139d-4777-b0c5-710fa371574f",
   "metadata": {},
   "outputs": [],
   "source": [
    "from typing import Iterator\n",
    "\n",
    "import spacy\n",
    "from spacy.kb import KnowledgeBase, Candidate #, get_candidates\n",
    "\n",
    "import prodigy\n",
    "from prodigy.models.ner import EntityRecognizer\n",
    "from prodigy.components.loaders import TXT\n",
    "from prodigy.util import set_hashes\n",
    "from prodigy.components.filters import filter_duplicates\n",
    "\n",
    "import csv\n",
    "from pathlib import Path"
   ]
  },
  {
   "cell_type": "code",
   "execution_count": 2,
   "id": "dd2155d5-8a1f-4331-8826-e079a1a6a5f1",
   "metadata": {},
   "outputs": [],
   "source": [
    "nlp_dir='my_output/my_nlp'\n",
    "kb_loc='my_output/my_kb'"
   ]
  },
  {
   "cell_type": "code",
   "execution_count": 3,
   "id": "01f1bc72-631b-4c70-84b4-616d6e02752e",
   "metadata": {},
   "outputs": [],
   "source": [
    "nlp = spacy.load(nlp_dir)\n",
    "kb = KnowledgeBase(vocab=nlp.vocab, entity_vector_length=1)\n",
    "kb.from_disk(kb_loc)"
   ]
  },
  {
   "cell_type": "code",
   "execution_count": 17,
   "id": "d112ffc1-828e-48bd-a1be-4bdd1bad6ece",
   "metadata": {},
   "outputs": [
    {
     "data": {
      "text/plain": [
       "[<spacy.kb.Candidate at 0x13a493de0>, <spacy.kb.Candidate at 0x1399931a0>]"
      ]
     },
     "execution_count": 17,
     "metadata": {},
     "output_type": "execute_result"
    }
   ],
   "source": [
    "kb.get_alias_candidates('Allen Wu')"
   ]
  },
  {
   "cell_type": "code",
   "execution_count": 1,
   "id": "faf7ff8d-433e-47bd-958f-17d4aa7d3585",
   "metadata": {},
   "outputs": [],
   "source": [
    "import pandas as pd"
   ]
  },
  {
   "cell_type": "code",
   "execution_count": 2,
   "id": "f90b9887-c0b9-4d17-a195-e4f1be3d3278",
   "metadata": {},
   "outputs": [],
   "source": [
    "kb_enties=pd.read_csv('lilsis_kb.csv')"
   ]
  },
  {
   "cell_type": "code",
   "execution_count": 12,
   "id": "681fabc2-f122-4f8c-a1dc-21c39bda9044",
   "metadata": {},
   "outputs": [
    {
     "data": {
      "text/html": [
       "<div>\n",
       "<style scoped>\n",
       "    .dataframe tbody tr th:only-of-type {\n",
       "        vertical-align: middle;\n",
       "    }\n",
       "\n",
       "    .dataframe tbody tr th {\n",
       "        vertical-align: top;\n",
       "    }\n",
       "\n",
       "    .dataframe thead th {\n",
       "        text-align: right;\n",
       "    }\n",
       "</style>\n",
       "<table border=\"1\" class=\"dataframe\">\n",
       "  <thead>\n",
       "    <tr style=\"text-align: right;\">\n",
       "      <th></th>\n",
       "      <th>Unnamed: 0</th>\n",
       "      <th>id</th>\n",
       "      <th>name</th>\n",
       "      <th>context</th>\n",
       "    </tr>\n",
       "  </thead>\n",
       "  <tbody>\n",
       "    <tr>\n",
       "      <th>491</th>\n",
       "      <td>227560</td>\n",
       "      <td>67105</td>\n",
       "      <td>Ron Howard</td>\n",
       "      <td>Actor, director</td>\n",
       "    </tr>\n",
       "    <tr>\n",
       "      <th>854</th>\n",
       "      <td>301428</td>\n",
       "      <td>183260</td>\n",
       "      <td>Howard Hawks</td>\n",
       "      <td>Founder and chairman of Tenaska, a private ene...</td>\n",
       "    </tr>\n",
       "    <tr>\n",
       "      <th>855</th>\n",
       "      <td>301429</td>\n",
       "      <td>247990</td>\n",
       "      <td>Howard Hawks</td>\n",
       "      <td>Film director</td>\n",
       "    </tr>\n",
       "    <tr>\n",
       "      <th>1609</th>\n",
       "      <td>423094</td>\n",
       "      <td>34434</td>\n",
       "      <td>Howard Dean</td>\n",
       "      <td>79th Governor of Vermont HOWARD DEAN, M.D., wa...</td>\n",
       "    </tr>\n",
       "    <tr>\n",
       "      <th>3489</th>\n",
       "      <td>567805</td>\n",
       "      <td>247674</td>\n",
       "      <td>Bryce Dallas Howard</td>\n",
       "      <td>Actress, daughter of Ron Howard</td>\n",
       "    </tr>\n",
       "    <tr>\n",
       "      <th>3671</th>\n",
       "      <td>576531</td>\n",
       "      <td>111230</td>\n",
       "      <td>John Howard</td>\n",
       "      <td>NYS Deputy Commissioner,  OGS</td>\n",
       "    </tr>\n",
       "    <tr>\n",
       "      <th>3672</th>\n",
       "      <td>576532</td>\n",
       "      <td>157085</td>\n",
       "      <td>John Howard</td>\n",
       "      <td>former prime minister of Australia</td>\n",
       "    </tr>\n",
       "    <tr>\n",
       "      <th>3673</th>\n",
       "      <td>576533</td>\n",
       "      <td>207119</td>\n",
       "      <td>John Howard</td>\n",
       "      <td>NYPD</td>\n",
       "    </tr>\n",
       "    <tr>\n",
       "      <th>3992</th>\n",
       "      <td>592409</td>\n",
       "      <td>338360</td>\n",
       "      <td>Bernard Marmaduke Fitzalan-Howard</td>\n",
       "      <td>16th Duke of Norfolk</td>\n",
       "    </tr>\n",
       "    <tr>\n",
       "      <th>4447</th>\n",
       "      <td>607023</td>\n",
       "      <td>34446</td>\n",
       "      <td>Howard University</td>\n",
       "      <td>Federally chartered, private, coeducational, h...</td>\n",
       "    </tr>\n",
       "    <tr>\n",
       "      <th>4949</th>\n",
       "      <td>620023</td>\n",
       "      <td>34700</td>\n",
       "      <td>Alan Howard</td>\n",
       "      <td>Co-founder of UK hedge fund Brevan Howard It w...</td>\n",
       "    </tr>\n",
       "    <tr>\n",
       "      <th>5072</th>\n",
       "      <td>626676</td>\n",
       "      <td>133199</td>\n",
       "      <td>Howard Schultz</td>\n",
       "      <td>Attorney, Howard Schultz Financial Services - ...</td>\n",
       "    </tr>\n",
       "    <tr>\n",
       "      <th>5073</th>\n",
       "      <td>626677</td>\n",
       "      <td>176398</td>\n",
       "      <td>Howard Schultz</td>\n",
       "      <td>Founded Lighthearted Entertainment in 1992 Sch...</td>\n",
       "    </tr>\n",
       "    <tr>\n",
       "      <th>5463</th>\n",
       "      <td>643605</td>\n",
       "      <td>275300</td>\n",
       "      <td>Howard Shore</td>\n",
       "      <td>Pro-Brexit boss of Shore Capital and Commentat...</td>\n",
       "    </tr>\n",
       "    <tr>\n",
       "      <th>5855</th>\n",
       "      <td>658814</td>\n",
       "      <td>109072</td>\n",
       "      <td>Richard Howard</td>\n",
       "      <td>Poet</td>\n",
       "    </tr>\n",
       "    <tr>\n",
       "      <th>5856</th>\n",
       "      <td>658815</td>\n",
       "      <td>127259</td>\n",
       "      <td>Richard Howard</td>\n",
       "      <td>Managing Director at Hayman Capital Management...</td>\n",
       "    </tr>\n",
       "    <tr>\n",
       "      <th>5899</th>\n",
       "      <td>660145</td>\n",
       "      <td>149219</td>\n",
       "      <td>Howard Stern</td>\n",
       "      <td>Longtime radio \"shock jock\"</td>\n",
       "    </tr>\n",
       "    <tr>\n",
       "      <th>6208</th>\n",
       "      <td>669228</td>\n",
       "      <td>107849</td>\n",
       "      <td>George Howard</td>\n",
       "      <td>Tanner</td>\n",
       "    </tr>\n",
       "    <tr>\n",
       "      <th>6209</th>\n",
       "      <td>669229</td>\n",
       "      <td>118106</td>\n",
       "      <td>George Howard</td>\n",
       "      <td>President, Restoration Systems</td>\n",
       "    </tr>\n",
       "  </tbody>\n",
       "</table>\n",
       "</div>"
      ],
      "text/plain": [
       "      Unnamed: 0      id                               name  \\\n",
       "491       227560   67105                         Ron Howard   \n",
       "854       301428  183260                       Howard Hawks   \n",
       "855       301429  247990                       Howard Hawks   \n",
       "1609      423094   34434                        Howard Dean   \n",
       "3489      567805  247674                Bryce Dallas Howard   \n",
       "3671      576531  111230                        John Howard   \n",
       "3672      576532  157085                        John Howard   \n",
       "3673      576533  207119                        John Howard   \n",
       "3992      592409  338360  Bernard Marmaduke Fitzalan-Howard   \n",
       "4447      607023   34446                  Howard University   \n",
       "4949      620023   34700                        Alan Howard   \n",
       "5072      626676  133199                     Howard Schultz   \n",
       "5073      626677  176398                     Howard Schultz   \n",
       "5463      643605  275300                       Howard Shore   \n",
       "5855      658814  109072                     Richard Howard   \n",
       "5856      658815  127259                     Richard Howard   \n",
       "5899      660145  149219                       Howard Stern   \n",
       "6208      669228  107849                      George Howard   \n",
       "6209      669229  118106                      George Howard   \n",
       "\n",
       "                                                context  \n",
       "491                                    Actor, director   \n",
       "854   Founder and chairman of Tenaska, a private ene...  \n",
       "855                                      Film director   \n",
       "1609  79th Governor of Vermont HOWARD DEAN, M.D., wa...  \n",
       "3489                   Actress, daughter of Ron Howard   \n",
       "3671                     NYS Deputy Commissioner,  OGS   \n",
       "3672                former prime minister of Australia   \n",
       "3673                                              NYPD   \n",
       "3992                              16th Duke of Norfolk   \n",
       "4447  Federally chartered, private, coeducational, h...  \n",
       "4949  Co-founder of UK hedge fund Brevan Howard It w...  \n",
       "5072  Attorney, Howard Schultz Financial Services - ...  \n",
       "5073  Founded Lighthearted Entertainment in 1992 Sch...  \n",
       "5463  Pro-Brexit boss of Shore Capital and Commentat...  \n",
       "5855                                              Poet   \n",
       "5856  Managing Director at Hayman Capital Management...  \n",
       "5899                       Longtime radio \"shock jock\"   \n",
       "6208                                            Tanner   \n",
       "6209                    President, Restoration Systems   "
      ]
     },
     "execution_count": 12,
     "metadata": {},
     "output_type": "execute_result"
    }
   ],
   "source": [
    "kb_enties[kb_enties['name'].str.contains('Howard')]"
   ]
  },
  {
   "cell_type": "code",
   "execution_count": 24,
   "id": "7fe2df85-ff66-4d05-b47a-ef271153d3c4",
   "metadata": {},
   "outputs": [
    {
     "data": {
      "text/html": [
       "<div>\n",
       "<style scoped>\n",
       "    .dataframe tbody tr th:only-of-type {\n",
       "        vertical-align: middle;\n",
       "    }\n",
       "\n",
       "    .dataframe tbody tr th {\n",
       "        vertical-align: top;\n",
       "    }\n",
       "\n",
       "    .dataframe thead th {\n",
       "        text-align: right;\n",
       "    }\n",
       "</style>\n",
       "<table border=\"1\" class=\"dataframe\">\n",
       "  <thead>\n",
       "    <tr style=\"text-align: right;\">\n",
       "      <th></th>\n",
       "      <th>Unnamed: 0</th>\n",
       "      <th>id</th>\n",
       "      <th>name</th>\n",
       "      <th>context</th>\n",
       "    </tr>\n",
       "  </thead>\n",
       "  <tbody>\n",
       "    <tr>\n",
       "      <th>4878</th>\n",
       "      <td>616746</td>\n",
       "      <td>93875</td>\n",
       "      <td>Michelle Wu</td>\n",
       "      <td>Attorney</td>\n",
       "    </tr>\n",
       "  </tbody>\n",
       "</table>\n",
       "</div>"
      ],
      "text/plain": [
       "      Unnamed: 0     id         name    context\n",
       "4878      616746  93875  Michelle Wu  Attorney "
      ]
     },
     "execution_count": 24,
     "metadata": {},
     "output_type": "execute_result"
    }
   ],
   "source": [
    "kb_enties[kb_enties['id']==93875]"
   ]
  },
  {
   "cell_type": "code",
   "execution_count": 5,
   "id": "c6398e03-f059-429c-a417-13e50404b5d3",
   "metadata": {},
   "outputs": [],
   "source": [
    "alias='Adam Smith'"
   ]
  },
  {
   "cell_type": "code",
   "execution_count": 6,
   "id": "926237fc-bf1d-4e28-a644-fb2773241acc",
   "metadata": {},
   "outputs": [
    {
     "data": {
      "text/plain": [
       "True"
      ]
     },
     "execution_count": 6,
     "metadata": {},
     "output_type": "execute_result"
    }
   ],
   "source": [
    "'Adam Smith' in kb.get_alias_strings()"
   ]
  },
  {
   "cell_type": "code",
   "execution_count": 10,
   "id": "5a77bd8a-ef81-47a3-8154-b9187c152492",
   "metadata": {},
   "outputs": [
    {
     "data": {
      "text/plain": [
       "5816"
      ]
     },
     "execution_count": 10,
     "metadata": {},
     "output_type": "execute_result"
    }
   ],
   "source": [
    "len(kb.get_alias_strings())"
   ]
  },
  {
   "cell_type": "code",
   "execution_count": 11,
   "id": "6ae64c07-6272-45ae-a953-aa87fd201bad",
   "metadata": {},
   "outputs": [
    {
     "data": {
      "text/plain": [
       "6756"
      ]
     },
     "execution_count": 11,
     "metadata": {},
     "output_type": "execute_result"
    }
   ],
   "source": [
    "len(kb.get_entity_strings())"
   ]
  },
  {
   "cell_type": "code",
   "execution_count": null,
   "id": "5db91d90-7b88-4ec4-8355-37cc90f37a7f",
   "metadata": {},
   "outputs": [],
   "source": []
  },
  {
   "cell_type": "code",
   "execution_count": 14,
   "id": "f26f5e90-3703-4067-a89f-e4a45b6f20aa",
   "metadata": {},
   "outputs": [],
   "source": [
    "alias='Adam Smith'\n",
    "if not alias in kb.get_alias_strings():\n",
    "    #return []\n",
    "    print('return')"
   ]
  },
  {
   "cell_type": "code",
   "execution_count": null,
   "id": "0570b927-e5fc-46b9-a6f3-66da3622c22c",
   "metadata": {},
   "outputs": [],
   "source": [
    "kb_d={}\n",
    "for string in kb.get_alias_strings():\n",
    "    kb_d[string]=kb.vocab.strings[string]"
   ]
  },
  {
   "cell_type": "code",
   "execution_count": 40,
   "id": "c753defc-0535-456d-82ab-229801b3bad5",
   "metadata": {},
   "outputs": [
    {
     "data": {
      "text/plain": [
       "2579912878670315042"
      ]
     },
     "execution_count": 40,
     "metadata": {},
     "output_type": "execute_result"
    }
   ],
   "source": [
    "kb_d['Adam Smith']"
   ]
  },
  {
   "cell_type": "code",
   "execution_count": null,
   "id": "292caaed-462f-47f5-b131-4751e7e97d5b",
   "metadata": {
    "tags": []
   },
   "outputs": [],
   "source": [
    "alias_index = kb._alias_index.get(alias_hash)\n",
    "alias_entry = kb._aliases_table[alias_index]\n",
    "\n",
    "return [Candidate(kb=kb,\n",
    "                  entity_hash=kb._entries[entry_index].entity_hash,\n",
    "                  entity_freq=kb._entries[entry_index].freq,\n",
    "                  entity_vector=kb._vectors_table[kb._entries[entry_index].vector_index],\n",
    "                  alias_hash=alias_hash,\n",
    "                  prior_prob=prior_prob)\n",
    "        for (entry_index, prior_prob) in zip(alias_entry.entry_indices, alias_entry.probs)\n",
    "        if entry_index != 0]\n"
   ]
  },
  {
   "cell_type": "code",
   "execution_count": null,
   "id": "eeb20fdf-d368-476e-9034-7ab657445326",
   "metadata": {},
   "outputs": [],
   "source": []
  },
  {
   "cell_type": "code",
   "execution_count": null,
   "id": "cb750554-7327-494c-92ab-1e9ddd131854",
   "metadata": {},
   "outputs": [],
   "source": [
    "# Export text as sentences"
   ]
  },
  {
   "cell_type": "code",
   "execution_count": 6,
   "id": "b9f002e3-4b9b-4f17-9c2e-3f95e1be6691",
   "metadata": {},
   "outputs": [],
   "source": [
    "f = open(\"source_data.txt\", \"r\")"
   ]
  },
  {
   "cell_type": "code",
   "execution_count": 7,
   "id": "8d51fe9d-f6ea-4f62-a1ab-2d75b36a318c",
   "metadata": {},
   "outputs": [],
   "source": [
    "source_text=list(f)"
   ]
  },
  {
   "cell_type": "code",
   "execution_count": 10,
   "id": "d31bfb78-bff7-4221-b623-44860f39abaf",
   "metadata": {},
   "outputs": [],
   "source": [
    "text_list=[]\n",
    "for text in source_text:\n",
    "    text_list.extend(text.split('. '))"
   ]
  },
  {
   "cell_type": "code",
   "execution_count": 12,
   "id": "905d25b3-8bb0-42b5-a159-8e913224a564",
   "metadata": {},
   "outputs": [],
   "source": [
    "import random "
   ]
  },
  {
   "cell_type": "code",
   "execution_count": 13,
   "id": "ad723452-da78-495a-96bf-c80dde567cbf",
   "metadata": {},
   "outputs": [],
   "source": [
    "random.shuffle(text_list)"
   ]
  },
  {
   "cell_type": "code",
   "execution_count": 15,
   "id": "cd144d4d-3cf2-4015-94d4-12c2156fbd1b",
   "metadata": {},
   "outputs": [
    {
     "name": "stdout",
     "output_type": "stream",
     "text": [
      "Done\n"
     ]
    }
   ],
   "source": [
    "# list of names\n",
    "# open file in write mode\n",
    "with open(r'source_data_sentences.txt', 'w') as fp:\n",
    "    for item in text_list:\n",
    "        # write each item on a new line\n",
    "        fp.write(\"%s.\\n\" % item)\n",
    "    print('Done')"
   ]
  },
  {
   "cell_type": "code",
   "execution_count": null,
   "id": "23c79fba-be1e-4164-acb5-8078c815ae51",
   "metadata": {},
   "outputs": [],
   "source": []
  },
  {
   "cell_type": "code",
   "execution_count": 4,
   "id": "6b710cb2-0dc0-4565-9381-657695712c5c",
   "metadata": {},
   "outputs": [],
   "source": [
    "entity_loc='kb_datasets/kb_entities.csv'\n",
    "kb_entities=pd.read_csv(entity_loc, names=['qid','name','desc'])"
   ]
  },
  {
   "cell_type": "code",
   "execution_count": 5,
   "id": "cb69374c-fb46-4b95-9803-0324df1ccab7",
   "metadata": {},
   "outputs": [
    {
     "data": {
      "text/html": [
       "<div>\n",
       "<style scoped>\n",
       "    .dataframe tbody tr th:only-of-type {\n",
       "        vertical-align: middle;\n",
       "    }\n",
       "\n",
       "    .dataframe tbody tr th {\n",
       "        vertical-align: top;\n",
       "    }\n",
       "\n",
       "    .dataframe thead th {\n",
       "        text-align: right;\n",
       "    }\n",
       "</style>\n",
       "<table border=\"1\" class=\"dataframe\">\n",
       "  <thead>\n",
       "    <tr style=\"text-align: right;\">\n",
       "      <th></th>\n",
       "      <th>qid</th>\n",
       "      <th>name</th>\n",
       "      <th>desc</th>\n",
       "    </tr>\n",
       "  </thead>\n",
       "  <tbody>\n",
       "    <tr>\n",
       "      <th>0</th>\n",
       "      <td>1</td>\n",
       "      <td>Walmart Inc.</td>\n",
       "      <td>Retail merchandising</td>\n",
       "    </tr>\n",
       "    <tr>\n",
       "      <th>1</th>\n",
       "      <td>2</td>\n",
       "      <td>ExxonMobil</td>\n",
       "      <td>Oil and gas exploration, production, and marke...</td>\n",
       "    </tr>\n",
       "    <tr>\n",
       "      <th>2</th>\n",
       "      <td>3</td>\n",
       "      <td>Chevron</td>\n",
       "      <td>Energy Company</td>\n",
       "    </tr>\n",
       "    <tr>\n",
       "      <th>3</th>\n",
       "      <td>4</td>\n",
       "      <td>General Motors Company</td>\n",
       "      <td>automobile manufacturer</td>\n",
       "    </tr>\n",
       "    <tr>\n",
       "      <th>4</th>\n",
       "      <td>5</td>\n",
       "      <td>ConocoPhillips</td>\n",
       "      <td>Texas-based oil and gas corporation</td>\n",
       "    </tr>\n",
       "    <tr>\n",
       "      <th>...</th>\n",
       "      <td>...</td>\n",
       "      <td>...</td>\n",
       "      <td>...</td>\n",
       "    </tr>\n",
       "    <tr>\n",
       "      <th>405998</th>\n",
       "      <td>427653</td>\n",
       "      <td>Anne McGuire</td>\n",
       "      <td>NaN</td>\n",
       "    </tr>\n",
       "    <tr>\n",
       "      <th>405999</th>\n",
       "      <td>427654</td>\n",
       "      <td>Truscott Partners, LLC</td>\n",
       "      <td>The Meyer Family Private Investment company ba...</td>\n",
       "    </tr>\n",
       "    <tr>\n",
       "      <th>406000</th>\n",
       "      <td>427655</td>\n",
       "      <td>Garth Hankinson</td>\n",
       "      <td>Executive Vice President, Chief Financial Offi...</td>\n",
       "    </tr>\n",
       "    <tr>\n",
       "      <th>406001</th>\n",
       "      <td>427656</td>\n",
       "      <td>SVB Securities</td>\n",
       "      <td>Boston, MA investment bank</td>\n",
       "    </tr>\n",
       "    <tr>\n",
       "      <th>406002</th>\n",
       "      <td>427657</td>\n",
       "      <td>Jim Sabia</td>\n",
       "      <td>President of Beer Division, Constellation Brands</td>\n",
       "    </tr>\n",
       "  </tbody>\n",
       "</table>\n",
       "<p>406003 rows × 3 columns</p>\n",
       "</div>"
      ],
      "text/plain": [
       "           qid                    name  \\\n",
       "0            1            Walmart Inc.   \n",
       "1            2              ExxonMobil   \n",
       "2            3                 Chevron   \n",
       "3            4  General Motors Company   \n",
       "4            5          ConocoPhillips   \n",
       "...        ...                     ...   \n",
       "405998  427653            Anne McGuire   \n",
       "405999  427654  Truscott Partners, LLC   \n",
       "406000  427655         Garth Hankinson   \n",
       "406001  427656          SVB Securities   \n",
       "406002  427657               Jim Sabia   \n",
       "\n",
       "                                                     desc  \n",
       "0                                   Retail merchandising   \n",
       "1       Oil and gas exploration, production, and marke...  \n",
       "2                                         Energy Company   \n",
       "3                                automobile manufacturer   \n",
       "4                    Texas-based oil and gas corporation   \n",
       "...                                                   ...  \n",
       "405998                                                NaN  \n",
       "405999  The Meyer Family Private Investment company ba...  \n",
       "406000  Executive Vice President, Chief Financial Offi...  \n",
       "406001                        Boston, MA investment bank   \n",
       "406002  President of Beer Division, Constellation Brands   \n",
       "\n",
       "[406003 rows x 3 columns]"
      ]
     },
     "execution_count": 5,
     "metadata": {},
     "output_type": "execute_result"
    }
   ],
   "source": [
    "kb_entities"
   ]
  },
  {
   "cell_type": "code",
   "execution_count": null,
   "id": "3cf86b8a-c55f-4d71-acf5-75f1e360061d",
   "metadata": {},
   "outputs": [],
   "source": []
  },
  {
   "cell_type": "code",
   "execution_count": null,
   "id": "dd8719af-2a4a-451e-a1e5-90ef4402ee9e",
   "metadata": {},
   "outputs": [],
   "source": []
  },
  {
   "cell_type": "code",
   "execution_count": 6,
   "id": "394375de-de50-4235-8801-e73512500964",
   "metadata": {},
   "outputs": [],
   "source": [
    "desc=\"This is the first sentence of the description. This is the second. And this is the third.\""
   ]
  },
  {
   "cell_type": "code",
   "execution_count": 10,
   "id": "5a4ae474-80f1-4c43-a9da-14e46381f9ed",
   "metadata": {},
   "outputs": [
    {
     "data": {
      "text/plain": [
       "'This is the first sentence of the description. This is the second.'"
      ]
     },
     "execution_count": 10,
     "metadata": {},
     "output_type": "execute_result"
    }
   ],
   "source": [
    "'.'.join(desc.split('.')[:2])+'.'"
   ]
  },
  {
   "cell_type": "code",
   "execution_count": null,
   "id": "0e60a391-e073-4550-80b4-bf8c4e33385d",
   "metadata": {},
   "outputs": [],
   "source": []
  }
 ],
 "metadata": {
  "kernelspec": {
   "display_name": "Python 3 (ipykernel)",
   "language": "python",
   "name": "python3"
  },
  "language_info": {
   "codemirror_mode": {
    "name": "ipython",
    "version": 3
   },
   "file_extension": ".py",
   "mimetype": "text/x-python",
   "name": "python",
   "nbconvert_exporter": "python",
   "pygments_lexer": "ipython3",
   "version": "3.7.13"
  }
 },
 "nbformat": 4,
 "nbformat_minor": 5
}
