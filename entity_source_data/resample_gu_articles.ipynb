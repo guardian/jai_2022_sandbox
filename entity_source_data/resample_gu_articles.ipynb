{
 "cells": [
  {
   "cell_type": "code",
   "execution_count": 1,
   "id": "0ebaab0b-e214-4aab-ab03-f9be450b9727",
   "metadata": {},
   "outputs": [],
   "source": [
    "import pandas as pd"
   ]
  },
  {
   "cell_type": "code",
   "execution_count": 2,
   "id": "d1a72428-1882-471a-97ed-860eb14d7eb7",
   "metadata": {},
   "outputs": [],
   "source": [
    "## Code ran on EC2 instance "
   ]
  },
  {
   "cell_type": "raw",
   "id": "f6cbb470-769e-4bca-b481-cfad9041b251",
   "metadata": {},
   "source": [
    "import glob"
   ]
  },
  {
   "cell_type": "raw",
   "id": "739a6760-9844-419d-8111-befd024697d9",
   "metadata": {},
   "source": [
    "## Sample guardian articles belonging to relevant sections "
   ]
  },
  {
   "cell_type": "raw",
   "id": "6f606766-1674-4c64-9985-f79542363d0c",
   "metadata": {},
   "source": [
    "# Concat all articles \n",
    "gu_body_texts=''\n",
    "first_cycle=1\n",
    "for gu_file in glob.glob('sampled_*'):\n",
    "    year=gu_file.split('_')[-1].split('.')[-2]\n",
    "    gu_article=pd.read_csv(gu_file)\n",
    "    #gu_article=gu_article[['body_text']]\n",
    "    gu_article['article_year']=int(year)\n",
    "    gu_article['doc_index']=gu_article.index.values\n",
    "    if first_cycle:\n",
    "        gu_body_texts=x\n",
    "        first_cycle=0\n",
    "    else:\n",
    "        gu_body_texts=pd.concat([gu_body_texts, gu_article],ignore_index=True)\n",
    "gu_body_texts.dropna(subset=['body_text'],inplace=True)"
   ]
  },
  {
   "cell_type": "raw",
   "id": "be54fdd6-4c6f-482e-93cd-d42629e87a0a",
   "metadata": {},
   "source": [
    "# Selecting only articles to simplify annotation \n",
    "# Removed liveblogs as they have several url pages making it difficult for the annotator to identify the paragraph/context where the mention appears\n",
    "gu_body_texts=gu_body_texts[gu_body_texts['content_type']=='Article']"
   ]
  },
  {
   "cell_type": "raw",
   "id": "28186335-8c2f-4d9f-9438-6450b19df37d",
   "metadata": {},
   "source": [
    "# Manual selection of relevant sections - likely to contain political/crime/corruption related articles \n",
    "gu_body_texts=gu_body_texts[gu_body_texts['section_id'].isin(['law', 'global','global-development', 'news', 'world', 'uk-news', 'us-news', 'business','politics'])]"
   ]
  },
  {
   "cell_type": "raw",
   "id": "7690a247-6a18-4565-a54a-35cfe8b28544",
   "metadata": {},
   "source": [
    "gu_body_texts.to_csv('gu_resampled_by_section_id.csv')"
   ]
  },
  {
   "cell_type": "raw",
   "id": "4bca168a-3b00-437d-bc3e-9b59ebf307b0",
   "metadata": {},
   "source": [
    "from bs4 import BeautifulSoup\n",
    "\n",
    "def get_article_paragraphs(html_text: str):\n",
    "    \n",
    "    \"\"\" Takes the full html of an article (CAPI format) and strips out all HTML tags. \n",
    "        Creates paragraphs from the <p></p> HTML items.\n",
    "\n",
    "        :param text: the raw HTML of an article\n",
    "        \n",
    "        returns: article paragraphs: list(str)\n",
    "        \"\"\"\n",
    "\n",
    "    soup = BeautifulSoup(html_text, features=\"html.parser\")\n",
    "    \n",
    "    # Remove article embellishments (sub-headings, figures, asides, etc.) \n",
    "    for h2 in soup.find_all('h2'):\n",
    "        try:\n",
    "            soup.h2.extract()\n",
    "        except:\n",
    "            pass\n",
    "    \n",
    "    for span in soup.find_all('span'):\n",
    "        try:            \n",
    "            soup.span.extract()\n",
    "        except:\n",
    "            pass\n",
    "\n",
    "    for aside in soup.find_all('aside'):\n",
    "        try:\n",
    "            soup.aside.extract()\n",
    "        except:\n",
    "            pass\n",
    "    \n",
    "    for figure in soup.find_all('figure'):\n",
    "        try:\n",
    "            soup.figure.extract()\n",
    "        except:\n",
    "            pass\n",
    "        \n",
    "    for a in soup.find_all('a'):\n",
    "        a.unwrap()\n",
    "        \n",
    "    paragraphs = [p.getText() for p in  soup.find_all('p')]\n",
    "    \n",
    "    return paragraphs"
   ]
  },
  {
   "cell_type": "raw",
   "id": "a34da765-1665-42e0-9dc1-c8e8f38ad157",
   "metadata": {},
   "source": [
    "# Read in sample articles from ['law', 'global','global-development', 'news', 'world', 'uk-news', 'us-news', 'business','politics']\n",
    "gu_sample=pd.read_csv('gu_resampled_by_section_id.csv',index_col=0)"
   ]
  },
  {
   "cell_type": "raw",
   "id": "fbbe36b1-9abd-467f-a469-04761585ee90",
   "metadata": {},
   "source": [
    "gu_sample.head()"
   ]
  },
  {
   "cell_type": "raw",
   "id": "75f54e3a-69bf-4002-884b-0daf06d29300",
   "metadata": {},
   "source": [
    "gu_sample.shape"
   ]
  },
  {
   "cell_type": "raw",
   "id": "07144f19-ca01-45fa-82f9-70bf4c9ce6d3",
   "metadata": {},
   "source": [
    "# Split full article text into paragraphs using html tags\n",
    "gu_sample['paragraphs'] = gu_sample['body_html'].apply(get_article_paragraphs)"
   ]
  },
  {
   "cell_type": "raw",
   "id": "0a27b476-4ffe-4a73-9908-7bbbbe2fea5e",
   "metadata": {},
   "source": [
    "gu_sample.loc[0,'paragraphs']"
   ]
  },
  {
   "cell_type": "raw",
   "id": "6738fafd-f10b-4c4f-8cda-1ae5bfe7fc41",
   "metadata": {},
   "source": [
    "# Select relevant columns\n",
    "gu_sample_content=gu_sample[['url','doc_index','body_text','body_html','paragraphs']]"
   ]
  },
  {
   "cell_type": "raw",
   "id": "409f1ebc-2309-4574-a6db-6324c25bcfd5",
   "metadata": {},
   "source": [
    "gu_sample_content.to_csv('gu_resampled_by_section_id_content.csv')"
   ]
  },
  {
   "cell_type": "code",
   "execution_count": 3,
   "id": "05d0557c-457a-4b32-90b4-d42b5e6cfaa8",
   "metadata": {},
   "outputs": [],
   "source": [
    "gu_sample_content=pd.read_csv('gu_resampled_by_section_id_content.csv',index_col=0, converters={'paragraphs': pd.eval})"
   ]
  },
  {
   "cell_type": "code",
   "execution_count": 4,
   "id": "028f74dd-8c78-4687-ae57-2f30bc0762fc",
   "metadata": {},
   "outputs": [
    {
     "data": {
      "text/plain": [
       "(54892, 5)"
      ]
     },
     "execution_count": 4,
     "metadata": {},
     "output_type": "execute_result"
    }
   ],
   "source": [
    "gu_sample_content.shape"
   ]
  },
  {
   "cell_type": "code",
   "execution_count": 5,
   "id": "1136537d-36e7-4bbe-ac9e-ec54ad9b5a46",
   "metadata": {},
   "outputs": [],
   "source": [
    "# Explode individual text paragraphs across rows to reorder and resample\n",
    "gu_sample_content=gu_sample_content[['url','paragraphs','doc_index']].explode(['paragraphs'])"
   ]
  },
  {
   "cell_type": "code",
   "execution_count": 6,
   "id": "8f469f9d-703c-4c02-88c8-2aa055d2f4cd",
   "metadata": {},
   "outputs": [],
   "source": [
    "gu_sample_content.dropna(inplace=True)"
   ]
  },
  {
   "cell_type": "code",
   "execution_count": 7,
   "id": "476722a6-088c-4b33-bdf7-3a196527cf4f",
   "metadata": {},
   "outputs": [
    {
     "data": {
      "text/plain": [
       "'Jurors who sat on the Zachary Rolfe murder trial in the supreme court of the Northern Territory might be feeling cheated.'"
      ]
     },
     "execution_count": 7,
     "metadata": {},
     "output_type": "execute_result"
    }
   ],
   "source": [
    "gu_sample_content.iloc[0]['paragraphs']"
   ]
  },
  {
   "cell_type": "code",
   "execution_count": 8,
   "id": "026a1841-7995-4137-876b-c0bb6b47ea4b",
   "metadata": {},
   "outputs": [
    {
     "data": {
      "text/plain": [
       "(917299, 3)"
      ]
     },
     "execution_count": 8,
     "metadata": {},
     "output_type": "execute_result"
    }
   ],
   "source": [
    "gu_sample_content.shape"
   ]
  },
  {
   "cell_type": "code",
   "execution_count": 9,
   "id": "90e405d4-ca12-461f-a322-e32741cc6aa8",
   "metadata": {},
   "outputs": [
    {
     "data": {
      "text/html": [
       "<div>\n",
       "<style scoped>\n",
       "    .dataframe tbody tr th:only-of-type {\n",
       "        vertical-align: middle;\n",
       "    }\n",
       "\n",
       "    .dataframe tbody tr th {\n",
       "        vertical-align: top;\n",
       "    }\n",
       "\n",
       "    .dataframe thead th {\n",
       "        text-align: right;\n",
       "    }\n",
       "</style>\n",
       "<table border=\"1\" class=\"dataframe\">\n",
       "  <thead>\n",
       "    <tr style=\"text-align: right;\">\n",
       "      <th></th>\n",
       "      <th>url</th>\n",
       "      <th>paragraphs</th>\n",
       "      <th>doc_index</th>\n",
       "    </tr>\n",
       "  </thead>\n",
       "  <tbody>\n",
       "    <tr>\n",
       "      <th>0</th>\n",
       "      <td>www.theguardian.com/law/commentisfree/2022/mar...</td>\n",
       "      <td>Jurors who sat on the Zachary Rolfe murder tri...</td>\n",
       "      <td>0</td>\n",
       "    </tr>\n",
       "    <tr>\n",
       "      <th>0</th>\n",
       "      <td>www.theguardian.com/law/commentisfree/2022/mar...</td>\n",
       "      <td>A week after the not-guilty verdict came down,...</td>\n",
       "      <td>0</td>\n",
       "    </tr>\n",
       "    <tr>\n",
       "      <th>0</th>\n",
       "      <td>www.theguardian.com/law/commentisfree/2022/mar...</td>\n",
       "      <td>This was “tendency evidence” that Justice John...</td>\n",
       "      <td>0</td>\n",
       "    </tr>\n",
       "    <tr>\n",
       "      <th>0</th>\n",
       "      <td>www.theguardian.com/law/commentisfree/2022/mar...</td>\n",
       "      <td>The suppressed information included statements...</td>\n",
       "      <td>0</td>\n",
       "    </tr>\n",
       "    <tr>\n",
       "      <th>0</th>\n",
       "      <td>www.theguardian.com/law/commentisfree/2022/mar...</td>\n",
       "      <td>Judge Greg Borchers found that Rolfe lacked cr...</td>\n",
       "      <td>0</td>\n",
       "    </tr>\n",
       "    <tr>\n",
       "      <th>...</th>\n",
       "      <td>...</td>\n",
       "      <td>...</td>\n",
       "      <td>...</td>\n",
       "    </tr>\n",
       "    <tr>\n",
       "      <th>183148</th>\n",
       "      <td>www.theguardian.com/global-development/2016/no...</td>\n",
       "      <td>Last year, the World Health Organisation and U...</td>\n",
       "      <td>25939</td>\n",
       "    </tr>\n",
       "    <tr>\n",
       "      <th>183148</th>\n",
       "      <td>www.theguardian.com/global-development/2016/no...</td>\n",
       "      <td>Africa’s biggest economy, Nigeria, is falling ...</td>\n",
       "      <td>25939</td>\n",
       "    </tr>\n",
       "    <tr>\n",
       "      <th>183148</th>\n",
       "      <td>www.theguardian.com/global-development/2016/no...</td>\n",
       "      <td>The report ranks South Sudan, the world’s newe...</td>\n",
       "      <td>25939</td>\n",
       "    </tr>\n",
       "    <tr>\n",
       "      <th>183148</th>\n",
       "      <td>www.theguardian.com/global-development/2016/no...</td>\n",
       "      <td>All UN member states have committed to ensurin...</td>\n",
       "      <td>25939</td>\n",
       "    </tr>\n",
       "    <tr>\n",
       "      <th>183148</th>\n",
       "      <td>www.theguardian.com/global-development/2016/no...</td>\n",
       "      <td>Andrés Hueso, WaterAid’s senior policy analyst...</td>\n",
       "      <td>25939</td>\n",
       "    </tr>\n",
       "  </tbody>\n",
       "</table>\n",
       "<p>917299 rows × 3 columns</p>\n",
       "</div>"
      ],
      "text/plain": [
       "                                                      url  \\\n",
       "0       www.theguardian.com/law/commentisfree/2022/mar...   \n",
       "0       www.theguardian.com/law/commentisfree/2022/mar...   \n",
       "0       www.theguardian.com/law/commentisfree/2022/mar...   \n",
       "0       www.theguardian.com/law/commentisfree/2022/mar...   \n",
       "0       www.theguardian.com/law/commentisfree/2022/mar...   \n",
       "...                                                   ...   \n",
       "183148  www.theguardian.com/global-development/2016/no...   \n",
       "183148  www.theguardian.com/global-development/2016/no...   \n",
       "183148  www.theguardian.com/global-development/2016/no...   \n",
       "183148  www.theguardian.com/global-development/2016/no...   \n",
       "183148  www.theguardian.com/global-development/2016/no...   \n",
       "\n",
       "                                               paragraphs  doc_index  \n",
       "0       Jurors who sat on the Zachary Rolfe murder tri...          0  \n",
       "0       A week after the not-guilty verdict came down,...          0  \n",
       "0       This was “tendency evidence” that Justice John...          0  \n",
       "0       The suppressed information included statements...          0  \n",
       "0       Judge Greg Borchers found that Rolfe lacked cr...          0  \n",
       "...                                                   ...        ...  \n",
       "183148  Last year, the World Health Organisation and U...      25939  \n",
       "183148  Africa’s biggest economy, Nigeria, is falling ...      25939  \n",
       "183148  The report ranks South Sudan, the world’s newe...      25939  \n",
       "183148  All UN member states have committed to ensurin...      25939  \n",
       "183148  Andrés Hueso, WaterAid’s senior policy analyst...      25939  \n",
       "\n",
       "[917299 rows x 3 columns]"
      ]
     },
     "execution_count": 9,
     "metadata": {},
     "output_type": "execute_result"
    }
   ],
   "source": [
    "gu_sample_content"
   ]
  },
  {
   "cell_type": "code",
   "execution_count": null,
   "id": "9f3ec658-ca84-4439-82e4-42f311d18480",
   "metadata": {},
   "outputs": [],
   "source": [
    "gu_sample"
   ]
  },
  {
   "cell_type": "raw",
   "id": "e5cff43d-8786-46f1-a71f-1464725f30f5",
   "metadata": {
    "tags": []
   },
   "source": [
    "gu_sample_content entities present in the KB to sample paragraphs with full name matches\n",
    "dataset='full'\n",
    "kb_iteration='2022_10_19'\n",
    "dataset=f'{dataset}_{kb_iteration}'\n",
    "entity_data=pd.read_csv(f'../kb_datasets/kb_entities_{dataset}.csv',index_col=0)"
   ]
  },
  {
   "cell_type": "raw",
   "id": "f88062b6-3387-4790-93ef-972c0db587d6",
   "metadata": {},
   "source": [
    "aliases=entity_data['name'].str.lower()\n",
    "#pd.DataFrame(aliases,columns=['name']) .to_csv('gu_resampled_by_section_id_aliases.csv')"
   ]
  },
  {
   "cell_type": "raw",
   "id": "dcad0d44-b8a6-4690-904a-0771479d9ac8",
   "metadata": {},
   "source": [
    "gu_entities=pd.read_csv('unique_gu_sample_person_entities.csv',index_col=0)"
   ]
  },
  {
   "cell_type": "raw",
   "id": "41a081c2-d548-439f-882a-a8d19528cc56",
   "metadata": {},
   "source": [
    "gu_entities.dropna(inplace=True)"
   ]
  },
  {
   "cell_type": "raw",
   "id": "cae6b761-6ae1-4bcf-ab70-dea49d795b78",
   "metadata": {},
   "source": [
    "gu_entities.rename(columns={'text':'gu_ents'},inplace=True)"
   ]
  },
  {
   "cell_type": "raw",
   "id": "ef4d8843-d5fd-43d1-8669-980ab21a0d6d",
   "metadata": {},
   "source": [
    "gu_ents_set=set(gu_entities['gu_ents'].str.lower())\n",
    "common_ents=set(gu_ents_set).intersection(set(aliases))"
   ]
  },
  {
   "cell_type": "raw",
   "id": "5c06b7bd-e6be-41cf-8d67-4f60771fcac1",
   "metadata": {},
   "source": [
    "print('There are {} common entities between kb and gu article sample'.format(len(common_ents)))"
   ]
  },
  {
   "cell_type": "raw",
   "id": "393dcb75-e9f4-4520-8941-00e2dc142308",
   "metadata": {},
   "source": [
    "gu_entities=gu_entities[gu_entities['gu_ents'].str.lower().isin(common_ents)]"
   ]
  },
  {
   "cell_type": "code",
   "execution_count": 17,
   "id": "43c5288a-84a4-4ba6-9e09-cf4c69301e34",
   "metadata": {},
   "outputs": [
    {
     "data": {
      "text/plain": [
       "31360"
      ]
     },
     "execution_count": 17,
     "metadata": {},
     "output_type": "execute_result"
    }
   ],
   "source": [
    "len(common_ents)"
   ]
  },
  {
   "cell_type": "code",
   "execution_count": 18,
   "id": "7ee04211-a37d-4b3d-88f0-833c74ecaeff",
   "metadata": {},
   "outputs": [],
   "source": [
    "## Deprecated?"
   ]
  },
  {
   "cell_type": "raw",
   "id": "917daf57-737e-4b6e-ab81-b6de06b7d903",
   "metadata": {},
   "source": [
    "# these were generated in the remote ec2 environment containing the csvs with all extracted entities\n",
    "full_name_match_aliases=pd.read_csv('gu_resampled_by_section_id_full_name_kb_match_aliases.csv',index_col=0)"
   ]
  },
  {
   "cell_type": "raw",
   "id": "d611fe58-f0de-4e66-aa57-ed3bb571fb86",
   "metadata": {},
   "source": [
    "aliases=aliases[:1000]\n",
    "#aliases=full_name_match_aliases['name'].str.lower().unique()[:10]"
   ]
  },
  {
   "cell_type": "code",
   "execution_count": null,
   "id": "cbd37f4c-4bf8-4213-adce-ddc0b7dcf370",
   "metadata": {},
   "outputs": [],
   "source": []
  },
  {
   "cell_type": "raw",
   "id": "40703b93-20b5-4fe2-854a-f04696ef7804",
   "metadata": {},
   "source": [
    "from datetime import datetime"
   ]
  },
  {
   "cell_type": "raw",
   "id": "3a578bc3-497d-438b-bb49-4481f070519e",
   "metadata": {},
   "source": [
    "# Carry on from a previous run \n",
    "relevant_gu_paragraphs=pd.read_csv('gu_resampled_by_section_id_full_name_20K_aliases_kb_match_paragraphs.csv',index_col=0)\n",
    "aliases=list(common_ents)\n",
    "gu_sample_content_copy=gu_sample_content.copy()\n",
    "gu_sample_content_copy=gu_sample_content.reset_index(drop=True)\n",
    "gu_sample_content_copy['lower_paragraphs']=gu_sample_content_copy['paragraphs'].str.lower()\n",
    "gu_sample_content_copy=gu_sample_content_copy.merge(relevant_gu_paragraphs, on=['url','paragraphs','doc_index','lower_paragraphs'], how='left')\n",
    "gu_sample_content_copy=gu_sample_content_copy[gu_sample_content_copy['alias'].isna()]\n",
    "gu_sample_content_copy.drop('alias',1,inplace=True)\n",
    "first=False\n",
    "resolved_aliases=set(relevant_gu_paragraphs['alias'])\n",
    "aliases=list(set(aliases).difference(resolved_aliases))"
   ]
  },
  {
   "cell_type": "raw",
   "id": "b4fc6cec-d858-4d4b-934a-d47f4b7a7e0d",
   "metadata": {
    "tags": []
   },
   "source": [
    "aliases=[ent for ent in common_ents if len(ent) > 4]\n",
    "#aliases=aliases[:10]\n",
    "gu_sample_content_copy=gu_sample_content.copy()\n",
    "gu_sample_content_copy=gu_sample_content.reset_index(drop=True)\n",
    "gu_sample_content_copy['lower_paragraphs']=gu_sample_content_copy['paragraphs'].str.lower()\n",
    "start_time = datetime.now()\n",
    "i = 0\n",
    "first=True\n",
    "start=datetime.now()\n",
    "for alias in aliases:\n",
    "    paragraphs=gu_sample_content_copy[\n",
    "        gu_sample_content_copy['lower_paragraphs'].str.contains(alias,na=False)\n",
    "    ].copy()\n",
    "    paragraphs['alias']=alias\n",
    "    if first:\n",
    "        relevant_gu_paragraphs=paragraphs\n",
    "        first=False\n",
    "    else:\n",
    "        relevant_gu_paragraphs=pd.concat([relevant_gu_paragraphs, paragraphs])\n",
    "    i+=1\n",
    "    if i%2000==0:\n",
    "        end_time = datetime.now()\n",
    "        print('Duration: {}'.format(end_time - start_time))\n",
    "        print(i)\n",
    "        print('--')\n",
    "    gu_sample_content_copy=gu_sample_content_copy.drop(paragraphs.index)\n",
    "#\n",
    "end_time=datetime.now()"
   ]
  },
  {
   "cell_type": "raw",
   "id": "d017f769-49a2-41b4-912c-1f133d7faad2",
   "metadata": {},
   "source": [
    "gu_sample_content_copy.shape"
   ]
  },
  {
   "cell_type": "raw",
   "id": "b8bdcbc4-fee6-4c6f-aeb6-26d1343f9d6e",
   "metadata": {},
   "source": [
    "print(end_time-start_time)"
   ]
  },
  {
   "cell_type": "raw",
   "id": "cc992424-a971-413a-8413-d6afe95d90cb",
   "metadata": {},
   "source": [
    "gu_sample_content_copy.shape"
   ]
  },
  {
   "cell_type": "raw",
   "id": "6fb24cc1-d87a-4dfd-99be-e40f83db0e86",
   "metadata": {},
   "source": [
    "gu_sample_content.shape"
   ]
  },
  {
   "cell_type": "raw",
   "id": "674b32a1-5bfe-49a5-90e3-4f0486854711",
   "metadata": {},
   "source": [
    "relevant_gu_paragraphs.shape"
   ]
  },
  {
   "cell_type": "raw",
   "id": "e4ec697e-26c5-4ce5-a975-ca91766e828f",
   "metadata": {},
   "source": [
    "del(gu_sample_content_copy)"
   ]
  },
  {
   "cell_type": "raw",
   "id": "9bcd3c20-d50f-44c4-a0b3-9d387d3480ec",
   "metadata": {},
   "source": [
    "relevant_gu_paragraphs.drop_duplicates(inplace=True)"
   ]
  },
  {
   "cell_type": "raw",
   "id": "f2dadb2a-5b4c-4bae-8ec0-017318516f72",
   "metadata": {},
   "source": [
    "relevant_gu_paragraphs.shape"
   ]
  },
  {
   "cell_type": "raw",
   "id": "bccdbe63-feb0-479c-9000-1ef56c1deb96",
   "metadata": {},
   "source": [
    "relevant_gu_paragraphs['alias'].value_counts()"
   ]
  },
  {
   "cell_type": "raw",
   "id": "b998054c-9613-4be5-b746-d9236abe36aa",
   "metadata": {},
   "source": [
    "# Reorder paragraphs and export\n",
    "relevant_gu_paragraphs.sample(frac=1, random_state=42).to_csv('gu_resampled_by_section_id_full_name_all_aliases_kb_match_paragraphs.csv') "
   ]
  },
  {
   "cell_type": "raw",
   "id": "d191a628-a9f9-4208-a0c9-58bdd313be9b",
   "metadata": {},
   "source": [
    "relevant_gu_paragraphs.shape"
   ]
  },
  {
   "cell_type": "code",
   "execution_count": null,
   "id": "b7dc4426-a59a-4862-af41-fa56e5d95900",
   "metadata": {},
   "outputs": [],
   "source": []
  }
 ],
 "metadata": {
  "kernelspec": {
   "display_name": "Python 3 (ipykernel)",
   "language": "python",
   "name": "python3"
  },
  "language_info": {
   "codemirror_mode": {
    "name": "ipython",
    "version": 3
   },
   "file_extension": ".py",
   "mimetype": "text/x-python",
   "name": "python",
   "nbconvert_exporter": "python",
   "pygments_lexer": "ipython3",
   "version": "3.7.13"
  }
 },
 "nbformat": 4,
 "nbformat_minor": 5
}
