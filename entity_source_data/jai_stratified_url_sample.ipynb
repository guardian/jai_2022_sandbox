{
 "cells": [
  {
   "cell_type": "markdown",
   "id": "bedf7e22-1613-4055-8c70-1c732c6689a5",
   "metadata": {},
   "source": [
    "# Stratify and import GU content "
   ]
  },
  {
   "cell_type": "raw",
   "id": "e656602c-ef53-4600-ba0d-6edc9445cdbf",
   "metadata": {},
   "source": [
    "-- Stratified sampling of GU content\n",
    "--Step 1. Create table with content of interest \n",
    "/*\n",
    "CREATE OR REPLACE TABLE temp_analytical.ds_lf_filtered_gu_content\n",
    "AS (\n",
    "SELECT\n",
    "  DISTINCT \n",
    "  path,\n",
    "  web_title as headline,\n",
    "  url,\n",
    "  content_type,\n",
    "  section_id,\n",
    "  pillar_id,\n",
    "  web_publication_date,\n",
    "  word_count,\n",
    "  trail_text,\n",
    "  production_office,\n",
    "  byline,\n",
    "  body_text,\n",
    "  body_html\n",
    "FROM\n",
    "  datalake.content_new \n",
    "WHERE\n",
    "  EXTRACT(DATE FROM web_publication_date) >= '2010-01-01' \n",
    "  AND word_count>0\n",
    "  AND body_html <> ''\n",
    "  AND content_type NOT IN ('Audio','Video','Picture','Crossword')\n",
    "  )\n",
    "*/\n",
    "\n",
    "--Step 2. Import content table into ipynb, sample relevant urls with sampling funtion \n",
    "--and export sampled urls to `datatech-platform-prod.temp_analytical.ds_lf_jai_stratified_sampling_urls` \n",
    "\n",
    "--Step 3. Create table with sampled content by merging sampled urls to all the content \n",
    "CREATE TABLE temp_analytical.ds_lf_random_sample_20_pcent_gu_content\n",
    "AS \n",
    "(\n",
    "SELECT content.*\n",
    "FROM temp_analytical.ds_lf_jai_stratified_sampling_urls\n",
    "LEFT JOIN temp_analytical.ds_lf_filtered_gu_content content\n",
    "USING(url)\n",
    ")"
   ]
  },
  {
   "cell_type": "code",
   "execution_count": 18,
   "id": "043ce44f-aa6e-49b9-8c44-3028037fa318",
   "metadata": {},
   "outputs": [],
   "source": [
    "import pandas as pd\n",
    "from db.gcp import GCPClient as gcp"
   ]
  },
  {
   "cell_type": "code",
   "execution_count": 2,
   "id": "9eb79c90-122d-461e-ba23-216203673c8a",
   "metadata": {},
   "outputs": [],
   "source": [
    "urls_and_levels_query=\"\"\"\n",
    "    SELECT\n",
    "      DISTINCT \n",
    "      path,\n",
    "      url,\n",
    "      section_id,\n",
    "      web_publication_date\n",
    "    FROM\n",
    "      datalake.content_new\n",
    "    WHERE\n",
    "      EXTRACT(DATE FROM web_publication_date) >= '2010-01-01' \n",
    "      AND word_count>0\n",
    "      AND body_html <> ''\n",
    "      AND content_type NOT IN ('Audio','Video','Picture','Crossword')\n",
    "    \"\"\""
   ]
  },
  {
   "cell_type": "code",
   "execution_count": 3,
   "id": "305921c9-77c9-4bb9-bae7-07fbab2d0791",
   "metadata": {},
   "outputs": [
    {
     "name": "stderr",
     "output_type": "stream",
     "text": [
      "2022-07-27 03:46:57 PM [INFO] - Retrieved 1407608 rows to treat\n"
     ]
    }
   ],
   "source": [
    "url_levels=gcp().get_dataframe_from_sql(urls_and_levels_query)"
   ]
  },
  {
   "cell_type": "code",
   "execution_count": 4,
   "id": "467dd374-6246-46a2-999c-c8d843f09c46",
   "metadata": {},
   "outputs": [
    {
     "data": {
      "text/plain": [
       "(1407608, 4)"
      ]
     },
     "execution_count": 4,
     "metadata": {},
     "output_type": "execute_result"
    }
   ],
   "source": [
    "url_levels.shape"
   ]
  },
  {
   "cell_type": "code",
   "execution_count": 12,
   "id": "ed18cd92-c094-4301-93fe-b716ead0ebc6",
   "metadata": {},
   "outputs": [],
   "source": [
    "url_levels['year']=url_levels['web_publication_date'].dt.year\n",
    "url_levels['month']=url_levels['web_publication_date'].dt.month"
   ]
  },
  {
   "cell_type": "code",
   "execution_count": 16,
   "id": "1982c668-1d23-49d2-addd-d2a5d1bce872",
   "metadata": {},
   "outputs": [],
   "source": [
    "url_levels=url_levels.groupby(['section_id','year','month'], group_keys=False).apply(lambda x: x.sample(frac=0.2))"
   ]
  },
  {
   "cell_type": "code",
   "execution_count": 17,
   "id": "3bacecf6-fb26-4721-89b7-88e621d0df8a",
   "metadata": {},
   "outputs": [
    {
     "data": {
      "text/html": [
       "<div>\n",
       "<style scoped>\n",
       "    .dataframe tbody tr th:only-of-type {\n",
       "        vertical-align: middle;\n",
       "    }\n",
       "\n",
       "    .dataframe tbody tr th {\n",
       "        vertical-align: top;\n",
       "    }\n",
       "\n",
       "    .dataframe thead th {\n",
       "        text-align: right;\n",
       "    }\n",
       "</style>\n",
       "<table border=\"1\" class=\"dataframe\">\n",
       "  <thead>\n",
       "    <tr style=\"text-align: right;\">\n",
       "      <th></th>\n",
       "      <th>path</th>\n",
       "      <th>url</th>\n",
       "      <th>section_id</th>\n",
       "      <th>web_publication_date</th>\n",
       "      <th>year</th>\n",
       "      <th>month</th>\n",
       "    </tr>\n",
       "  </thead>\n",
       "  <tbody>\n",
       "    <tr>\n",
       "      <th>72614</th>\n",
       "      <td>/100-teachers/2021/jan/22/turtles-dont-do-math...</td>\n",
       "      <td>www.theguardian.com/100-teachers/2021/jan/22/t...</td>\n",
       "      <td>100-teachers</td>\n",
       "      <td>2021-01-22 12:27:25+00:00</td>\n",
       "      <td>2021</td>\n",
       "      <td>1</td>\n",
       "    </tr>\n",
       "    <tr>\n",
       "      <th>68432</th>\n",
       "      <td>/100-teachers/2021/jan/22/black-and-asian-pupi...</td>\n",
       "      <td>www.theguardian.com/100-teachers/2021/jan/22/b...</td>\n",
       "      <td>100-teachers</td>\n",
       "      <td>2021-01-22 12:29:40+00:00</td>\n",
       "      <td>2021</td>\n",
       "      <td>1</td>\n",
       "    </tr>\n",
       "    <tr>\n",
       "      <th>9939</th>\n",
       "      <td>/100-teachers/2021/feb/05/why-i-teach-i-know-t...</td>\n",
       "      <td>www.theguardian.com/100-teachers/2021/feb/05/w...</td>\n",
       "      <td>100-teachers</td>\n",
       "      <td>2021-02-05 15:31:41+00:00</td>\n",
       "      <td>2021</td>\n",
       "      <td>2</td>\n",
       "    </tr>\n",
       "    <tr>\n",
       "      <th>60070</th>\n",
       "      <td>/100-teachers/2021/feb/05/every-days-a-school-...</td>\n",
       "      <td>www.theguardian.com/100-teachers/2021/feb/05/e...</td>\n",
       "      <td>100-teachers</td>\n",
       "      <td>2021-02-05 15:26:40+00:00</td>\n",
       "      <td>2021</td>\n",
       "      <td>2</td>\n",
       "    </tr>\n",
       "    <tr>\n",
       "      <th>50652</th>\n",
       "      <td>/100-teachers/2021/mar/08/students-respond-to-...</td>\n",
       "      <td>www.theguardian.com/100-teachers/2021/mar/08/s...</td>\n",
       "      <td>100-teachers</td>\n",
       "      <td>2021-03-08 10:26:24+00:00</td>\n",
       "      <td>2021</td>\n",
       "      <td>3</td>\n",
       "    </tr>\n",
       "    <tr>\n",
       "      <th>...</th>\n",
       "      <td>...</td>\n",
       "      <td>...</td>\n",
       "      <td>...</td>\n",
       "      <td>...</td>\n",
       "      <td>...</td>\n",
       "      <td>...</td>\n",
       "    </tr>\n",
       "    <tr>\n",
       "      <th>65167</th>\n",
       "      <td>/xero-resilient-business/2020/sep/28/how-this-...</td>\n",
       "      <td>www.theguardian.com/xero-resilient-business/20...</td>\n",
       "      <td>xero-resilient-business</td>\n",
       "      <td>2020-09-27 22:50:44+00:00</td>\n",
       "      <td>2020</td>\n",
       "      <td>9</td>\n",
       "    </tr>\n",
       "    <tr>\n",
       "      <th>31694</th>\n",
       "      <td>/you-could-be-here/2022/may/11/legendary-scene...</td>\n",
       "      <td>www.theguardian.com/you-could-be-here/2022/may...</td>\n",
       "      <td>you-could-be-here</td>\n",
       "      <td>2022-05-11 09:22:39+00:00</td>\n",
       "      <td>2022</td>\n",
       "      <td>5</td>\n",
       "    </tr>\n",
       "    <tr>\n",
       "      <th>48415</th>\n",
       "      <td>/you-could-be-here/2022/may/04/the-envy-of-the...</td>\n",
       "      <td>www.theguardian.com/you-could-be-here/2022/may...</td>\n",
       "      <td>you-could-be-here</td>\n",
       "      <td>2022-05-04 14:27:00+00:00</td>\n",
       "      <td>2022</td>\n",
       "      <td>5</td>\n",
       "    </tr>\n",
       "    <tr>\n",
       "      <th>39458</th>\n",
       "      <td>/young-arts-critic-competition/enter</td>\n",
       "      <td>www.theguardian.com/young-arts-critic-competit...</td>\n",
       "      <td>young-arts-critic-competition</td>\n",
       "      <td>2010-05-24 23:01:00+00:00</td>\n",
       "      <td>2010</td>\n",
       "      <td>5</td>\n",
       "    </tr>\n",
       "    <tr>\n",
       "      <th>2552</th>\n",
       "      <td>/your-healthy-mouth-guide/2022/apr/06/what-cau...</td>\n",
       "      <td>www.theguardian.com/your-healthy-mouth-guide/2...</td>\n",
       "      <td>your-healthy-mouth-guide</td>\n",
       "      <td>2022-04-06 11:06:40+00:00</td>\n",
       "      <td>2022</td>\n",
       "      <td>4</td>\n",
       "    </tr>\n",
       "  </tbody>\n",
       "</table>\n",
       "<p>281315 rows × 6 columns</p>\n",
       "</div>"
      ],
      "text/plain": [
       "                                                    path  \\\n",
       "72614  /100-teachers/2021/jan/22/turtles-dont-do-math...   \n",
       "68432  /100-teachers/2021/jan/22/black-and-asian-pupi...   \n",
       "9939   /100-teachers/2021/feb/05/why-i-teach-i-know-t...   \n",
       "60070  /100-teachers/2021/feb/05/every-days-a-school-...   \n",
       "50652  /100-teachers/2021/mar/08/students-respond-to-...   \n",
       "...                                                  ...   \n",
       "65167  /xero-resilient-business/2020/sep/28/how-this-...   \n",
       "31694  /you-could-be-here/2022/may/11/legendary-scene...   \n",
       "48415  /you-could-be-here/2022/may/04/the-envy-of-the...   \n",
       "39458               /young-arts-critic-competition/enter   \n",
       "2552   /your-healthy-mouth-guide/2022/apr/06/what-cau...   \n",
       "\n",
       "                                                     url  \\\n",
       "72614  www.theguardian.com/100-teachers/2021/jan/22/t...   \n",
       "68432  www.theguardian.com/100-teachers/2021/jan/22/b...   \n",
       "9939   www.theguardian.com/100-teachers/2021/feb/05/w...   \n",
       "60070  www.theguardian.com/100-teachers/2021/feb/05/e...   \n",
       "50652  www.theguardian.com/100-teachers/2021/mar/08/s...   \n",
       "...                                                  ...   \n",
       "65167  www.theguardian.com/xero-resilient-business/20...   \n",
       "31694  www.theguardian.com/you-could-be-here/2022/may...   \n",
       "48415  www.theguardian.com/you-could-be-here/2022/may...   \n",
       "39458  www.theguardian.com/young-arts-critic-competit...   \n",
       "2552   www.theguardian.com/your-healthy-mouth-guide/2...   \n",
       "\n",
       "                          section_id      web_publication_date  year  month  \n",
       "72614                   100-teachers 2021-01-22 12:27:25+00:00  2021      1  \n",
       "68432                   100-teachers 2021-01-22 12:29:40+00:00  2021      1  \n",
       "9939                    100-teachers 2021-02-05 15:31:41+00:00  2021      2  \n",
       "60070                   100-teachers 2021-02-05 15:26:40+00:00  2021      2  \n",
       "50652                   100-teachers 2021-03-08 10:26:24+00:00  2021      3  \n",
       "...                              ...                       ...   ...    ...  \n",
       "65167        xero-resilient-business 2020-09-27 22:50:44+00:00  2020      9  \n",
       "31694              you-could-be-here 2022-05-11 09:22:39+00:00  2022      5  \n",
       "48415              you-could-be-here 2022-05-04 14:27:00+00:00  2022      5  \n",
       "39458  young-arts-critic-competition 2010-05-24 23:01:00+00:00  2010      5  \n",
       "2552        your-healthy-mouth-guide 2022-04-06 11:06:40+00:00  2022      4  \n",
       "\n",
       "[281315 rows x 6 columns]"
      ]
     },
     "execution_count": 17,
     "metadata": {},
     "output_type": "execute_result"
    }
   ],
   "source": [
    "url_levels"
   ]
  },
  {
   "cell_type": "code",
   "execution_count": 20,
   "id": "6f50b95d-e83d-4dde-af85-ff000293fa0f",
   "metadata": {},
   "outputs": [],
   "source": [
    "gcp().export_dataframe_to_bigquery_table(url_levels,'temp_analytical','ds_lf_jai_stratified_sampling_urls')"
   ]
  },
  {
   "cell_type": "markdown",
   "id": "76a028f9-1e29-49db-b1dd-f33a35e880fc",
   "metadata": {},
   "source": [
    "## Import final dataset from GCP and export as CSV"
   ]
  },
  {
   "cell_type": "code",
   "execution_count": 48,
   "id": "9a4b9b5e-a143-44af-a663-d3f625eb4598",
   "metadata": {},
   "outputs": [
    {
     "name": "stderr",
     "output_type": "stream",
     "text": [
      "2022-07-28 10:51:54 AM [INFO] - Retrieved 281315 rows to treat\n"
     ]
    }
   ],
   "source": [
    "sampled_content_query=\"\"\"SELECT * FROM temp_analytical.ds_lf_random_sample_20_pcent_gu_content\"\"\"\n",
    "sampled_dataset=gcp().get_dataframe_from_sql(sampled_content_query)"
   ]
  },
  {
   "cell_type": "raw",
   "id": "42a8be5b-54dd-4928-9e19-3cb98ed37906",
   "metadata": {},
   "source": [
    "# To import from CSV, if already previously exported file  \n",
    "sampled_dataset=pd.read_csv('sampled_GU_content.csv',encoding=\"utf-8\")"
   ]
  },
  {
   "cell_type": "code",
   "execution_count": 39,
   "id": "e4303e66-e063-4bfa-9ed3-4506486845b2",
   "metadata": {},
   "outputs": [
    {
     "data": {
      "text/plain": [
       "(281315, 13)"
      ]
     },
     "execution_count": 39,
     "metadata": {},
     "output_type": "execute_result"
    }
   ],
   "source": [
    "sampled_dataset.shape"
   ]
  },
  {
   "cell_type": "code",
   "execution_count": 40,
   "id": "77ee4644-5f96-41dc-a2aa-6224c850dfd7",
   "metadata": {},
   "outputs": [
    {
     "data": {
      "text/html": [
       "<div>\n",
       "<style scoped>\n",
       "    .dataframe tbody tr th:only-of-type {\n",
       "        vertical-align: middle;\n",
       "    }\n",
       "\n",
       "    .dataframe tbody tr th {\n",
       "        vertical-align: top;\n",
       "    }\n",
       "\n",
       "    .dataframe thead th {\n",
       "        text-align: right;\n",
       "    }\n",
       "</style>\n",
       "<table border=\"1\" class=\"dataframe\">\n",
       "  <thead>\n",
       "    <tr style=\"text-align: right;\">\n",
       "      <th></th>\n",
       "      <th>path</th>\n",
       "      <th>headline</th>\n",
       "      <th>url</th>\n",
       "      <th>content_type</th>\n",
       "      <th>section_id</th>\n",
       "      <th>pillar_id</th>\n",
       "      <th>web_publication_date</th>\n",
       "      <th>word_count</th>\n",
       "      <th>trail_text</th>\n",
       "      <th>production_office</th>\n",
       "      <th>byline</th>\n",
       "      <th>body_text</th>\n",
       "      <th>body_html</th>\n",
       "    </tr>\n",
       "  </thead>\n",
       "  <tbody>\n",
       "    <tr>\n",
       "      <th>17</th>\n",
       "      <td>/careers/careers-blog/successful-grads-share-t...</td>\n",
       "      <td>Successful grads share their career secrets</td>\n",
       "      <td>www.theguardian.com/careers/careers-blog/succe...</td>\n",
       "      <td>Article</td>\n",
       "      <td>careers</td>\n",
       "      <td>NaN</td>\n",
       "      <td>2010-10-26 14:58:26+00:00</td>\n",
       "      <td>958</td>\n",
       "      <td>&lt;p&gt;Ruth Spellman talks to three young managers...</td>\n",
       "      <td>Uk</td>\n",
       "      <td>Ruth Spellman</td>\n",
       "      <td>October is traditionally the month when organi...</td>\n",
       "      <td>&lt;p&gt;October is traditionally the month when org...</td>\n",
       "    </tr>\n",
       "    <tr>\n",
       "      <th>19</th>\n",
       "      <td>/careers/careers-blog/my-attempt-to-break-into...</td>\n",
       "      <td>My attempt to break into TV — part 2</td>\n",
       "      <td>www.theguardian.com/careers/careers-blog/my-at...</td>\n",
       "      <td>Article</td>\n",
       "      <td>careers</td>\n",
       "      <td>NaN</td>\n",
       "      <td>2010-04-28 17:22:50+00:00</td>\n",
       "      <td>708</td>\n",
       "      <td>&lt;p&gt;In the second instalment of his career chan...</td>\n",
       "      <td>Uk</td>\n",
       "      <td>Cain Richards</td>\n",
       "      <td>One of the downsides of leaving a job to pursu...</td>\n",
       "      <td>&lt;p&gt;One of the downsides of leaving a job to pu...</td>\n",
       "    </tr>\n",
       "    <tr>\n",
       "      <th>141</th>\n",
       "      <td>/advertising/advertising-display-products-news...</td>\n",
       "      <td>National news</td>\n",
       "      <td>www.theguardian.com/advertising/advertising-di...</td>\n",
       "      <td>Article</td>\n",
       "      <td>advertising</td>\n",
       "      <td>NaN</td>\n",
       "      <td>2010-04-30 14:45:56+00:00</td>\n",
       "      <td>151</td>\n",
       "      <td>&lt;p&gt;The news section of the Guardian provides a...</td>\n",
       "      <td>Uk</td>\n",
       "      <td>NaN</td>\n",
       "      <td>The news section of the Guardian provides auth...</td>\n",
       "      <td>&lt;p&gt;The news section of the Guardian provides a...</td>\n",
       "    </tr>\n",
       "    <tr>\n",
       "      <th>172</th>\n",
       "      <td>/theguardian/2010/dec/20/archive-shops-offer-a...</td>\n",
       "      <td>From the archive, 20 December 1907: Shops offe...</td>\n",
       "      <td>www.theguardian.com/theguardian/2010/dec/20/ar...</td>\n",
       "      <td>Article</td>\n",
       "      <td>theguardian</td>\n",
       "      <td>pillar/news</td>\n",
       "      <td>2010-12-20 17:07:48+00:00</td>\n",
       "      <td>431</td>\n",
       "      <td>&lt;strong&gt;Originally published in the Manchester...</td>\n",
       "      <td>Uk</td>\n",
       "      <td>NaN</td>\n",
       "      <td>Manchester shops have felt during the last few...</td>\n",
       "      <td>&lt;p&gt;Manchester shops have felt during the last ...</td>\n",
       "    </tr>\n",
       "    <tr>\n",
       "      <th>181</th>\n",
       "      <td>/careers/in-the-week-08-02-10</td>\n",
       "      <td>In the week 08/02/10</td>\n",
       "      <td>www.theguardian.com/careers/in-the-week-08-02-10</td>\n",
       "      <td>Article</td>\n",
       "      <td>careers</td>\n",
       "      <td>NaN</td>\n",
       "      <td>2010-02-11 14:58:22+00:00</td>\n",
       "      <td>329</td>\n",
       "      <td>&lt;p&gt;A grant from the Rural Development Programm...</td>\n",
       "      <td>Uk</td>\n",
       "      <td>Glen Pawsey</td>\n",
       "      <td>The Trewithen Dairy at Greymare Farm, Cornwall...</td>\n",
       "      <td>&lt;p&gt;The &lt;a href=\" http://www.cornishfarmdairy.c...</td>\n",
       "    </tr>\n",
       "  </tbody>\n",
       "</table>\n",
       "</div>"
      ],
      "text/plain": [
       "                                                  path  \\\n",
       "17   /careers/careers-blog/successful-grads-share-t...   \n",
       "19   /careers/careers-blog/my-attempt-to-break-into...   \n",
       "141  /advertising/advertising-display-products-news...   \n",
       "172  /theguardian/2010/dec/20/archive-shops-offer-a...   \n",
       "181                      /careers/in-the-week-08-02-10   \n",
       "\n",
       "                                              headline  \\\n",
       "17         Successful grads share their career secrets   \n",
       "19                My attempt to break into TV — part 2   \n",
       "141                                      National news   \n",
       "172  From the archive, 20 December 1907: Shops offe...   \n",
       "181                               In the week 08/02/10   \n",
       "\n",
       "                                                   url content_type  \\\n",
       "17   www.theguardian.com/careers/careers-blog/succe...      Article   \n",
       "19   www.theguardian.com/careers/careers-blog/my-at...      Article   \n",
       "141  www.theguardian.com/advertising/advertising-di...      Article   \n",
       "172  www.theguardian.com/theguardian/2010/dec/20/ar...      Article   \n",
       "181   www.theguardian.com/careers/in-the-week-08-02-10      Article   \n",
       "\n",
       "      section_id    pillar_id       web_publication_date  word_count  \\\n",
       "17       careers          NaN  2010-10-26 14:58:26+00:00         958   \n",
       "19       careers          NaN  2010-04-28 17:22:50+00:00         708   \n",
       "141  advertising          NaN  2010-04-30 14:45:56+00:00         151   \n",
       "172  theguardian  pillar/news  2010-12-20 17:07:48+00:00         431   \n",
       "181      careers          NaN  2010-02-11 14:58:22+00:00         329   \n",
       "\n",
       "                                            trail_text production_office  \\\n",
       "17   <p>Ruth Spellman talks to three young managers...                Uk   \n",
       "19   <p>In the second instalment of his career chan...                Uk   \n",
       "141  <p>The news section of the Guardian provides a...                Uk   \n",
       "172  <strong>Originally published in the Manchester...                Uk   \n",
       "181  <p>A grant from the Rural Development Programm...                Uk   \n",
       "\n",
       "            byline                                          body_text  \\\n",
       "17   Ruth Spellman  October is traditionally the month when organi...   \n",
       "19   Cain Richards  One of the downsides of leaving a job to pursu...   \n",
       "141            NaN  The news section of the Guardian provides auth...   \n",
       "172            NaN  Manchester shops have felt during the last few...   \n",
       "181    Glen Pawsey  The Trewithen Dairy at Greymare Farm, Cornwall...   \n",
       "\n",
       "                                             body_html  \n",
       "17   <p>October is traditionally the month when org...  \n",
       "19   <p>One of the downsides of leaving a job to pu...  \n",
       "141  <p>The news section of the Guardian provides a...  \n",
       "172  <p>Manchester shops have felt during the last ...  \n",
       "181  <p>The <a href=\" http://www.cornishfarmdairy.c...  "
      ]
     },
     "execution_count": 40,
     "metadata": {},
     "output_type": "execute_result"
    }
   ],
   "source": [
    "sampled_dataset[sampled_dataset.isna().any(1)].head()"
   ]
  },
  {
   "cell_type": "code",
   "execution_count": 41,
   "id": "308fb7cd-bc82-4d91-ad30-da45cd0aaf68",
   "metadata": {},
   "outputs": [
    {
     "data": {
      "text/plain": [
       "(20143, 13)"
      ]
     },
     "execution_count": 41,
     "metadata": {},
     "output_type": "execute_result"
    }
   ],
   "source": [
    "sampled_dataset[sampled_dataset.isna().any(1)].shape"
   ]
  },
  {
   "cell_type": "code",
   "execution_count": 42,
   "id": "996600ad-1d10-48a0-8d9d-d39dd3f10b6e",
   "metadata": {},
   "outputs": [
    {
     "data": {
      "text/plain": [
       "False"
      ]
     },
     "execution_count": 42,
     "metadata": {},
     "output_type": "execute_result"
    }
   ],
   "source": [
    "sampled_dataset.duplicated().any()"
   ]
  },
  {
   "cell_type": "code",
   "execution_count": 43,
   "id": "009e68d6-bd54-47fd-8349-8809f8acfdb0",
   "metadata": {},
   "outputs": [
    {
     "data": {
      "text/plain": [
       "False"
      ]
     },
     "execution_count": 43,
     "metadata": {},
     "output_type": "execute_result"
    }
   ],
   "source": [
    "sampled_dataset[['url']].duplicated().any()"
   ]
  },
  {
   "cell_type": "code",
   "execution_count": 56,
   "id": "abf921fb-2721-491c-9d7a-d7e498b55f2e",
   "metadata": {},
   "outputs": [],
   "source": [
    "# export dataset per year\n",
    "for year in set(sampled_dataset['web_publication_date'].dt.year):\n",
    "    export_name=f'sampled_GU_content_{year}.csv'\n",
    "    sampled_dataset[sampled_dataset['web_publication_date'].dt.year==year].to_csv(export_name,index=False,encoding=\"utf-8\")"
   ]
  },
  {
   "cell_type": "raw",
   "id": "0eba3d29-d05d-4b50-b2a8-5e01fd20b3a9",
   "metadata": {},
   "source": [
    "# import dataset per year\n",
    "for i,year in enumerate([2010,2011,2012,2013,2014,2015,2016,2017,2018,2019,2020,2021,2022]):\n",
    "    import_name=f'sampled_GU_content_{year}.csv'\n",
    "    import_data=pd.read_csv(import_name,index_col=0,encoding=\"utf-8\")\n",
    "    if i==0:\n",
    "        sampled_dataset=import_data\n",
    "    else:\n",
    "        sampled_dataset=sampled_dataset.append(import_data)"
   ]
  }
 ],
 "metadata": {
  "kernelspec": {
   "display_name": "cntrb",
   "language": "python",
   "name": "cntrb"
  },
  "language_info": {
   "codemirror_mode": {
    "name": "ipython",
    "version": 3
   },
   "file_extension": ".py",
   "mimetype": "text/x-python",
   "name": "python",
   "nbconvert_exporter": "python",
   "pygments_lexer": "ipython3",
   "version": "3.7.13"
  }
 },
 "nbformat": 4,
 "nbformat_minor": 5
}
