{
 "cells": [
  {
   "cell_type": "markdown",
   "source": [
    "# Remove already annotated examples from input dataset"
   ],
   "metadata": {
    "collapsed": false
   }
  },
  {
   "cell_type": "code",
   "execution_count": 1,
   "metadata": {
    "collapsed": true
   },
   "outputs": [],
   "source": [
    "import pandas"
   ]
  },
  {
   "cell_type": "markdown",
   "source": [
    "## Get entire input dataset"
   ],
   "metadata": {
    "collapsed": false
   }
  },
  {
   "cell_type": "code",
   "execution_count": 2,
   "outputs": [
    {
     "name": "stdout",
     "output_type": "stream",
     "text": [
      "(152616, 6)\n"
     ]
    },
    {
     "data": {
      "text/plain": "   Unnamed: 0                                                url  \\\n0       85094  www.theguardian.com/world/2014/aug/01/gaza-ple...   \n1       53619  www.theguardian.com/uk-news/2022/jun/13/uk-ris...   \n2      719140  www.theguardian.com/world/2020/feb/19/luise-da...   \n\n                                          paragraphs  doc_index  \\\n0  Years ago I made a pledge. To put children bef...      11532   \n1  Maroš Šefčovič, the EU’s Brexit commissioner, ...       6880   \n2  In January 2019, the project Humanitarian Gest...       5976   \n\n                                    lower_paragraphs           alias  \n0  years ago i made a pledge. to put children bef...           anita  \n1  maroš šefčovič, the eu’s brexit commissioner, ...  maroš šefčovič  \n2  in january 2019, the project humanitarian gest...           anita  ",
      "text/html": "<div>\n<style scoped>\n    .dataframe tbody tr th:only-of-type {\n        vertical-align: middle;\n    }\n\n    .dataframe tbody tr th {\n        vertical-align: top;\n    }\n\n    .dataframe thead th {\n        text-align: right;\n    }\n</style>\n<table border=\"1\" class=\"dataframe\">\n  <thead>\n    <tr style=\"text-align: right;\">\n      <th></th>\n      <th>Unnamed: 0</th>\n      <th>url</th>\n      <th>paragraphs</th>\n      <th>doc_index</th>\n      <th>lower_paragraphs</th>\n      <th>alias</th>\n    </tr>\n  </thead>\n  <tbody>\n    <tr>\n      <th>0</th>\n      <td>85094</td>\n      <td>www.theguardian.com/world/2014/aug/01/gaza-ple...</td>\n      <td>Years ago I made a pledge. To put children bef...</td>\n      <td>11532</td>\n      <td>years ago i made a pledge. to put children bef...</td>\n      <td>anita</td>\n    </tr>\n    <tr>\n      <th>1</th>\n      <td>53619</td>\n      <td>www.theguardian.com/uk-news/2022/jun/13/uk-ris...</td>\n      <td>Maroš Šefčovič, the EU’s Brexit commissioner, ...</td>\n      <td>6880</td>\n      <td>maroš šefčovič, the eu’s brexit commissioner, ...</td>\n      <td>maroš šefčovič</td>\n    </tr>\n    <tr>\n      <th>2</th>\n      <td>719140</td>\n      <td>www.theguardian.com/world/2020/feb/19/luise-da...</td>\n      <td>In January 2019, the project Humanitarian Gest...</td>\n      <td>5976</td>\n      <td>in january 2019, the project humanitarian gest...</td>\n      <td>anita</td>\n    </tr>\n  </tbody>\n</table>\n</div>"
     },
     "execution_count": 2,
     "metadata": {},
     "output_type": "execute_result"
    }
   ],
   "source": [
    "input_df = pandas.read_csv('data/gu_resampled_by_section_id_full_name_all_aliases_kb_match_paragraphs.csv')\n",
    "print(input_df.shape)\n",
    "input_df.head(3)"
   ],
   "metadata": {
    "collapsed": false
   }
  },
  {
   "cell_type": "markdown",
   "source": [
    "## Get annotated dataset"
   ],
   "metadata": {
    "collapsed": false
   }
  },
  {
   "cell_type": "code",
   "execution_count": 3,
   "outputs": [
    {
     "name": "stdout",
     "output_type": "stream",
     "text": [
      "(1906, 16)\n"
     ]
    },
    {
     "data": {
      "text/plain": "                                                text  _input_hash  _task_hash  \\\n0  Kerry negotiated the truce with the UN secreta...  -1661393295   898318062   \n1  Kerry negotiated the truce with the UN secreta...  -1661393295   113964612   \n2  Will Johnson be any more successful at crackin...  -2125059446  1154980289   \n\n                                              gu_url  \\\n0  www.theguardian.com/world/2014/aug/02/netanyah...   \n1  www.theguardian.com/world/2014/aug/02/netanyah...   \n2  www.theguardian.com/politics/2019/aug/02/boris...   \n\n                                               spans          meta  \\\n0  [{'start': 0, 'end': 5, 'text': 'Kerry', 'rank...  {'score': 1}   \n1  [{'start': 170, 'end': 175, 'text': 'Kerry', '...  {'score': 1}   \n2  [{'start': 5, 'end': 12, 'text': 'Johnson', 'r...  {'score': 1}   \n\n   _is_binary                                            options  \\\n0        True  [{'id': 'NER_WrongType', 'text': 'Incorrect en...   \n1        True  [{'id': 'NER_WrongType', 'text': 'Incorrect en...   \n2        True  [{'id': 'NER_WrongType', 'text': 'Incorrect en...   \n\n                         config _view_id             accept  answer  \\\n0  {'choice_style': 'multiple'}   blocks  [NEL_NoCandidate]  accept   \n1  {'choice_style': 'multiple'}   blocks  [NEL_NoCandidate]  accept   \n2  {'choice_style': 'multiple'}   blocks  [NEL_NoCandidate]  accept   \n\n   _timestamp      _annotator_id        _session_id  flagged  \n0  1666974338  el_session_1-Anna  el_session_1-Anna      NaN  \n1  1666974360  el_session_1-Anna  el_session_1-Anna      NaN  \n2  1666974395  el_session_1-Anna  el_session_1-Anna      NaN  ",
      "text/html": "<div>\n<style scoped>\n    .dataframe tbody tr th:only-of-type {\n        vertical-align: middle;\n    }\n\n    .dataframe tbody tr th {\n        vertical-align: top;\n    }\n\n    .dataframe thead th {\n        text-align: right;\n    }\n</style>\n<table border=\"1\" class=\"dataframe\">\n  <thead>\n    <tr style=\"text-align: right;\">\n      <th></th>\n      <th>text</th>\n      <th>_input_hash</th>\n      <th>_task_hash</th>\n      <th>gu_url</th>\n      <th>spans</th>\n      <th>meta</th>\n      <th>_is_binary</th>\n      <th>options</th>\n      <th>config</th>\n      <th>_view_id</th>\n      <th>accept</th>\n      <th>answer</th>\n      <th>_timestamp</th>\n      <th>_annotator_id</th>\n      <th>_session_id</th>\n      <th>flagged</th>\n    </tr>\n  </thead>\n  <tbody>\n    <tr>\n      <th>0</th>\n      <td>Kerry negotiated the truce with the UN secreta...</td>\n      <td>-1661393295</td>\n      <td>898318062</td>\n      <td>www.theguardian.com/world/2014/aug/02/netanyah...</td>\n      <td>[{'start': 0, 'end': 5, 'text': 'Kerry', 'rank...</td>\n      <td>{'score': 1}</td>\n      <td>True</td>\n      <td>[{'id': 'NER_WrongType', 'text': 'Incorrect en...</td>\n      <td>{'choice_style': 'multiple'}</td>\n      <td>blocks</td>\n      <td>[NEL_NoCandidate]</td>\n      <td>accept</td>\n      <td>1666974338</td>\n      <td>el_session_1-Anna</td>\n      <td>el_session_1-Anna</td>\n      <td>NaN</td>\n    </tr>\n    <tr>\n      <th>1</th>\n      <td>Kerry negotiated the truce with the UN secreta...</td>\n      <td>-1661393295</td>\n      <td>113964612</td>\n      <td>www.theguardian.com/world/2014/aug/02/netanyah...</td>\n      <td>[{'start': 170, 'end': 175, 'text': 'Kerry', '...</td>\n      <td>{'score': 1}</td>\n      <td>True</td>\n      <td>[{'id': 'NER_WrongType', 'text': 'Incorrect en...</td>\n      <td>{'choice_style': 'multiple'}</td>\n      <td>blocks</td>\n      <td>[NEL_NoCandidate]</td>\n      <td>accept</td>\n      <td>1666974360</td>\n      <td>el_session_1-Anna</td>\n      <td>el_session_1-Anna</td>\n      <td>NaN</td>\n    </tr>\n    <tr>\n      <th>2</th>\n      <td>Will Johnson be any more successful at crackin...</td>\n      <td>-2125059446</td>\n      <td>1154980289</td>\n      <td>www.theguardian.com/politics/2019/aug/02/boris...</td>\n      <td>[{'start': 5, 'end': 12, 'text': 'Johnson', 'r...</td>\n      <td>{'score': 1}</td>\n      <td>True</td>\n      <td>[{'id': 'NER_WrongType', 'text': 'Incorrect en...</td>\n      <td>{'choice_style': 'multiple'}</td>\n      <td>blocks</td>\n      <td>[NEL_NoCandidate]</td>\n      <td>accept</td>\n      <td>1666974395</td>\n      <td>el_session_1-Anna</td>\n      <td>el_session_1-Anna</td>\n      <td>NaN</td>\n    </tr>\n  </tbody>\n</table>\n</div>"
     },
     "execution_count": 3,
     "metadata": {},
     "output_type": "execute_result"
    }
   ],
   "source": [
    "annotated_df = pandas.read_json('data/el_session_1.jsonl', lines=True)\n",
    "print(annotated_df.shape)\n",
    "annotated_df.head(3)"
   ],
   "metadata": {
    "collapsed": false
   }
  },
  {
   "cell_type": "markdown",
   "source": [
    "## Remove annotated examples from input data"
   ],
   "metadata": {
    "collapsed": false
   }
  },
  {
   "cell_type": "code",
   "execution_count": 4,
   "outputs": [
    {
     "name": "stdout",
     "output_type": "stream",
     "text": [
      "(151785, 6)\n"
     ]
    },
    {
     "data": {
      "text/plain": "    Unnamed: 0                                                url  \\\n0        85094  www.theguardian.com/world/2014/aug/01/gaza-ple...   \n12      902629  www.theguardian.com/politics/2016/feb/06/jerem...   \n17      396555  www.theguardian.com/world/2015/oct/23/south-af...   \n\n                                           paragraphs  doc_index  \\\n0   Years ago I made a pledge. To put children bef...      11532   \n12  Hoey has expressed concern about the role in V...      18837   \n17  The largest demonstration took place at the Un...      12452   \n\n                                     lower_paragraphs         alias  \n0   years ago i made a pledge. to put children bef...         anita  \n12  hoey has expressed concern about the role in v...  michael gove  \n17  the largest demonstration took place at the un...    jacob zuma  ",
      "text/html": "<div>\n<style scoped>\n    .dataframe tbody tr th:only-of-type {\n        vertical-align: middle;\n    }\n\n    .dataframe tbody tr th {\n        vertical-align: top;\n    }\n\n    .dataframe thead th {\n        text-align: right;\n    }\n</style>\n<table border=\"1\" class=\"dataframe\">\n  <thead>\n    <tr style=\"text-align: right;\">\n      <th></th>\n      <th>Unnamed: 0</th>\n      <th>url</th>\n      <th>paragraphs</th>\n      <th>doc_index</th>\n      <th>lower_paragraphs</th>\n      <th>alias</th>\n    </tr>\n  </thead>\n  <tbody>\n    <tr>\n      <th>0</th>\n      <td>85094</td>\n      <td>www.theguardian.com/world/2014/aug/01/gaza-ple...</td>\n      <td>Years ago I made a pledge. To put children bef...</td>\n      <td>11532</td>\n      <td>years ago i made a pledge. to put children bef...</td>\n      <td>anita</td>\n    </tr>\n    <tr>\n      <th>12</th>\n      <td>902629</td>\n      <td>www.theguardian.com/politics/2016/feb/06/jerem...</td>\n      <td>Hoey has expressed concern about the role in V...</td>\n      <td>18837</td>\n      <td>hoey has expressed concern about the role in v...</td>\n      <td>michael gove</td>\n    </tr>\n    <tr>\n      <th>17</th>\n      <td>396555</td>\n      <td>www.theguardian.com/world/2015/oct/23/south-af...</td>\n      <td>The largest demonstration took place at the Un...</td>\n      <td>12452</td>\n      <td>the largest demonstration took place at the un...</td>\n      <td>jacob zuma</td>\n    </tr>\n  </tbody>\n</table>\n</div>"
     },
     "execution_count": 4,
     "metadata": {},
     "output_type": "execute_result"
    }
   ],
   "source": [
    "pruned_df = input_df[~input_df.paragraphs.isin(annotated_df.text)]\n",
    "print(pruned_df.shape)\n",
    "pruned_df.head(3)"
   ],
   "metadata": {
    "collapsed": false
   }
  },
  {
   "cell_type": "markdown",
   "source": [
    "## Output resulting data in correct format (json)"
   ],
   "metadata": {
    "collapsed": false
   }
  },
  {
   "cell_type": "code",
   "execution_count": 5,
   "outputs": [
    {
     "name": "stderr",
     "output_type": "stream",
     "text": [
      "/usr/local/Caskroom/miniconda/base/envs/jai_2022/lib/python3.7/site-packages/pandas/core/frame.py:5047: SettingWithCopyWarning: \n",
      "A value is trying to be set on a copy of a slice from a DataFrame\n",
      "\n",
      "See the caveats in the documentation: https://pandas.pydata.org/pandas-docs/stable/user_guide/indexing.html#returning-a-view-versus-a-copy\n",
      "  errors=errors,\n"
     ]
    }
   ],
   "source": [
    "pruned_df.rename(columns={\"paragraphs\":\"text\"}, inplace=True)\n",
    "pruned_df[['text', 'url']].sample(frac=1, random_state=7).to_json(lines=True, orient=\"records\", path_or_buf=\"data/el_session_2_input.jsonl\")"
   ],
   "metadata": {
    "collapsed": false
   }
  }
 ],
 "metadata": {
  "kernelspec": {
   "display_name": "Python 3",
   "language": "python",
   "name": "python3"
  },
  "language_info": {
   "codemirror_mode": {
    "name": "ipython",
    "version": 2
   },
   "file_extension": ".py",
   "mimetype": "text/x-python",
   "name": "python",
   "nbconvert_exporter": "python",
   "pygments_lexer": "ipython2",
   "version": "2.7.6"
  }
 },
 "nbformat": 4,
 "nbformat_minor": 0
}
